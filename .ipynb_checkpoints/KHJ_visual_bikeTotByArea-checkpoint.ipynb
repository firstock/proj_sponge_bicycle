{
 "cells": [
  {
   "cell_type": "markdown",
   "metadata": {},
   "source": [
    "### ref\n",
    "- [pandas read all csv files in folder](https://stackoverflow.com/questions/20906474/import-multiple-csv-files-into-pandas-and-concatenate-into-one-dataframe?utm_medium=organic&utm_source=google_rich_qa&utm_campaign=google_rich_qa)\n",
    "- [dictionary add python](https://stackoverflow.com/questions/1024847/add-new-keys-to-a-dictionary)"
   ]
  },
  {
   "cell_type": "code",
   "execution_count": 15,
   "metadata": {},
   "outputs": [],
   "source": [
    "from os import listdir\n",
    "from os import path\n",
    "import glob\n",
    "\n",
    "import pandas as pd"
   ]
  },
  {
   "cell_type": "code",
   "execution_count": 18,
   "metadata": {},
   "outputs": [
    {
     "data": {
      "text/plain": [
       "'D:/github/proj_sponge_bicycle'"
      ]
     },
     "execution_count": 18,
     "metadata": {},
     "output_type": "execute_result"
    }
   ],
   "source": [
    "path.abspath('.').replace('\\\\','/')"
   ]
  },
  {
   "cell_type": "code",
   "execution_count": 9,
   "metadata": {},
   "outputs": [
    {
     "data": {
      "text/plain": [
       "['.Rhistory',\n",
       " 'nameList.txt',\n",
       " 'tuning parameter in modeling.R',\n",
       " '광진구.csv',\n",
       " '동대문구.csv',\n",
       " '마포구.csv',\n",
       " '서대문구.csv',\n",
       " '성동구.csv',\n",
       " '양천구.csv',\n",
       " '영등포구.csv',\n",
       " '용산구.csv',\n",
       " '은평구.csv',\n",
       " '종로구.csv',\n",
       " '중구.csv']"
      ]
     },
     "execution_count": 9,
     "metadata": {},
     "output_type": "execute_result"
    }
   ],
   "source": [
    "listdir('data_join/totalByArea')"
   ]
  },
  {
   "cell_type": "code",
   "execution_count": 54,
   "metadata": {},
   "outputs": [],
   "source": [
    "path= 'data_join\\\\totalByArea\\\\'\n",
    "filePaths= glob.glob(path+'*.csv')"
   ]
  },
  {
   "cell_type": "code",
   "execution_count": 59,
   "metadata": {},
   "outputs": [
    {
     "data": {
      "text/plain": [
       "['data_join/totalByArea/광진구.csv',\n",
       " 'data_join/totalByArea/동대문구.csv',\n",
       " 'data_join/totalByArea/마포구.csv',\n",
       " 'data_join/totalByArea/서대문구.csv',\n",
       " 'data_join/totalByArea/성동구.csv',\n",
       " 'data_join/totalByArea/양천구.csv',\n",
       " 'data_join/totalByArea/영등포구.csv',\n",
       " 'data_join/totalByArea/용산구.csv',\n",
       " 'data_join/totalByArea/은평구.csv',\n",
       " 'data_join/totalByArea/종로구.csv',\n",
       " 'data_join/totalByArea/중구.csv']"
      ]
     },
     "execution_count": 59,
     "metadata": {},
     "output_type": "execute_result"
    }
   ],
   "source": [
    "windowfilePaths= [x.replace('\\\\','/') for x in filePaths]; windowfilePaths"
   ]
  },
  {
   "cell_type": "code",
   "execution_count": 60,
   "metadata": {},
   "outputs": [
    {
     "data": {
      "text/plain": [
       "['광진구', '동대문구', '마포구', '서대문구', '성동구', '양천구', '영등포구', '용산구', '은평구', '종로구', '중구']"
      ]
     },
     "execution_count": 60,
     "metadata": {},
     "output_type": "execute_result"
    }
   ],
   "source": [
    "areaNames= [x.split('\\\\')[-1].split('.')[0] for x in filePaths]; areaNames"
   ]
  },
  {
   "cell_type": "code",
   "execution_count": 84,
   "metadata": {},
   "outputs": [],
   "source": [
    "dictBikes= dict({})\n",
    "for areaName, filePath in zip(areaNames, windowfilePaths):\n",
    "    dictBikes[areaName]= pd.read_csv(filePath, index_col=None, encoding= 'cp949', engine= 'python')"
   ]
  },
  {
   "cell_type": "code",
   "execution_count": 91,
   "metadata": {
    "scrolled": true
   },
   "outputs": [
    {
     "data": {
      "text/plain": [
       "['광진구', '동대문구', '마포구', '서대문구', '성동구', '양천구', '영등포구', '용산구', '은평구', '종로구', '중구']"
      ]
     },
     "execution_count": 91,
     "metadata": {},
     "output_type": "execute_result"
    }
   ],
   "source": [
    "bikeDkeys= list(dictBikes.keys()); bikeDkeys"
   ]
  },
  {
   "cell_type": "code",
   "execution_count": 92,
   "metadata": {},
   "outputs": [
    {
     "name": "stdout",
     "output_type": "stream",
     "text": [
      "(730, 26)\n",
      "Index(['날짜', 'area', 'rentcnt', '인구', '아파트가격', '평균풍속', '최대풍속', '순간최고풍속',\n",
      "       '기온평균', '강수일강수', '습도평균', '미세먼지', '초미세먼지', '오존', '이산화질소', '일산화탄소',\n",
      "       '아황산가스', 'year', 'month', 'day', 'hour', 'minute', 'second',\n",
      "       'dayofweek', 'weekday', 'weekend'],\n",
      "      dtype='object')\n"
     ]
    },
    {
     "data": {
      "text/html": [
       "<div>\n",
       "<style scoped>\n",
       "    .dataframe tbody tr th:only-of-type {\n",
       "        vertical-align: middle;\n",
       "    }\n",
       "\n",
       "    .dataframe tbody tr th {\n",
       "        vertical-align: top;\n",
       "    }\n",
       "\n",
       "    .dataframe thead th {\n",
       "        text-align: right;\n",
       "    }\n",
       "</style>\n",
       "<table border=\"1\" class=\"dataframe\">\n",
       "  <thead>\n",
       "    <tr style=\"text-align: right;\">\n",
       "      <th></th>\n",
       "      <th>날짜</th>\n",
       "      <th>area</th>\n",
       "      <th>rentcnt</th>\n",
       "      <th>인구</th>\n",
       "      <th>아파트가격</th>\n",
       "      <th>평균풍속</th>\n",
       "      <th>최대풍속</th>\n",
       "      <th>순간최고풍속</th>\n",
       "      <th>기온평균</th>\n",
       "      <th>강수일강수</th>\n",
       "      <th>...</th>\n",
       "      <th>아황산가스</th>\n",
       "      <th>year</th>\n",
       "      <th>month</th>\n",
       "      <th>day</th>\n",
       "      <th>hour</th>\n",
       "      <th>minute</th>\n",
       "      <th>second</th>\n",
       "      <th>dayofweek</th>\n",
       "      <th>weekday</th>\n",
       "      <th>weekend</th>\n",
       "    </tr>\n",
       "  </thead>\n",
       "  <tbody>\n",
       "    <tr>\n",
       "      <th>0</th>\n",
       "      <td>2016-01-01</td>\n",
       "      <td>4</td>\n",
       "      <td>40</td>\n",
       "      <td>248415</td>\n",
       "      <td>94.6</td>\n",
       "      <td>0.8</td>\n",
       "      <td>4.0</td>\n",
       "      <td>5.5</td>\n",
       "      <td>2.9</td>\n",
       "      <td>0.0</td>\n",
       "      <td>...</td>\n",
       "      <td>0.005</td>\n",
       "      <td>2016</td>\n",
       "      <td>1</td>\n",
       "      <td>1</td>\n",
       "      <td>0</td>\n",
       "      <td>0</td>\n",
       "      <td>0</td>\n",
       "      <td>4</td>\n",
       "      <td>1.0</td>\n",
       "      <td>0.0</td>\n",
       "    </tr>\n",
       "    <tr>\n",
       "      <th>1</th>\n",
       "      <td>2016-01-02</td>\n",
       "      <td>4</td>\n",
       "      <td>25</td>\n",
       "      <td>248415</td>\n",
       "      <td>94.6</td>\n",
       "      <td>1.2</td>\n",
       "      <td>6.1</td>\n",
       "      <td>7.2</td>\n",
       "      <td>6.9</td>\n",
       "      <td>0.0</td>\n",
       "      <td>...</td>\n",
       "      <td>0.005</td>\n",
       "      <td>2016</td>\n",
       "      <td>1</td>\n",
       "      <td>2</td>\n",
       "      <td>0</td>\n",
       "      <td>0</td>\n",
       "      <td>0</td>\n",
       "      <td>5</td>\n",
       "      <td>0.0</td>\n",
       "      <td>1.0</td>\n",
       "    </tr>\n",
       "  </tbody>\n",
       "</table>\n",
       "<p>2 rows × 26 columns</p>\n",
       "</div>"
      ],
      "text/plain": [
       "           날짜  area  rentcnt      인구  아파트가격  평균풍속  최대풍속  순간최고풍속  기온평균  강수일강수  \\\n",
       "0  2016-01-01     4       40  248415   94.6   0.8   4.0     5.5   2.9    0.0   \n",
       "1  2016-01-02     4       25  248415   94.6   1.2   6.1     7.2   6.9    0.0   \n",
       "\n",
       "    ...     아황산가스  year  month  day  hour  minute  second  dayofweek  weekday  \\\n",
       "0   ...     0.005  2016      1    1     0       0       0          4      1.0   \n",
       "1   ...     0.005  2016      1    2     0       0       0          5      0.0   \n",
       "\n",
       "   weekend  \n",
       "0      0.0  \n",
       "1      1.0  \n",
       "\n",
       "[2 rows x 26 columns]"
      ]
     },
     "execution_count": 92,
     "metadata": {},
     "output_type": "execute_result"
    }
   ],
   "source": [
    "print(dictBikes[bikeDkeys[0]].shape)\n",
    "print(dictBikes[bikeDkeys[0]].columns)\n",
    "dictBikes[bikeDkeys[0]].head(2)"
   ]
  },
  {
   "cell_type": "code",
   "execution_count": null,
   "metadata": {},
   "outputs": [],
   "source": []
  }
 ],
 "metadata": {
  "kernelspec": {
   "display_name": "Python 3",
   "language": "python",
   "name": "python3"
  },
  "language_info": {
   "codemirror_mode": {
    "name": "ipython",
    "version": 3
   },
   "file_extension": ".py",
   "mimetype": "text/x-python",
   "name": "python",
   "nbconvert_exporter": "python",
   "pygments_lexer": "ipython3",
   "version": "3.6.4"
  }
 },
 "nbformat": 4,
 "nbformat_minor": 2
}
