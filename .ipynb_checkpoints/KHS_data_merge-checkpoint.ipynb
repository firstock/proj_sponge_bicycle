{
 "cells": [
  {
   "cell_type": "code",
   "execution_count": 253,
   "metadata": {},
   "outputs": [],
   "source": [
    "import numpy as np\n",
    "import pandas as pd\n",
    "from dateutil.parser import parse"
   ]
  },
  {
   "cell_type": "code",
   "execution_count": null,
   "metadata": {},
   "outputs": [],
   "source": [
    "#데이터 이어 붙이기 2016, 2017"
   ]
  },
  {
   "cell_type": "code",
   "execution_count": 24,
   "metadata": {},
   "outputs": [],
   "source": [
    "table1 = pd.read_csv('C:/github/proj_sponge_bicycle/data/2016_bicycle.csv', encoding = 'cp949')"
   ]
  },
  {
   "cell_type": "code",
   "execution_count": 25,
   "metadata": {},
   "outputs": [
    {
     "data": {
      "text/html": [
       "<div>\n",
       "<style scoped>\n",
       "    .dataframe tbody tr th:only-of-type {\n",
       "        vertical-align: middle;\n",
       "    }\n",
       "\n",
       "    .dataframe tbody tr th {\n",
       "        vertical-align: top;\n",
       "    }\n",
       "\n",
       "    .dataframe thead th {\n",
       "        text-align: right;\n",
       "    }\n",
       "</style>\n",
       "<table border=\"1\" class=\"dataframe\">\n",
       "  <thead>\n",
       "    <tr style=\"text-align: right;\">\n",
       "      <th></th>\n",
       "      <th>area</th>\n",
       "      <th>rentdate</th>\n",
       "      <th>rentcnt</th>\n",
       "    </tr>\n",
       "  </thead>\n",
       "  <tbody>\n",
       "    <tr>\n",
       "      <th>0</th>\n",
       "      <td>그룹명 없음</td>\n",
       "      <td>2016-01-01</td>\n",
       "      <td>0</td>\n",
       "    </tr>\n",
       "    <tr>\n",
       "      <th>1</th>\n",
       "      <td>광진구</td>\n",
       "      <td>2016-01-01</td>\n",
       "      <td>7</td>\n",
       "    </tr>\n",
       "    <tr>\n",
       "      <th>2</th>\n",
       "      <td>광진구</td>\n",
       "      <td>2016-01-01</td>\n",
       "      <td>0</td>\n",
       "    </tr>\n",
       "    <tr>\n",
       "      <th>3</th>\n",
       "      <td>광진구</td>\n",
       "      <td>2016-01-01</td>\n",
       "      <td>9</td>\n",
       "    </tr>\n",
       "    <tr>\n",
       "      <th>4</th>\n",
       "      <td>광진구</td>\n",
       "      <td>2016-01-01</td>\n",
       "      <td>8</td>\n",
       "    </tr>\n",
       "  </tbody>\n",
       "</table>\n",
       "</div>"
      ],
      "text/plain": [
       "     area    rentdate  rentcnt\n",
       "0  그룹명 없음  2016-01-01        0\n",
       "1     광진구  2016-01-01        7\n",
       "2     광진구  2016-01-01        0\n",
       "3     광진구  2016-01-01        9\n",
       "4     광진구  2016-01-01        8"
      ]
     },
     "execution_count": 25,
     "metadata": {},
     "output_type": "execute_result"
    }
   ],
   "source": [
    "table1.head()"
   ]
  },
  {
   "cell_type": "code",
   "execution_count": 26,
   "metadata": {},
   "outputs": [],
   "source": [
    "table2 = pd.read_csv('C:/github/proj_sponge_bicycle/data/2017_bicycle.csv', encoding = 'cp949')"
   ]
  },
  {
   "cell_type": "code",
   "execution_count": 27,
   "metadata": {},
   "outputs": [
    {
     "data": {
      "text/html": [
       "<div>\n",
       "<style scoped>\n",
       "    .dataframe tbody tr th:only-of-type {\n",
       "        vertical-align: middle;\n",
       "    }\n",
       "\n",
       "    .dataframe tbody tr th {\n",
       "        vertical-align: top;\n",
       "    }\n",
       "\n",
       "    .dataframe thead th {\n",
       "        text-align: right;\n",
       "    }\n",
       "</style>\n",
       "<table border=\"1\" class=\"dataframe\">\n",
       "  <thead>\n",
       "    <tr style=\"text-align: right;\">\n",
       "      <th></th>\n",
       "      <th>area</th>\n",
       "      <th>rentdate</th>\n",
       "      <th>rentcnt</th>\n",
       "    </tr>\n",
       "  </thead>\n",
       "  <tbody>\n",
       "    <tr>\n",
       "      <th>0</th>\n",
       "      <td>광진구</td>\n",
       "      <td>2017-01-01</td>\n",
       "      <td>20</td>\n",
       "    </tr>\n",
       "    <tr>\n",
       "      <th>1</th>\n",
       "      <td>광진구</td>\n",
       "      <td>2017-01-01</td>\n",
       "      <td>10</td>\n",
       "    </tr>\n",
       "    <tr>\n",
       "      <th>2</th>\n",
       "      <td>광진구</td>\n",
       "      <td>2017-01-01</td>\n",
       "      <td>9</td>\n",
       "    </tr>\n",
       "    <tr>\n",
       "      <th>3</th>\n",
       "      <td>광진구</td>\n",
       "      <td>2017-01-01</td>\n",
       "      <td>9</td>\n",
       "    </tr>\n",
       "    <tr>\n",
       "      <th>4</th>\n",
       "      <td>광진구</td>\n",
       "      <td>2017-01-01</td>\n",
       "      <td>6</td>\n",
       "    </tr>\n",
       "  </tbody>\n",
       "</table>\n",
       "</div>"
      ],
      "text/plain": [
       "  area    rentdate  rentcnt\n",
       "0  광진구  2017-01-01       20\n",
       "1  광진구  2017-01-01       10\n",
       "2  광진구  2017-01-01        9\n",
       "3  광진구  2017-01-01        9\n",
       "4  광진구  2017-01-01        6"
      ]
     },
     "execution_count": 27,
     "metadata": {},
     "output_type": "execute_result"
    }
   ],
   "source": [
    "table2.head()"
   ]
  },
  {
   "cell_type": "code",
   "execution_count": 29,
   "metadata": {},
   "outputs": [],
   "source": [
    "final_table = pd.concat([table1, table2])"
   ]
  },
  {
   "cell_type": "code",
   "execution_count": 36,
   "metadata": {},
   "outputs": [],
   "source": [
    "final_table.to_csv('final_bicycle.csv', encoding = 'cp949')"
   ]
  },
  {
   "cell_type": "code",
   "execution_count": null,
   "metadata": {},
   "outputs": [],
   "source": [
    "# 공공자전거 수요 데이터 일 별로 합치기"
   ]
  },
  {
   "cell_type": "code",
   "execution_count": 37,
   "metadata": {},
   "outputs": [],
   "source": [
    "table3 = pd.read_csv('C:/github/proj_sponge_bicycle/data_join/final_bicycle.csv', encoding = 'cp949')"
   ]
  },
  {
   "cell_type": "code",
   "execution_count": 43,
   "metadata": {},
   "outputs": [],
   "source": [
    "table_sum = table3.groupby(['area','rentdate']).sum()"
   ]
  },
  {
   "cell_type": "code",
   "execution_count": 44,
   "metadata": {},
   "outputs": [],
   "source": [
    "table_sum.to_csv('table_sum.csv', encoding = 'cp949')"
   ]
  },
  {
   "cell_type": "code",
   "execution_count": null,
   "metadata": {},
   "outputs": [],
   "source": [
    "# 공공자전거 수요 데이터 구 별로 자르기"
   ]
  },
  {
   "cell_type": "code",
   "execution_count": 45,
   "metadata": {},
   "outputs": [],
   "source": [
    "table4 = pd.read_csv('C:/github/proj_sponge_bicycle/data_join/table_sum.csv', encoding = 'cp949')"
   ]
  },
  {
   "cell_type": "code",
   "execution_count": 55,
   "metadata": {},
   "outputs": [],
   "source": [
    "gwangjingu_table = table4[table4.area == '광진구']"
   ]
  },
  {
   "cell_type": "code",
   "execution_count": 56,
   "metadata": {},
   "outputs": [],
   "source": [
    "gwangjingu_table.to_csv('gwangjingu_table.csv', encoding = 'cp949')"
   ]
  },
  {
   "cell_type": "code",
   "execution_count": 57,
   "metadata": {},
   "outputs": [],
   "source": [
    "dongdaemungu_table = table4[table4.area == '동대문구']"
   ]
  },
  {
   "cell_type": "code",
   "execution_count": 58,
   "metadata": {},
   "outputs": [],
   "source": [
    "dongdaemungu_table.to_csv('dongdaemungu_table.csv', encoding = 'cp949')"
   ]
  },
  {
   "cell_type": "code",
   "execution_count": 59,
   "metadata": {},
   "outputs": [],
   "source": [
    "mapogu_table = table4[table4.area == '마포구']"
   ]
  },
  {
   "cell_type": "code",
   "execution_count": 60,
   "metadata": {},
   "outputs": [],
   "source": [
    "mapogu_table.to_csv('mapogu_table.csv', encoding = 'cp949')"
   ]
  },
  {
   "cell_type": "code",
   "execution_count": 61,
   "metadata": {},
   "outputs": [],
   "source": [
    "seodaemungu_table = table4[table4.area == '서대문구']"
   ]
  },
  {
   "cell_type": "code",
   "execution_count": 62,
   "metadata": {},
   "outputs": [],
   "source": [
    "seodaemungu_table.to_csv('seodaemungu_table.csv', encoding = 'cp949')"
   ]
  },
  {
   "cell_type": "code",
   "execution_count": 63,
   "metadata": {},
   "outputs": [],
   "source": [
    "seongdonggu_table = table4[table4.area == '성동구']"
   ]
  },
  {
   "cell_type": "code",
   "execution_count": 64,
   "metadata": {},
   "outputs": [],
   "source": [
    "seongdonggu_table.to_csv('seongdonggu_table.csv', encoding = 'cp949')"
   ]
  },
  {
   "cell_type": "code",
   "execution_count": 65,
   "metadata": {},
   "outputs": [],
   "source": [
    "yangcheongu_table = table4[table4.area == '양천구']"
   ]
  },
  {
   "cell_type": "code",
   "execution_count": 66,
   "metadata": {},
   "outputs": [],
   "source": [
    "yangcheongu_table.to_csv('yangcheongu_table.csv', encoding = 'cp949')"
   ]
  },
  {
   "cell_type": "code",
   "execution_count": 67,
   "metadata": {},
   "outputs": [],
   "source": [
    "yeongdeungpogu_table = table4[table4.area == '영등포구']"
   ]
  },
  {
   "cell_type": "code",
   "execution_count": 68,
   "metadata": {},
   "outputs": [],
   "source": [
    "yeongdeungpogu_table.to_csv('yeongdeungpogu_table.csv', encoding = 'cp949')"
   ]
  },
  {
   "cell_type": "code",
   "execution_count": 69,
   "metadata": {},
   "outputs": [],
   "source": [
    "yongsangu_table = table4[table4.area == '용산구']"
   ]
  },
  {
   "cell_type": "code",
   "execution_count": 70,
   "metadata": {},
   "outputs": [],
   "source": [
    "yongsangu_table.to_csv('yongsangu_table.csv', encoding = 'cp949')"
   ]
  },
  {
   "cell_type": "code",
   "execution_count": 71,
   "metadata": {},
   "outputs": [],
   "source": [
    "eunpyeonggu_table = table4[table4.area == '은평구']"
   ]
  },
  {
   "cell_type": "code",
   "execution_count": 72,
   "metadata": {},
   "outputs": [],
   "source": [
    "eunpyeonggu_table.to_csv('eunpyeonggu_table.csv', encoding = 'cp949')"
   ]
  },
  {
   "cell_type": "code",
   "execution_count": 73,
   "metadata": {},
   "outputs": [],
   "source": [
    "jonglogu_table = table4[table4.area == '종로구']"
   ]
  },
  {
   "cell_type": "code",
   "execution_count": 75,
   "metadata": {},
   "outputs": [],
   "source": [
    "jonglogu_table.to_csv('jonglogu_table.csv', encoding = 'cp949')"
   ]
  },
  {
   "cell_type": "code",
   "execution_count": 77,
   "metadata": {},
   "outputs": [],
   "source": [
    "junggu_table = table4[table4.area == '중구']"
   ]
  },
  {
   "cell_type": "code",
   "execution_count": 78,
   "metadata": {},
   "outputs": [],
   "source": [
    "junggu_table.to_csv('junggu_table.csv', encoding = 'cp949')"
   ]
  },
  {
   "cell_type": "code",
   "execution_count": null,
   "metadata": {},
   "outputs": [],
   "source": [
    "# 아파트 지가 구 별로 자르기"
   ]
  },
  {
   "cell_type": "code",
   "execution_count": 129,
   "metadata": {},
   "outputs": [],
   "source": [
    "table5 = pd.read_csv('C:/github/proj_sponge_bicycle/data_join/apartPrice_clean.csv', encoding = 'cp949')"
   ]
  },
  {
   "cell_type": "code",
   "execution_count": 130,
   "metadata": {},
   "outputs": [
    {
     "data": {
      "text/html": [
       "<div>\n",
       "<style scoped>\n",
       "    .dataframe tbody tr th:only-of-type {\n",
       "        vertical-align: middle;\n",
       "    }\n",
       "\n",
       "    .dataframe tbody tr th {\n",
       "        vertical-align: top;\n",
       "    }\n",
       "\n",
       "    .dataframe thead th {\n",
       "        text-align: right;\n",
       "    }\n",
       "</style>\n",
       "<table border=\"1\" class=\"dataframe\">\n",
       "  <thead>\n",
       "    <tr style=\"text-align: right;\">\n",
       "      <th></th>\n",
       "      <th>날짜</th>\n",
       "      <th>종로구</th>\n",
       "      <th>중구</th>\n",
       "      <th>용산구</th>\n",
       "      <th>성동구</th>\n",
       "      <th>광진구</th>\n",
       "      <th>동대문구</th>\n",
       "      <th>중랑구</th>\n",
       "      <th>성북구</th>\n",
       "      <th>강북구</th>\n",
       "      <th>...</th>\n",
       "      <th>강서구</th>\n",
       "      <th>구로구</th>\n",
       "      <th>금천구</th>\n",
       "      <th>영등포구</th>\n",
       "      <th>동작구</th>\n",
       "      <th>관악구</th>\n",
       "      <th>서초구</th>\n",
       "      <th>강남구</th>\n",
       "      <th>송파구</th>\n",
       "      <th>강동구</th>\n",
       "    </tr>\n",
       "  </thead>\n",
       "  <tbody>\n",
       "    <tr>\n",
       "      <th>0</th>\n",
       "      <td>2016-01</td>\n",
       "      <td>94.5</td>\n",
       "      <td>95.2</td>\n",
       "      <td>93.8</td>\n",
       "      <td>94.6</td>\n",
       "      <td>94.0</td>\n",
       "      <td>95.2</td>\n",
       "      <td>97.1</td>\n",
       "      <td>95.3</td>\n",
       "      <td>96.7</td>\n",
       "      <td>...</td>\n",
       "      <td>91.3</td>\n",
       "      <td>93.8</td>\n",
       "      <td>93.8</td>\n",
       "      <td>92.7</td>\n",
       "      <td>92.8</td>\n",
       "      <td>92.2</td>\n",
       "      <td>93.4</td>\n",
       "      <td>89.7</td>\n",
       "      <td>92.1</td>\n",
       "      <td>92.3</td>\n",
       "    </tr>\n",
       "    <tr>\n",
       "      <th>1</th>\n",
       "      <td>2016-02</td>\n",
       "      <td>94.5</td>\n",
       "      <td>95.3</td>\n",
       "      <td>93.9</td>\n",
       "      <td>94.7</td>\n",
       "      <td>94.1</td>\n",
       "      <td>95.3</td>\n",
       "      <td>97.2</td>\n",
       "      <td>95.3</td>\n",
       "      <td>96.7</td>\n",
       "      <td>...</td>\n",
       "      <td>91.4</td>\n",
       "      <td>93.6</td>\n",
       "      <td>93.9</td>\n",
       "      <td>92.7</td>\n",
       "      <td>92.9</td>\n",
       "      <td>92.3</td>\n",
       "      <td>93.4</td>\n",
       "      <td>89.5</td>\n",
       "      <td>92.1</td>\n",
       "      <td>92.1</td>\n",
       "    </tr>\n",
       "    <tr>\n",
       "      <th>2</th>\n",
       "      <td>2016-03</td>\n",
       "      <td>94.5</td>\n",
       "      <td>95.3</td>\n",
       "      <td>93.9</td>\n",
       "      <td>94.7</td>\n",
       "      <td>94.1</td>\n",
       "      <td>95.3</td>\n",
       "      <td>97.3</td>\n",
       "      <td>95.3</td>\n",
       "      <td>96.7</td>\n",
       "      <td>...</td>\n",
       "      <td>91.5</td>\n",
       "      <td>93.6</td>\n",
       "      <td>94.0</td>\n",
       "      <td>92.7</td>\n",
       "      <td>92.9</td>\n",
       "      <td>92.4</td>\n",
       "      <td>93.3</td>\n",
       "      <td>89.5</td>\n",
       "      <td>92.0</td>\n",
       "      <td>92.0</td>\n",
       "    </tr>\n",
       "    <tr>\n",
       "      <th>3</th>\n",
       "      <td>2016-04</td>\n",
       "      <td>94.6</td>\n",
       "      <td>95.3</td>\n",
       "      <td>94.0</td>\n",
       "      <td>94.8</td>\n",
       "      <td>94.1</td>\n",
       "      <td>95.4</td>\n",
       "      <td>97.3</td>\n",
       "      <td>95.3</td>\n",
       "      <td>96.7</td>\n",
       "      <td>...</td>\n",
       "      <td>91.6</td>\n",
       "      <td>93.7</td>\n",
       "      <td>94.1</td>\n",
       "      <td>92.8</td>\n",
       "      <td>93.0</td>\n",
       "      <td>92.6</td>\n",
       "      <td>93.4</td>\n",
       "      <td>89.8</td>\n",
       "      <td>92.1</td>\n",
       "      <td>92.1</td>\n",
       "    </tr>\n",
       "    <tr>\n",
       "      <th>4</th>\n",
       "      <td>2016-05</td>\n",
       "      <td>94.7</td>\n",
       "      <td>95.4</td>\n",
       "      <td>94.2</td>\n",
       "      <td>94.9</td>\n",
       "      <td>94.2</td>\n",
       "      <td>95.5</td>\n",
       "      <td>97.4</td>\n",
       "      <td>95.4</td>\n",
       "      <td>96.8</td>\n",
       "      <td>...</td>\n",
       "      <td>91.8</td>\n",
       "      <td>93.8</td>\n",
       "      <td>94.3</td>\n",
       "      <td>93.0</td>\n",
       "      <td>93.2</td>\n",
       "      <td>92.9</td>\n",
       "      <td>93.7</td>\n",
       "      <td>90.4</td>\n",
       "      <td>92.2</td>\n",
       "      <td>92.4</td>\n",
       "    </tr>\n",
       "  </tbody>\n",
       "</table>\n",
       "<p>5 rows × 26 columns</p>\n",
       "</div>"
      ],
      "text/plain": [
       "        날짜   종로구    중구   용산구   성동구   광진구  동대문구   중랑구   성북구   강북구  ...    강서구  \\\n",
       "0  2016-01  94.5  95.2  93.8  94.6  94.0  95.2  97.1  95.3  96.7  ...   91.3   \n",
       "1  2016-02  94.5  95.3  93.9  94.7  94.1  95.3  97.2  95.3  96.7  ...   91.4   \n",
       "2  2016-03  94.5  95.3  93.9  94.7  94.1  95.3  97.3  95.3  96.7  ...   91.5   \n",
       "3  2016-04  94.6  95.3  94.0  94.8  94.1  95.4  97.3  95.3  96.7  ...   91.6   \n",
       "4  2016-05  94.7  95.4  94.2  94.9  94.2  95.5  97.4  95.4  96.8  ...   91.8   \n",
       "\n",
       "    구로구   금천구  영등포구   동작구   관악구   서초구   강남구   송파구   강동구  \n",
       "0  93.8  93.8  92.7  92.8  92.2  93.4  89.7  92.1  92.3  \n",
       "1  93.6  93.9  92.7  92.9  92.3  93.4  89.5  92.1  92.1  \n",
       "2  93.6  94.0  92.7  92.9  92.4  93.3  89.5  92.0  92.0  \n",
       "3  93.7  94.1  92.8  93.0  92.6  93.4  89.8  92.1  92.1  \n",
       "4  93.8  94.3  93.0  93.2  92.9  93.7  90.4  92.2  92.4  \n",
       "\n",
       "[5 rows x 26 columns]"
      ]
     },
     "execution_count": 130,
     "metadata": {},
     "output_type": "execute_result"
    }
   ],
   "source": [
    "table5.head()"
   ]
  },
  {
   "cell_type": "code",
   "execution_count": 167,
   "metadata": {},
   "outputs": [],
   "source": [
    "gwangjingu_apart = pd.DataFrame(table5, columns = ['날짜', '광진구'])"
   ]
  },
  {
   "cell_type": "code",
   "execution_count": 168,
   "metadata": {},
   "outputs": [],
   "source": [
    "gwangjingu_apart.to_csv('gwangjingu_apart.csv', encoding = 'cp949', index=False)"
   ]
  },
  {
   "cell_type": "code",
   "execution_count": 169,
   "metadata": {},
   "outputs": [],
   "source": [
    "dongdaemungu_apart = pd.DataFrame(table5, columns = ['날짜', '동대문구'])"
   ]
  },
  {
   "cell_type": "code",
   "execution_count": 170,
   "metadata": {},
   "outputs": [],
   "source": [
    "dongdaemungu_apart.to_csv('dongdaemungu_apart.csv', encoding = 'cp949', index=False)"
   ]
  },
  {
   "cell_type": "code",
   "execution_count": 171,
   "metadata": {},
   "outputs": [],
   "source": [
    "mapogu_apart = pd.DataFrame(table5, columns = ['날짜', '마포구'])"
   ]
  },
  {
   "cell_type": "code",
   "execution_count": 172,
   "metadata": {},
   "outputs": [],
   "source": [
    "mapogu_apart.to_csv('mapogu_apart.csv', encoding = 'cp949', index=False)"
   ]
  },
  {
   "cell_type": "code",
   "execution_count": 173,
   "metadata": {},
   "outputs": [],
   "source": [
    "seodaemungu_apart = pd.DataFrame(table5, columns = ['날짜', '서대문구'])"
   ]
  },
  {
   "cell_type": "code",
   "execution_count": 174,
   "metadata": {},
   "outputs": [],
   "source": [
    "seodaemungu_apart.to_csv('seodaemungu_apart.csv', encoding = 'cp949', index=False)"
   ]
  },
  {
   "cell_type": "code",
   "execution_count": 175,
   "metadata": {},
   "outputs": [],
   "source": [
    "seongdonggu_apart = pd.DataFrame(table5, columns = ['날짜', '성동구'])"
   ]
  },
  {
   "cell_type": "code",
   "execution_count": 176,
   "metadata": {},
   "outputs": [],
   "source": [
    "seongdonggu_apart.to_csv('seongdonggu_apart.csv', encoding = 'cp949', index=False)"
   ]
  },
  {
   "cell_type": "code",
   "execution_count": 177,
   "metadata": {},
   "outputs": [],
   "source": [
    "yangcheongu_apart = pd.DataFrame(table5, columns = ['날짜', '양천구'])"
   ]
  },
  {
   "cell_type": "code",
   "execution_count": 178,
   "metadata": {},
   "outputs": [],
   "source": [
    "yangcheongu_apart.to_csv('yangcheongu_apart.csv', encoding = 'cp949', index=False)"
   ]
  },
  {
   "cell_type": "code",
   "execution_count": 179,
   "metadata": {},
   "outputs": [],
   "source": [
    "yeongdeungpogu_apart = pd.DataFrame(table5, columns = ['날짜', '영등포구'])"
   ]
  },
  {
   "cell_type": "code",
   "execution_count": 180,
   "metadata": {},
   "outputs": [],
   "source": [
    "yeongdeungpogu_apart.to_csv('yeongdeungpogu_apart.csv', encoding = 'cp949', index=False)"
   ]
  },
  {
   "cell_type": "code",
   "execution_count": 181,
   "metadata": {},
   "outputs": [],
   "source": [
    "yongsangu_apart = pd.DataFrame(table5, columns = ['날짜', '용산구'])"
   ]
  },
  {
   "cell_type": "code",
   "execution_count": 182,
   "metadata": {},
   "outputs": [],
   "source": [
    "yongsangu_apart.to_csv('yongsangu_apart.csv', encoding = 'cp949', index=False)"
   ]
  },
  {
   "cell_type": "code",
   "execution_count": 183,
   "metadata": {},
   "outputs": [],
   "source": [
    "eunpyeonggu_apart = pd.DataFrame(table5, columns = ['날짜', '은평구'])"
   ]
  },
  {
   "cell_type": "code",
   "execution_count": 184,
   "metadata": {},
   "outputs": [],
   "source": [
    "eunpyeonggu_apart.to_csv('eunpyeonggu_apart.csv', encoding = 'cp949', index=False)"
   ]
  },
  {
   "cell_type": "code",
   "execution_count": 185,
   "metadata": {},
   "outputs": [],
   "source": [
    "jonglogu_apart = pd.DataFrame(table5, columns = ['날짜', '종로구'])"
   ]
  },
  {
   "cell_type": "code",
   "execution_count": 186,
   "metadata": {},
   "outputs": [],
   "source": [
    "jonglogu_apart.to_csv('jonglogu_apart.csv', encoding = 'cp949', index=False)"
   ]
  },
  {
   "cell_type": "code",
   "execution_count": 187,
   "metadata": {},
   "outputs": [],
   "source": [
    "junggu_apart = pd.DataFrame(table5, columns = ['날짜', '중구'])"
   ]
  },
  {
   "cell_type": "code",
   "execution_count": 188,
   "metadata": {},
   "outputs": [],
   "source": [
    "junggu_apart.to_csv('junggu_apart.csv', encoding = 'cp949', index=False)"
   ]
  },
  {
   "cell_type": "code",
   "execution_count": null,
   "metadata": {},
   "outputs": [],
   "source": [
    "# 인구 데이터 구 별로 자르기"
   ]
  },
  {
   "cell_type": "code",
   "execution_count": 189,
   "metadata": {},
   "outputs": [],
   "source": [
    "table6 = pd.read_csv('C:/github/proj_sponge_bicycle/data_join/final_seoulPopulation.csv', encoding = 'cp949')"
   ]
  },
  {
   "cell_type": "code",
   "execution_count": 190,
   "metadata": {},
   "outputs": [
    {
     "data": {
      "text/html": [
       "<div>\n",
       "<style scoped>\n",
       "    .dataframe tbody tr th:only-of-type {\n",
       "        vertical-align: middle;\n",
       "    }\n",
       "\n",
       "    .dataframe tbody tr th {\n",
       "        vertical-align: top;\n",
       "    }\n",
       "\n",
       "    .dataframe thead th {\n",
       "        text-align: right;\n",
       "    }\n",
       "</style>\n",
       "<table border=\"1\" class=\"dataframe\">\n",
       "  <thead>\n",
       "    <tr style=\"text-align: right;\">\n",
       "      <th></th>\n",
       "      <th>date</th>\n",
       "      <th>종로구인구</th>\n",
       "      <th>중구인구</th>\n",
       "      <th>용산구인구</th>\n",
       "      <th>성동구인구</th>\n",
       "      <th>광진구인구</th>\n",
       "      <th>동대문구인구</th>\n",
       "      <th>서대문구인구</th>\n",
       "      <th>마포구인구</th>\n",
       "      <th>양천구인구</th>\n",
       "      <th>영등포구인구</th>\n",
       "      <th>은평구인구</th>\n",
       "    </tr>\n",
       "  </thead>\n",
       "  <tbody>\n",
       "    <tr>\n",
       "      <th>0</th>\n",
       "      <td>Jan-16</td>\n",
       "      <td>128540</td>\n",
       "      <td>103841</td>\n",
       "      <td>191827</td>\n",
       "      <td>248415</td>\n",
       "      <td>308607</td>\n",
       "      <td>299344</td>\n",
       "      <td>259015</td>\n",
       "      <td>323075</td>\n",
       "      <td>413751</td>\n",
       "      <td>316451</td>\n",
       "      <td>412772</td>\n",
       "    </tr>\n",
       "    <tr>\n",
       "      <th>1</th>\n",
       "      <td>Feb-16</td>\n",
       "      <td>128595</td>\n",
       "      <td>103743</td>\n",
       "      <td>191686</td>\n",
       "      <td>248286</td>\n",
       "      <td>308575</td>\n",
       "      <td>299231</td>\n",
       "      <td>260165</td>\n",
       "      <td>323077</td>\n",
       "      <td>413073</td>\n",
       "      <td>316450</td>\n",
       "      <td>412342</td>\n",
       "    </tr>\n",
       "    <tr>\n",
       "      <th>2</th>\n",
       "      <td>Mar-16</td>\n",
       "      <td>128796</td>\n",
       "      <td>103901</td>\n",
       "      <td>191462</td>\n",
       "      <td>248079</td>\n",
       "      <td>308437</td>\n",
       "      <td>299109</td>\n",
       "      <td>260936</td>\n",
       "      <td>322836</td>\n",
       "      <td>412295</td>\n",
       "      <td>316226</td>\n",
       "      <td>411823</td>\n",
       "    </tr>\n",
       "    <tr>\n",
       "      <th>3</th>\n",
       "      <td>Apr-16</td>\n",
       "      <td>128531</td>\n",
       "      <td>103896</td>\n",
       "      <td>191294</td>\n",
       "      <td>248059</td>\n",
       "      <td>308216</td>\n",
       "      <td>298722</td>\n",
       "      <td>261366</td>\n",
       "      <td>322190</td>\n",
       "      <td>411698</td>\n",
       "      <td>315998</td>\n",
       "      <td>411214</td>\n",
       "    </tr>\n",
       "    <tr>\n",
       "      <th>4</th>\n",
       "      <td>May-16</td>\n",
       "      <td>128222</td>\n",
       "      <td>103697</td>\n",
       "      <td>191116</td>\n",
       "      <td>248468</td>\n",
       "      <td>307701</td>\n",
       "      <td>298109</td>\n",
       "      <td>261204</td>\n",
       "      <td>321551</td>\n",
       "      <td>411222</td>\n",
       "      <td>315556</td>\n",
       "      <td>410738</td>\n",
       "    </tr>\n",
       "  </tbody>\n",
       "</table>\n",
       "</div>"
      ],
      "text/plain": [
       "     date   종로구인구    중구인구   용산구인구   성동구인구   광진구인구  동대문구인구  서대문구인구   마포구인구  \\\n",
       "0  Jan-16  128540  103841  191827  248415  308607  299344  259015  323075   \n",
       "1  Feb-16  128595  103743  191686  248286  308575  299231  260165  323077   \n",
       "2  Mar-16  128796  103901  191462  248079  308437  299109  260936  322836   \n",
       "3  Apr-16  128531  103896  191294  248059  308216  298722  261366  322190   \n",
       "4  May-16  128222  103697  191116  248468  307701  298109  261204  321551   \n",
       "\n",
       "    양천구인구  영등포구인구   은평구인구  \n",
       "0  413751  316451  412772  \n",
       "1  413073  316450  412342  \n",
       "2  412295  316226  411823  \n",
       "3  411698  315998  411214  \n",
       "4  411222  315556  410738  "
      ]
     },
     "execution_count": 190,
     "metadata": {},
     "output_type": "execute_result"
    }
   ],
   "source": [
    "table6.head()"
   ]
  },
  {
   "cell_type": "code",
   "execution_count": 193,
   "metadata": {},
   "outputs": [],
   "source": [
    "gwangjingu_pop = pd.DataFrame(table6, columns = ['date', '광진구인구'])"
   ]
  },
  {
   "cell_type": "code",
   "execution_count": 194,
   "metadata": {},
   "outputs": [],
   "source": [
    "gwangjingu_pop.to_csv('gwangjingu_pop.csv', encoding = 'cp949', index=False)"
   ]
  },
  {
   "cell_type": "code",
   "execution_count": 195,
   "metadata": {},
   "outputs": [],
   "source": [
    "dongdaemungu_pop = pd.DataFrame(table6, columns = ['date', '동대문구인구'])"
   ]
  },
  {
   "cell_type": "code",
   "execution_count": 196,
   "metadata": {},
   "outputs": [],
   "source": [
    "dongdaemungu_pop.to_csv('dongdaemungu_pop.csv', encoding = 'cp949', index=False)"
   ]
  },
  {
   "cell_type": "code",
   "execution_count": 197,
   "metadata": {},
   "outputs": [],
   "source": [
    "mapogu_pop = pd.DataFrame(table6, columns = ['date', '마포구인구'])"
   ]
  },
  {
   "cell_type": "code",
   "execution_count": 198,
   "metadata": {},
   "outputs": [],
   "source": [
    "mapogu_pop.to_csv('mapogu_pop.csv', encoding = 'cp949', index=False)"
   ]
  },
  {
   "cell_type": "code",
   "execution_count": 199,
   "metadata": {},
   "outputs": [],
   "source": [
    "seodaemungu_pop = pd.DataFrame(table6, columns = ['date', '서대문구인구'])"
   ]
  },
  {
   "cell_type": "code",
   "execution_count": 200,
   "metadata": {},
   "outputs": [],
   "source": [
    "seodaemungu_pop.to_csv('seodaemungu_pop.csv', encoding = 'cp949', index=False)"
   ]
  },
  {
   "cell_type": "code",
   "execution_count": 201,
   "metadata": {},
   "outputs": [],
   "source": [
    "seongdonggu_pop = pd.DataFrame(table6, columns = ['date', '성동구인구'])"
   ]
  },
  {
   "cell_type": "code",
   "execution_count": 202,
   "metadata": {},
   "outputs": [],
   "source": [
    "seongdonggu_pop.to_csv('seongdonggu_pop.csv', encoding = 'cp949', index=False)"
   ]
  },
  {
   "cell_type": "code",
   "execution_count": 203,
   "metadata": {},
   "outputs": [],
   "source": [
    "yangcheongu_pop = pd.DataFrame(table6, columns = ['date', '양천구인구'])"
   ]
  },
  {
   "cell_type": "code",
   "execution_count": 204,
   "metadata": {},
   "outputs": [],
   "source": [
    "yangcheongu_pop.to_csv('yangcheongu_pop.csv', encoding = 'cp949', index=False)"
   ]
  },
  {
   "cell_type": "code",
   "execution_count": 205,
   "metadata": {},
   "outputs": [],
   "source": [
    "yeongdeungpogu_pop = pd.DataFrame(table6, columns = ['date', '영등포구인구'])"
   ]
  },
  {
   "cell_type": "code",
   "execution_count": 206,
   "metadata": {},
   "outputs": [],
   "source": [
    "yeongdeungpogu_pop.to_csv('yeongdeungpogu_pop.csv', encoding = 'cp949', index=False)"
   ]
  },
  {
   "cell_type": "code",
   "execution_count": 207,
   "metadata": {},
   "outputs": [],
   "source": [
    "yongsangu_pop = pd.DataFrame(table6, columns = ['date', '용산구인구'])"
   ]
  },
  {
   "cell_type": "code",
   "execution_count": 208,
   "metadata": {},
   "outputs": [],
   "source": [
    "yongsangu_pop.to_csv('yongsangu_pop.csv', encoding = 'cp949', index=False)"
   ]
  },
  {
   "cell_type": "code",
   "execution_count": 209,
   "metadata": {},
   "outputs": [],
   "source": [
    "eunpyeonggu_pop = pd.DataFrame(table6, columns = ['date', '은평구인구'])"
   ]
  },
  {
   "cell_type": "code",
   "execution_count": 210,
   "metadata": {},
   "outputs": [],
   "source": [
    "eunpyeonggu_pop.to_csv('eunpyeonggu_pop.csv', encoding = 'cp949', index=False)"
   ]
  },
  {
   "cell_type": "code",
   "execution_count": 211,
   "metadata": {},
   "outputs": [],
   "source": [
    "jonglogu_pop = pd.DataFrame(table6, columns = ['date', '종로구인구'])"
   ]
  },
  {
   "cell_type": "code",
   "execution_count": 212,
   "metadata": {},
   "outputs": [],
   "source": [
    "jonglogu_pop.to_csv('jonglogu_pop.csv', encoding = 'cp949', index=False)"
   ]
  },
  {
   "cell_type": "code",
   "execution_count": 213,
   "metadata": {},
   "outputs": [],
   "source": [
    "junggu_pop = pd.DataFrame(table6, columns = ['date', '중구인구'])"
   ]
  },
  {
   "cell_type": "code",
   "execution_count": 214,
   "metadata": {},
   "outputs": [],
   "source": [
    "junggu_pop.to_csv('junggu_pop.csv', encoding = 'cp949', index=False)"
   ]
  },
  {
   "cell_type": "code",
   "execution_count": 215,
   "metadata": {},
   "outputs": [],
   "source": [
    "# 11개 구 별 5개 데이터 병합(최종 데이터 셋 만들기)"
   ]
  },
  {
   "cell_type": "code",
   "execution_count": 350,
   "metadata": {},
   "outputs": [],
   "source": [
    "data1 = pd.read_csv('C:/github/proj_sponge_bicycle/data_join/dataset/gwangjingu/gwangjingu_table.csv', encoding = 'cp949')"
   ]
  },
  {
   "cell_type": "code",
   "execution_count": 351,
   "metadata": {},
   "outputs": [],
   "source": [
    "data2 = pd.read_csv('C:/github/proj_sponge_bicycle/data_join/dataset/gwangjingu/gwangjingu.csv', encoding = 'cp949')"
   ]
  },
  {
   "cell_type": "code",
   "execution_count": 352,
   "metadata": {},
   "outputs": [],
   "source": [
    "data3 = pd.read_csv('C:/github/proj_sponge_bicycle/data_join/dataset/gwangjingu/gwangjingu_airpollution.csv', encoding = 'cp949')"
   ]
  },
  {
   "cell_type": "code",
   "execution_count": 353,
   "metadata": {},
   "outputs": [],
   "source": [
    "data4 = pd.read_csv('C:/github/proj_sponge_bicycle/data_join/dataset/gwangjingu/gwangjingu_pop.csv', encoding = 'cp949')"
   ]
  },
  {
   "cell_type": "code",
   "execution_count": 354,
   "metadata": {},
   "outputs": [],
   "source": [
    "data5 = pd.read_csv('C:/github/proj_sponge_bicycle/data_join/dataset/gwangjingu/gwangjingu_apart.csv', encoding = 'cp949')"
   ]
  },
  {
   "cell_type": "code",
   "execution_count": 355,
   "metadata": {},
   "outputs": [
    {
     "data": {
      "text/html": [
       "<div>\n",
       "<style scoped>\n",
       "    .dataframe tbody tr th:only-of-type {\n",
       "        vertical-align: middle;\n",
       "    }\n",
       "\n",
       "    .dataframe tbody tr th {\n",
       "        vertical-align: top;\n",
       "    }\n",
       "\n",
       "    .dataframe thead th {\n",
       "        text-align: right;\n",
       "    }\n",
       "</style>\n",
       "<table border=\"1\" class=\"dataframe\">\n",
       "  <thead>\n",
       "    <tr style=\"text-align: right;\">\n",
       "      <th></th>\n",
       "      <th>area</th>\n",
       "      <th>날짜</th>\n",
       "      <th>rentcnt</th>\n",
       "    </tr>\n",
       "  </thead>\n",
       "  <tbody>\n",
       "    <tr>\n",
       "      <th>0</th>\n",
       "      <td>광진구</td>\n",
       "      <td>2016-01-01</td>\n",
       "      <td>33</td>\n",
       "    </tr>\n",
       "    <tr>\n",
       "      <th>1</th>\n",
       "      <td>광진구</td>\n",
       "      <td>2016-01-02</td>\n",
       "      <td>22</td>\n",
       "    </tr>\n",
       "    <tr>\n",
       "      <th>2</th>\n",
       "      <td>광진구</td>\n",
       "      <td>2016-01-03</td>\n",
       "      <td>35</td>\n",
       "    </tr>\n",
       "    <tr>\n",
       "      <th>3</th>\n",
       "      <td>광진구</td>\n",
       "      <td>2016-01-04</td>\n",
       "      <td>29</td>\n",
       "    </tr>\n",
       "    <tr>\n",
       "      <th>4</th>\n",
       "      <td>광진구</td>\n",
       "      <td>2016-01-05</td>\n",
       "      <td>23</td>\n",
       "    </tr>\n",
       "  </tbody>\n",
       "</table>\n",
       "</div>"
      ],
      "text/plain": [
       "  area          날짜  rentcnt\n",
       "0  광진구  2016-01-01       33\n",
       "1  광진구  2016-01-02       22\n",
       "2  광진구  2016-01-03       35\n",
       "3  광진구  2016-01-04       29\n",
       "4  광진구  2016-01-05       23"
      ]
     },
     "execution_count": 355,
     "metadata": {},
     "output_type": "execute_result"
    }
   ],
   "source": [
    "data1.head() # 결측치 없음"
   ]
  },
  {
   "cell_type": "code",
   "execution_count": 356,
   "metadata": {},
   "outputs": [
    {
     "data": {
      "text/html": [
       "<div>\n",
       "<style scoped>\n",
       "    .dataframe tbody tr th:only-of-type {\n",
       "        vertical-align: middle;\n",
       "    }\n",
       "\n",
       "    .dataframe tbody tr th {\n",
       "        vertical-align: top;\n",
       "    }\n",
       "\n",
       "    .dataframe thead th {\n",
       "        text-align: right;\n",
       "    }\n",
       "</style>\n",
       "<table border=\"1\" class=\"dataframe\">\n",
       "  <thead>\n",
       "    <tr style=\"text-align: right;\">\n",
       "      <th></th>\n",
       "      <th>날짜</th>\n",
       "      <th>평균풍속</th>\n",
       "      <th>최대풍속</th>\n",
       "      <th>순간최고풍속</th>\n",
       "      <th>기온평균</th>\n",
       "      <th>강수일강수</th>\n",
       "      <th>습도평균</th>\n",
       "    </tr>\n",
       "  </thead>\n",
       "  <tbody>\n",
       "    <tr>\n",
       "      <th>0</th>\n",
       "      <td>2016-01-01</td>\n",
       "      <td>0.8</td>\n",
       "      <td>2.7</td>\n",
       "      <td>3.9</td>\n",
       "      <td>2.1</td>\n",
       "      <td>0.0</td>\n",
       "      <td>74.6</td>\n",
       "    </tr>\n",
       "    <tr>\n",
       "      <th>1</th>\n",
       "      <td>2016-01-02</td>\n",
       "      <td>1.1</td>\n",
       "      <td>3.0</td>\n",
       "      <td>4.3</td>\n",
       "      <td>7.0</td>\n",
       "      <td>0.0</td>\n",
       "      <td>74.3</td>\n",
       "    </tr>\n",
       "    <tr>\n",
       "      <th>2</th>\n",
       "      <td>2016-01-03</td>\n",
       "      <td>0.6</td>\n",
       "      <td>3.0</td>\n",
       "      <td>4.2</td>\n",
       "      <td>7.7</td>\n",
       "      <td>0.0</td>\n",
       "      <td>80.5</td>\n",
       "    </tr>\n",
       "    <tr>\n",
       "      <th>3</th>\n",
       "      <td>2016-01-04</td>\n",
       "      <td>2.2</td>\n",
       "      <td>5.1</td>\n",
       "      <td>7.0</td>\n",
       "      <td>4.2</td>\n",
       "      <td>0.0</td>\n",
       "      <td>53.6</td>\n",
       "    </tr>\n",
       "    <tr>\n",
       "      <th>4</th>\n",
       "      <td>2016-01-05</td>\n",
       "      <td>1.9</td>\n",
       "      <td>5.2</td>\n",
       "      <td>6.8</td>\n",
       "      <td>-0.4</td>\n",
       "      <td>0.0</td>\n",
       "      <td>37.2</td>\n",
       "    </tr>\n",
       "  </tbody>\n",
       "</table>\n",
       "</div>"
      ],
      "text/plain": [
       "           날짜  평균풍속  최대풍속  순간최고풍속  기온평균  강수일강수  습도평균\n",
       "0  2016-01-01   0.8   2.7     3.9   2.1    0.0  74.6\n",
       "1  2016-01-02   1.1   3.0     4.3   7.0    0.0  74.3\n",
       "2  2016-01-03   0.6   3.0     4.2   7.7    0.0  80.5\n",
       "3  2016-01-04   2.2   5.1     7.0   4.2    0.0  53.6\n",
       "4  2016-01-05   1.9   5.2     6.8  -0.4    0.0  37.2"
      ]
     },
     "execution_count": 356,
     "metadata": {},
     "output_type": "execute_result"
    }
   ],
   "source": [
    "data2.head() # 결측치 있음"
   ]
  },
  {
   "cell_type": "code",
   "execution_count": 357,
   "metadata": {},
   "outputs": [
    {
     "data": {
      "text/html": [
       "<div>\n",
       "<style scoped>\n",
       "    .dataframe tbody tr th:only-of-type {\n",
       "        vertical-align: middle;\n",
       "    }\n",
       "\n",
       "    .dataframe tbody tr th {\n",
       "        vertical-align: top;\n",
       "    }\n",
       "\n",
       "    .dataframe thead th {\n",
       "        text-align: right;\n",
       "    }\n",
       "</style>\n",
       "<table border=\"1\" class=\"dataframe\">\n",
       "  <thead>\n",
       "    <tr style=\"text-align: right;\">\n",
       "      <th></th>\n",
       "      <th>날짜</th>\n",
       "      <th>미세먼지PM-10(㎍/㎥)</th>\n",
       "      <th>초미세먼지PM-25(㎍/㎥)</th>\n",
       "      <th>오존O3(ppm)</th>\n",
       "      <th>이산화질소NO2(ppm)</th>\n",
       "      <th>일산화탄소CO(ppm)</th>\n",
       "      <th>아황산가스SO2(ppm)</th>\n",
       "    </tr>\n",
       "  </thead>\n",
       "  <tbody>\n",
       "    <tr>\n",
       "      <th>0</th>\n",
       "      <td>2016-01-01</td>\n",
       "      <td>85</td>\n",
       "      <td>64</td>\n",
       "      <td>0.004</td>\n",
       "      <td>0.046</td>\n",
       "      <td>0.9</td>\n",
       "      <td>0.006</td>\n",
       "    </tr>\n",
       "    <tr>\n",
       "      <th>1</th>\n",
       "      <td>2016-01-02</td>\n",
       "      <td>58</td>\n",
       "      <td>41</td>\n",
       "      <td>0.007</td>\n",
       "      <td>0.043</td>\n",
       "      <td>0.6</td>\n",
       "      <td>0.005</td>\n",
       "    </tr>\n",
       "    <tr>\n",
       "      <th>2</th>\n",
       "      <td>2016-01-03</td>\n",
       "      <td>111</td>\n",
       "      <td>80</td>\n",
       "      <td>0.009</td>\n",
       "      <td>0.051</td>\n",
       "      <td>1.0</td>\n",
       "      <td>0.005</td>\n",
       "    </tr>\n",
       "    <tr>\n",
       "      <th>3</th>\n",
       "      <td>2016-01-04</td>\n",
       "      <td>85</td>\n",
       "      <td>61</td>\n",
       "      <td>0.026</td>\n",
       "      <td>0.024</td>\n",
       "      <td>0.8</td>\n",
       "      <td>0.005</td>\n",
       "    </tr>\n",
       "    <tr>\n",
       "      <th>4</th>\n",
       "      <td>2016-01-05</td>\n",
       "      <td>29</td>\n",
       "      <td>19</td>\n",
       "      <td>0.018</td>\n",
       "      <td>0.021</td>\n",
       "      <td>0.3</td>\n",
       "      <td>0.006</td>\n",
       "    </tr>\n",
       "  </tbody>\n",
       "</table>\n",
       "</div>"
      ],
      "text/plain": [
       "           날짜  미세먼지PM-10(㎍/㎥)  초미세먼지PM-25(㎍/㎥)  오존O3(ppm)  이산화질소NO2(ppm)  \\\n",
       "0  2016-01-01              85               64      0.004          0.046   \n",
       "1  2016-01-02              58               41      0.007          0.043   \n",
       "2  2016-01-03             111               80      0.009          0.051   \n",
       "3  2016-01-04              85               61      0.026          0.024   \n",
       "4  2016-01-05              29               19      0.018          0.021   \n",
       "\n",
       "   일산화탄소CO(ppm)  아황산가스SO2(ppm)  \n",
       "0           0.9          0.006  \n",
       "1           0.6          0.005  \n",
       "2           1.0          0.005  \n",
       "3           0.8          0.005  \n",
       "4           0.3          0.006  "
      ]
     },
     "execution_count": 357,
     "metadata": {},
     "output_type": "execute_result"
    }
   ],
   "source": [
    "data3.head() # 결측치 있음"
   ]
  },
  {
   "cell_type": "code",
   "execution_count": 358,
   "metadata": {},
   "outputs": [
    {
     "data": {
      "text/html": [
       "<div>\n",
       "<style scoped>\n",
       "    .dataframe tbody tr th:only-of-type {\n",
       "        vertical-align: middle;\n",
       "    }\n",
       "\n",
       "    .dataframe tbody tr th {\n",
       "        vertical-align: top;\n",
       "    }\n",
       "\n",
       "    .dataframe thead th {\n",
       "        text-align: right;\n",
       "    }\n",
       "</style>\n",
       "<table border=\"1\" class=\"dataframe\">\n",
       "  <thead>\n",
       "    <tr style=\"text-align: right;\">\n",
       "      <th></th>\n",
       "      <th>날짜</th>\n",
       "      <th>광진구인구</th>\n",
       "    </tr>\n",
       "  </thead>\n",
       "  <tbody>\n",
       "    <tr>\n",
       "      <th>0</th>\n",
       "      <td>2016-01-01</td>\n",
       "      <td>308607</td>\n",
       "    </tr>\n",
       "    <tr>\n",
       "      <th>1</th>\n",
       "      <td>2016-02-01</td>\n",
       "      <td>308575</td>\n",
       "    </tr>\n",
       "    <tr>\n",
       "      <th>2</th>\n",
       "      <td>2016-03-01</td>\n",
       "      <td>308437</td>\n",
       "    </tr>\n",
       "    <tr>\n",
       "      <th>3</th>\n",
       "      <td>2016-04-01</td>\n",
       "      <td>308216</td>\n",
       "    </tr>\n",
       "    <tr>\n",
       "      <th>4</th>\n",
       "      <td>2016-05-01</td>\n",
       "      <td>307701</td>\n",
       "    </tr>\n",
       "  </tbody>\n",
       "</table>\n",
       "</div>"
      ],
      "text/plain": [
       "           날짜   광진구인구\n",
       "0  2016-01-01  308607\n",
       "1  2016-02-01  308575\n",
       "2  2016-03-01  308437\n",
       "3  2016-04-01  308216\n",
       "4  2016-05-01  307701"
      ]
     },
     "execution_count": 358,
     "metadata": {},
     "output_type": "execute_result"
    }
   ],
   "source": [
    "data4.head() # 결측치 있음"
   ]
  },
  {
   "cell_type": "code",
   "execution_count": 359,
   "metadata": {},
   "outputs": [
    {
     "data": {
      "text/html": [
       "<div>\n",
       "<style scoped>\n",
       "    .dataframe tbody tr th:only-of-type {\n",
       "        vertical-align: middle;\n",
       "    }\n",
       "\n",
       "    .dataframe tbody tr th {\n",
       "        vertical-align: top;\n",
       "    }\n",
       "\n",
       "    .dataframe thead th {\n",
       "        text-align: right;\n",
       "    }\n",
       "</style>\n",
       "<table border=\"1\" class=\"dataframe\">\n",
       "  <thead>\n",
       "    <tr style=\"text-align: right;\">\n",
       "      <th></th>\n",
       "      <th>날짜</th>\n",
       "      <th>광진구</th>\n",
       "    </tr>\n",
       "  </thead>\n",
       "  <tbody>\n",
       "    <tr>\n",
       "      <th>0</th>\n",
       "      <td>2016-01-01</td>\n",
       "      <td>94.0</td>\n",
       "    </tr>\n",
       "    <tr>\n",
       "      <th>1</th>\n",
       "      <td>2016-02-01</td>\n",
       "      <td>94.1</td>\n",
       "    </tr>\n",
       "    <tr>\n",
       "      <th>2</th>\n",
       "      <td>2016-03-01</td>\n",
       "      <td>94.1</td>\n",
       "    </tr>\n",
       "    <tr>\n",
       "      <th>3</th>\n",
       "      <td>2016-04-01</td>\n",
       "      <td>94.1</td>\n",
       "    </tr>\n",
       "    <tr>\n",
       "      <th>4</th>\n",
       "      <td>2016-05-01</td>\n",
       "      <td>94.2</td>\n",
       "    </tr>\n",
       "  </tbody>\n",
       "</table>\n",
       "</div>"
      ],
      "text/plain": [
       "           날짜   광진구\n",
       "0  2016-01-01  94.0\n",
       "1  2016-02-01  94.1\n",
       "2  2016-03-01  94.1\n",
       "3  2016-04-01  94.1\n",
       "4  2016-05-01  94.2"
      ]
     },
     "execution_count": 359,
     "metadata": {},
     "output_type": "execute_result"
    }
   ],
   "source": [
    "data5.head() # 결측치 있음"
   ]
  },
  {
   "cell_type": "code",
   "execution_count": 360,
   "metadata": {},
   "outputs": [
    {
     "data": {
      "text/html": [
       "<div>\n",
       "<style scoped>\n",
       "    .dataframe tbody tr th:only-of-type {\n",
       "        vertical-align: middle;\n",
       "    }\n",
       "\n",
       "    .dataframe tbody tr th {\n",
       "        vertical-align: top;\n",
       "    }\n",
       "\n",
       "    .dataframe thead th {\n",
       "        text-align: right;\n",
       "    }\n",
       "</style>\n",
       "<table border=\"1\" class=\"dataframe\">\n",
       "  <thead>\n",
       "    <tr style=\"text-align: right;\">\n",
       "      <th></th>\n",
       "      <th>area</th>\n",
       "      <th>날짜</th>\n",
       "      <th>rentcnt</th>\n",
       "      <th>광진구인구</th>\n",
       "    </tr>\n",
       "  </thead>\n",
       "  <tbody>\n",
       "    <tr>\n",
       "      <th>0</th>\n",
       "      <td>광진구</td>\n",
       "      <td>2016-01-01</td>\n",
       "      <td>33</td>\n",
       "      <td>308607.0</td>\n",
       "    </tr>\n",
       "    <tr>\n",
       "      <th>1</th>\n",
       "      <td>광진구</td>\n",
       "      <td>2016-01-02</td>\n",
       "      <td>22</td>\n",
       "      <td>NaN</td>\n",
       "    </tr>\n",
       "    <tr>\n",
       "      <th>2</th>\n",
       "      <td>광진구</td>\n",
       "      <td>2016-01-03</td>\n",
       "      <td>35</td>\n",
       "      <td>NaN</td>\n",
       "    </tr>\n",
       "    <tr>\n",
       "      <th>3</th>\n",
       "      <td>광진구</td>\n",
       "      <td>2016-01-04</td>\n",
       "      <td>29</td>\n",
       "      <td>NaN</td>\n",
       "    </tr>\n",
       "    <tr>\n",
       "      <th>4</th>\n",
       "      <td>광진구</td>\n",
       "      <td>2016-01-05</td>\n",
       "      <td>23</td>\n",
       "      <td>NaN</td>\n",
       "    </tr>\n",
       "  </tbody>\n",
       "</table>\n",
       "</div>"
      ],
      "text/plain": [
       "  area          날짜  rentcnt     광진구인구\n",
       "0  광진구  2016-01-01       33  308607.0\n",
       "1  광진구  2016-01-02       22       NaN\n",
       "2  광진구  2016-01-03       35       NaN\n",
       "3  광진구  2016-01-04       29       NaN\n",
       "4  광진구  2016-01-05       23       NaN"
      ]
     },
     "execution_count": 360,
     "metadata": {},
     "output_type": "execute_result"
    }
   ],
   "source": [
    "table = pd.merge(data1, data4, on = '날짜', how = 'outer');table.head()"
   ]
  },
  {
   "cell_type": "code",
   "execution_count": 361,
   "metadata": {},
   "outputs": [
    {
     "data": {
      "text/html": [
       "<div>\n",
       "<style scoped>\n",
       "    .dataframe tbody tr th:only-of-type {\n",
       "        vertical-align: middle;\n",
       "    }\n",
       "\n",
       "    .dataframe tbody tr th {\n",
       "        vertical-align: top;\n",
       "    }\n",
       "\n",
       "    .dataframe thead th {\n",
       "        text-align: right;\n",
       "    }\n",
       "</style>\n",
       "<table border=\"1\" class=\"dataframe\">\n",
       "  <thead>\n",
       "    <tr style=\"text-align: right;\">\n",
       "      <th></th>\n",
       "      <th>area</th>\n",
       "      <th>날짜</th>\n",
       "      <th>rentcnt</th>\n",
       "      <th>광진구인구</th>\n",
       "      <th>광진구</th>\n",
       "    </tr>\n",
       "  </thead>\n",
       "  <tbody>\n",
       "    <tr>\n",
       "      <th>0</th>\n",
       "      <td>광진구</td>\n",
       "      <td>2016-01-01</td>\n",
       "      <td>33</td>\n",
       "      <td>308607.0</td>\n",
       "      <td>94.0</td>\n",
       "    </tr>\n",
       "    <tr>\n",
       "      <th>1</th>\n",
       "      <td>광진구</td>\n",
       "      <td>2016-01-02</td>\n",
       "      <td>22</td>\n",
       "      <td>NaN</td>\n",
       "      <td>NaN</td>\n",
       "    </tr>\n",
       "    <tr>\n",
       "      <th>2</th>\n",
       "      <td>광진구</td>\n",
       "      <td>2016-01-03</td>\n",
       "      <td>35</td>\n",
       "      <td>NaN</td>\n",
       "      <td>NaN</td>\n",
       "    </tr>\n",
       "    <tr>\n",
       "      <th>3</th>\n",
       "      <td>광진구</td>\n",
       "      <td>2016-01-04</td>\n",
       "      <td>29</td>\n",
       "      <td>NaN</td>\n",
       "      <td>NaN</td>\n",
       "    </tr>\n",
       "    <tr>\n",
       "      <th>4</th>\n",
       "      <td>광진구</td>\n",
       "      <td>2016-01-05</td>\n",
       "      <td>23</td>\n",
       "      <td>NaN</td>\n",
       "      <td>NaN</td>\n",
       "    </tr>\n",
       "  </tbody>\n",
       "</table>\n",
       "</div>"
      ],
      "text/plain": [
       "  area          날짜  rentcnt     광진구인구   광진구\n",
       "0  광진구  2016-01-01       33  308607.0  94.0\n",
       "1  광진구  2016-01-02       22       NaN   NaN\n",
       "2  광진구  2016-01-03       35       NaN   NaN\n",
       "3  광진구  2016-01-04       29       NaN   NaN\n",
       "4  광진구  2016-01-05       23       NaN   NaN"
      ]
     },
     "execution_count": 361,
     "metadata": {},
     "output_type": "execute_result"
    }
   ],
   "source": [
    "table = pd.merge(table, data5, on = '날짜', how = 'outer');table.head()"
   ]
  },
  {
   "cell_type": "code",
   "execution_count": 362,
   "metadata": {},
   "outputs": [
    {
     "data": {
      "text/html": [
       "<div>\n",
       "<style scoped>\n",
       "    .dataframe tbody tr th:only-of-type {\n",
       "        vertical-align: middle;\n",
       "    }\n",
       "\n",
       "    .dataframe tbody tr th {\n",
       "        vertical-align: top;\n",
       "    }\n",
       "\n",
       "    .dataframe thead th {\n",
       "        text-align: right;\n",
       "    }\n",
       "</style>\n",
       "<table border=\"1\" class=\"dataframe\">\n",
       "  <thead>\n",
       "    <tr style=\"text-align: right;\">\n",
       "      <th></th>\n",
       "      <th>area</th>\n",
       "      <th>날짜</th>\n",
       "      <th>rentcnt</th>\n",
       "      <th>광진구인구</th>\n",
       "      <th>광진구</th>\n",
       "    </tr>\n",
       "  </thead>\n",
       "  <tbody>\n",
       "    <tr>\n",
       "      <th>0</th>\n",
       "      <td>광진구</td>\n",
       "      <td>2016-01-01</td>\n",
       "      <td>33</td>\n",
       "      <td>308607.0</td>\n",
       "      <td>94.0</td>\n",
       "    </tr>\n",
       "    <tr>\n",
       "      <th>1</th>\n",
       "      <td>광진구</td>\n",
       "      <td>2016-01-02</td>\n",
       "      <td>22</td>\n",
       "      <td>308607.0</td>\n",
       "      <td>94.0</td>\n",
       "    </tr>\n",
       "    <tr>\n",
       "      <th>2</th>\n",
       "      <td>광진구</td>\n",
       "      <td>2016-01-03</td>\n",
       "      <td>35</td>\n",
       "      <td>308607.0</td>\n",
       "      <td>94.0</td>\n",
       "    </tr>\n",
       "    <tr>\n",
       "      <th>3</th>\n",
       "      <td>광진구</td>\n",
       "      <td>2016-01-04</td>\n",
       "      <td>29</td>\n",
       "      <td>308607.0</td>\n",
       "      <td>94.0</td>\n",
       "    </tr>\n",
       "    <tr>\n",
       "      <th>4</th>\n",
       "      <td>광진구</td>\n",
       "      <td>2016-01-05</td>\n",
       "      <td>23</td>\n",
       "      <td>308607.0</td>\n",
       "      <td>94.0</td>\n",
       "    </tr>\n",
       "  </tbody>\n",
       "</table>\n",
       "</div>"
      ],
      "text/plain": [
       "  area          날짜  rentcnt     광진구인구   광진구\n",
       "0  광진구  2016-01-01       33  308607.0  94.0\n",
       "1  광진구  2016-01-02       22  308607.0  94.0\n",
       "2  광진구  2016-01-03       35  308607.0  94.0\n",
       "3  광진구  2016-01-04       29  308607.0  94.0\n",
       "4  광진구  2016-01-05       23  308607.0  94.0"
      ]
     },
     "execution_count": 362,
     "metadata": {},
     "output_type": "execute_result"
    }
   ],
   "source": [
    "table = table.fillna(method = 'ffill');table.head()"
   ]
  },
  {
   "cell_type": "code",
   "execution_count": 363,
   "metadata": {},
   "outputs": [
    {
     "data": {
      "text/html": [
       "<div>\n",
       "<style scoped>\n",
       "    .dataframe tbody tr th:only-of-type {\n",
       "        vertical-align: middle;\n",
       "    }\n",
       "\n",
       "    .dataframe tbody tr th {\n",
       "        vertical-align: top;\n",
       "    }\n",
       "\n",
       "    .dataframe thead th {\n",
       "        text-align: right;\n",
       "    }\n",
       "</style>\n",
       "<table border=\"1\" class=\"dataframe\">\n",
       "  <thead>\n",
       "    <tr style=\"text-align: right;\">\n",
       "      <th></th>\n",
       "      <th>area</th>\n",
       "      <th>날짜</th>\n",
       "      <th>rentcnt</th>\n",
       "      <th>광진구인구</th>\n",
       "      <th>광진구</th>\n",
       "      <th>평균풍속</th>\n",
       "      <th>최대풍속</th>\n",
       "      <th>순간최고풍속</th>\n",
       "      <th>기온평균</th>\n",
       "      <th>강수일강수</th>\n",
       "      <th>습도평균</th>\n",
       "    </tr>\n",
       "  </thead>\n",
       "  <tbody>\n",
       "    <tr>\n",
       "      <th>0</th>\n",
       "      <td>광진구</td>\n",
       "      <td>2016-01-01</td>\n",
       "      <td>33</td>\n",
       "      <td>308607.0</td>\n",
       "      <td>94.0</td>\n",
       "      <td>0.8</td>\n",
       "      <td>2.7</td>\n",
       "      <td>3.9</td>\n",
       "      <td>2.1</td>\n",
       "      <td>0.0</td>\n",
       "      <td>74.6</td>\n",
       "    </tr>\n",
       "    <tr>\n",
       "      <th>1</th>\n",
       "      <td>광진구</td>\n",
       "      <td>2016-01-02</td>\n",
       "      <td>22</td>\n",
       "      <td>308607.0</td>\n",
       "      <td>94.0</td>\n",
       "      <td>1.1</td>\n",
       "      <td>3.0</td>\n",
       "      <td>4.3</td>\n",
       "      <td>7.0</td>\n",
       "      <td>0.0</td>\n",
       "      <td>74.3</td>\n",
       "    </tr>\n",
       "    <tr>\n",
       "      <th>2</th>\n",
       "      <td>광진구</td>\n",
       "      <td>2016-01-03</td>\n",
       "      <td>35</td>\n",
       "      <td>308607.0</td>\n",
       "      <td>94.0</td>\n",
       "      <td>0.6</td>\n",
       "      <td>3.0</td>\n",
       "      <td>4.2</td>\n",
       "      <td>7.7</td>\n",
       "      <td>0.0</td>\n",
       "      <td>80.5</td>\n",
       "    </tr>\n",
       "    <tr>\n",
       "      <th>3</th>\n",
       "      <td>광진구</td>\n",
       "      <td>2016-01-04</td>\n",
       "      <td>29</td>\n",
       "      <td>308607.0</td>\n",
       "      <td>94.0</td>\n",
       "      <td>2.2</td>\n",
       "      <td>5.1</td>\n",
       "      <td>7.0</td>\n",
       "      <td>4.2</td>\n",
       "      <td>0.0</td>\n",
       "      <td>53.6</td>\n",
       "    </tr>\n",
       "    <tr>\n",
       "      <th>4</th>\n",
       "      <td>광진구</td>\n",
       "      <td>2016-01-05</td>\n",
       "      <td>23</td>\n",
       "      <td>308607.0</td>\n",
       "      <td>94.0</td>\n",
       "      <td>1.9</td>\n",
       "      <td>5.2</td>\n",
       "      <td>6.8</td>\n",
       "      <td>-0.4</td>\n",
       "      <td>0.0</td>\n",
       "      <td>37.2</td>\n",
       "    </tr>\n",
       "  </tbody>\n",
       "</table>\n",
       "</div>"
      ],
      "text/plain": [
       "  area          날짜  rentcnt     광진구인구   광진구  평균풍속  최대풍속  순간최고풍속  기온평균  강수일강수  \\\n",
       "0  광진구  2016-01-01       33  308607.0  94.0   0.8   2.7     3.9   2.1    0.0   \n",
       "1  광진구  2016-01-02       22  308607.0  94.0   1.1   3.0     4.3   7.0    0.0   \n",
       "2  광진구  2016-01-03       35  308607.0  94.0   0.6   3.0     4.2   7.7    0.0   \n",
       "3  광진구  2016-01-04       29  308607.0  94.0   2.2   5.1     7.0   4.2    0.0   \n",
       "4  광진구  2016-01-05       23  308607.0  94.0   1.9   5.2     6.8  -0.4    0.0   \n",
       "\n",
       "   습도평균  \n",
       "0  74.6  \n",
       "1  74.3  \n",
       "2  80.5  \n",
       "3  53.6  \n",
       "4  37.2  "
      ]
     },
     "execution_count": 363,
     "metadata": {},
     "output_type": "execute_result"
    }
   ],
   "source": [
    "table = pd.merge(table, data2, on = '날짜');table.head()"
   ]
  },
  {
   "cell_type": "code",
   "execution_count": 364,
   "metadata": {},
   "outputs": [
    {
     "data": {
      "text/html": [
       "<div>\n",
       "<style scoped>\n",
       "    .dataframe tbody tr th:only-of-type {\n",
       "        vertical-align: middle;\n",
       "    }\n",
       "\n",
       "    .dataframe tbody tr th {\n",
       "        vertical-align: top;\n",
       "    }\n",
       "\n",
       "    .dataframe thead th {\n",
       "        text-align: right;\n",
       "    }\n",
       "</style>\n",
       "<table border=\"1\" class=\"dataframe\">\n",
       "  <thead>\n",
       "    <tr style=\"text-align: right;\">\n",
       "      <th></th>\n",
       "      <th>area</th>\n",
       "      <th>날짜</th>\n",
       "      <th>rentcnt</th>\n",
       "      <th>광진구인구</th>\n",
       "      <th>광진구</th>\n",
       "      <th>평균풍속</th>\n",
       "      <th>최대풍속</th>\n",
       "      <th>순간최고풍속</th>\n",
       "      <th>기온평균</th>\n",
       "      <th>강수일강수</th>\n",
       "      <th>습도평균</th>\n",
       "      <th>미세먼지PM-10(㎍/㎥)</th>\n",
       "      <th>초미세먼지PM-25(㎍/㎥)</th>\n",
       "      <th>오존O3(ppm)</th>\n",
       "      <th>이산화질소NO2(ppm)</th>\n",
       "      <th>일산화탄소CO(ppm)</th>\n",
       "      <th>아황산가스SO2(ppm)</th>\n",
       "    </tr>\n",
       "  </thead>\n",
       "  <tbody>\n",
       "    <tr>\n",
       "      <th>0</th>\n",
       "      <td>광진구</td>\n",
       "      <td>2016-01-01</td>\n",
       "      <td>33</td>\n",
       "      <td>308607.0</td>\n",
       "      <td>94.0</td>\n",
       "      <td>0.8</td>\n",
       "      <td>2.7</td>\n",
       "      <td>3.9</td>\n",
       "      <td>2.1</td>\n",
       "      <td>0.0</td>\n",
       "      <td>74.6</td>\n",
       "      <td>85</td>\n",
       "      <td>64</td>\n",
       "      <td>0.004</td>\n",
       "      <td>0.046</td>\n",
       "      <td>0.9</td>\n",
       "      <td>0.006</td>\n",
       "    </tr>\n",
       "    <tr>\n",
       "      <th>1</th>\n",
       "      <td>광진구</td>\n",
       "      <td>2016-01-02</td>\n",
       "      <td>22</td>\n",
       "      <td>308607.0</td>\n",
       "      <td>94.0</td>\n",
       "      <td>1.1</td>\n",
       "      <td>3.0</td>\n",
       "      <td>4.3</td>\n",
       "      <td>7.0</td>\n",
       "      <td>0.0</td>\n",
       "      <td>74.3</td>\n",
       "      <td>58</td>\n",
       "      <td>41</td>\n",
       "      <td>0.007</td>\n",
       "      <td>0.043</td>\n",
       "      <td>0.6</td>\n",
       "      <td>0.005</td>\n",
       "    </tr>\n",
       "    <tr>\n",
       "      <th>2</th>\n",
       "      <td>광진구</td>\n",
       "      <td>2016-01-03</td>\n",
       "      <td>35</td>\n",
       "      <td>308607.0</td>\n",
       "      <td>94.0</td>\n",
       "      <td>0.6</td>\n",
       "      <td>3.0</td>\n",
       "      <td>4.2</td>\n",
       "      <td>7.7</td>\n",
       "      <td>0.0</td>\n",
       "      <td>80.5</td>\n",
       "      <td>111</td>\n",
       "      <td>80</td>\n",
       "      <td>0.009</td>\n",
       "      <td>0.051</td>\n",
       "      <td>1.0</td>\n",
       "      <td>0.005</td>\n",
       "    </tr>\n",
       "    <tr>\n",
       "      <th>3</th>\n",
       "      <td>광진구</td>\n",
       "      <td>2016-01-04</td>\n",
       "      <td>29</td>\n",
       "      <td>308607.0</td>\n",
       "      <td>94.0</td>\n",
       "      <td>2.2</td>\n",
       "      <td>5.1</td>\n",
       "      <td>7.0</td>\n",
       "      <td>4.2</td>\n",
       "      <td>0.0</td>\n",
       "      <td>53.6</td>\n",
       "      <td>85</td>\n",
       "      <td>61</td>\n",
       "      <td>0.026</td>\n",
       "      <td>0.024</td>\n",
       "      <td>0.8</td>\n",
       "      <td>0.005</td>\n",
       "    </tr>\n",
       "    <tr>\n",
       "      <th>4</th>\n",
       "      <td>광진구</td>\n",
       "      <td>2016-01-05</td>\n",
       "      <td>23</td>\n",
       "      <td>308607.0</td>\n",
       "      <td>94.0</td>\n",
       "      <td>1.9</td>\n",
       "      <td>5.2</td>\n",
       "      <td>6.8</td>\n",
       "      <td>-0.4</td>\n",
       "      <td>0.0</td>\n",
       "      <td>37.2</td>\n",
       "      <td>29</td>\n",
       "      <td>19</td>\n",
       "      <td>0.018</td>\n",
       "      <td>0.021</td>\n",
       "      <td>0.3</td>\n",
       "      <td>0.006</td>\n",
       "    </tr>\n",
       "  </tbody>\n",
       "</table>\n",
       "</div>"
      ],
      "text/plain": [
       "  area          날짜  rentcnt     광진구인구   광진구  평균풍속  최대풍속  순간최고풍속  기온평균  강수일강수  \\\n",
       "0  광진구  2016-01-01       33  308607.0  94.0   0.8   2.7     3.9   2.1    0.0   \n",
       "1  광진구  2016-01-02       22  308607.0  94.0   1.1   3.0     4.3   7.0    0.0   \n",
       "2  광진구  2016-01-03       35  308607.0  94.0   0.6   3.0     4.2   7.7    0.0   \n",
       "3  광진구  2016-01-04       29  308607.0  94.0   2.2   5.1     7.0   4.2    0.0   \n",
       "4  광진구  2016-01-05       23  308607.0  94.0   1.9   5.2     6.8  -0.4    0.0   \n",
       "\n",
       "   습도평균  미세먼지PM-10(㎍/㎥)  초미세먼지PM-25(㎍/㎥)  오존O3(ppm)  이산화질소NO2(ppm)  \\\n",
       "0  74.6              85               64      0.004          0.046   \n",
       "1  74.3              58               41      0.007          0.043   \n",
       "2  80.5             111               80      0.009          0.051   \n",
       "3  53.6              85               61      0.026          0.024   \n",
       "4  37.2              29               19      0.018          0.021   \n",
       "\n",
       "   일산화탄소CO(ppm)  아황산가스SO2(ppm)  \n",
       "0           0.9          0.006  \n",
       "1           0.6          0.005  \n",
       "2           1.0          0.005  \n",
       "3           0.8          0.005  \n",
       "4           0.3          0.006  "
      ]
     },
     "execution_count": 364,
     "metadata": {},
     "output_type": "execute_result"
    }
   ],
   "source": [
    "table = pd.merge(table, data3, on = '날짜');table.head()"
   ]
  },
  {
   "cell_type": "code",
   "execution_count": 365,
   "metadata": {},
   "outputs": [],
   "source": [
    "table.columns = ['area', '날짜', 'rentcnt', '인구', '아파트가격', '평균풍속', '최대풍속', '순간최고풍속', '기온평균', '강수일강수', '습도평균', '미세먼지', '초미세먼지', '오존', '이산화질소', '일산화탄소', '아황산가스']"
   ]
  },
  {
   "cell_type": "code",
   "execution_count": 366,
   "metadata": {},
   "outputs": [],
   "source": [
    "table.to_csv('gwangjingu_dataset.csv', encoding = 'cp949', index=False)"
   ]
  },
  {
   "cell_type": "code",
   "execution_count": 368,
   "metadata": {},
   "outputs": [],
   "source": [
    "data1 = pd.read_csv('C:/github/proj_sponge_bicycle/data_join/dataset/dongdaemungu/dongdaemungu_table.csv', encoding = 'cp949')\n",
    "data2 = pd.read_csv('C:/github/proj_sponge_bicycle/data_join/dataset/dongdaemungu/dongdaemungu.csv', encoding = 'cp949')\n",
    "data3 = pd.read_csv('C:/github/proj_sponge_bicycle/data_join/dataset/dongdaemungu/dongdaemungu_airpollution.csv', encoding = 'cp949')\n",
    "data4 = pd.read_csv('C:/github/proj_sponge_bicycle/data_join/dataset/dongdaemungu/dongdaemungu_pop.csv', encoding = 'cp949')\n",
    "data5 = pd.read_csv('C:/github/proj_sponge_bicycle/data_join/dataset/dongdaemungu/dongdaemungu_apart.csv', encoding = 'cp949')\n",
    "table = pd.merge(data1, data4, on = '날짜', how = 'outer')\n",
    "table = pd.merge(table, data5, on = '날짜', how = 'outer')\n",
    "table = table.fillna(method = 'ffill')\n",
    "table = pd.merge(table, data2, on = '날짜')\n",
    "table = pd.merge(table, data3, on = '날짜')\n",
    "table.columns = ['area', '날짜', 'rentcnt', '인구', '아파트가격', '평균풍속', '최대풍속', '순간최고풍속', '기온평균', '강수일강수', '습도평균', '미세먼지', '초미세먼지', '오존', '이산화질소', '일산화탄소', '아황산가스']\n",
    "table.to_csv('dongdaemungu_dataset.csv', encoding = 'cp949', index=False)"
   ]
  },
  {
   "cell_type": "code",
   "execution_count": 369,
   "metadata": {},
   "outputs": [],
   "source": [
    "data1 = pd.read_csv('C:/github/proj_sponge_bicycle/data_join/dataset/eunpyeonggu/eunpyeonggu_table.csv', encoding = 'cp949')\n",
    "data2 = pd.read_csv('C:/github/proj_sponge_bicycle/data_join/dataset/eunpyeonggu/eunpyeonggu.csv', encoding = 'cp949')\n",
    "data3 = pd.read_csv('C:/github/proj_sponge_bicycle/data_join/dataset/eunpyeonggu/eunpyeonggu_airpollution.csv', encoding = 'cp949')\n",
    "data4 = pd.read_csv('C:/github/proj_sponge_bicycle/data_join/dataset/eunpyeonggu/eunpyeonggu_pop.csv', encoding = 'cp949')\n",
    "data5 = pd.read_csv('C:/github/proj_sponge_bicycle/data_join/dataset/eunpyeonggu/eunpyeonggu_apart.csv', encoding = 'cp949')\n",
    "table = pd.merge(data1, data4, on = '날짜', how = 'outer')\n",
    "table = pd.merge(table, data5, on = '날짜', how = 'outer')\n",
    "table = table.fillna(method = 'ffill')\n",
    "table = pd.merge(table, data2, on = '날짜')\n",
    "table = pd.merge(table, data3, on = '날짜')\n",
    "table.columns = ['area', '날짜', 'rentcnt', '인구', '아파트가격', '평균풍속', '최대풍속', '순간최고풍속', '기온평균', '강수일강수', '습도평균', '미세먼지', '초미세먼지', '오존', '이산화질소', '일산화탄소', '아황산가스']\n",
    "table.to_csv('eunpyeonggu_dataset.csv', encoding = 'cp949', index=False)"
   ]
  },
  {
   "cell_type": "code",
   "execution_count": 370,
   "metadata": {},
   "outputs": [],
   "source": [
    "data1 = pd.read_csv('C:/github/proj_sponge_bicycle/data_join/dataset/jonglogu/jonglogu_table.csv', encoding = 'cp949')\n",
    "data2 = pd.read_csv('C:/github/proj_sponge_bicycle/data_join/dataset/jonglogu/jonglogu.csv', encoding = 'cp949')\n",
    "data3 = pd.read_csv('C:/github/proj_sponge_bicycle/data_join/dataset/jonglogu/jonglogu_airpollution.csv', encoding = 'cp949')\n",
    "data4 = pd.read_csv('C:/github/proj_sponge_bicycle/data_join/dataset/jonglogu/jonglogu_pop.csv', encoding = 'cp949')\n",
    "data5 = pd.read_csv('C:/github/proj_sponge_bicycle/data_join/dataset/jonglogu/jonglogu_apart.csv', encoding = 'cp949')\n",
    "table = pd.merge(data1, data4, on = '날짜', how = 'outer')\n",
    "table = pd.merge(table, data5, on = '날짜', how = 'outer')\n",
    "table = table.fillna(method = 'ffill')\n",
    "table = pd.merge(table, data2, on = '날짜')\n",
    "table = pd.merge(table, data3, on = '날짜')\n",
    "table.columns = ['area', '날짜', 'rentcnt', '인구', '아파트가격', '평균풍속', '최대풍속', '순간최고풍속', '기온평균', '강수일강수', '습도평균', '미세먼지', '초미세먼지', '오존', '이산화질소', '일산화탄소', '아황산가스']\n",
    "table.to_csv('jonglogu_dataset.csv', encoding = 'cp949', index=False)"
   ]
  },
  {
   "cell_type": "code",
   "execution_count": 371,
   "metadata": {},
   "outputs": [],
   "source": [
    "data1 = pd.read_csv('C:/github/proj_sponge_bicycle/data_join/dataset/junggu/junggu_table.csv', encoding = 'cp949')\n",
    "data2 = pd.read_csv('C:/github/proj_sponge_bicycle/data_join/dataset/junggu/junggu.csv', encoding = 'cp949')\n",
    "data3 = pd.read_csv('C:/github/proj_sponge_bicycle/data_join/dataset/junggu/junggu_airpollution.csv', encoding = 'cp949')\n",
    "data4 = pd.read_csv('C:/github/proj_sponge_bicycle/data_join/dataset/junggu/junggu_pop.csv', encoding = 'cp949')\n",
    "data5 = pd.read_csv('C:/github/proj_sponge_bicycle/data_join/dataset/junggu/junggu_apart.csv', encoding = 'cp949')\n",
    "table = pd.merge(data1, data4, on = '날짜', how = 'outer')\n",
    "table = pd.merge(table, data5, on = '날짜', how = 'outer')\n",
    "table = table.fillna(method = 'ffill')\n",
    "table = pd.merge(table, data2, on = '날짜')\n",
    "table = pd.merge(table, data3, on = '날짜')\n",
    "table.columns = ['area', '날짜', 'rentcnt', '인구', '아파트가격', '평균풍속', '최대풍속', '순간최고풍속', '기온평균', '강수일강수', '습도평균', '미세먼지', '초미세먼지', '오존', '이산화질소', '일산화탄소', '아황산가스']\n",
    "table.to_csv('junggu_dataset.csv', encoding = 'cp949', index=False)"
   ]
  },
  {
   "cell_type": "code",
   "execution_count": 372,
   "metadata": {},
   "outputs": [],
   "source": [
    "data1 = pd.read_csv('C:/github/proj_sponge_bicycle/data_join/dataset/mapogu/mapogu_table.csv', encoding = 'cp949')\n",
    "data2 = pd.read_csv('C:/github/proj_sponge_bicycle/data_join/dataset/mapogu/mapogu.csv', encoding = 'cp949')\n",
    "data3 = pd.read_csv('C:/github/proj_sponge_bicycle/data_join/dataset/mapogu/mapogu_airpollution.csv', encoding = 'cp949')\n",
    "data4 = pd.read_csv('C:/github/proj_sponge_bicycle/data_join/dataset/mapogu/mapogu_pop.csv', encoding = 'cp949')\n",
    "data5 = pd.read_csv('C:/github/proj_sponge_bicycle/data_join/dataset/mapogu/mapogu_apart.csv', encoding = 'cp949')\n",
    "table = pd.merge(data1, data4, on = '날짜', how = 'outer')\n",
    "table = pd.merge(table, data5, on = '날짜', how = 'outer')\n",
    "table = table.fillna(method = 'ffill')\n",
    "table = pd.merge(table, data2, on = '날짜')\n",
    "table = pd.merge(table, data3, on = '날짜')\n",
    "table.columns = ['area', '날짜', 'rentcnt', '인구', '아파트가격', '평균풍속', '최대풍속', '순간최고풍속', '기온평균', '강수일강수', '습도평균', '미세먼지', '초미세먼지', '오존', '이산화질소', '일산화탄소', '아황산가스']\n",
    "table.to_csv('mapogu_dataset.csv', encoding = 'cp949', index=False)"
   ]
  },
  {
   "cell_type": "code",
   "execution_count": 373,
   "metadata": {},
   "outputs": [],
   "source": [
    "data1 = pd.read_csv('C:/github/proj_sponge_bicycle/data_join/dataset/seodaemungu/seodaemungu_table.csv', encoding = 'cp949')\n",
    "data2 = pd.read_csv('C:/github/proj_sponge_bicycle/data_join/dataset/seodaemungu/seodaemungu.csv', encoding = 'cp949')\n",
    "data3 = pd.read_csv('C:/github/proj_sponge_bicycle/data_join/dataset/seodaemungu/seodaemungu_airpollution.csv', encoding = 'cp949')\n",
    "data4 = pd.read_csv('C:/github/proj_sponge_bicycle/data_join/dataset/seodaemungu/seodaemungu_pop.csv', encoding = 'cp949')\n",
    "data5 = pd.read_csv('C:/github/proj_sponge_bicycle/data_join/dataset/seodaemungu/seodaemungu_apart.csv', encoding = 'cp949')\n",
    "table = pd.merge(data1, data4, on = '날짜', how = 'outer')\n",
    "table = pd.merge(table, data5, on = '날짜', how = 'outer')\n",
    "table = table.fillna(method = 'ffill')\n",
    "table = pd.merge(table, data2, on = '날짜')\n",
    "table = pd.merge(table, data3, on = '날짜')\n",
    "table.columns = ['area', '날짜', 'rentcnt', '인구', '아파트가격', '평균풍속', '최대풍속', '순간최고풍속', '기온평균', '강수일강수', '습도평균', '미세먼지', '초미세먼지', '오존', '이산화질소', '일산화탄소', '아황산가스']\n",
    "table.to_csv('seodaemungu_dataset.csv', encoding = 'cp949', index=False)"
   ]
  },
  {
   "cell_type": "code",
   "execution_count": 374,
   "metadata": {},
   "outputs": [],
   "source": [
    "data1 = pd.read_csv('C:/github/proj_sponge_bicycle/data_join/dataset/seongdonggu/seongdonggu_table.csv', encoding = 'cp949')\n",
    "data2 = pd.read_csv('C:/github/proj_sponge_bicycle/data_join/dataset/seongdonggu/seongdonggu.csv', encoding = 'cp949')\n",
    "data3 = pd.read_csv('C:/github/proj_sponge_bicycle/data_join/dataset/seongdonggu/seongdonggu_airpollution.csv', encoding = 'cp949')\n",
    "data4 = pd.read_csv('C:/github/proj_sponge_bicycle/data_join/dataset/seongdonggu/seongdonggu_pop.csv', encoding = 'cp949')\n",
    "data5 = pd.read_csv('C:/github/proj_sponge_bicycle/data_join/dataset/seongdonggu/seongdonggu_apart.csv', encoding = 'cp949')\n",
    "table = pd.merge(data1, data4, on = '날짜', how = 'outer')\n",
    "table = pd.merge(table, data5, on = '날짜', how = 'outer')\n",
    "table = table.fillna(method = 'ffill')\n",
    "table = pd.merge(table, data2, on = '날짜')\n",
    "table = pd.merge(table, data3, on = '날짜')\n",
    "table.columns = ['area', '날짜', 'rentcnt', '인구', '아파트가격', '평균풍속', '최대풍속', '순간최고풍속', '기온평균', '강수일강수', '습도평균', '미세먼지', '초미세먼지', '오존', '이산화질소', '일산화탄소', '아황산가스']\n",
    "table.to_csv('seongdonggu_dataset.csv', encoding = 'cp949', index=False)"
   ]
  },
  {
   "cell_type": "code",
   "execution_count": 375,
   "metadata": {},
   "outputs": [],
   "source": [
    "data1 = pd.read_csv('C:/github/proj_sponge_bicycle/data_join/dataset/yangcheongu/yangcheongu_table.csv', encoding = 'cp949')\n",
    "data2 = pd.read_csv('C:/github/proj_sponge_bicycle/data_join/dataset/yangcheongu/yangcheongu.csv', encoding = 'cp949')\n",
    "data3 = pd.read_csv('C:/github/proj_sponge_bicycle/data_join/dataset/yangcheongu/yangcheongu_airpollution.csv', encoding = 'cp949')\n",
    "data4 = pd.read_csv('C:/github/proj_sponge_bicycle/data_join/dataset/yangcheongu/yangcheongu_pop.csv', encoding = 'cp949')\n",
    "data5 = pd.read_csv('C:/github/proj_sponge_bicycle/data_join/dataset/yangcheongu/yangcheongu_apart.csv', encoding = 'cp949')\n",
    "table = pd.merge(data1, data4, on = '날짜', how = 'outer')\n",
    "table = pd.merge(table, data5, on = '날짜', how = 'outer')\n",
    "table = table.fillna(method = 'ffill')\n",
    "table = pd.merge(table, data2, on = '날짜')\n",
    "table = pd.merge(table, data3, on = '날짜')\n",
    "table.columns = ['area', '날짜', 'rentcnt', '인구', '아파트가격', '평균풍속', '최대풍속', '순간최고풍속', '기온평균', '강수일강수', '습도평균', '미세먼지', '초미세먼지', '오존', '이산화질소', '일산화탄소', '아황산가스']\n",
    "table.to_csv('yangcheongu_dataset.csv', encoding = 'cp949', index=False)"
   ]
  },
  {
   "cell_type": "code",
   "execution_count": 376,
   "metadata": {},
   "outputs": [],
   "source": [
    "data1 = pd.read_csv('C:/github/proj_sponge_bicycle/data_join/dataset/yeongdeungpogu/yeongdeungpogu_table.csv', encoding = 'cp949')\n",
    "data2 = pd.read_csv('C:/github/proj_sponge_bicycle/data_join/dataset/yeongdeungpogu/yeongdeungpogu.csv', encoding = 'cp949')\n",
    "data3 = pd.read_csv('C:/github/proj_sponge_bicycle/data_join/dataset/yeongdeungpogu/yeongdeungpogu_airpollution.csv', encoding = 'cp949')\n",
    "data4 = pd.read_csv('C:/github/proj_sponge_bicycle/data_join/dataset/yeongdeungpogu/yeongdeungpogu_pop.csv', encoding = 'cp949')\n",
    "data5 = pd.read_csv('C:/github/proj_sponge_bicycle/data_join/dataset/yeongdeungpogu/yeongdeungpogu_apart.csv', encoding = 'cp949')\n",
    "table = pd.merge(data1, data4, on = '날짜', how = 'outer')\n",
    "table = pd.merge(table, data5, on = '날짜', how = 'outer')\n",
    "table = table.fillna(method = 'ffill')\n",
    "table = pd.merge(table, data2, on = '날짜')\n",
    "table = pd.merge(table, data3, on = '날짜')\n",
    "table.columns = ['area', '날짜', 'rentcnt', '인구', '아파트가격', '평균풍속', '최대풍속', '순간최고풍속', '기온평균', '강수일강수', '습도평균', '미세먼지', '초미세먼지', '오존', '이산화질소', '일산화탄소', '아황산가스']\n",
    "table.to_csv('yeongdeungpogu_dataset.csv', encoding = 'cp949', index=False)"
   ]
  },
  {
   "cell_type": "code",
   "execution_count": 377,
   "metadata": {},
   "outputs": [],
   "source": [
    "data1 = pd.read_csv('C:/github/proj_sponge_bicycle/data_join/dataset/yongsangu/yongsangu_table.csv', encoding = 'cp949')\n",
    "data2 = pd.read_csv('C:/github/proj_sponge_bicycle/data_join/dataset/yongsangu/yongsangu.csv', encoding = 'cp949')\n",
    "data3 = pd.read_csv('C:/github/proj_sponge_bicycle/data_join/dataset/yongsangu/yongsangu_airpollution.csv', encoding = 'cp949')\n",
    "data4 = pd.read_csv('C:/github/proj_sponge_bicycle/data_join/dataset/yongsangu/yongsangu_pop.csv', encoding = 'cp949')\n",
    "data5 = pd.read_csv('C:/github/proj_sponge_bicycle/data_join/dataset/yongsangu/yongsangu_apart.csv', encoding = 'cp949')\n",
    "table = pd.merge(data1, data4, on = '날짜', how = 'outer')\n",
    "table = pd.merge(table, data5, on = '날짜', how = 'outer')\n",
    "table = table.fillna(method = 'ffill')\n",
    "table = pd.merge(table, data2, on = '날짜')\n",
    "table = pd.merge(table, data3, on = '날짜')\n",
    "table.columns = ['area', '날짜', 'rentcnt', '인구', '아파트가격', '평균풍속', '최대풍속', '순간최고풍속', '기온평균', '강수일강수', '습도평균', '미세먼지', '초미세먼지', '오존', '이산화질소', '일산화탄소', '아황산가스']\n",
    "table.to_csv('yongsangu_dataset.csv', encoding = 'cp949', index=False)"
   ]
  },
  {
   "cell_type": "code",
   "execution_count": null,
   "metadata": {},
   "outputs": [],
   "source": []
  }
 ],
 "metadata": {
  "kernelspec": {
   "display_name": "Python 3",
   "language": "python",
   "name": "python3"
  },
  "language_info": {
   "codemirror_mode": {
    "name": "ipython",
    "version": 3
   },
   "file_extension": ".py",
   "mimetype": "text/x-python",
   "name": "python",
   "nbconvert_exporter": "python",
   "pygments_lexer": "ipython3",
   "version": "3.6.4"
  }
 },
 "nbformat": 4,
 "nbformat_minor": 2
}
