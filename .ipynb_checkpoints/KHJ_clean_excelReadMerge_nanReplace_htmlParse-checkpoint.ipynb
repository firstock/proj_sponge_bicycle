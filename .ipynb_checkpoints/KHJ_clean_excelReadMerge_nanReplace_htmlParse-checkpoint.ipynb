{
 "cells": [
  {
   "cell_type": "markdown",
   "metadata": {},
   "source": [
    "#### 따릉이"
   ]
  },
  {
   "cell_type": "code",
   "execution_count": 2,
   "metadata": {},
   "outputs": [
    {
     "name": "stdout",
     "output_type": "stream",
     "text": [
      "E:\\github\\proj_sponge_bycicle\\data\n",
      " E 드라이브의 볼륨에는 이름이 없습니다.\n",
      " 볼륨 일련 번호: 2468-0A05\n",
      "\n",
      " E:\\github\\proj_sponge_bycicle\\data 디렉터리\n",
      "\n",
      "2018-04-04  오후 02:46    <DIR>          .\n",
      "2018-04-04  오후 02:46    <DIR>          ..\n",
      "2018-02-01  오후 04:37         2,551,880 bycicleRental2016.xlsx\n",
      "2018-02-01  오후 04:37         6,328,242 bycicleRental2017.xlsx\n",
      "               2개 파일           8,880,122 바이트\n",
      "               2개 디렉터리  224,800,985,088 바이트 남음\n",
      "E:\\github\\proj_sponge_bycicle\n"
     ]
    }
   ],
   "source": [
    "%cd data\n",
    "%ls\n",
    "%cd .."
   ]
  },
  {
   "cell_type": "markdown",
   "metadata": {},
   "source": [
    "## read& merge\n",
    "bicycleRental_tot.xlsx"
   ]
  },
  {
   "cell_type": "code",
   "execution_count": 1,
   "metadata": {
    "collapsed": true
   },
   "outputs": [],
   "source": [
    "import pandas as pd"
   ]
  },
  {
   "cell_type": "code",
   "execution_count": 2,
   "metadata": {
    "collapsed": true
   },
   "outputs": [],
   "source": [
    "xls_file= pd.ExcelFile('data/bicycleRental2016.xlsx')"
   ]
  },
  {
   "cell_type": "code",
   "execution_count": 3,
   "metadata": {
    "collapsed": true
   },
   "outputs": [],
   "source": [
    "sn16= xls_file.sheet_names\n",
    "rent16= xls_file.parse(sn16[0])"
   ]
  },
  {
   "cell_type": "code",
   "execution_count": 4,
   "metadata": {},
   "outputs": [
    {
     "name": "stdout",
     "output_type": "stream",
     "text": [
      "(99829, 4)\n"
     ]
    }
   ],
   "source": [
    "print(rent16.shape)\n",
    "# rent16"
   ]
  },
  {
   "cell_type": "code",
   "execution_count": 5,
   "metadata": {
    "collapsed": true
   },
   "outputs": [],
   "source": [
    "xls_file= pd.ExcelFile('data/bicycleRental2017.xlsx')"
   ]
  },
  {
   "cell_type": "code",
   "execution_count": 6,
   "metadata": {
    "collapsed": true
   },
   "outputs": [],
   "source": [
    "sn17= xls_file.sheet_names\n",
    "rent17= xls_file.parse(sn17[0])"
   ]
  },
  {
   "cell_type": "code",
   "execution_count": 7,
   "metadata": {
    "scrolled": true
   },
   "outputs": [
    {
     "name": "stdout",
     "output_type": "stream",
     "text": [
      "(245446, 4)\n"
     ]
    }
   ],
   "source": [
    "print(rent17.shape)\n",
    "# rent17"
   ]
  },
  {
   "cell_type": "code",
   "execution_count": 19,
   "metadata": {},
   "outputs": [
    {
     "data": {
      "text/plain": [
       "Timestamp('2017-01-01 00:00:00')"
      ]
     },
     "execution_count": 19,
     "metadata": {},
     "output_type": "execute_result"
    }
   ],
   "source": [
    "rent17.rentdate[0]"
   ]
  },
  {
   "cell_type": "code",
   "execution_count": 9,
   "metadata": {
    "collapsed": true
   },
   "outputs": [],
   "source": [
    "rent= pd.merge(rent16, rent17, how='outer')"
   ]
  },
  {
   "cell_type": "code",
   "execution_count": 10,
   "metadata": {},
   "outputs": [
    {
     "name": "stdout",
     "output_type": "stream",
     "text": [
      "(99829, 4)\n",
      "(245446, 4)\n",
      "(345275, 4)\n"
     ]
    }
   ],
   "source": [
    "print(rent16.shape)\n",
    "print(rent17.shape)\n",
    "print(rent.shape)"
   ]
  },
  {
   "cell_type": "code",
   "execution_count": 11,
   "metadata": {},
   "outputs": [
    {
     "data": {
      "text/plain": [
       "345275"
      ]
     },
     "execution_count": 11,
     "metadata": {},
     "output_type": "execute_result"
    }
   ],
   "source": [
    "99829+245446"
   ]
  },
  {
   "cell_type": "markdown",
   "metadata": {},
   "source": [
    "#### merge한거 excel로 저장"
   ]
  },
  {
   "cell_type": "code",
   "execution_count": 12,
   "metadata": {
    "collapsed": true
   },
   "outputs": [],
   "source": [
    "pd.ExcelWriter?"
   ]
  },
  {
   "cell_type": "code",
   "execution_count": 23,
   "metadata": {
    "collapsed": true
   },
   "outputs": [],
   "source": [
    "writer= pd.ExcelWriter('data_join/bicycleRental_tot.xlsx')\n",
    "rent.to_excel(writer, sheet_name='rent1617', index= False)\n",
    "writer.save()"
   ]
  },
  {
   "cell_type": "code",
   "execution_count": 24,
   "metadata": {
    "collapsed": true
   },
   "outputs": [],
   "source": [
    "xls_file_tot= pd.ExcelFile('data/bicycleRental_tot.xlsx')"
   ]
  },
  {
   "cell_type": "code",
   "execution_count": 15,
   "metadata": {
    "collapsed": true
   },
   "outputs": [],
   "source": [
    "sn= xls_file_tot.sheet_names"
   ]
  },
  {
   "cell_type": "code",
   "execution_count": 16,
   "metadata": {},
   "outputs": [
    {
     "data": {
      "text/plain": [
       "'rent1617'"
      ]
     },
     "execution_count": 16,
     "metadata": {},
     "output_type": "execute_result"
    }
   ],
   "source": [
    "sn[0]"
   ]
  },
  {
   "cell_type": "code",
   "execution_count": 17,
   "metadata": {
    "collapsed": true
   },
   "outputs": [],
   "source": [
    "# xls_file.parse?"
   ]
  },
  {
   "cell_type": "code",
   "execution_count": 25,
   "metadata": {
    "collapsed": true,
    "scrolled": true
   },
   "outputs": [],
   "source": [
    "rent_tot= xls_file_tot.parse(sn[0])#, parse_dates=['rentdate'])"
   ]
  },
  {
   "cell_type": "code",
   "execution_count": 26,
   "metadata": {
    "scrolled": true
   },
   "outputs": [
    {
     "name": "stdout",
     "output_type": "stream",
     "text": [
      "(345275, 4)\n"
     ]
    },
    {
     "data": {
      "text/html": [
       "<div>\n",
       "<style>\n",
       "    .dataframe thead tr:only-child th {\n",
       "        text-align: right;\n",
       "    }\n",
       "\n",
       "    .dataframe thead th {\n",
       "        text-align: left;\n",
       "    }\n",
       "\n",
       "    .dataframe tbody tr th {\n",
       "        vertical-align: top;\n",
       "    }\n",
       "</style>\n",
       "<table border=\"1\" class=\"dataframe\">\n",
       "  <thead>\n",
       "    <tr style=\"text-align: right;\">\n",
       "      <th></th>\n",
       "      <th>area</th>\n",
       "      <th>location</th>\n",
       "      <th>rentdate</th>\n",
       "      <th>rentcnt</th>\n",
       "    </tr>\n",
       "  </thead>\n",
       "  <tbody>\n",
       "    <tr>\n",
       "      <th>0</th>\n",
       "      <td>그룹명 없음</td>\n",
       "      <td>대여소명 없음</td>\n",
       "      <td>2016-01-01</td>\n",
       "      <td>0</td>\n",
       "    </tr>\n",
       "    <tr>\n",
       "      <th>1</th>\n",
       "      <td>광진구</td>\n",
       "      <td>500. 어린이대공원역 3번출구 앞</td>\n",
       "      <td>2016-01-01</td>\n",
       "      <td>7</td>\n",
       "    </tr>\n",
       "    <tr>\n",
       "      <th>2</th>\n",
       "      <td>광진구</td>\n",
       "      <td>501. 광진구의회 앞</td>\n",
       "      <td>2016-01-01</td>\n",
       "      <td>0</td>\n",
       "    </tr>\n",
       "    <tr>\n",
       "      <th>3</th>\n",
       "      <td>광진구</td>\n",
       "      <td>502. 뚝섬유원지역 1번출구 앞</td>\n",
       "      <td>2016-01-01</td>\n",
       "      <td>9</td>\n",
       "    </tr>\n",
       "    <tr>\n",
       "      <th>4</th>\n",
       "      <td>광진구</td>\n",
       "      <td>503. 더샵스타시티 C동 앞</td>\n",
       "      <td>2016-01-01</td>\n",
       "      <td>8</td>\n",
       "    </tr>\n",
       "    <tr>\n",
       "      <th>5</th>\n",
       "      <td>광진구</td>\n",
       "      <td>504. 신자초교입구교차로</td>\n",
       "      <td>2016-01-01</td>\n",
       "      <td>1</td>\n",
       "    </tr>\n",
       "    <tr>\n",
       "      <th>6</th>\n",
       "      <td>광진구</td>\n",
       "      <td>505. 자양사거리 광진아크로텔 앞</td>\n",
       "      <td>2016-01-01</td>\n",
       "      <td>4</td>\n",
       "    </tr>\n",
       "    <tr>\n",
       "      <th>7</th>\n",
       "      <td>광진구</td>\n",
       "      <td>515. 광양중학교 앞</td>\n",
       "      <td>2016-01-01</td>\n",
       "      <td>2</td>\n",
       "    </tr>\n",
       "    <tr>\n",
       "      <th>8</th>\n",
       "      <td>광진구</td>\n",
       "      <td>516. 광진메디칼 앞</td>\n",
       "      <td>2016-01-01</td>\n",
       "      <td>2</td>\n",
       "    </tr>\n",
       "    <tr>\n",
       "      <th>9</th>\n",
       "      <td>마포구</td>\n",
       "      <td>101. (구)합정동 주민센터</td>\n",
       "      <td>2016-01-01</td>\n",
       "      <td>3</td>\n",
       "    </tr>\n",
       "    <tr>\n",
       "      <th>10</th>\n",
       "      <td>마포구</td>\n",
       "      <td>102. 망원역 1번출구 앞</td>\n",
       "      <td>2016-01-01</td>\n",
       "      <td>13</td>\n",
       "    </tr>\n",
       "    <tr>\n",
       "      <th>11</th>\n",
       "      <td>마포구</td>\n",
       "      <td>103. 망원역 2번출구 앞</td>\n",
       "      <td>2016-01-01</td>\n",
       "      <td>2</td>\n",
       "    </tr>\n",
       "    <tr>\n",
       "      <th>12</th>\n",
       "      <td>마포구</td>\n",
       "      <td>104. 합정역 1번출구 앞</td>\n",
       "      <td>2016-01-01</td>\n",
       "      <td>3</td>\n",
       "    </tr>\n",
       "    <tr>\n",
       "      <th>13</th>\n",
       "      <td>마포구</td>\n",
       "      <td>105. 합정역 5번출구 앞</td>\n",
       "      <td>2016-01-01</td>\n",
       "      <td>4</td>\n",
       "    </tr>\n",
       "    <tr>\n",
       "      <th>14</th>\n",
       "      <td>마포구</td>\n",
       "      <td>106. 합정역 7번출구 앞</td>\n",
       "      <td>2016-01-01</td>\n",
       "      <td>6</td>\n",
       "    </tr>\n",
       "    <tr>\n",
       "      <th>15</th>\n",
       "      <td>마포구</td>\n",
       "      <td>107. 신한은행 서교동금융센터점 앞</td>\n",
       "      <td>2016-01-01</td>\n",
       "      <td>2</td>\n",
       "    </tr>\n",
       "    <tr>\n",
       "      <th>16</th>\n",
       "      <td>마포구</td>\n",
       "      <td>108. 서교동 사거리</td>\n",
       "      <td>2016-01-01</td>\n",
       "      <td>7</td>\n",
       "    </tr>\n",
       "    <tr>\n",
       "      <th>17</th>\n",
       "      <td>마포구</td>\n",
       "      <td>111. 상수역 2번출구 앞</td>\n",
       "      <td>2016-01-01</td>\n",
       "      <td>8</td>\n",
       "    </tr>\n",
       "    <tr>\n",
       "      <th>18</th>\n",
       "      <td>마포구</td>\n",
       "      <td>112. 극동방송국 앞</td>\n",
       "      <td>2016-01-01</td>\n",
       "      <td>4</td>\n",
       "    </tr>\n",
       "    <tr>\n",
       "      <th>19</th>\n",
       "      <td>마포구</td>\n",
       "      <td>113. 홍대입구역 2번출구 앞</td>\n",
       "      <td>2016-01-01</td>\n",
       "      <td>10</td>\n",
       "    </tr>\n",
       "    <tr>\n",
       "      <th>20</th>\n",
       "      <td>마포구</td>\n",
       "      <td>114. 홍대입구역 8번출구 앞</td>\n",
       "      <td>2016-01-01</td>\n",
       "      <td>3</td>\n",
       "    </tr>\n",
       "    <tr>\n",
       "      <th>21</th>\n",
       "      <td>마포구</td>\n",
       "      <td>118. 광흥창역 2번출구 앞</td>\n",
       "      <td>2016-01-01</td>\n",
       "      <td>10</td>\n",
       "    </tr>\n",
       "    <tr>\n",
       "      <th>22</th>\n",
       "      <td>마포구</td>\n",
       "      <td>119. 서강나루 공원</td>\n",
       "      <td>2016-01-01</td>\n",
       "      <td>1</td>\n",
       "    </tr>\n",
       "    <tr>\n",
       "      <th>23</th>\n",
       "      <td>마포구</td>\n",
       "      <td>120. 신수동 사거리</td>\n",
       "      <td>2016-01-01</td>\n",
       "      <td>6</td>\n",
       "    </tr>\n",
       "    <tr>\n",
       "      <th>24</th>\n",
       "      <td>마포구</td>\n",
       "      <td>121. 마포소방서 앞</td>\n",
       "      <td>2016-01-01</td>\n",
       "      <td>2</td>\n",
       "    </tr>\n",
       "    <tr>\n",
       "      <th>25</th>\n",
       "      <td>마포구</td>\n",
       "      <td>122. 신성기사식당 앞</td>\n",
       "      <td>2016-01-01</td>\n",
       "      <td>10</td>\n",
       "    </tr>\n",
       "    <tr>\n",
       "      <th>26</th>\n",
       "      <td>마포구</td>\n",
       "      <td>124. 서강대 정문 건너편</td>\n",
       "      <td>2016-01-01</td>\n",
       "      <td>9</td>\n",
       "    </tr>\n",
       "    <tr>\n",
       "      <th>27</th>\n",
       "      <td>마포구</td>\n",
       "      <td>125. 서강대 남문 옆</td>\n",
       "      <td>2016-01-01</td>\n",
       "      <td>2</td>\n",
       "    </tr>\n",
       "    <tr>\n",
       "      <th>28</th>\n",
       "      <td>마포구</td>\n",
       "      <td>126. 서강대 후문 옆</td>\n",
       "      <td>2016-01-01</td>\n",
       "      <td>3</td>\n",
       "    </tr>\n",
       "    <tr>\n",
       "      <th>29</th>\n",
       "      <td>마포구</td>\n",
       "      <td>129. 신촌역(2호선) 6번출구 옆</td>\n",
       "      <td>2016-01-01</td>\n",
       "      <td>5</td>\n",
       "    </tr>\n",
       "    <tr>\n",
       "      <th>...</th>\n",
       "      <td>...</td>\n",
       "      <td>...</td>\n",
       "      <td>...</td>\n",
       "      <td>...</td>\n",
       "    </tr>\n",
       "    <tr>\n",
       "      <th>345245</th>\n",
       "      <td>중랑구</td>\n",
       "      <td>1405. 망우역 1번출구</td>\n",
       "      <td>2017-12-31</td>\n",
       "      <td>2</td>\n",
       "    </tr>\n",
       "    <tr>\n",
       "      <th>345246</th>\n",
       "      <td>중랑구</td>\n",
       "      <td>1406. 망우청소년수련관</td>\n",
       "      <td>2017-12-31</td>\n",
       "      <td>0</td>\n",
       "    </tr>\n",
       "    <tr>\n",
       "      <th>345247</th>\n",
       "      <td>중랑구</td>\n",
       "      <td>1407. 먹골역 1번출구 뒤</td>\n",
       "      <td>2017-12-31</td>\n",
       "      <td>6</td>\n",
       "    </tr>\n",
       "    <tr>\n",
       "      <th>345248</th>\n",
       "      <td>중랑구</td>\n",
       "      <td>1408. 먹골역 6번출구 앞</td>\n",
       "      <td>2017-12-31</td>\n",
       "      <td>2</td>\n",
       "    </tr>\n",
       "    <tr>\n",
       "      <th>345249</th>\n",
       "      <td>중랑구</td>\n",
       "      <td>1410. 면목 대원칸타빌아파트</td>\n",
       "      <td>2017-12-31</td>\n",
       "      <td>2</td>\n",
       "    </tr>\n",
       "    <tr>\n",
       "      <th>345250</th>\n",
       "      <td>중랑구</td>\n",
       "      <td>1411. 상봉시장앞 교차로 한성빌딩 앞</td>\n",
       "      <td>2017-12-31</td>\n",
       "      <td>2</td>\n",
       "    </tr>\n",
       "    <tr>\n",
       "      <th>345251</th>\n",
       "      <td>중랑구</td>\n",
       "      <td>1412. 면목초등학교</td>\n",
       "      <td>2017-12-31</td>\n",
       "      <td>4</td>\n",
       "    </tr>\n",
       "    <tr>\n",
       "      <th>345252</th>\n",
       "      <td>중랑구</td>\n",
       "      <td>1413. 봉화산역 5번출구 뒤</td>\n",
       "      <td>2017-12-31</td>\n",
       "      <td>2</td>\n",
       "    </tr>\n",
       "    <tr>\n",
       "      <th>345253</th>\n",
       "      <td>중랑구</td>\n",
       "      <td>1414. 사가정역 1번출구</td>\n",
       "      <td>2017-12-31</td>\n",
       "      <td>3</td>\n",
       "    </tr>\n",
       "    <tr>\n",
       "      <th>345254</th>\n",
       "      <td>중랑구</td>\n",
       "      <td>1416. 상봉역 3번출구</td>\n",
       "      <td>2017-12-31</td>\n",
       "      <td>2</td>\n",
       "    </tr>\n",
       "    <tr>\n",
       "      <th>345255</th>\n",
       "      <td>중랑구</td>\n",
       "      <td>1418. 새솔초등학교</td>\n",
       "      <td>2017-12-31</td>\n",
       "      <td>1</td>\n",
       "    </tr>\n",
       "    <tr>\n",
       "      <th>345256</th>\n",
       "      <td>중랑구</td>\n",
       "      <td>1420. 신내어울공원 앞</td>\n",
       "      <td>2017-12-31</td>\n",
       "      <td>0</td>\n",
       "    </tr>\n",
       "    <tr>\n",
       "      <th>345257</th>\n",
       "      <td>중랑구</td>\n",
       "      <td>1426. 면목도시개발아파트 1동 앞</td>\n",
       "      <td>2017-12-31</td>\n",
       "      <td>2</td>\n",
       "    </tr>\n",
       "    <tr>\n",
       "      <th>345258</th>\n",
       "      <td>중랑구</td>\n",
       "      <td>1428. 원묵고등학교</td>\n",
       "      <td>2017-12-31</td>\n",
       "      <td>1</td>\n",
       "    </tr>\n",
       "    <tr>\n",
       "      <th>345259</th>\n",
       "      <td>중랑구</td>\n",
       "      <td>1429. 장안중학교</td>\n",
       "      <td>2017-12-31</td>\n",
       "      <td>0</td>\n",
       "    </tr>\n",
       "    <tr>\n",
       "      <th>345260</th>\n",
       "      <td>중랑구</td>\n",
       "      <td>1430. 중랑구청</td>\n",
       "      <td>2017-12-31</td>\n",
       "      <td>2</td>\n",
       "    </tr>\n",
       "    <tr>\n",
       "      <th>345261</th>\n",
       "      <td>중랑구</td>\n",
       "      <td>1431. 중랑구청 사거리</td>\n",
       "      <td>2017-12-31</td>\n",
       "      <td>0</td>\n",
       "    </tr>\n",
       "    <tr>\n",
       "      <th>345262</th>\n",
       "      <td>중랑구</td>\n",
       "      <td>1433. 중화역 2번출구</td>\n",
       "      <td>2017-12-31</td>\n",
       "      <td>1</td>\n",
       "    </tr>\n",
       "    <tr>\n",
       "      <th>345263</th>\n",
       "      <td>중랑구</td>\n",
       "      <td>1434. 홈플러스 면목동점</td>\n",
       "      <td>2017-12-31</td>\n",
       "      <td>3</td>\n",
       "    </tr>\n",
       "    <tr>\n",
       "      <th>345264</th>\n",
       "      <td>중랑구</td>\n",
       "      <td>1435. 능산삼거리</td>\n",
       "      <td>2017-12-31</td>\n",
       "      <td>1</td>\n",
       "    </tr>\n",
       "    <tr>\n",
       "      <th>345265</th>\n",
       "      <td>중랑구</td>\n",
       "      <td>1436. 영풍마드레빌</td>\n",
       "      <td>2017-12-31</td>\n",
       "      <td>3</td>\n",
       "    </tr>\n",
       "    <tr>\n",
       "      <th>345266</th>\n",
       "      <td>중랑구</td>\n",
       "      <td>1437. 늘푸른공원 앞</td>\n",
       "      <td>2017-12-31</td>\n",
       "      <td>0</td>\n",
       "    </tr>\n",
       "    <tr>\n",
       "      <th>345267</th>\n",
       "      <td>중랑구</td>\n",
       "      <td>1438. 홈플러스 신내점 앞</td>\n",
       "      <td>2017-12-31</td>\n",
       "      <td>3</td>\n",
       "    </tr>\n",
       "    <tr>\n",
       "      <th>345268</th>\n",
       "      <td>중랑구</td>\n",
       "      <td>1440. 하나은행 면목지점</td>\n",
       "      <td>2017-12-31</td>\n",
       "      <td>1</td>\n",
       "    </tr>\n",
       "    <tr>\n",
       "      <th>345269</th>\n",
       "      <td>중랑구</td>\n",
       "      <td>1441. 신내능말공원</td>\n",
       "      <td>2017-12-31</td>\n",
       "      <td>2</td>\n",
       "    </tr>\n",
       "    <tr>\n",
       "      <th>345270</th>\n",
       "      <td>중랑구</td>\n",
       "      <td>1442. (구)신한은행 중랑교지점</td>\n",
       "      <td>2017-12-31</td>\n",
       "      <td>3</td>\n",
       "    </tr>\n",
       "    <tr>\n",
       "      <th>345271</th>\n",
       "      <td>중랑구</td>\n",
       "      <td>1445. 용마지구대</td>\n",
       "      <td>2017-12-31</td>\n",
       "      <td>1</td>\n",
       "    </tr>\n",
       "    <tr>\n",
       "      <th>345272</th>\n",
       "      <td>중랑구</td>\n",
       "      <td>1446. 중랑전화국 교차로</td>\n",
       "      <td>2017-12-31</td>\n",
       "      <td>3</td>\n",
       "    </tr>\n",
       "    <tr>\n",
       "      <th>345273</th>\n",
       "      <td>중랑구</td>\n",
       "      <td>1447. 면목역 3번출구</td>\n",
       "      <td>2017-12-31</td>\n",
       "      <td>1</td>\n",
       "    </tr>\n",
       "    <tr>\n",
       "      <th>345274</th>\n",
       "      <td>중랑구</td>\n",
       "      <td>1448. 코스트코 상봉점</td>\n",
       "      <td>2017-12-31</td>\n",
       "      <td>10</td>\n",
       "    </tr>\n",
       "  </tbody>\n",
       "</table>\n",
       "<p>345275 rows × 4 columns</p>\n",
       "</div>"
      ],
      "text/plain": [
       "          area                location   rentdate  rentcnt\n",
       "0       그룹명 없음                 대여소명 없음 2016-01-01        0\n",
       "1          광진구     500. 어린이대공원역 3번출구 앞 2016-01-01        7\n",
       "2          광진구            501. 광진구의회 앞 2016-01-01        0\n",
       "3          광진구      502. 뚝섬유원지역 1번출구 앞 2016-01-01        9\n",
       "4          광진구        503. 더샵스타시티 C동 앞 2016-01-01        8\n",
       "5          광진구          504. 신자초교입구교차로 2016-01-01        1\n",
       "6          광진구     505. 자양사거리 광진아크로텔 앞 2016-01-01        4\n",
       "7          광진구            515. 광양중학교 앞 2016-01-01        2\n",
       "8          광진구            516. 광진메디칼 앞 2016-01-01        2\n",
       "9          마포구        101. (구)합정동 주민센터 2016-01-01        3\n",
       "10         마포구         102. 망원역 1번출구 앞 2016-01-01       13\n",
       "11         마포구         103. 망원역 2번출구 앞 2016-01-01        2\n",
       "12         마포구         104. 합정역 1번출구 앞 2016-01-01        3\n",
       "13         마포구         105. 합정역 5번출구 앞 2016-01-01        4\n",
       "14         마포구         106. 합정역 7번출구 앞 2016-01-01        6\n",
       "15         마포구    107. 신한은행 서교동금융센터점 앞 2016-01-01        2\n",
       "16         마포구            108. 서교동 사거리 2016-01-01        7\n",
       "17         마포구         111. 상수역 2번출구 앞 2016-01-01        8\n",
       "18         마포구            112. 극동방송국 앞 2016-01-01        4\n",
       "19         마포구       113. 홍대입구역 2번출구 앞 2016-01-01       10\n",
       "20         마포구       114. 홍대입구역 8번출구 앞 2016-01-01        3\n",
       "21         마포구        118. 광흥창역 2번출구 앞 2016-01-01       10\n",
       "22         마포구            119. 서강나루 공원 2016-01-01        1\n",
       "23         마포구            120. 신수동 사거리 2016-01-01        6\n",
       "24         마포구            121. 마포소방서 앞 2016-01-01        2\n",
       "25         마포구           122. 신성기사식당 앞 2016-01-01       10\n",
       "26         마포구         124. 서강대 정문 건너편 2016-01-01        9\n",
       "27         마포구           125. 서강대 남문 옆 2016-01-01        2\n",
       "28         마포구           126. 서강대 후문 옆 2016-01-01        3\n",
       "29         마포구    129. 신촌역(2호선) 6번출구 옆 2016-01-01        5\n",
       "...        ...                     ...        ...      ...\n",
       "345245     중랑구          1405. 망우역 1번출구 2017-12-31        2\n",
       "345246     중랑구          1406. 망우청소년수련관 2017-12-31        0\n",
       "345247     중랑구        1407. 먹골역 1번출구 뒤 2017-12-31        6\n",
       "345248     중랑구        1408. 먹골역 6번출구 앞 2017-12-31        2\n",
       "345249     중랑구       1410. 면목 대원칸타빌아파트 2017-12-31        2\n",
       "345250     중랑구  1411. 상봉시장앞 교차로 한성빌딩 앞 2017-12-31        2\n",
       "345251     중랑구            1412. 면목초등학교 2017-12-31        4\n",
       "345252     중랑구       1413. 봉화산역 5번출구 뒤 2017-12-31        2\n",
       "345253     중랑구         1414. 사가정역 1번출구 2017-12-31        3\n",
       "345254     중랑구          1416. 상봉역 3번출구 2017-12-31        2\n",
       "345255     중랑구            1418. 새솔초등학교 2017-12-31        1\n",
       "345256     중랑구          1420. 신내어울공원 앞 2017-12-31        0\n",
       "345257     중랑구    1426. 면목도시개발아파트 1동 앞 2017-12-31        2\n",
       "345258     중랑구            1428. 원묵고등학교 2017-12-31        1\n",
       "345259     중랑구             1429. 장안중학교 2017-12-31        0\n",
       "345260     중랑구              1430. 중랑구청 2017-12-31        2\n",
       "345261     중랑구          1431. 중랑구청 사거리 2017-12-31        0\n",
       "345262     중랑구          1433. 중화역 2번출구 2017-12-31        1\n",
       "345263     중랑구         1434. 홈플러스 면목동점 2017-12-31        3\n",
       "345264     중랑구             1435. 능산삼거리 2017-12-31        1\n",
       "345265     중랑구            1436. 영풍마드레빌 2017-12-31        3\n",
       "345266     중랑구           1437. 늘푸른공원 앞 2017-12-31        0\n",
       "345267     중랑구        1438. 홈플러스 신내점 앞 2017-12-31        3\n",
       "345268     중랑구         1440. 하나은행 면목지점 2017-12-31        1\n",
       "345269     중랑구            1441. 신내능말공원 2017-12-31        2\n",
       "345270     중랑구     1442. (구)신한은행 중랑교지점 2017-12-31        3\n",
       "345271     중랑구             1445. 용마지구대 2017-12-31        1\n",
       "345272     중랑구         1446. 중랑전화국 교차로 2017-12-31        3\n",
       "345273     중랑구          1447. 면목역 3번출구 2017-12-31        1\n",
       "345274     중랑구          1448. 코스트코 상봉점 2017-12-31       10\n",
       "\n",
       "[345275 rows x 4 columns]"
      ]
     },
     "execution_count": 26,
     "metadata": {},
     "output_type": "execute_result"
    }
   ],
   "source": [
    "print(rent_tot.shape)\n",
    "rent_tot"
   ]
  },
  {
   "cell_type": "markdown",
   "metadata": {},
   "source": [
    "### oo없음 -> NA\n",
    "단, NAN으로 나타난 것은 float, 나머지는 str임에 유의"
   ]
  },
  {
   "cell_type": "code",
   "execution_count": 33,
   "metadata": {},
   "outputs": [
    {
     "name": "stdout",
     "output_type": "stream",
     "text": [
      "그룹명 없음\n"
     ]
    },
    {
     "data": {
      "text/plain": [
       "True"
      ]
     },
     "execution_count": 33,
     "metadata": {},
     "output_type": "execute_result"
    }
   ],
   "source": [
    "print(rent_tot.area[0])\n",
    "'없음' in rent_tot.area[0]"
   ]
  },
  {
   "cell_type": "code",
   "execution_count": 34,
   "metadata": {
    "collapsed": true
   },
   "outputs": [],
   "source": [
    "naFind= lambda x: '없음' in x"
   ]
  },
  {
   "cell_type": "code",
   "execution_count": 35,
   "metadata": {},
   "outputs": [
    {
     "data": {
      "text/plain": [
       "True"
      ]
     },
     "execution_count": 35,
     "metadata": {},
     "output_type": "execute_result"
    }
   ],
   "source": [
    "naFind(rent_tot.area[0])"
   ]
  },
  {
   "cell_type": "code",
   "execution_count": 37,
   "metadata": {
    "scrolled": true
   },
   "outputs": [
    {
     "data": {
      "text/plain": [
       "0          True\n",
       "1         False\n",
       "2         False\n",
       "3         False\n",
       "4         False\n",
       "5         False\n",
       "6         False\n",
       "7         False\n",
       "8         False\n",
       "9         False\n",
       "10        False\n",
       "11        False\n",
       "12        False\n",
       "13        False\n",
       "14        False\n",
       "15        False\n",
       "16        False\n",
       "17        False\n",
       "18        False\n",
       "19        False\n",
       "20        False\n",
       "21        False\n",
       "22        False\n",
       "23        False\n",
       "24        False\n",
       "25        False\n",
       "26        False\n",
       "27        False\n",
       "28        False\n",
       "29        False\n",
       "          ...  \n",
       "345245    False\n",
       "345246    False\n",
       "345247    False\n",
       "345248    False\n",
       "345249    False\n",
       "345250    False\n",
       "345251    False\n",
       "345252    False\n",
       "345253    False\n",
       "345254    False\n",
       "345255    False\n",
       "345256    False\n",
       "345257    False\n",
       "345258    False\n",
       "345259    False\n",
       "345260    False\n",
       "345261    False\n",
       "345262    False\n",
       "345263    False\n",
       "345264    False\n",
       "345265    False\n",
       "345266    False\n",
       "345267    False\n",
       "345268    False\n",
       "345269    False\n",
       "345270    False\n",
       "345271    False\n",
       "345272    False\n",
       "345273    False\n",
       "345274    False\n",
       "Name: area, Length: 345275, dtype: bool"
      ]
     },
     "execution_count": 37,
     "metadata": {},
     "output_type": "execute_result"
    }
   ],
   "source": [
    "rent_tot.area.map(naFind)"
   ]
  },
  {
   "cell_type": "code",
   "execution_count": 38,
   "metadata": {},
   "outputs": [
    {
     "data": {
      "text/plain": [
       "1384"
      ]
     },
     "execution_count": 38,
     "metadata": {},
     "output_type": "execute_result"
    }
   ],
   "source": [
    "sum(rent_tot.area.map(naFind))"
   ]
  },
  {
   "cell_type": "code",
   "execution_count": 39,
   "metadata": {
    "collapsed": true
   },
   "outputs": [],
   "source": [
    "import numpy as np"
   ]
  },
  {
   "cell_type": "code",
   "execution_count": 43,
   "metadata": {},
   "outputs": [
    {
     "data": {
      "text/plain": [
       "nan"
      ]
     },
     "execution_count": 43,
     "metadata": {},
     "output_type": "execute_result"
    }
   ],
   "source": [
    "np.nan"
   ]
  },
  {
   "cell_type": "code",
   "execution_count": 47,
   "metadata": {
    "scrolled": false
   },
   "outputs": [
    {
     "name": "stderr",
     "output_type": "stream",
     "text": [
      "C:\\Users\\kitcoop\\Anaconda3\\lib\\site-packages\\ipykernel_launcher.py:1: SettingWithCopyWarning: \n",
      "A value is trying to be set on a copy of a slice from a DataFrame\n",
      "\n",
      "See the caveats in the documentation: http://pandas.pydata.org/pandas-docs/stable/indexing.html#indexing-view-versus-copy\n",
      "  \"\"\"Entry point for launching an IPython kernel.\n"
     ]
    }
   ],
   "source": [
    "rent_tot.area[rent_tot.area.map(naFind)]= np.nan"
   ]
  },
  {
   "cell_type": "code",
   "execution_count": 49,
   "metadata": {
    "scrolled": false
   },
   "outputs": [
    {
     "name": "stderr",
     "output_type": "stream",
     "text": [
      "C:\\Users\\kitcoop\\Anaconda3\\lib\\site-packages\\ipykernel_launcher.py:1: SettingWithCopyWarning: \n",
      "A value is trying to be set on a copy of a slice from a DataFrame\n",
      "\n",
      "See the caveats in the documentation: http://pandas.pydata.org/pandas-docs/stable/indexing.html#indexing-view-versus-copy\n",
      "  \"\"\"Entry point for launching an IPython kernel.\n"
     ]
    }
   ],
   "source": [
    "rent_tot.location[rent_tot.location.map(naFind)]= np.nan"
   ]
  },
  {
   "cell_type": "code",
   "execution_count": 50,
   "metadata": {
    "scrolled": true
   },
   "outputs": [
    {
     "data": {
      "text/html": [
       "<div>\n",
       "<style>\n",
       "    .dataframe thead tr:only-child th {\n",
       "        text-align: right;\n",
       "    }\n",
       "\n",
       "    .dataframe thead th {\n",
       "        text-align: left;\n",
       "    }\n",
       "\n",
       "    .dataframe tbody tr th {\n",
       "        vertical-align: top;\n",
       "    }\n",
       "</style>\n",
       "<table border=\"1\" class=\"dataframe\">\n",
       "  <thead>\n",
       "    <tr style=\"text-align: right;\">\n",
       "      <th></th>\n",
       "      <th>area</th>\n",
       "      <th>location</th>\n",
       "      <th>rentdate</th>\n",
       "      <th>rentcnt</th>\n",
       "    </tr>\n",
       "  </thead>\n",
       "  <tbody>\n",
       "    <tr>\n",
       "      <th>0</th>\n",
       "      <td>NaN</td>\n",
       "      <td>NaN</td>\n",
       "      <td>2016-01-01</td>\n",
       "      <td>0</td>\n",
       "    </tr>\n",
       "    <tr>\n",
       "      <th>1</th>\n",
       "      <td>광진구</td>\n",
       "      <td>500. 어린이대공원역 3번출구 앞</td>\n",
       "      <td>2016-01-01</td>\n",
       "      <td>7</td>\n",
       "    </tr>\n",
       "    <tr>\n",
       "      <th>2</th>\n",
       "      <td>광진구</td>\n",
       "      <td>501. 광진구의회 앞</td>\n",
       "      <td>2016-01-01</td>\n",
       "      <td>0</td>\n",
       "    </tr>\n",
       "    <tr>\n",
       "      <th>3</th>\n",
       "      <td>광진구</td>\n",
       "      <td>502. 뚝섬유원지역 1번출구 앞</td>\n",
       "      <td>2016-01-01</td>\n",
       "      <td>9</td>\n",
       "    </tr>\n",
       "    <tr>\n",
       "      <th>4</th>\n",
       "      <td>광진구</td>\n",
       "      <td>503. 더샵스타시티 C동 앞</td>\n",
       "      <td>2016-01-01</td>\n",
       "      <td>8</td>\n",
       "    </tr>\n",
       "    <tr>\n",
       "      <th>5</th>\n",
       "      <td>광진구</td>\n",
       "      <td>504. 신자초교입구교차로</td>\n",
       "      <td>2016-01-01</td>\n",
       "      <td>1</td>\n",
       "    </tr>\n",
       "    <tr>\n",
       "      <th>6</th>\n",
       "      <td>광진구</td>\n",
       "      <td>505. 자양사거리 광진아크로텔 앞</td>\n",
       "      <td>2016-01-01</td>\n",
       "      <td>4</td>\n",
       "    </tr>\n",
       "    <tr>\n",
       "      <th>7</th>\n",
       "      <td>광진구</td>\n",
       "      <td>515. 광양중학교 앞</td>\n",
       "      <td>2016-01-01</td>\n",
       "      <td>2</td>\n",
       "    </tr>\n",
       "    <tr>\n",
       "      <th>8</th>\n",
       "      <td>광진구</td>\n",
       "      <td>516. 광진메디칼 앞</td>\n",
       "      <td>2016-01-01</td>\n",
       "      <td>2</td>\n",
       "    </tr>\n",
       "    <tr>\n",
       "      <th>9</th>\n",
       "      <td>마포구</td>\n",
       "      <td>101. (구)합정동 주민센터</td>\n",
       "      <td>2016-01-01</td>\n",
       "      <td>3</td>\n",
       "    </tr>\n",
       "    <tr>\n",
       "      <th>10</th>\n",
       "      <td>마포구</td>\n",
       "      <td>102. 망원역 1번출구 앞</td>\n",
       "      <td>2016-01-01</td>\n",
       "      <td>13</td>\n",
       "    </tr>\n",
       "    <tr>\n",
       "      <th>11</th>\n",
       "      <td>마포구</td>\n",
       "      <td>103. 망원역 2번출구 앞</td>\n",
       "      <td>2016-01-01</td>\n",
       "      <td>2</td>\n",
       "    </tr>\n",
       "    <tr>\n",
       "      <th>12</th>\n",
       "      <td>마포구</td>\n",
       "      <td>104. 합정역 1번출구 앞</td>\n",
       "      <td>2016-01-01</td>\n",
       "      <td>3</td>\n",
       "    </tr>\n",
       "    <tr>\n",
       "      <th>13</th>\n",
       "      <td>마포구</td>\n",
       "      <td>105. 합정역 5번출구 앞</td>\n",
       "      <td>2016-01-01</td>\n",
       "      <td>4</td>\n",
       "    </tr>\n",
       "    <tr>\n",
       "      <th>14</th>\n",
       "      <td>마포구</td>\n",
       "      <td>106. 합정역 7번출구 앞</td>\n",
       "      <td>2016-01-01</td>\n",
       "      <td>6</td>\n",
       "    </tr>\n",
       "    <tr>\n",
       "      <th>15</th>\n",
       "      <td>마포구</td>\n",
       "      <td>107. 신한은행 서교동금융센터점 앞</td>\n",
       "      <td>2016-01-01</td>\n",
       "      <td>2</td>\n",
       "    </tr>\n",
       "    <tr>\n",
       "      <th>16</th>\n",
       "      <td>마포구</td>\n",
       "      <td>108. 서교동 사거리</td>\n",
       "      <td>2016-01-01</td>\n",
       "      <td>7</td>\n",
       "    </tr>\n",
       "    <tr>\n",
       "      <th>17</th>\n",
       "      <td>마포구</td>\n",
       "      <td>111. 상수역 2번출구 앞</td>\n",
       "      <td>2016-01-01</td>\n",
       "      <td>8</td>\n",
       "    </tr>\n",
       "    <tr>\n",
       "      <th>18</th>\n",
       "      <td>마포구</td>\n",
       "      <td>112. 극동방송국 앞</td>\n",
       "      <td>2016-01-01</td>\n",
       "      <td>4</td>\n",
       "    </tr>\n",
       "    <tr>\n",
       "      <th>19</th>\n",
       "      <td>마포구</td>\n",
       "      <td>113. 홍대입구역 2번출구 앞</td>\n",
       "      <td>2016-01-01</td>\n",
       "      <td>10</td>\n",
       "    </tr>\n",
       "    <tr>\n",
       "      <th>20</th>\n",
       "      <td>마포구</td>\n",
       "      <td>114. 홍대입구역 8번출구 앞</td>\n",
       "      <td>2016-01-01</td>\n",
       "      <td>3</td>\n",
       "    </tr>\n",
       "    <tr>\n",
       "      <th>21</th>\n",
       "      <td>마포구</td>\n",
       "      <td>118. 광흥창역 2번출구 앞</td>\n",
       "      <td>2016-01-01</td>\n",
       "      <td>10</td>\n",
       "    </tr>\n",
       "    <tr>\n",
       "      <th>22</th>\n",
       "      <td>마포구</td>\n",
       "      <td>119. 서강나루 공원</td>\n",
       "      <td>2016-01-01</td>\n",
       "      <td>1</td>\n",
       "    </tr>\n",
       "    <tr>\n",
       "      <th>23</th>\n",
       "      <td>마포구</td>\n",
       "      <td>120. 신수동 사거리</td>\n",
       "      <td>2016-01-01</td>\n",
       "      <td>6</td>\n",
       "    </tr>\n",
       "    <tr>\n",
       "      <th>24</th>\n",
       "      <td>마포구</td>\n",
       "      <td>121. 마포소방서 앞</td>\n",
       "      <td>2016-01-01</td>\n",
       "      <td>2</td>\n",
       "    </tr>\n",
       "    <tr>\n",
       "      <th>25</th>\n",
       "      <td>마포구</td>\n",
       "      <td>122. 신성기사식당 앞</td>\n",
       "      <td>2016-01-01</td>\n",
       "      <td>10</td>\n",
       "    </tr>\n",
       "    <tr>\n",
       "      <th>26</th>\n",
       "      <td>마포구</td>\n",
       "      <td>124. 서강대 정문 건너편</td>\n",
       "      <td>2016-01-01</td>\n",
       "      <td>9</td>\n",
       "    </tr>\n",
       "    <tr>\n",
       "      <th>27</th>\n",
       "      <td>마포구</td>\n",
       "      <td>125. 서강대 남문 옆</td>\n",
       "      <td>2016-01-01</td>\n",
       "      <td>2</td>\n",
       "    </tr>\n",
       "    <tr>\n",
       "      <th>28</th>\n",
       "      <td>마포구</td>\n",
       "      <td>126. 서강대 후문 옆</td>\n",
       "      <td>2016-01-01</td>\n",
       "      <td>3</td>\n",
       "    </tr>\n",
       "    <tr>\n",
       "      <th>29</th>\n",
       "      <td>마포구</td>\n",
       "      <td>129. 신촌역(2호선) 6번출구 옆</td>\n",
       "      <td>2016-01-01</td>\n",
       "      <td>5</td>\n",
       "    </tr>\n",
       "    <tr>\n",
       "      <th>...</th>\n",
       "      <td>...</td>\n",
       "      <td>...</td>\n",
       "      <td>...</td>\n",
       "      <td>...</td>\n",
       "    </tr>\n",
       "    <tr>\n",
       "      <th>345245</th>\n",
       "      <td>중랑구</td>\n",
       "      <td>1405. 망우역 1번출구</td>\n",
       "      <td>2017-12-31</td>\n",
       "      <td>2</td>\n",
       "    </tr>\n",
       "    <tr>\n",
       "      <th>345246</th>\n",
       "      <td>중랑구</td>\n",
       "      <td>1406. 망우청소년수련관</td>\n",
       "      <td>2017-12-31</td>\n",
       "      <td>0</td>\n",
       "    </tr>\n",
       "    <tr>\n",
       "      <th>345247</th>\n",
       "      <td>중랑구</td>\n",
       "      <td>1407. 먹골역 1번출구 뒤</td>\n",
       "      <td>2017-12-31</td>\n",
       "      <td>6</td>\n",
       "    </tr>\n",
       "    <tr>\n",
       "      <th>345248</th>\n",
       "      <td>중랑구</td>\n",
       "      <td>1408. 먹골역 6번출구 앞</td>\n",
       "      <td>2017-12-31</td>\n",
       "      <td>2</td>\n",
       "    </tr>\n",
       "    <tr>\n",
       "      <th>345249</th>\n",
       "      <td>중랑구</td>\n",
       "      <td>1410. 면목 대원칸타빌아파트</td>\n",
       "      <td>2017-12-31</td>\n",
       "      <td>2</td>\n",
       "    </tr>\n",
       "    <tr>\n",
       "      <th>345250</th>\n",
       "      <td>중랑구</td>\n",
       "      <td>1411. 상봉시장앞 교차로 한성빌딩 앞</td>\n",
       "      <td>2017-12-31</td>\n",
       "      <td>2</td>\n",
       "    </tr>\n",
       "    <tr>\n",
       "      <th>345251</th>\n",
       "      <td>중랑구</td>\n",
       "      <td>1412. 면목초등학교</td>\n",
       "      <td>2017-12-31</td>\n",
       "      <td>4</td>\n",
       "    </tr>\n",
       "    <tr>\n",
       "      <th>345252</th>\n",
       "      <td>중랑구</td>\n",
       "      <td>1413. 봉화산역 5번출구 뒤</td>\n",
       "      <td>2017-12-31</td>\n",
       "      <td>2</td>\n",
       "    </tr>\n",
       "    <tr>\n",
       "      <th>345253</th>\n",
       "      <td>중랑구</td>\n",
       "      <td>1414. 사가정역 1번출구</td>\n",
       "      <td>2017-12-31</td>\n",
       "      <td>3</td>\n",
       "    </tr>\n",
       "    <tr>\n",
       "      <th>345254</th>\n",
       "      <td>중랑구</td>\n",
       "      <td>1416. 상봉역 3번출구</td>\n",
       "      <td>2017-12-31</td>\n",
       "      <td>2</td>\n",
       "    </tr>\n",
       "    <tr>\n",
       "      <th>345255</th>\n",
       "      <td>중랑구</td>\n",
       "      <td>1418. 새솔초등학교</td>\n",
       "      <td>2017-12-31</td>\n",
       "      <td>1</td>\n",
       "    </tr>\n",
       "    <tr>\n",
       "      <th>345256</th>\n",
       "      <td>중랑구</td>\n",
       "      <td>1420. 신내어울공원 앞</td>\n",
       "      <td>2017-12-31</td>\n",
       "      <td>0</td>\n",
       "    </tr>\n",
       "    <tr>\n",
       "      <th>345257</th>\n",
       "      <td>중랑구</td>\n",
       "      <td>1426. 면목도시개발아파트 1동 앞</td>\n",
       "      <td>2017-12-31</td>\n",
       "      <td>2</td>\n",
       "    </tr>\n",
       "    <tr>\n",
       "      <th>345258</th>\n",
       "      <td>중랑구</td>\n",
       "      <td>1428. 원묵고등학교</td>\n",
       "      <td>2017-12-31</td>\n",
       "      <td>1</td>\n",
       "    </tr>\n",
       "    <tr>\n",
       "      <th>345259</th>\n",
       "      <td>중랑구</td>\n",
       "      <td>1429. 장안중학교</td>\n",
       "      <td>2017-12-31</td>\n",
       "      <td>0</td>\n",
       "    </tr>\n",
       "    <tr>\n",
       "      <th>345260</th>\n",
       "      <td>중랑구</td>\n",
       "      <td>1430. 중랑구청</td>\n",
       "      <td>2017-12-31</td>\n",
       "      <td>2</td>\n",
       "    </tr>\n",
       "    <tr>\n",
       "      <th>345261</th>\n",
       "      <td>중랑구</td>\n",
       "      <td>1431. 중랑구청 사거리</td>\n",
       "      <td>2017-12-31</td>\n",
       "      <td>0</td>\n",
       "    </tr>\n",
       "    <tr>\n",
       "      <th>345262</th>\n",
       "      <td>중랑구</td>\n",
       "      <td>1433. 중화역 2번출구</td>\n",
       "      <td>2017-12-31</td>\n",
       "      <td>1</td>\n",
       "    </tr>\n",
       "    <tr>\n",
       "      <th>345263</th>\n",
       "      <td>중랑구</td>\n",
       "      <td>1434. 홈플러스 면목동점</td>\n",
       "      <td>2017-12-31</td>\n",
       "      <td>3</td>\n",
       "    </tr>\n",
       "    <tr>\n",
       "      <th>345264</th>\n",
       "      <td>중랑구</td>\n",
       "      <td>1435. 능산삼거리</td>\n",
       "      <td>2017-12-31</td>\n",
       "      <td>1</td>\n",
       "    </tr>\n",
       "    <tr>\n",
       "      <th>345265</th>\n",
       "      <td>중랑구</td>\n",
       "      <td>1436. 영풍마드레빌</td>\n",
       "      <td>2017-12-31</td>\n",
       "      <td>3</td>\n",
       "    </tr>\n",
       "    <tr>\n",
       "      <th>345266</th>\n",
       "      <td>중랑구</td>\n",
       "      <td>1437. 늘푸른공원 앞</td>\n",
       "      <td>2017-12-31</td>\n",
       "      <td>0</td>\n",
       "    </tr>\n",
       "    <tr>\n",
       "      <th>345267</th>\n",
       "      <td>중랑구</td>\n",
       "      <td>1438. 홈플러스 신내점 앞</td>\n",
       "      <td>2017-12-31</td>\n",
       "      <td>3</td>\n",
       "    </tr>\n",
       "    <tr>\n",
       "      <th>345268</th>\n",
       "      <td>중랑구</td>\n",
       "      <td>1440. 하나은행 면목지점</td>\n",
       "      <td>2017-12-31</td>\n",
       "      <td>1</td>\n",
       "    </tr>\n",
       "    <tr>\n",
       "      <th>345269</th>\n",
       "      <td>중랑구</td>\n",
       "      <td>1441. 신내능말공원</td>\n",
       "      <td>2017-12-31</td>\n",
       "      <td>2</td>\n",
       "    </tr>\n",
       "    <tr>\n",
       "      <th>345270</th>\n",
       "      <td>중랑구</td>\n",
       "      <td>1442. (구)신한은행 중랑교지점</td>\n",
       "      <td>2017-12-31</td>\n",
       "      <td>3</td>\n",
       "    </tr>\n",
       "    <tr>\n",
       "      <th>345271</th>\n",
       "      <td>중랑구</td>\n",
       "      <td>1445. 용마지구대</td>\n",
       "      <td>2017-12-31</td>\n",
       "      <td>1</td>\n",
       "    </tr>\n",
       "    <tr>\n",
       "      <th>345272</th>\n",
       "      <td>중랑구</td>\n",
       "      <td>1446. 중랑전화국 교차로</td>\n",
       "      <td>2017-12-31</td>\n",
       "      <td>3</td>\n",
       "    </tr>\n",
       "    <tr>\n",
       "      <th>345273</th>\n",
       "      <td>중랑구</td>\n",
       "      <td>1447. 면목역 3번출구</td>\n",
       "      <td>2017-12-31</td>\n",
       "      <td>1</td>\n",
       "    </tr>\n",
       "    <tr>\n",
       "      <th>345274</th>\n",
       "      <td>중랑구</td>\n",
       "      <td>1448. 코스트코 상봉점</td>\n",
       "      <td>2017-12-31</td>\n",
       "      <td>10</td>\n",
       "    </tr>\n",
       "  </tbody>\n",
       "</table>\n",
       "<p>345275 rows × 4 columns</p>\n",
       "</div>"
      ],
      "text/plain": [
       "       area                location   rentdate  rentcnt\n",
       "0       NaN                     NaN 2016-01-01        0\n",
       "1       광진구     500. 어린이대공원역 3번출구 앞 2016-01-01        7\n",
       "2       광진구            501. 광진구의회 앞 2016-01-01        0\n",
       "3       광진구      502. 뚝섬유원지역 1번출구 앞 2016-01-01        9\n",
       "4       광진구        503. 더샵스타시티 C동 앞 2016-01-01        8\n",
       "5       광진구          504. 신자초교입구교차로 2016-01-01        1\n",
       "6       광진구     505. 자양사거리 광진아크로텔 앞 2016-01-01        4\n",
       "7       광진구            515. 광양중학교 앞 2016-01-01        2\n",
       "8       광진구            516. 광진메디칼 앞 2016-01-01        2\n",
       "9       마포구        101. (구)합정동 주민센터 2016-01-01        3\n",
       "10      마포구         102. 망원역 1번출구 앞 2016-01-01       13\n",
       "11      마포구         103. 망원역 2번출구 앞 2016-01-01        2\n",
       "12      마포구         104. 합정역 1번출구 앞 2016-01-01        3\n",
       "13      마포구         105. 합정역 5번출구 앞 2016-01-01        4\n",
       "14      마포구         106. 합정역 7번출구 앞 2016-01-01        6\n",
       "15      마포구    107. 신한은행 서교동금융센터점 앞 2016-01-01        2\n",
       "16      마포구            108. 서교동 사거리 2016-01-01        7\n",
       "17      마포구         111. 상수역 2번출구 앞 2016-01-01        8\n",
       "18      마포구            112. 극동방송국 앞 2016-01-01        4\n",
       "19      마포구       113. 홍대입구역 2번출구 앞 2016-01-01       10\n",
       "20      마포구       114. 홍대입구역 8번출구 앞 2016-01-01        3\n",
       "21      마포구        118. 광흥창역 2번출구 앞 2016-01-01       10\n",
       "22      마포구            119. 서강나루 공원 2016-01-01        1\n",
       "23      마포구            120. 신수동 사거리 2016-01-01        6\n",
       "24      마포구            121. 마포소방서 앞 2016-01-01        2\n",
       "25      마포구           122. 신성기사식당 앞 2016-01-01       10\n",
       "26      마포구         124. 서강대 정문 건너편 2016-01-01        9\n",
       "27      마포구           125. 서강대 남문 옆 2016-01-01        2\n",
       "28      마포구           126. 서강대 후문 옆 2016-01-01        3\n",
       "29      마포구    129. 신촌역(2호선) 6번출구 옆 2016-01-01        5\n",
       "...     ...                     ...        ...      ...\n",
       "345245  중랑구          1405. 망우역 1번출구 2017-12-31        2\n",
       "345246  중랑구          1406. 망우청소년수련관 2017-12-31        0\n",
       "345247  중랑구        1407. 먹골역 1번출구 뒤 2017-12-31        6\n",
       "345248  중랑구        1408. 먹골역 6번출구 앞 2017-12-31        2\n",
       "345249  중랑구       1410. 면목 대원칸타빌아파트 2017-12-31        2\n",
       "345250  중랑구  1411. 상봉시장앞 교차로 한성빌딩 앞 2017-12-31        2\n",
       "345251  중랑구            1412. 면목초등학교 2017-12-31        4\n",
       "345252  중랑구       1413. 봉화산역 5번출구 뒤 2017-12-31        2\n",
       "345253  중랑구         1414. 사가정역 1번출구 2017-12-31        3\n",
       "345254  중랑구          1416. 상봉역 3번출구 2017-12-31        2\n",
       "345255  중랑구            1418. 새솔초등학교 2017-12-31        1\n",
       "345256  중랑구          1420. 신내어울공원 앞 2017-12-31        0\n",
       "345257  중랑구    1426. 면목도시개발아파트 1동 앞 2017-12-31        2\n",
       "345258  중랑구            1428. 원묵고등학교 2017-12-31        1\n",
       "345259  중랑구             1429. 장안중학교 2017-12-31        0\n",
       "345260  중랑구              1430. 중랑구청 2017-12-31        2\n",
       "345261  중랑구          1431. 중랑구청 사거리 2017-12-31        0\n",
       "345262  중랑구          1433. 중화역 2번출구 2017-12-31        1\n",
       "345263  중랑구         1434. 홈플러스 면목동점 2017-12-31        3\n",
       "345264  중랑구             1435. 능산삼거리 2017-12-31        1\n",
       "345265  중랑구            1436. 영풍마드레빌 2017-12-31        3\n",
       "345266  중랑구           1437. 늘푸른공원 앞 2017-12-31        0\n",
       "345267  중랑구        1438. 홈플러스 신내점 앞 2017-12-31        3\n",
       "345268  중랑구         1440. 하나은행 면목지점 2017-12-31        1\n",
       "345269  중랑구            1441. 신내능말공원 2017-12-31        2\n",
       "345270  중랑구     1442. (구)신한은행 중랑교지점 2017-12-31        3\n",
       "345271  중랑구             1445. 용마지구대 2017-12-31        1\n",
       "345272  중랑구         1446. 중랑전화국 교차로 2017-12-31        3\n",
       "345273  중랑구          1447. 면목역 3번출구 2017-12-31        1\n",
       "345274  중랑구          1448. 코스트코 상봉점 2017-12-31       10\n",
       "\n",
       "[345275 rows x 4 columns]"
      ]
     },
     "execution_count": 50,
     "metadata": {},
     "output_type": "execute_result"
    }
   ],
   "source": [
    "rent_tot"
   ]
  },
  {
   "cell_type": "code",
   "execution_count": 62,
   "metadata": {
    "scrolled": true
   },
   "outputs": [
    {
     "data": {
      "text/plain": [
       "float"
      ]
     },
     "execution_count": 62,
     "metadata": {},
     "output_type": "execute_result"
    }
   ],
   "source": [
    "type(rent_tot.area[0])"
   ]
  },
  {
   "cell_type": "code",
   "execution_count": 58,
   "metadata": {
    "collapsed": true
   },
   "outputs": [],
   "source": [
    "# import math\n",
    "# math.isnan?\n",
    "# rent_tot.area.map(math.isnan)"
   ]
  },
  {
   "cell_type": "code",
   "execution_count": 67,
   "metadata": {
    "scrolled": false
   },
   "outputs": [
    {
     "data": {
      "text/plain": [
       "0"
      ]
     },
     "execution_count": 67,
     "metadata": {},
     "output_type": "execute_result"
    }
   ],
   "source": [
    "sum(pd.isnull(rent_tot.rentdate))"
   ]
  },
  {
   "cell_type": "code",
   "execution_count": 68,
   "metadata": {
    "scrolled": true
   },
   "outputs": [
    {
     "data": {
      "text/plain": [
       "0"
      ]
     },
     "execution_count": 68,
     "metadata": {},
     "output_type": "execute_result"
    }
   ],
   "source": [
    "sum(pd.isnull(rent_tot.rentcnt))"
   ]
  },
  {
   "cell_type": "markdown",
   "metadata": {},
   "source": [
    "#### oo없음 -> NAN float 바꾼거 파일 저장"
   ]
  },
  {
   "cell_type": "code",
   "execution_count": 70,
   "metadata": {
    "collapsed": true
   },
   "outputs": [],
   "source": [
    "writer= pd.ExcelWriter('data_join/bicycleRental_tot_NANfloat.xlsx')\n",
    "rent_tot.to_excel(writer, sheet_name='rent1617', index= False)\n",
    "writer.save()"
   ]
  },
  {
   "cell_type": "markdown",
   "metadata": {
    "collapsed": true
   },
   "source": [
    "## ㅇㅇ구끼리 파일합치기 -ing\n",
    "1. htm 파일 읽기"
   ]
  },
  {
   "cell_type": "markdown",
   "metadata": {},
   "source": [
    "## html parser\n",
    "local html file beautifulsoup\n",
    "- https://stackoverflow.com/questions/21570780/using-python-and-beautifulsoup-saved-webpage-source-codes-into-a-local-file"
   ]
  },
  {
   "cell_type": "code",
   "execution_count": 12,
   "metadata": {
    "collapsed": true
   },
   "outputs": [],
   "source": [
    "# #error 원인: html에서 확장자만 xls로 바꾼 파일이라 읽지 못한 것\n",
    "# xls_file= pd.ExcelFile(filePath)"
   ]
  },
  {
   "cell_type": "code",
   "execution_count": 27,
   "metadata": {
    "collapsed": true,
    "scrolled": true
   },
   "outputs": [],
   "source": [
    "# # 읽히긴 하는데 개판. DF로 바꿀 여지도 없음\n",
    "# wea1= pd.read_html(filePath)"
   ]
  },
  {
   "cell_type": "code",
   "execution_count": 2,
   "metadata": {
    "collapsed": true
   },
   "outputs": [],
   "source": [
    "import pandas as pd\n",
    "from bs4 import BeautifulSoup"
   ]
  },
  {
   "cell_type": "code",
   "execution_count": 3,
   "metadata": {},
   "outputs": [
    {
     "data": {
      "text/plain": [
       "'data/weather/gwangjingu/gwangjin201601.htm'"
      ]
     },
     "execution_count": 3,
     "metadata": {},
     "output_type": "execute_result"
    }
   ],
   "source": [
    "guu='gwangjin'\n",
    "fyear= '2016'\n",
    "fmon= '01'\n",
    "filePath= 'data/weather/'+guu+'gu/'+guu+fyear+fmon+'.htm'\n",
    "filePath\n",
    "# file:///E:/github/proj_sponge_bicycle/"
   ]
  },
  {
   "cell_type": "code",
   "execution_count": 4,
   "metadata": {
    "collapsed": true
   },
   "outputs": [],
   "source": [
    "wea1= pd.read_html(filePath)"
   ]
  },
  {
   "cell_type": "code",
   "execution_count": 5,
   "metadata": {
    "scrolled": true
   },
   "outputs": [
    {
     "data": {
      "text/plain": [
       "list"
      ]
     },
     "execution_count": 5,
     "metadata": {},
     "output_type": "execute_result"
    }
   ],
   "source": [
    "type(wea1)"
   ]
  },
  {
   "cell_type": "code",
   "execution_count": 78,
   "metadata": {},
   "outputs": [],
   "source": [
    "soup= BeautifulSoup(open(filePath), 'html.parser')"
   ]
  },
  {
   "cell_type": "code",
   "execution_count": 79,
   "metadata": {
    "collapsed": true
   },
   "outputs": [],
   "source": [
    "# for weth1 in soup.find_all('table', {'class':'Report'}):\n",
    "#     print(weth1)"
   ]
  },
  {
   "cell_type": "markdown",
   "metadata": {},
   "source": [
    "#### 테이블 구조"
   ]
  },
  {
   "cell_type": "code",
   "execution_count": 147,
   "metadata": {},
   "outputs": [
    {
     "data": {
      "image/png": "[encoded data removed]",
      "text/plain": [
       "<IPython.core.display.Image object>"
      ]
     },
     "execution_count": 147,
     "metadata": {},
     "output_type": "execute_result"
    }
   ],
   "source": [
    "from IPython.display import Image\n",
    "imgTable= Image(filename='img/table_struct.png')\n",
    "imgTable"
   ]
  },
  {
   "cell_type": "markdown",
   "metadata": {},
   "source": [
    "### 값을 따오자"
   ]
  },
  {
   "cell_type": "code",
   "execution_count": 80,
   "metadata": {
    "collapsed": true
   },
   "outputs": [],
   "source": [
    "table= soup.find_all('table')"
   ]
  },
  {
   "cell_type": "code",
   "execution_count": 81,
   "metadata": {},
   "outputs": [
    {
     "name": "stdout",
     "output_type": "stream",
     "text": [
      "<class 'bs4.BeautifulSoup'>\n"
     ]
    },
    {
     "data": {
      "text/plain": [
       "bs4.element.ResultSet"
      ]
     },
     "execution_count": 81,
     "metadata": {},
     "output_type": "execute_result"
    }
   ],
   "source": [
    "print(type(soup))\n",
    "type(table)"
   ]
  },
  {
   "cell_type": "code",
   "execution_count": 82,
   "metadata": {},
   "outputs": [
    {
     "data": {
      "text/plain": [
       "[<th class=\"RT0\" height=\"18px\" nowrap=\"\">구 분</th>,\n",
       " <th class=\"RT1\" height=\"41px\" nowrap=\"\">날 짜</th>]"
      ]
     },
     "execution_count": 82,
     "metadata": {},
     "output_type": "execute_result"
    }
   ],
   "source": [
    "#type: bs4.element.ResultSet\n",
    "table[1].find_all('th')"
   ]
  },
  {
   "cell_type": "markdown",
   "metadata": {},
   "source": [
    "###### 2번째 것만 선택\n",
    "bs4.element.Tag ㅇㅇ, bs4.element.ResultSet ㄴㄴ"
   ]
  },
  {
   "cell_type": "code",
   "execution_count": 201,
   "metadata": {},
   "outputs": [
    {
     "name": "stdout",
     "output_type": "stream",
     "text": [
      "<class 'bs4.element.Tag'>\n",
      "날 짜\n"
     ]
    },
    {
     "data": {
      "text/plain": [
       "<th class=\"RT1\" height=\"41px\" nowrap=\"\">날 짜</th>"
      ]
     },
     "execution_count": 201,
     "metadata": {},
     "output_type": "execute_result"
    }
   ],
   "source": [
    "print(type(table[1].find_all('th')[1]))\n",
    "print(table[1].find_all('th')[1].getText())\n",
    "table[1].find_all('th')[1]"
   ]
  },
  {
   "cell_type": "code",
   "execution_count": 203,
   "metadata": {},
   "outputs": [
    {
     "name": "stdout",
     "output_type": "stream",
     "text": [
      "<class 'bs4.element.ResultSet'>\n"
     ]
    },
    {
     "ename": "AttributeError",
     "evalue": "ResultSet object has no attribute 'getText'. You're probably treating a list of items like a single item. Did you call find_all() when you meant to call find()?",
     "output_type": "error",
     "traceback": [
      "\u001b[1;31m---------------------------------------------------------------------------\u001b[0m",
      "\u001b[1;31mAttributeError\u001b[0m                            Traceback (most recent call last)",
      "\u001b[1;32m<ipython-input-203-b8153cfbda97>\u001b[0m in \u001b[0;36m<module>\u001b[1;34m()\u001b[0m\n\u001b[0;32m      1\u001b[0m \u001b[0mprint\u001b[0m\u001b[1;33m(\u001b[0m\u001b[0mtype\u001b[0m\u001b[1;33m(\u001b[0m\u001b[0mtable\u001b[0m\u001b[1;33m[\u001b[0m\u001b[1;36m1\u001b[0m\u001b[1;33m]\u001b[0m\u001b[1;33m.\u001b[0m\u001b[0mfind_all\u001b[0m\u001b[1;33m(\u001b[0m\u001b[1;34m'th'\u001b[0m\u001b[1;33m,\u001b[0m\u001b[1;33m{\u001b[0m\u001b[1;34m'class'\u001b[0m\u001b[1;33m:\u001b[0m\u001b[1;34m'RT1'\u001b[0m\u001b[1;33m}\u001b[0m\u001b[1;33m)\u001b[0m\u001b[1;33m)\u001b[0m\u001b[1;33m)\u001b[0m\u001b[1;33m\u001b[0m\u001b[0m\n\u001b[1;32m----> 2\u001b[1;33m \u001b[0mtable\u001b[0m\u001b[1;33m[\u001b[0m\u001b[1;36m1\u001b[0m\u001b[1;33m]\u001b[0m\u001b[1;33m.\u001b[0m\u001b[0mfind_all\u001b[0m\u001b[1;33m(\u001b[0m\u001b[1;34m'th'\u001b[0m\u001b[1;33m,\u001b[0m\u001b[1;33m{\u001b[0m\u001b[1;34m'class'\u001b[0m\u001b[1;33m:\u001b[0m\u001b[1;34m'RT1'\u001b[0m\u001b[1;33m}\u001b[0m\u001b[1;33m)\u001b[0m\u001b[1;33m.\u001b[0m\u001b[0mgetText\u001b[0m\u001b[1;33m(\u001b[0m\u001b[1;33m)\u001b[0m\u001b[1;33m\u001b[0m\u001b[0m\n\u001b[0m",
      "\u001b[1;32m~\\Anaconda3\\lib\\site-packages\\bs4\\element.py\u001b[0m in \u001b[0;36m__getattr__\u001b[1;34m(self, key)\u001b[0m\n\u001b[0;32m   1805\u001b[0m     \u001b[1;32mdef\u001b[0m \u001b[0m__getattr__\u001b[0m\u001b[1;33m(\u001b[0m\u001b[0mself\u001b[0m\u001b[1;33m,\u001b[0m \u001b[0mkey\u001b[0m\u001b[1;33m)\u001b[0m\u001b[1;33m:\u001b[0m\u001b[1;33m\u001b[0m\u001b[0m\n\u001b[0;32m   1806\u001b[0m         raise AttributeError(\n\u001b[1;32m-> 1807\u001b[1;33m             \u001b[1;34m\"ResultSet object has no attribute '%s'. You're probably treating a list of items like a single item. Did you call find_all() when you meant to call find()?\"\u001b[0m \u001b[1;33m%\u001b[0m \u001b[0mkey\u001b[0m\u001b[1;33m\u001b[0m\u001b[0m\n\u001b[0m\u001b[0;32m   1808\u001b[0m         )\n",
      "\u001b[1;31mAttributeError\u001b[0m: ResultSet object has no attribute 'getText'. You're probably treating a list of items like a single item. Did you call find_all() when you meant to call find()?"
     ]
    }
   ],
   "source": [
    "print(type(table[1].find_all('th',{'class':'RT1'})))\n",
    "table[1].find_all('th',{'class':'RT1'}).getText()"
   ]
  },
  {
   "cell_type": "markdown",
   "metadata": {},
   "source": [
    "##### text 만 선택\n",
    "(bs4.element.Tag).getText()"
   ]
  },
  {
   "cell_type": "code",
   "execution_count": 110,
   "metadata": {},
   "outputs": [],
   "source": [
    "# bs4.element.Resultset 에는 getText() 안 붙음!\n",
    "# error! table[1].find_all('th',{'class':'RT1'}).getText()"
   ]
  },
  {
   "cell_type": "code",
   "execution_count": 336,
   "metadata": {},
   "outputs": [
    {
     "data": {
      "text/plain": [
       "'날짜'"
      ]
     },
     "execution_count": 336,
     "metadata": {},
     "output_type": "execute_result"
    }
   ],
   "source": [
    "newidxName= table[1].find_all('th')[1].getText().replace(' ','')\n",
    "newidxName"
   ]
  },
  {
   "cell_type": "code",
   "execution_count": 148,
   "metadata": {},
   "outputs": [
    {
     "data": {
      "image/png": "[encoded data removed]",
      "text/plain": [
       "<IPython.core.display.Image object>"
      ]
     },
     "execution_count": 148,
     "metadata": {},
     "output_type": "execute_result"
    }
   ],
   "source": [
    "imgTable"
   ]
  },
  {
   "cell_type": "markdown",
   "metadata": {},
   "source": [
    "### 칼럼 한 줄로 만들기\n",
    "평균, 최대, ..를 colspan 수만큼 늘려서 풍속, 풍향,..에 prefix\n",
    "##### 일사, 일조는 값이 없다. 나중에 table[4]도 끝 2줄 빼고\n",
    "단위는 버려"
   ]
  },
  {
   "cell_type": "code",
   "execution_count": 154,
   "metadata": {},
   "outputs": [
    {
     "data": {
      "text/plain": [
       "<tr>\n",
       "<th class=\"RT1\" colspan=\"2\" nowrap=\"\">평균</th>\n",
       "<th class=\"RT1\" colspan=\"2\" nowrap=\"\">최대</th>\n",
       "<th class=\"RT1\" colspan=\"2\" nowrap=\"\">순간최고</th>\n",
       "<th class=\"RT1\" colspan=\"3\" nowrap=\"\">기온</th>\n",
       "<th class=\"RT1\" nowrap=\"\">강수</th>\n",
       "<th class=\"RT1\" colspan=\"3\" nowrap=\"\">습도</th>\n",
       "<th class=\"RT1\" nowrap=\"\">일사</th>\n",
       "<th class=\"RT1\" nowrap=\"\">일조</th>\n",
       "</tr>"
      ]
     },
     "execution_count": 154,
     "metadata": {},
     "output_type": "execute_result"
    }
   ],
   "source": [
    "table[2].find_all('tr')[0]"
   ]
  },
  {
   "cell_type": "markdown",
   "metadata": {},
   "source": [
    "##### colspan 값 따오는 거 보류\n",
    "FAIL> table[2].find_all('tr')[0].findAll(attrs={'name':'colspan'})#.th['colspan']"
   ]
  },
  {
   "cell_type": "code",
   "execution_count": 184,
   "metadata": {},
   "outputs": [
    {
     "data": {
      "text/plain": [
       "<tr>\n",
       "<th class=\"RT1\" colspan=\"2\" nowrap=\"\">평균</th>\n",
       "<th class=\"RT1\" colspan=\"2\" nowrap=\"\">최대</th>\n",
       "<th class=\"RT1\" colspan=\"2\" nowrap=\"\">순간최고</th>\n",
       "<th class=\"RT1\" colspan=\"3\" nowrap=\"\">기온</th>\n",
       "<th class=\"RT1\" nowrap=\"\">강수</th>\n",
       "<th class=\"RT1\" colspan=\"3\" nowrap=\"\">습도</th>\n",
       "<th class=\"RT1\" nowrap=\"\">일사</th>\n",
       "<th class=\"RT1\" nowrap=\"\">일조</th>\n",
       "</tr>"
      ]
     },
     "execution_count": 184,
     "metadata": {},
     "output_type": "execute_result"
    }
   ],
   "source": [
    "table[2].find_all('tr')[0]"
   ]
  },
  {
   "cell_type": "code",
   "execution_count": 187,
   "metadata": {
    "collapsed": true
   },
   "outputs": [],
   "source": [
    "import numpy as np"
   ]
  },
  {
   "cell_type": "code",
   "execution_count": 188,
   "metadata": {
    "collapsed": true
   },
   "outputs": [],
   "source": [
    "repeat_colspan= [2,2,2,3,1,3] #일사, 일조 제외"
   ]
  },
  {
   "cell_type": "code",
   "execution_count": 194,
   "metadata": {},
   "outputs": [
    {
     "data": {
      "text/plain": [
       "['평균', '최대', '순간최고', '기온', '강수', '습도']"
      ]
     },
     "execution_count": 194,
     "metadata": {},
     "output_type": "execute_result"
    }
   ],
   "source": [
    "cols_some= table[2].find_all('tr')[0].getText().strip().split('\\n')[:-2]\n",
    "cols_some"
   ]
  },
  {
   "cell_type": "code",
   "execution_count": 226,
   "metadata": {},
   "outputs": [
    {
     "name": "stdout",
     "output_type": "stream",
     "text": [
      "13\n"
     ]
    },
    {
     "data": {
      "text/plain": [
       "['평균',\n",
       " '평균',\n",
       " '최대',\n",
       " '최대',\n",
       " '순간최고',\n",
       " '순간최고',\n",
       " '기온',\n",
       " '기온',\n",
       " '기온',\n",
       " '강수',\n",
       " '습도',\n",
       " '습도',\n",
       " '습도']"
      ]
     },
     "execution_count": 226,
     "metadata": {},
     "output_type": "execute_result"
    }
   ],
   "source": [
    "cols1= np.array(cols_some).repeat(repeat_colspan)\n",
    "print(len(cols1))\n",
    "cols1= list(cols1); cols1"
   ]
  },
  {
   "cell_type": "markdown",
   "metadata": {},
   "source": [
    "#### 칼럼 첫 줄을 둘째 줄이랑 합치기"
   ]
  },
  {
   "cell_type": "code",
   "execution_count": null,
   "metadata": {
    "collapsed": true
   },
   "outputs": [],
   "source": []
  },
  {
   "cell_type": "code",
   "execution_count": 210,
   "metadata": {},
   "outputs": [
    {
     "name": "stdout",
     "output_type": "stream",
     "text": [
      " \n"
     ]
    }
   ],
   "source": [
    "print('\\xa0') #공백. strip()으로 없어진다"
   ]
  },
  {
   "cell_type": "code",
   "execution_count": 245,
   "metadata": {},
   "outputs": [
    {
     "name": "stdout",
     "output_type": "stream",
     "text": [
      "13\n"
     ]
    },
    {
     "data": {
      "text/plain": [
       "['풍속', '풍향', '풍속', '풍향', '풍속', '풍향', '평균', '최저', '최고', '일강수', '평균', '최저', '최고']"
      ]
     },
     "execution_count": 245,
     "metadata": {},
     "output_type": "execute_result"
    }
   ],
   "source": [
    "# 원래 끝 2칸이 비어있어서 '\\xa0' - strip()하면 날아갔던것\n",
    "print(len(table[2].find_all('tr')[1].find_all('th')[:-2]))\n",
    "# table[2].find_all('tr')[1].get_text()#.find_all('th').get_text()\n",
    "cols2= table[2].find_all('tr')[1].get_text().strip().split('\\n')\n",
    "cols2"
   ]
  },
  {
   "cell_type": "code",
   "execution_count": 246,
   "metadata": {},
   "outputs": [
    {
     "name": "stdout",
     "output_type": "stream",
     "text": [
      "['평균', '평균', '최대', '최대', '순간최고', '순간최고', '기온', '기온', '기온', '강수', '습도', '습도', '습도']\n",
      "['풍속', '풍향', '풍속', '풍향', '풍속', '풍향', '평균', '최저', '최고', '일강수', '평균', '최저', '최고']\n"
     ]
    }
   ],
   "source": [
    "print(cols1)\n",
    "print(cols2)"
   ]
  },
  {
   "cell_type": "code",
   "execution_count": 247,
   "metadata": {},
   "outputs": [
    {
     "data": {
      "text/plain": [
       "'평균풍속'"
      ]
     },
     "execution_count": 247,
     "metadata": {},
     "output_type": "execute_result"
    }
   ],
   "source": [
    "cols1[0]+cols2[0]"
   ]
  },
  {
   "cell_type": "code",
   "execution_count": 249,
   "metadata": {},
   "outputs": [
    {
     "name": "stdout",
     "output_type": "stream",
     "text": [
      "13\n"
     ]
    },
    {
     "data": {
      "text/plain": [
       "['평균풍속',\n",
       " '평균풍향',\n",
       " '최대풍속',\n",
       " '최대풍향',\n",
       " '순간최고풍속',\n",
       " '순간최고풍향',\n",
       " '기온평균',\n",
       " '기온최저',\n",
       " '기온최고',\n",
       " '강수일강수',\n",
       " '습도평균',\n",
       " '습도최저',\n",
       " '습도최고']"
      ]
     },
     "execution_count": 249,
     "metadata": {},
     "output_type": "execute_result"
    }
   ],
   "source": [
    "print(len([col1+col2 for (col1, col2) in zip(cols1, cols2)]))\n",
    "newCol= [col1+col2 for (col1, col2) in zip(cols1, cols2)]\n",
    "newCol"
   ]
  },
  {
   "cell_type": "markdown",
   "metadata": {},
   "source": [
    "### 일단 칼럼 전부\n",
    "newidxName, newCol"
   ]
  },
  {
   "cell_type": "code",
   "execution_count": 337,
   "metadata": {},
   "outputs": [
    {
     "name": "stdout",
     "output_type": "stream",
     "text": [
      "날짜\n",
      "['평균풍속', '평균풍향', '최대풍속', '최대풍향', '순간최고풍속', '순간최고풍향', '기온평균', '기온최저', '기온최고', '강수일강수', '습도평균', '습도최저', '습도최고']\n"
     ]
    }
   ],
   "source": [
    "print(newidxName)\n",
    "print(newCol)"
   ]
  },
  {
   "cell_type": "code",
   "execution_count": 253,
   "metadata": {},
   "outputs": [
    {
     "data": {
      "image/png": "[encoded data removed]",
      "text/plain": [
       "<IPython.core.display.Image object>"
      ]
     },
     "execution_count": 253,
     "metadata": {},
     "output_type": "execute_result"
    }
   ],
   "source": [
    "imgTable"
   ]
  },
  {
   "cell_type": "markdown",
   "metadata": {},
   "source": [
    "### 내용: table3\n",
    "초/중/하순통계, 자료날짜 무시"
   ]
  },
  {
   "cell_type": "code",
   "execution_count": 268,
   "metadata": {
    "scrolled": true
   },
   "outputs": [
    {
     "data": {
      "text/plain": [
       "[<tr><td align=\"center\" class=\"RL1\" nowrap=\"\">16-01-01</td></tr>,\n",
       " <tr><td align=\"center\" class=\"RL2\" nowrap=\"\">16-01-02</td></tr>,\n",
       " <tr><td align=\"center\" class=\"RL1\" nowrap=\"\">16-01-03</td></tr>,\n",
       " <tr><td align=\"center\" class=\"RL2\" nowrap=\"\">16-01-04</td></tr>,\n",
       " <tr><td align=\"center\" class=\"RL1\" nowrap=\"\">16-01-05</td></tr>,\n",
       " <tr><td align=\"center\" class=\"RL2\" nowrap=\"\">16-01-06</td></tr>,\n",
       " <tr><td align=\"center\" class=\"RL1\" nowrap=\"\">16-01-07</td></tr>,\n",
       " <tr><td align=\"center\" class=\"RL2\" nowrap=\"\">16-01-08</td></tr>,\n",
       " <tr><td align=\"center\" class=\"RL1\" nowrap=\"\">16-01-09</td></tr>,\n",
       " <tr><td align=\"center\" class=\"RL2\" nowrap=\"\">16-01-10</td></tr>,\n",
       " <tr><td align=\"center\" class=\"RF1\" nowrap=\"\">초순통계</td></tr>,\n",
       " <tr><td align=\"center\" class=\"RF2\" nowrap=\"\">자료날짜<br/>자료시간</td></tr>,\n",
       " <tr><td align=\"center\" class=\"RL1\" nowrap=\"\">16-01-11</td></tr>,\n",
       " <tr><td align=\"center\" class=\"RL2\" nowrap=\"\">16-01-12</td></tr>,\n",
       " <tr><td align=\"center\" class=\"RL1\" nowrap=\"\">16-01-13</td></tr>,\n",
       " <tr><td align=\"center\" class=\"RL2\" nowrap=\"\">16-01-14</td></tr>,\n",
       " <tr><td align=\"center\" class=\"RL1\" nowrap=\"\">16-01-15</td></tr>,\n",
       " <tr><td align=\"center\" class=\"RL2\" nowrap=\"\">16-01-16</td></tr>,\n",
       " <tr><td align=\"center\" class=\"RL1\" nowrap=\"\">16-01-17</td></tr>,\n",
       " <tr><td align=\"center\" class=\"RL2\" nowrap=\"\">16-01-18</td></tr>,\n",
       " <tr><td align=\"center\" class=\"RL1\" nowrap=\"\">16-01-19</td></tr>,\n",
       " <tr><td align=\"center\" class=\"RL2\" nowrap=\"\">16-01-20</td></tr>,\n",
       " <tr><td align=\"center\" class=\"RF1\" nowrap=\"\">중순통계</td></tr>,\n",
       " <tr><td align=\"center\" class=\"RF2\" nowrap=\"\">자료날짜<br/>자료시간</td></tr>,\n",
       " <tr><td align=\"center\" class=\"RL1\" nowrap=\"\">16-01-21</td></tr>,\n",
       " <tr><td align=\"center\" class=\"RL2\" nowrap=\"\">16-01-22</td></tr>,\n",
       " <tr><td align=\"center\" class=\"RL1\" nowrap=\"\">16-01-23</td></tr>,\n",
       " <tr><td align=\"center\" class=\"RL2\" nowrap=\"\">16-01-24</td></tr>,\n",
       " <tr><td align=\"center\" class=\"RL1\" nowrap=\"\">16-01-25</td></tr>,\n",
       " <tr><td align=\"center\" class=\"RL2\" nowrap=\"\">16-01-26</td></tr>,\n",
       " <tr><td align=\"center\" class=\"RL1\" nowrap=\"\">16-01-27</td></tr>,\n",
       " <tr><td align=\"center\" class=\"RL2\" nowrap=\"\">16-01-28</td></tr>,\n",
       " <tr><td align=\"center\" class=\"RL1\" nowrap=\"\">16-01-29</td></tr>,\n",
       " <tr><td align=\"center\" class=\"RL2\" nowrap=\"\">16-01-30</td></tr>,\n",
       " <tr><td align=\"center\" class=\"RL1\" nowrap=\"\">16-01-31</td></tr>,\n",
       " <tr><td align=\"center\" class=\"RF1\" nowrap=\"\">하순통계</td></tr>,\n",
       " <tr><td align=\"center\" class=\"RF2\" nowrap=\"\">자료날짜<br/>자료시간</td></tr>]"
      ]
     },
     "execution_count": 268,
     "metadata": {},
     "output_type": "execute_result"
    }
   ],
   "source": [
    "table[3].findAll('tr')"
   ]
  },
  {
   "cell_type": "code",
   "execution_count": 272,
   "metadata": {
    "collapsed": true
   },
   "outputs": [],
   "source": [
    "#뻘짓1\n",
    "# table[3].findAll('tr',{'class':'RL1'})\n",
    "#tr에는 class속성따위 없다. td에 있을 뿐"
   ]
  },
  {
   "cell_type": "code",
   "execution_count": 299,
   "metadata": {},
   "outputs": [
    {
     "data": {
      "text/plain": [
       "bs4.element.ResultSet"
      ]
     },
     "execution_count": 299,
     "metadata": {},
     "output_type": "execute_result"
    }
   ],
   "source": [
    "type(table[3].findAll('td',{'class':'RL1'}))"
   ]
  },
  {
   "cell_type": "markdown",
   "metadata": {},
   "source": [
    "#### RL1, RL2 둘다 호출\n",
    "이 사이트 제작자는 왜 저걸 1,2 로 나눠놨을까"
   ]
  },
  {
   "cell_type": "code",
   "execution_count": 273,
   "metadata": {
    "collapsed": true
   },
   "outputs": [],
   "source": [
    "import re"
   ]
  },
  {
   "cell_type": "code",
   "execution_count": 303,
   "metadata": {
    "scrolled": true
   },
   "outputs": [
    {
     "data": {
      "text/plain": [
       "bs4.element.ResultSet"
      ]
     },
     "execution_count": 303,
     "metadata": {},
     "output_type": "execute_result"
    }
   ],
   "source": [
    "ta3dateTag= table[3].findAll('td',{'class': re.compile('RL[12]')})\n",
    "type(ta3dateTag)"
   ]
  },
  {
   "cell_type": "markdown",
   "metadata": {},
   "source": [
    "#### table3 getText()"
   ]
  },
  {
   "cell_type": "code",
   "execution_count": 324,
   "metadata": {},
   "outputs": [
    {
     "name": "stdout",
     "output_type": "stream",
     "text": [
      "<class 'list'>\n",
      "<class 'bs4.element.Tag'>\n",
      "31\n"
     ]
    }
   ],
   "source": [
    "print(type(ta3dateTag[:]))\n",
    "print(type(ta3dateTag[0]))\n",
    "print(len(ta3dateTag))"
   ]
  },
  {
   "cell_type": "code",
   "execution_count": 326,
   "metadata": {
    "scrolled": true
   },
   "outputs": [
    {
     "data": {
      "text/plain": [
       "['16-01-01',\n",
       " '16-01-02',\n",
       " '16-01-03',\n",
       " '16-01-04',\n",
       " '16-01-05',\n",
       " '16-01-06',\n",
       " '16-01-07',\n",
       " '16-01-08',\n",
       " '16-01-09',\n",
       " '16-01-10',\n",
       " '16-01-11',\n",
       " '16-01-12',\n",
       " '16-01-13',\n",
       " '16-01-14',\n",
       " '16-01-15',\n",
       " '16-01-16',\n",
       " '16-01-17',\n",
       " '16-01-18',\n",
       " '16-01-19',\n",
       " '16-01-20',\n",
       " '16-01-21',\n",
       " '16-01-22',\n",
       " '16-01-23',\n",
       " '16-01-24',\n",
       " '16-01-25',\n",
       " '16-01-26',\n",
       " '16-01-27',\n",
       " '16-01-28',\n",
       " '16-01-29',\n",
       " '16-01-30',\n",
       " '16-01-31']"
      ]
     },
     "execution_count": 326,
     "metadata": {},
     "output_type": "execute_result"
    }
   ],
   "source": [
    "newidx= [ta3dateTag[i].getText() for i in range(len(ta3dateTag))]\n",
    "newidx"
   ]
  },
  {
   "cell_type": "code",
   "execution_count": null,
   "metadata": {
    "collapsed": true
   },
   "outputs": [],
   "source": []
  },
  {
   "cell_type": "markdown",
   "metadata": {},
   "source": [
    "### table4 시행착오"
   ]
  },
  {
   "cell_type": "markdown",
   "metadata": {},
   "source": [
    "#### table4 시행착오: 따로 빼서 다시 정리하니까 한방에 됨 ;;"
   ]
  },
  {
   "cell_type": "code",
   "execution_count": 398,
   "metadata": {
    "collapsed": true
   },
   "outputs": [],
   "source": [
    "import pandas as pd\n",
    "from bs4 import BeautifulSoup\n",
    "\n",
    "guu='gwangjin'\n",
    "fyear= '2016'\n",
    "fmon= '01'\n",
    "filePath= 'data/weather/'+guu+'gu/'+guu+fyear+fmon+'.htm'\n",
    "filePath\n",
    "\n",
    "soup= BeautifulSoup(open(filePath), 'html.parser')"
   ]
  },
  {
   "cell_type": "code",
   "execution_count": 399,
   "metadata": {},
   "outputs": [
    {
     "name": "stdout",
     "output_type": "stream",
     "text": [
      "15열씩 31행, 총465개\n"
     ]
    }
   ],
   "source": [
    "from IPython.display import Image\n",
    "imgTable= Image(filename='img/table_struct.png')\n",
    "imgTable\n",
    "\n",
    "table= soup.find_all('table')\n",
    "\n",
    "import re\n",
    "import numpy as np\n",
    "from pandas import DataFrame\n",
    "\n",
    "tab4RL12= table[4].findAll('td',{'class':re.compile('RL[12]')})\n",
    "\n",
    "print('15열씩 %.0f행, 총%d개'%(len(tab4RL12)/15,len(tab4RL12)))"
   ]
  },
  {
   "cell_type": "markdown",
   "metadata": {},
   "source": [
    "일단 받고, 나중에 reshape해야"
   ]
  },
  {
   "cell_type": "code",
   "execution_count": 400,
   "metadata": {},
   "outputs": [
    {
     "data": {
      "text/html": [
       "<div>\n",
       "<style>\n",
       "    .dataframe thead tr:only-child th {\n",
       "        text-align: right;\n",
       "    }\n",
       "\n",
       "    .dataframe thead th {\n",
       "        text-align: left;\n",
       "    }\n",
       "\n",
       "    .dataframe tbody tr th {\n",
       "        vertical-align: top;\n",
       "    }\n",
       "</style>\n",
       "<table border=\"1\" class=\"dataframe\">\n",
       "  <thead>\n",
       "    <tr style=\"text-align: right;\">\n",
       "      <th></th>\n",
       "      <th>0</th>\n",
       "      <th>1</th>\n",
       "      <th>2</th>\n",
       "      <th>3</th>\n",
       "      <th>4</th>\n",
       "      <th>5</th>\n",
       "      <th>6</th>\n",
       "      <th>7</th>\n",
       "      <th>8</th>\n",
       "      <th>9</th>\n",
       "      <th>10</th>\n",
       "      <th>11</th>\n",
       "      <th>12</th>\n",
       "    </tr>\n",
       "  </thead>\n",
       "  <tbody>\n",
       "    <tr>\n",
       "      <th>0</th>\n",
       "      <td>0.8</td>\n",
       "      <td>136</td>\n",
       "      <td>2.7</td>\n",
       "      <td>230</td>\n",
       "      <td>3.9</td>\n",
       "      <td>253</td>\n",
       "      <td>2.1</td>\n",
       "      <td>-2.0</td>\n",
       "      <td>5.3</td>\n",
       "      <td>0.0</td>\n",
       "      <td>74.6</td>\n",
       "      <td>58.5</td>\n",
       "      <td>87.8</td>\n",
       "    </tr>\n",
       "    <tr>\n",
       "      <th>1</th>\n",
       "      <td>1.1</td>\n",
       "      <td>158</td>\n",
       "      <td>3.0</td>\n",
       "      <td>144</td>\n",
       "      <td>4.3</td>\n",
       "      <td>121</td>\n",
       "      <td>7.0</td>\n",
       "      <td>3.8</td>\n",
       "      <td>10.3</td>\n",
       "      <td>0.0</td>\n",
       "      <td>74.3</td>\n",
       "      <td>66.7</td>\n",
       "      <td>84.9</td>\n",
       "    </tr>\n",
       "    <tr>\n",
       "      <th>2</th>\n",
       "      <td>0.6</td>\n",
       "      <td>297</td>\n",
       "      <td>3.0</td>\n",
       "      <td>316</td>\n",
       "      <td>4.2</td>\n",
       "      <td>321</td>\n",
       "      <td>7.7</td>\n",
       "      <td>5.7</td>\n",
       "      <td>10.2</td>\n",
       "      <td>0.0</td>\n",
       "      <td>80.5</td>\n",
       "      <td>65.8</td>\n",
       "      <td>90.9</td>\n",
       "    </tr>\n",
       "    <tr>\n",
       "      <th>3</th>\n",
       "      <td>2.2</td>\n",
       "      <td>292</td>\n",
       "      <td>5.1</td>\n",
       "      <td>319</td>\n",
       "      <td>7.0</td>\n",
       "      <td>318</td>\n",
       "      <td>4.2</td>\n",
       "      <td>-0.2</td>\n",
       "      <td>7.2</td>\n",
       "      <td>0.0</td>\n",
       "      <td>53.6</td>\n",
       "      <td>32.7</td>\n",
       "      <td>78.0</td>\n",
       "    </tr>\n",
       "    <tr>\n",
       "      <th>4</th>\n",
       "      <td>1.9</td>\n",
       "      <td>335</td>\n",
       "      <td>5.2</td>\n",
       "      <td>318</td>\n",
       "      <td>6.8</td>\n",
       "      <td>309</td>\n",
       "      <td>-0.4</td>\n",
       "      <td>-2.3</td>\n",
       "      <td>2.5</td>\n",
       "      <td>0.0</td>\n",
       "      <td>37.2</td>\n",
       "      <td>23.1</td>\n",
       "      <td>50.0</td>\n",
       "    </tr>\n",
       "    <tr>\n",
       "      <th>5</th>\n",
       "      <td>1.3</td>\n",
       "      <td>301</td>\n",
       "      <td>4.2</td>\n",
       "      <td>319</td>\n",
       "      <td>5.9</td>\n",
       "      <td>329</td>\n",
       "      <td>0.0</td>\n",
       "      <td>-2.8</td>\n",
       "      <td>3.0</td>\n",
       "      <td>0.0</td>\n",
       "      <td>54.1</td>\n",
       "      <td>45.6</td>\n",
       "      <td>62.2</td>\n",
       "    </tr>\n",
       "    <tr>\n",
       "      <th>6</th>\n",
       "      <td>1.9</td>\n",
       "      <td>285</td>\n",
       "      <td>5.1</td>\n",
       "      <td>252</td>\n",
       "      <td>7.4</td>\n",
       "      <td>236</td>\n",
       "      <td>-1.1</td>\n",
       "      <td>-3.1</td>\n",
       "      <td>2.2</td>\n",
       "      <td>0.0</td>\n",
       "      <td>49.1</td>\n",
       "      <td>27.7</td>\n",
       "      <td>62.7</td>\n",
       "    </tr>\n",
       "    <tr>\n",
       "      <th>7</th>\n",
       "      <td>1.6</td>\n",
       "      <td>315</td>\n",
       "      <td>4.9</td>\n",
       "      <td>307</td>\n",
       "      <td>7.7</td>\n",
       "      <td>259</td>\n",
       "      <td>-1.1</td>\n",
       "      <td>-5.2</td>\n",
       "      <td>2.0</td>\n",
       "      <td>0.0</td>\n",
       "      <td>48.1</td>\n",
       "      <td>27.7</td>\n",
       "      <td>63.8</td>\n",
       "    </tr>\n",
       "    <tr>\n",
       "      <th>8</th>\n",
       "      <td>1.6</td>\n",
       "      <td>294</td>\n",
       "      <td>5.4</td>\n",
       "      <td>308</td>\n",
       "      <td>7.9</td>\n",
       "      <td>321</td>\n",
       "      <td>0.1</td>\n",
       "      <td>-2.9</td>\n",
       "      <td>2.6</td>\n",
       "      <td>0.0</td>\n",
       "      <td>55.3</td>\n",
       "      <td>36.9</td>\n",
       "      <td>66.3</td>\n",
       "    </tr>\n",
       "    <tr>\n",
       "      <th>9</th>\n",
       "      <td>1.8</td>\n",
       "      <td>298</td>\n",
       "      <td>4.8</td>\n",
       "      <td>297</td>\n",
       "      <td>8.2</td>\n",
       "      <td>315</td>\n",
       "      <td>2.5</td>\n",
       "      <td>0.2</td>\n",
       "      <td>5.2</td>\n",
       "      <td>0.0</td>\n",
       "      <td>45.7</td>\n",
       "      <td>23.5</td>\n",
       "      <td>77.2</td>\n",
       "    </tr>\n",
       "    <tr>\n",
       "      <th>10</th>\n",
       "      <td>1.8</td>\n",
       "      <td>308</td>\n",
       "      <td>3.8</td>\n",
       "      <td>312</td>\n",
       "      <td>5.5</td>\n",
       "      <td>301</td>\n",
       "      <td>-1.3</td>\n",
       "      <td>-3.7</td>\n",
       "      <td>2.0</td>\n",
       "      <td>0.0</td>\n",
       "      <td>36.5</td>\n",
       "      <td>22.2</td>\n",
       "      <td>49.4</td>\n",
       "    </tr>\n",
       "    <tr>\n",
       "      <th>11</th>\n",
       "      <td>1.7</td>\n",
       "      <td>289</td>\n",
       "      <td>4.5</td>\n",
       "      <td>317</td>\n",
       "      <td>6.6</td>\n",
       "      <td>315</td>\n",
       "      <td>-2.9</td>\n",
       "      <td>-6.8</td>\n",
       "      <td>1.6</td>\n",
       "      <td>0.0</td>\n",
       "      <td>43.2</td>\n",
       "      <td>26.7</td>\n",
       "      <td>59.7</td>\n",
       "    </tr>\n",
       "    <tr>\n",
       "      <th>12</th>\n",
       "      <td>1.8</td>\n",
       "      <td>291</td>\n",
       "      <td>5.1</td>\n",
       "      <td>320</td>\n",
       "      <td>7.4</td>\n",
       "      <td>295</td>\n",
       "      <td>-2.9</td>\n",
       "      <td>-6.2</td>\n",
       "      <td>0.8</td>\n",
       "      <td>0.0</td>\n",
       "      <td>62.9</td>\n",
       "      <td>46.1</td>\n",
       "      <td>86.8</td>\n",
       "    </tr>\n",
       "    <tr>\n",
       "      <th>13</th>\n",
       "      <td>1.3</td>\n",
       "      <td>290</td>\n",
       "      <td>3.8</td>\n",
       "      <td>228</td>\n",
       "      <td>5.5</td>\n",
       "      <td>233</td>\n",
       "      <td>-2.1</td>\n",
       "      <td>-5.3</td>\n",
       "      <td>1.5</td>\n",
       "      <td>0.0</td>\n",
       "      <td>47.7</td>\n",
       "      <td>29.7</td>\n",
       "      <td>74.8</td>\n",
       "    </tr>\n",
       "    <tr>\n",
       "      <th>14</th>\n",
       "      <td>1.0</td>\n",
       "      <td>52</td>\n",
       "      <td>3.3</td>\n",
       "      <td>73</td>\n",
       "      <td>3.7</td>\n",
       "      <td>87</td>\n",
       "      <td>1.1</td>\n",
       "      <td>-1.7</td>\n",
       "      <td>5.2</td>\n",
       "      <td>0.0</td>\n",
       "      <td>57.2</td>\n",
       "      <td>35.1</td>\n",
       "      <td>78.7</td>\n",
       "    </tr>\n",
       "    <tr>\n",
       "      <th>15</th>\n",
       "      <td>1.2</td>\n",
       "      <td>66</td>\n",
       "      <td>4.7</td>\n",
       "      <td>75</td>\n",
       "      <td>6.1</td>\n",
       "      <td>76</td>\n",
       "      <td>0.9</td>\n",
       "      <td>-1.2</td>\n",
       "      <td>3.9</td>\n",
       "      <td>0.0</td>\n",
       "      <td>65.7</td>\n",
       "      <td>56.0</td>\n",
       "      <td>73.7</td>\n",
       "    </tr>\n",
       "    <tr>\n",
       "      <th>16</th>\n",
       "      <td>1.0</td>\n",
       "      <td>54</td>\n",
       "      <td>3.9</td>\n",
       "      <td>84</td>\n",
       "      <td>5.0</td>\n",
       "      <td>82</td>\n",
       "      <td>3.0</td>\n",
       "      <td>0.5</td>\n",
       "      <td>6.3</td>\n",
       "      <td>0.0</td>\n",
       "      <td>65.1</td>\n",
       "      <td>50.7</td>\n",
       "      <td>76.2</td>\n",
       "    </tr>\n",
       "    <tr>\n",
       "      <th>17</th>\n",
       "      <td>3.3</td>\n",
       "      <td>303</td>\n",
       "      <td>9.2</td>\n",
       "      <td>311</td>\n",
       "      <td>13.8</td>\n",
       "      <td>307</td>\n",
       "      <td>-3.9</td>\n",
       "      <td>-10.4</td>\n",
       "      <td>2.5</td>\n",
       "      <td>0.0</td>\n",
       "      <td>59.7</td>\n",
       "      <td>34.5</td>\n",
       "      <td>86.1</td>\n",
       "    </tr>\n",
       "    <tr>\n",
       "      <th>18</th>\n",
       "      <td>3.5</td>\n",
       "      <td>302</td>\n",
       "      <td>8.1</td>\n",
       "      <td>309</td>\n",
       "      <td>13.0</td>\n",
       "      <td>0</td>\n",
       "      <td>-11.0</td>\n",
       "      <td>-13.4</td>\n",
       "      <td>-7.6</td>\n",
       "      <td>0.0</td>\n",
       "      <td>45.6</td>\n",
       "      <td>32.9</td>\n",
       "      <td>55.4</td>\n",
       "    </tr>\n",
       "    <tr>\n",
       "      <th>19</th>\n",
       "      <td>1.5</td>\n",
       "      <td>319</td>\n",
       "      <td>4.2</td>\n",
       "      <td>320</td>\n",
       "      <td>5.8</td>\n",
       "      <td>329</td>\n",
       "      <td>-8.7</td>\n",
       "      <td>-12.4</td>\n",
       "      <td>-4.7</td>\n",
       "      <td>0.0</td>\n",
       "      <td>45.0</td>\n",
       "      <td>35.4</td>\n",
       "      <td>53.6</td>\n",
       "    </tr>\n",
       "    <tr>\n",
       "      <th>20</th>\n",
       "      <td>1.4</td>\n",
       "      <td>305</td>\n",
       "      <td>4.4</td>\n",
       "      <td>231</td>\n",
       "      <td>5.5</td>\n",
       "      <td>214</td>\n",
       "      <td>-5.4</td>\n",
       "      <td>-8.4</td>\n",
       "      <td>-1.7</td>\n",
       "      <td>0.0</td>\n",
       "      <td>45.6</td>\n",
       "      <td>31.8</td>\n",
       "      <td>56.6</td>\n",
       "    </tr>\n",
       "    <tr>\n",
       "      <th>21</th>\n",
       "      <td>1.4</td>\n",
       "      <td>296</td>\n",
       "      <td>4.0</td>\n",
       "      <td>307</td>\n",
       "      <td>5.6</td>\n",
       "      <td>318</td>\n",
       "      <td>-5.4</td>\n",
       "      <td>-8.3</td>\n",
       "      <td>-2.3</td>\n",
       "      <td>0.0</td>\n",
       "      <td>41.6</td>\n",
       "      <td>29.8</td>\n",
       "      <td>55.8</td>\n",
       "    </tr>\n",
       "    <tr>\n",
       "      <th>22</th>\n",
       "      <td>3.0</td>\n",
       "      <td>310</td>\n",
       "      <td>7.5</td>\n",
       "      <td>323</td>\n",
       "      <td>11.7</td>\n",
       "      <td>338</td>\n",
       "      <td>-9.2</td>\n",
       "      <td>-13.7</td>\n",
       "      <td>-6.4</td>\n",
       "      <td>0.0</td>\n",
       "      <td>41.2</td>\n",
       "      <td>30.6</td>\n",
       "      <td>47.6</td>\n",
       "    </tr>\n",
       "    <tr>\n",
       "      <th>23</th>\n",
       "      <td>2.5</td>\n",
       "      <td>299</td>\n",
       "      <td>5.1</td>\n",
       "      <td>317</td>\n",
       "      <td>8.5</td>\n",
       "      <td>315</td>\n",
       "      <td>-12.8</td>\n",
       "      <td>-16.2</td>\n",
       "      <td>-9.6</td>\n",
       "      <td>0.0</td>\n",
       "      <td>46.5</td>\n",
       "      <td>34.8</td>\n",
       "      <td>55.5</td>\n",
       "    </tr>\n",
       "    <tr>\n",
       "      <th>24</th>\n",
       "      <td>1.6</td>\n",
       "      <td>287</td>\n",
       "      <td>4.3</td>\n",
       "      <td>321</td>\n",
       "      <td>6.4</td>\n",
       "      <td>312</td>\n",
       "      <td>-7.9</td>\n",
       "      <td>-11.7</td>\n",
       "      <td>-3.1</td>\n",
       "      <td>0.0</td>\n",
       "      <td>46.4</td>\n",
       "      <td>32.1</td>\n",
       "      <td>61.4</td>\n",
       "    </tr>\n",
       "    <tr>\n",
       "      <th>25</th>\n",
       "      <td>0.9</td>\n",
       "      <td>163</td>\n",
       "      <td>4.5</td>\n",
       "      <td>246</td>\n",
       "      <td>6.1</td>\n",
       "      <td>259</td>\n",
       "      <td>-2.6</td>\n",
       "      <td>-7.2</td>\n",
       "      <td>2.5</td>\n",
       "      <td>0.0</td>\n",
       "      <td>66.6</td>\n",
       "      <td>49.4</td>\n",
       "      <td>81.8</td>\n",
       "    </tr>\n",
       "    <tr>\n",
       "      <th>26</th>\n",
       "      <td>1.3</td>\n",
       "      <td>272</td>\n",
       "      <td>4.7</td>\n",
       "      <td>218</td>\n",
       "      <td>6.5</td>\n",
       "      <td>203</td>\n",
       "      <td>0.9</td>\n",
       "      <td>-2.6</td>\n",
       "      <td>4.0</td>\n",
       "      <td>0.0</td>\n",
       "      <td>57.1</td>\n",
       "      <td>41.0</td>\n",
       "      <td>68.8</td>\n",
       "    </tr>\n",
       "    <tr>\n",
       "      <th>27</th>\n",
       "      <td>1.1</td>\n",
       "      <td>39</td>\n",
       "      <td>3.3</td>\n",
       "      <td>75</td>\n",
       "      <td>4.8</td>\n",
       "      <td>332</td>\n",
       "      <td>0.6</td>\n",
       "      <td>-4.5</td>\n",
       "      <td>4.2</td>\n",
       "      <td>0.0</td>\n",
       "      <td>55.3</td>\n",
       "      <td>33.1</td>\n",
       "      <td>76.5</td>\n",
       "    </tr>\n",
       "    <tr>\n",
       "      <th>28</th>\n",
       "      <td>2.0</td>\n",
       "      <td>10</td>\n",
       "      <td>4.9</td>\n",
       "      <td>64</td>\n",
       "      <td>5.9</td>\n",
       "      <td>68</td>\n",
       "      <td>3.4</td>\n",
       "      <td>0.6</td>\n",
       "      <td>6.8</td>\n",
       "      <td>0.0</td>\n",
       "      <td>46.3</td>\n",
       "      <td>36.2</td>\n",
       "      <td>59.5</td>\n",
       "    </tr>\n",
       "    <tr>\n",
       "      <th>29</th>\n",
       "      <td>1.4</td>\n",
       "      <td>312</td>\n",
       "      <td>4.6</td>\n",
       "      <td>330</td>\n",
       "      <td>5.8</td>\n",
       "      <td>332</td>\n",
       "      <td>2.6</td>\n",
       "      <td>-0.5</td>\n",
       "      <td>5.8</td>\n",
       "      <td>0.0</td>\n",
       "      <td>60.6</td>\n",
       "      <td>46.3</td>\n",
       "      <td>75.6</td>\n",
       "    </tr>\n",
       "    <tr>\n",
       "      <th>30</th>\n",
       "      <td>2.1</td>\n",
       "      <td>280</td>\n",
       "      <td>5.0</td>\n",
       "      <td>223</td>\n",
       "      <td>6.8</td>\n",
       "      <td>312</td>\n",
       "      <td>-1.6</td>\n",
       "      <td>-3.9</td>\n",
       "      <td>1.5</td>\n",
       "      <td>0.0</td>\n",
       "      <td>35.5</td>\n",
       "      <td>21.5</td>\n",
       "      <td>55.5</td>\n",
       "    </tr>\n",
       "  </tbody>\n",
       "</table>\n",
       "</div>"
      ],
      "text/plain": [
       "     0    1    2    3     4    5      6      7     8    9     10    11    12\n",
       "0   0.8  136  2.7  230   3.9  253    2.1   -2.0   5.3  0.0  74.6  58.5  87.8\n",
       "1   1.1  158  3.0  144   4.3  121    7.0    3.8  10.3  0.0  74.3  66.7  84.9\n",
       "2   0.6  297  3.0  316   4.2  321    7.7    5.7  10.2  0.0  80.5  65.8  90.9\n",
       "3   2.2  292  5.1  319   7.0  318    4.2   -0.2   7.2  0.0  53.6  32.7  78.0\n",
       "4   1.9  335  5.2  318   6.8  309   -0.4   -2.3   2.5  0.0  37.2  23.1  50.0\n",
       "5   1.3  301  4.2  319   5.9  329    0.0   -2.8   3.0  0.0  54.1  45.6  62.2\n",
       "6   1.9  285  5.1  252   7.4  236   -1.1   -3.1   2.2  0.0  49.1  27.7  62.7\n",
       "7   1.6  315  4.9  307   7.7  259   -1.1   -5.2   2.0  0.0  48.1  27.7  63.8\n",
       "8   1.6  294  5.4  308   7.9  321    0.1   -2.9   2.6  0.0  55.3  36.9  66.3\n",
       "9   1.8  298  4.8  297   8.2  315    2.5    0.2   5.2  0.0  45.7  23.5  77.2\n",
       "10  1.8  308  3.8  312   5.5  301   -1.3   -3.7   2.0  0.0  36.5  22.2  49.4\n",
       "11  1.7  289  4.5  317   6.6  315   -2.9   -6.8   1.6  0.0  43.2  26.7  59.7\n",
       "12  1.8  291  5.1  320   7.4  295   -2.9   -6.2   0.8  0.0  62.9  46.1  86.8\n",
       "13  1.3  290  3.8  228   5.5  233   -2.1   -5.3   1.5  0.0  47.7  29.7  74.8\n",
       "14  1.0   52  3.3   73   3.7   87    1.1   -1.7   5.2  0.0  57.2  35.1  78.7\n",
       "15  1.2   66  4.7   75   6.1   76    0.9   -1.2   3.9  0.0  65.7  56.0  73.7\n",
       "16  1.0   54  3.9   84   5.0   82    3.0    0.5   6.3  0.0  65.1  50.7  76.2\n",
       "17  3.3  303  9.2  311  13.8  307   -3.9  -10.4   2.5  0.0  59.7  34.5  86.1\n",
       "18  3.5  302  8.1  309  13.0    0  -11.0  -13.4  -7.6  0.0  45.6  32.9  55.4\n",
       "19  1.5  319  4.2  320   5.8  329   -8.7  -12.4  -4.7  0.0  45.0  35.4  53.6\n",
       "20  1.4  305  4.4  231   5.5  214   -5.4   -8.4  -1.7  0.0  45.6  31.8  56.6\n",
       "21  1.4  296  4.0  307   5.6  318   -5.4   -8.3  -2.3  0.0  41.6  29.8  55.8\n",
       "22  3.0  310  7.5  323  11.7  338   -9.2  -13.7  -6.4  0.0  41.2  30.6  47.6\n",
       "23  2.5  299  5.1  317   8.5  315  -12.8  -16.2  -9.6  0.0  46.5  34.8  55.5\n",
       "24  1.6  287  4.3  321   6.4  312   -7.9  -11.7  -3.1  0.0  46.4  32.1  61.4\n",
       "25  0.9  163  4.5  246   6.1  259   -2.6   -7.2   2.5  0.0  66.6  49.4  81.8\n",
       "26  1.3  272  4.7  218   6.5  203    0.9   -2.6   4.0  0.0  57.1  41.0  68.8\n",
       "27  1.1   39  3.3   75   4.8  332    0.6   -4.5   4.2  0.0  55.3  33.1  76.5\n",
       "28  2.0   10  4.9   64   5.9   68    3.4    0.6   6.8  0.0  46.3  36.2  59.5\n",
       "29  1.4  312  4.6  330   5.8  332    2.6   -0.5   5.8  0.0  60.6  46.3  75.6\n",
       "30  2.1  280  5.0  223   6.8  312   -1.6   -3.9   1.5  0.0  35.5  21.5  55.5"
      ]
     },
     "execution_count": 400,
     "metadata": {},
     "output_type": "execute_result"
    }
   ],
   "source": [
    "ta4cellLen= len(tab4RL12)\n",
    "tab4cells= [tab4RL12[i].get_text() for i in range(ta4cellLen)]\n",
    "\n",
    "DataFrame(np.array(tab4cells).reshape(31,15)).iloc[:,:-2]"
   ]
  },
  {
   "cell_type": "code",
   "execution_count": null,
   "metadata": {
    "collapsed": true
   },
   "outputs": [],
   "source": []
  }
 ],
 "metadata": {
  "kernelspec": {
   "display_name": "Python 3",
   "language": "python",
   "name": "python3"
  },
  "language_info": {
   "codemirror_mode": {
    "name": "ipython",
    "version": 3
   },
   "file_extension": ".py",
   "mimetype": "text/x-python",
   "name": "python",
   "nbconvert_exporter": "python",
   "pygments_lexer": "ipython3",
   "version": "3.6.4"
  }
 },
 "nbformat": 4,
 "nbformat_minor": 2
}
