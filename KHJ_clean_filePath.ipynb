{
 "cells": [
  {
   "cell_type": "markdown",
   "metadata": {},
   "source": [
    "# 하려는것: parent경로+ folder이름+ 파일명"
   ]
  },
  {
   "cell_type": "markdown",
   "metadata": {},
   "source": [
    "### 당면한 문제\n",
    "filePathList가 전체 path를 돌려주지 않고, 파일명만 돌려준다\n",
    "> listdir() 직후, 각 list 요소에 parentPath를 prefex 해줘야!"
   ]
  },
  {
   "cell_type": "markdown",
   "metadata": {},
   "source": [
    "### fileList"
   ]
  },
  {
   "cell_type": "code",
   "execution_count": 9,
   "metadata": {
    "collapsed": true
   },
   "outputs": [],
   "source": [
    "from pandas import DataFrame, Series\n",
    "\n",
    "from os import listdir\n",
    "from os.path import isfile"
   ]
  },
  {
   "cell_type": "code",
   "execution_count": 10,
   "metadata": {
    "collapsed": true
   },
   "outputs": [],
   "source": [
    "def getFilePathList(rootPath, folderOrder=0):\n",
    "    \"\"\"\n",
    "    input: rootPath, #st folder\n",
    "    return: filePathList[, folderCnt, fileCnt]\n",
    "    \"\"\"\n",
    "    folderList= listdir(rootPath)\n",
    "    folderCnt= len(folderList)\n",
    "    fileCnt= len(listdir(rootPath+folderList[folderOrder]))\n",
    "    \n",
    "    allFileList= [[rootPath+folder+'/'+file for file in listdir(rootPath+folder)] for folder in folderList]\n",
    "    \n",
    "    return allFileList, folderCnt, fileCnt"
   ]
  },
  {
   "cell_type": "code",
   "execution_count": 24,
   "metadata": {
    "collapsed": true
   },
   "outputs": [],
   "source": [
    "rootPath= 'data/weather/'\n",
    "# Series(getFilePathList(rootPath)).shape # (3,) #return이 3개라 하나에 다 받아진 것\n",
    "fileList, folderCnt, fileCnt= getFilePathList(rootPath)"
   ]
  },
  {
   "cell_type": "code",
   "execution_count": 26,
   "metadata": {},
   "outputs": [
    {
     "data": {
      "text/plain": [
       "'data/weather/dongdaemungu/dongdaemun201601.htm'"
      ]
     },
     "execution_count": 26,
     "metadata": {},
     "output_type": "execute_result"
    }
   ],
   "source": [
    "fileList[0][0]"
   ]
  },
  {
   "cell_type": "markdown",
   "metadata": {},
   "source": [
    "### 쉽게 가자"
   ]
  },
  {
   "cell_type": "code",
   "execution_count": 12,
   "metadata": {
    "collapsed": true
   },
   "outputs": [],
   "source": [
    "folderList= listdir(rootPath)"
   ]
  },
  {
   "cell_type": "code",
   "execution_count": 13,
   "metadata": {
    "collapsed": true
   },
   "outputs": [],
   "source": [
    "for folder in folderList:\n",
    "    for file in listdir(rootPath+folder):\n",
    "        #print(rootPath+folder+'/'+file)\n",
    "        pass"
   ]
  },
  {
   "cell_type": "code",
   "execution_count": 14,
   "metadata": {
    "collapsed": true
   },
   "outputs": [],
   "source": [
    "# [[rootPath+folder+'/'+file for file in listdir(rootPath+folder)] for folder in folderList]"
   ]
  },
  {
   "cell_type": "code",
   "execution_count": null,
   "metadata": {
    "collapsed": true
   },
   "outputs": [],
   "source": []
  },
  {
   "cell_type": "code",
   "execution_count": null,
   "metadata": {
    "collapsed": true
   },
   "outputs": [],
   "source": []
  },
  {
   "cell_type": "code",
   "execution_count": null,
   "metadata": {
    "collapsed": true
   },
   "outputs": [],
   "source": []
  },
  {
   "cell_type": "code",
   "execution_count": null,
   "metadata": {
    "collapsed": true
   },
   "outputs": [],
   "source": []
  },
  {
   "cell_type": "code",
   "execution_count": null,
   "metadata": {
    "collapsed": true
   },
   "outputs": [],
   "source": []
  },
  {
   "cell_type": "code",
   "execution_count": 28,
   "metadata": {
    "collapsed": true
   },
   "outputs": [],
   "source": [
    "# from pandas import DataFrame, Series\n",
    "\n",
    "# from os import listdir\n",
    "# from os.path import isfile\n",
    "\n",
    "# def getFilePathList(rootPath, folderOrder=0):\n",
    "#     \"\"\"\n",
    "#     input: rootPath, #st folder\n",
    "#     return: filePathList[, folderCnt, fileCnt]\n",
    "#     \"\"\"\n",
    "#     folderList= listdir(rootPath)\n",
    "#     folderCnt= len(folderList)\n",
    "#     fileCnt= len(listdir(rootPath+folderList[folderOrder]))\n",
    "    \n",
    "#     allFileList= [[rootPath+folder+'/'+file for file in listdir(rootPath+folder)] for folder in folderList]\n",
    "    \n",
    "#     return allFileList, folderCnt, fileCnt\n",
    "\n",
    "# rootPath= 'data/weather/'\n",
    "# # Series(getFilePathList(rootPath)).shape # (3,) #return이 3개라 하나에 다 받아진 것\n",
    "# fileList, folderCnt, fileCnt= getFilePathList(rootPath)\n",
    "\n",
    "# fileList[0][0]"
   ]
  }
 ],
 "metadata": {
  "kernelspec": {
   "display_name": "Python 3",
   "language": "python",
   "name": "python3"
  },
  "language_info": {
   "codemirror_mode": {
    "name": "ipython",
    "version": 3
   },
   "file_extension": ".py",
   "mimetype": "text/x-python",
   "name": "python",
   "nbconvert_exporter": "python",
   "pygments_lexer": "ipython3",
   "version": "3.6.3"
  }
 },
 "nbformat": 4,
 "nbformat_minor": 2
}
