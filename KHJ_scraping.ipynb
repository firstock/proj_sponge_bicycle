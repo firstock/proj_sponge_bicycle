{
 "cells": [
  {
   "cell_type": "markdown",
   "metadata": {
    "collapsed": true
   },
   "source": [
    "## ㅇㅇ구끼리 파일합치기\n",
    "1. htm 파일 읽기"
   ]
  },
  {
   "cell_type": "code",
   "execution_count": 12,
   "metadata": {
    "collapsed": true
   },
   "outputs": [],
   "source": [
    "# #error 원인: html에서 확장자만 xls로 바꾼 파일이라 읽지 못한 것\n",
    "# xls_file= pd.ExcelFile(filePath)"
   ]
  },
  {
   "cell_type": "code",
   "execution_count": 27,
   "metadata": {
    "collapsed": true,
    "scrolled": true
   },
   "outputs": [],
   "source": [
    "# # 읽히긴 하는데 개판. DF로 바꿀 여지도 없음\n",
    "# wea1= pd.read_html(filePath)"
   ]
  },
  {
   "cell_type": "code",
   "execution_count": 34,
   "metadata": {},
   "outputs": [
    {
     "data": {
      "text/plain": [
       "'data/weather/gwangjingu/gwangjin201601.htm'"
      ]
     },
     "execution_count": 34,
     "metadata": {},
     "output_type": "execute_result"
    }
   ],
   "source": [
    "guu='gwangjin'\n",
    "fyear= '2016'\n",
    "fmon= '01'\n",
    "filePath= 'data/weather/'+guu+'gu/'+guu+fyear+fmon+'.htm'\n",
    "filePath\n",
    "# file:///E:/github/proj_sponge_bicycle/"
   ]
  },
  {
   "cell_type": "markdown",
   "metadata": {},
   "source": [
    "### htm read: table to dataframe\n",
    "1. asp read\n",
    "    - 버튼클릭 후 https://stackoverflow.com/questions/46395314/scraping-aspx-page-with-python\n",
    "2. all same?\n",
    "    - https://python-forum.io/Thread-Scraping-aspx-page\n",
    "3. beautifulsoup table to dataframe"
   ]
  },
  {
   "attachments": {
    "image.png": {
     "image/png": "[encoded data removed]"
    }
   },
   "cell_type": "markdown",
   "metadata": {},
   "source": [
    "### html 껍데기\n",
    "클릭해도 당연히 무반응\n",
    "![image.png](attachment:image.png)"
   ]
  },
  {
   "cell_type": "code",
   "execution_count": 35,
   "metadata": {
    "collapsed": true
   },
   "outputs": [],
   "source": [
    "from bs4 import BeautifulSoup\n",
    "import requests"
   ]
  },
  {
   "cell_type": "code",
   "execution_count": 36,
   "metadata": {
    "collapsed": true
   },
   "outputs": [],
   "source": [
    "url= 'http://aws.seoul.go.kr/Report/RptWeatherMonth.asp'"
   ]
  },
  {
   "cell_type": "code",
   "execution_count": 37,
   "metadata": {
    "collapsed": true
   },
   "outputs": [],
   "source": [
    "url_get= requests.get(url)"
   ]
  },
  {
   "cell_type": "code",
   "execution_count": 39,
   "metadata": {},
   "outputs": [
    {
     "data": {
      "text/plain": [
       "<Response [200]>"
      ]
     },
     "execution_count": 39,
     "metadata": {},
     "output_type": "execute_result"
    }
   ],
   "source": [
    "url_get"
   ]
  },
  {
   "cell_type": "code",
   "execution_count": 38,
   "metadata": {
    "collapsed": true
   },
   "outputs": [],
   "source": [
    "soup= BeautifulSoup(url_get.content, 'lxml')"
   ]
  },
  {
   "cell_type": "code",
   "execution_count": 40,
   "metadata": {},
   "outputs": [
    {
     "data": {
      "text/plain": [
       "<html><head><script type=\"text/JavaScript\">\n",
       "\t//지도 좌표\n",
       "\tvar MAP_LEFT_LON\t= -126.75561;\t\t//좌측 좌표\n",
       "\tvar MAP_TOP_LAT\t\t=  37.70152;\t\t//상단 좌표 (주의, X.Y 좌표와 반대)\n",
       "\n",
       "\tvar MAP_RIGHT_LON\t= -127.19456;\t\t//우측 좌표\n",
       "\tvar MAP_BOTTOM_LAT\t=  37.42336;\t\t//하단 좌표 (주의, X.Y 좌표와 반대)\n",
       "\t\n",
       "\tvar MAP_SIZE_LON\t= MAP_RIGHT_LON - MAP_LEFT_LON;\n",
       "\tvar MAP_SIZE_LAT\t= MAP_TOP_LAT  - MAP_BOTTOM_LAT;\n",
       "\n",
       "\t//지도 이미지 크기\n",
       "\tvar MAP_SIZE_X\t\t= 500;\n",
       "\tvar MAP_SIZE_Y\t\t= 398;\n",
       "\t\n",
       "\t//아이콘 크기\n",
       "\tvar MAP_ICON_SIZE\t= 8;\n",
       "\t\n",
       "\tvar ImageSrcPath    = \"../Images/\"+\"seoul\";\n",
       "\tvar gDefaultSite \t= \"1100\";\n",
       "</script>\n",
       "<!DOCTYPE html PUBLIC \"-//W3C//DTD XHTML 1.0 Transitional//EN\" \"http://www.w3.org/TR/xhtml1/DTD/xhtml1-transitional.dtd\">\n",
       "\n",
       "<meta charset=\"utf-8\" content=\"text/html\" http-equiv=\"Content-Type\"/>\n",
       "<link href=\"../css/weather.css\" rel=\"stylesheet\" type=\"text/css\"/>\n",
       "<script language=\"javascript\" src=\"../include/common.js\" type=\"text/javascript\"></script>\n",
       "<script language=\"javascript\" src=\"../include/Report.js\" type=\"text/javascript\"></script>\n",
       "</head><body>\n",
       "<table border=\"0\" cellpadding=\"0\" cellspacing=\"0\" class=\"line01\" width=\"765\">\n",
       "<tr>\n",
       "<td class=\"mainTitle\" nowrap=\"nowrap\"><img align=\"absmiddle\" src=\"../Images/bullet/icon_title.gif\"/>    <img align=\"absmiddle\" src=\"../Images/common/title_vline.gif\"/></td>\n",
       "<td class=\"explain\" width=\"700px\">  일평균 자료 + 기간통계</td>\n",
       "</tr>\n",
       "</table>\n",
       "<!-- Start Report Form -->\n",
       "<form method=\"post\" name=\"form1\">\n",
       "<input name=\"TITLE\" type=\"hidden\" value=\"\"/>\n",
       "<input name=\"EXCEL\" type=\"hidden\" value=\"\"/>\n",
       "<input name=\"MODE\" type=\"hidden\" value=\"\"/>\n",
       "<input name=\"SDATAKEY\" type=\"hidden\" value=\"\"/>\n",
       "<input name=\"VIEW_MIN\" type=\"hidden\" value=\"\"/>\n",
       "<input name=\"VIEW_MAX\" type=\"hidden\" value=\"\"/>\n",
       "<input name=\"VIEW_SITE\" type=\"hidden\" value=\"\"/>\n",
       "<input name=\"VIEW_WIND\" type=\"hidden\" value=\"\"/>\n",
       "<table border=\"0\" cellpadding=\"0\" cellspacing=\"0\" style=\"margin-bottom:5px;\" width=\"765\">\n",
       "<tr valign=\"top\">\n",
       "<td height=\"9\" width=\"9\"><img src=\"../Images/common/box401.gif\"/></td>\n",
       "<td background=\"../Images/common/box402.gif\"><img src=\"../Images/common/box402.gif\"/></td>\n",
       "<td align=\"right\" width=\"9\"><img src=\"../Images/common/box403.gif\"/></td>\n",
       "</tr>\n",
       "<tr>\n",
       "<td background=\"../Images/common/box404.gif\"><img src=\"../Images/common/box404.gif\"/></td>\n",
       "<td bgcolor=\"#F1F8FB\">\n",
       "<table border=\"0\" cellpadding=\"0\" cellspacing=\"0\" width=\"100%\">\n",
       "<tr>\n",
       "<td class=\"textSearch\" width=\"30px\">지점</td>\n",
       "<td class=\"textBold\" width=\"160px\">\n",
       "<!-- Start Select AWS ID ------------------------------------------------------------------------- -->\n",
       "<select name=\"AWS_ID\">\n",
       "<option value=\"\">[선택]</option>\n",
       "<option value=\"1151\">[서] 남산</option>\n",
       "<option value=\"1152\">[서] 동대문</option>\n",
       "<option value=\"1153\">[서] 성북</option>\n",
       "<option value=\"1154\">[서] 도봉</option>\n",
       "<option value=\"1155\">[서] 마포</option>\n",
       "<option value=\"1156\">[서] 구로</option>\n",
       "<option value=\"1157\">[서] 영등포</option>\n",
       "<option value=\"1158\">[서] 서초</option>\n",
       "<option value=\"1159\">[서] 강남</option>\n",
       "<option value=\"1160\">[서] 서대문</option>\n",
       "<option value=\"1161\">[서] 금천</option>\n",
       "<option value=\"1162\">[서] 양천</option>\n",
       "<option value=\"1163\">[서] 노원</option>\n",
       "<option value=\"1164\">[서] 광진</option>\n",
       "<option value=\"1165\">[서] 강북</option>\n",
       "<option value=\"1166\">[서] 송파</option>\n",
       "<option value=\"1167\">[서] 용산</option>\n",
       "<option value=\"1168\">[서] 성동</option>\n",
       "<option value=\"1169\">[서] 중랑</option>\n",
       "<option value=\"1170\">[서] 중구</option>\n",
       "<option value=\"1171\">[서] 종로</option>\n",
       "<option value=\"1172\">[서] 은평</option>\n",
       "<option value=\"1173\">[서] 동작</option>\n",
       "<option value=\"1174\">[서] 관악</option>\n",
       "<option value=\"1175\">[서] 강동</option>\n",
       "<option value=\"1176\">[서] 강서</option>\n",
       "<option value=\"108\">[기] 서울</option>\n",
       "<option value=\"400\">[기] 강남</option>\n",
       "<option value=\"401\">[기] 서초</option>\n",
       "<option value=\"402\">[기] 강동</option>\n",
       "<option value=\"403\">[기] 송파</option>\n",
       "<option value=\"404\">[기] 강서</option>\n",
       "<option value=\"405\">[기] 양천</option>\n",
       "<option value=\"406\">[기] 도봉</option>\n",
       "<option value=\"407\">[기] 노원</option>\n",
       "<option value=\"408\">[기] 동대문</option>\n",
       "<option value=\"409\">[기] 중랑</option>\n",
       "<option value=\"410\">[기] 기상청</option>\n",
       "<option value=\"411\">[기] 마포</option>\n",
       "<option value=\"412\">[기] 서대문</option>\n",
       "<option value=\"413\">[기] 광진</option>\n",
       "<option value=\"414\">[기] 성북</option>\n",
       "<option value=\"415\">[기] 용산</option>\n",
       "<option value=\"416\">[기] 은평</option>\n",
       "<option value=\"417\">[기] 금천</option>\n",
       "<option value=\"418\">[기] 한강</option>\n",
       "<option value=\"419\">[기] 중구</option>\n",
       "<option value=\"422\">[기] 북악산</option>\n",
       "<option value=\"421\">[기] 성동</option>\n",
       "<option value=\"423\">[기] 구로</option>\n",
       "<option value=\"424\">[기] 강북</option>\n",
       "<option value=\"509\">[기] 관악</option>\n",
       "<option value=\"510\">[기] 영등포</option>\n",
       "<option value=\"425\">[기] 남현</option>\n",
       "<option value=\"889\">[기] 현충원</option>\n",
       "</select>\n",
       "<script>\n",
       "\t\t\t\t\t\t\t\t\t\t\tvar SelectedAWSID = getCookie(\"SelectedAWSID\");\n",
       "\t\t\t\t\t\t\t\t\t\t\tif(SelectedAWSID!=\"\")\n",
       "\t\t\t\t\t\t\t\t\t\t\t\tdocument.form1.AWS_ID.value = getCookie(\"SelectedAWSID\")\n",
       "\t\t\t\t\t\t\t\t\t\t</script>\n",
       "<!-- End Select AWS ID -->\n",
       "</td>\n",
       "<td class=\"textSearch\" width=\"55\">조회일자 </td>\n",
       "<td width=\"270\">\n",
       "<input maxlength=\"7\" name=\"RptSDATE\" onblur=\"javascript:isValidYearMonth(this)\" onkeyup=\"javascript:addYyyyMmHyphen(this)\" size=\"8\" type=\"text\" value=\"2018-04\"/> 년월\n",
       "\t\t\t\t\t\t\t\t\t</td>\n",
       "<td width=\"20\"> </td>\n",
       "<td align=\"right\" width=\"65px\"><input class=\"btnSearch01\" name=\"btnSearch\" onclick=\"javascript:RptSearch(7,'RptWeatherMonth.asp',0,0);\" type=\"button\" value=\"조회\"/></td>\n",
       "<td align=\"right\" width=\"65px\"><input class=\"btnSearch01\" name=\"btnExcel\" onclick=\"javascript:RptSearch(7,'RptWeatherMonth.asp',1,0);\" type=\"button\" value=\"엑셀\"/></td>\n",
       "</tr>\n",
       "</table>\n",
       "<table border=\"0\" cellpsubing=\"0\" cellspacing=\"0\" width=\"100%\">\n",
       "<tr><td align=\"center\" height=\"3\"></td></tr>\n",
       "<tr><td align=\"center\" height=\"3\" style=\"border-top:1px solid #C7E0F5;\"></td></tr>\n",
       "<tr>\n",
       "<td>     \n",
       "\t\t\t\t\t\t\t\t\t\t                \n",
       "\t\t\t\t\t\t\t\t\t\t                \n",
       "\t\t\t\t\t\t\t\t\t\t                \n",
       "\t\t\t\t\t\t\t\t\t\t                \n",
       "\t\t\t\t\t\t\t\t\t\t                \n",
       "\t\t\t\t\t\t\t\t\t\t               \n",
       "\t\t\t\t\t\t\t\t\t\t<input class=\"btnOptionUP\" name=\"BtnSubYY1\" onclick=\"javascript:OnSubYY_RptSearch(1,7,'RptWeatherMonth.asp',0,0);\" type=\"button\" value=\"년\"/>\n",
       "<input class=\"btnOptionDN\" name=\"BtnAddYY1\" onclick=\"javascript:OnAddYY_RptSearch(1,7,'RptWeatherMonth.asp',0,0);\" type=\"button\" value=\"년\"/>   \n",
       "\t\t\t\t\t\t\t\t\t\t<input class=\"btnOptionUP\" name=\"BtnSubMM1\" onclick=\"javascript:OnSubMM_RptSearch(1,7,'RptWeatherMonth.asp',0,0);\" type=\"button\" value=\"월\"/>\n",
       "<input class=\"btnOptionDN\" name=\"BtnAddMM1\" onclick=\"javascript:OnAddMM_RptSearch(1,7,'RptWeatherMonth.asp',0,0);\" type=\"button\" value=\"월\"/>   \n",
       "\t\t\t\t\t\t\t\t\t</td>\n",
       "</tr>\n",
       "</table>\n",
       "</td>\n",
       "<td align=\"right\" background=\"../Images/common/box405.gif\"><img src=\"../Images/common/box405.gif\"/></td>\n",
       "</tr>\n",
       "<tr valign=\"bottom\">\n",
       "<td height=\"9\"><img src=\"../Images/common/box406.gif\"/></td>\n",
       "<td background=\"../Images/common/box407.gif\"><img src=\"../Images/common/box407.gif\"/></td>\n",
       "<td align=\"right\"><img src=\"../Images/common/box408.gif\"/></td>\n",
       "</tr>\n",
       "</table>\n",
       "</form>\n",
       "<!-- End Report Form ----------------------------------------------------------------------------- -->\n",
       "<div id=\"Progress\" style=\"position:absolute; left:350px; top:180px; z-index:200;  border:1px;\">\n",
       "<img src=\"../Images/common/Loading.gif\"/>\n",
       "</div>\n",
       "<script language=\"Javascript\" type=\"text/javascript\">\n",
       "\tdocument.all.Progress.style.display = \"none\";\n",
       "</script>\n",
       "</body></html>"
      ]
     },
     "execution_count": 40,
     "metadata": {},
     "output_type": "execute_result"
    }
   ],
   "source": [
    "soup"
   ]
  },
  {
   "cell_type": "markdown",
   "metadata": {
    "collapsed": true
   },
   "source": [
    "# JS버튼 클릭후 결과\n",
    "asp라서 안 긁히는게 아니다!\n",
    "https://stackoverflow.com/questions/46395314/scraping-aspx-page-with-python\n",
    "1. check my browser header python - 헤더 뭘로해야 함?\n",
    "10. 버튼 클릭한 후 결과 값 가져오기"
   ]
  },
  {
   "cell_type": "markdown",
   "metadata": {},
   "source": [
    "#### 내 헤더?"
   ]
  },
  {
   "cell_type": "markdown",
   "metadata": {},
   "source": [
    "#### 는 모르겠고 아예 가짜로 만들 수 있는 게 있네\n",
    "my browser header python\n",
    "https://stackoverflow.com/questions/27652543/how-to-use-python-requests-to-fake-a-browser-visit"
   ]
  },
  {
   "cell_type": "code",
   "execution_count": 7,
   "metadata": {},
   "outputs": [
    {
     "name": "stdout",
     "output_type": "stream",
     "text": [
      "Collecting fake_useragent\n",
      "  Downloading fake-useragent-0.1.10.tar.gz\n",
      "Building wheels for collected packages: fake-useragent\n",
      "  Running setup.py bdist_wheel for fake-useragent: started\n",
      "  Running setup.py bdist_wheel for fake-useragent: finished with status 'done'\n",
      "  Stored in directory: C:\\Users\\kitcoop\\AppData\\Local\\pip\\Cache\\wheels\\07\\04\\1d\\bbd8ba7d692add504b44552504b7df239bddf56aa3387cee2b\n",
      "Successfully built fake-useragent\n",
      "Installing collected packages: fake-useragent\n",
      "Successfully installed fake-useragent-0.1.10\n"
     ]
    }
   ],
   "source": [
    "!pip install fake_useragent"
   ]
  },
  {
   "cell_type": "code",
   "execution_count": 8,
   "metadata": {},
   "outputs": [],
   "source": [
    "from fake_useragent import UserAgent"
   ]
  },
  {
   "cell_type": "code",
   "execution_count": 10,
   "metadata": {},
   "outputs": [],
   "source": [
    "# 꽤 오래걸림\n",
    "ua= UserAgent()"
   ]
  },
  {
   "cell_type": "code",
   "execution_count": 28,
   "metadata": {},
   "outputs": [],
   "source": [
    "#ua.data #온갖 브라우저가 미리 들어가 있음"
   ]
  },
  {
   "cell_type": "code",
   "execution_count": 34,
   "metadata": {},
   "outputs": [
    {
     "data": {
      "text/plain": [
       "'Mozilla/5.0 (Windows NT 5.1) AppleWebKit/537.36 (KHTML, like Gecko) Chrome/27.0.1453.93 Safari/537.36'"
      ]
     },
     "execution_count": 34,
     "metadata": {},
     "output_type": "execute_result"
    }
   ],
   "source": [
    "#실행마다 다른 게 들어간다\n",
    "ua.chrome"
   ]
  },
  {
   "cell_type": "code",
   "execution_count": 22,
   "metadata": {},
   "outputs": [
    {
     "data": {
      "text/plain": [
       "'Mozilla/5.0 (Windows NT 5.1) AppleWebKit/537.36 (KHTML, like Gecko) Chrome/36.0.1985.67 Safari/537.36'"
      ]
     },
     "execution_count": 22,
     "metadata": {},
     "output_type": "execute_result"
    }
   ],
   "source": [
    "ua.random"
   ]
  },
  {
   "cell_type": "code",
   "execution_count": 15,
   "metadata": {},
   "outputs": [
    {
     "data": {
      "text/plain": [
       "str"
      ]
     },
     "execution_count": 15,
     "metadata": {},
     "output_type": "execute_result"
    }
   ],
   "source": [
    "type(ua.firefox)"
   ]
  },
  {
   "cell_type": "code",
   "execution_count": 2,
   "metadata": {
    "collapsed": true
   },
   "outputs": [],
   "source": [
    "import urllib\n",
    "from bs4 import BeautifulSoup"
   ]
  },
  {
   "cell_type": "code",
   "execution_count": 35,
   "metadata": {
    "collapsed": true
   },
   "outputs": [],
   "source": [
    "uaChrome= ua.chrome\n",
    "\n",
    "headers= {\n",
    "    'User-Agent':uaChrome\n",
    "}"
   ]
  },
  {
   "cell_type": "code",
   "execution_count": 17,
   "metadata": {
    "collapsed": true
   },
   "outputs": [],
   "source": [
    "url= 'http://aws.seoul.go.kr/Report/RptWeatherMonth.asp'"
   ]
  },
  {
   "cell_type": "code",
   "execution_count": null,
   "metadata": {
    "collapsed": true
   },
   "outputs": [],
   "source": []
  },
  {
   "cell_type": "code",
   "execution_count": null,
   "metadata": {
    "collapsed": true
   },
   "outputs": [],
   "source": []
  },
  {
   "cell_type": "code",
   "execution_count": null,
   "metadata": {
    "collapsed": true
   },
   "outputs": [],
   "source": []
  },
  {
   "cell_type": "code",
   "execution_count": null,
   "metadata": {
    "collapsed": true
   },
   "outputs": [],
   "source": []
  },
  {
   "cell_type": "markdown",
   "metadata": {},
   "source": [
    "#### 긁히는지 확인- 아직은 껍데기만"
   ]
  },
  {
   "cell_type": "code",
   "execution_count": 17,
   "metadata": {
    "collapsed": true
   },
   "outputs": [],
   "source": [
    "url= 'http://aws.seoul.go.kr/Report/RptWeatherMonth.asp'"
   ]
  },
  {
   "cell_type": "code",
   "execution_count": 18,
   "metadata": {
    "collapsed": true
   },
   "outputs": [],
   "source": [
    "url_get= requests.get(url)"
   ]
  },
  {
   "cell_type": "code",
   "execution_count": 19,
   "metadata": {},
   "outputs": [
    {
     "data": {
      "text/plain": [
       "<Response [200]>"
      ]
     },
     "execution_count": 19,
     "metadata": {},
     "output_type": "execute_result"
    }
   ],
   "source": [
    "url_get"
   ]
  },
  {
   "cell_type": "code",
   "execution_count": 21,
   "metadata": {},
   "outputs": [
    {
     "data": {
      "text/plain": [
       "<html><head><script type=\"text/JavaScript\">\n",
       "\t//지도 좌표\n",
       "\tvar MAP_LEFT_LON\t= -126.75561;\t\t//좌측 좌표\n",
       "\tvar MAP_TOP_LAT\t\t=  37.70152;\t\t//상단 좌표 (주의, X.Y 좌표와 반대)\n",
       "\n",
       "\tvar MAP_RIGHT_LON\t= -127.19456;\t\t//우측 좌표\n",
       "\tvar MAP_BOTTOM_LAT\t=  37.42336;\t\t//하단 좌표 (주의, X.Y 좌표와 반대)\n",
       "\t\n",
       "\tvar MAP_SIZE_LON\t= MAP_RIGHT_LON - MAP_LEFT_LON;\n",
       "\tvar MAP_SIZE_LAT\t= MAP_TOP_LAT  - MAP_BOTTOM_LAT;\n",
       "\n",
       "\t//지도 이미지 크기\n",
       "\tvar MAP_SIZE_X\t\t= 500;\n",
       "\tvar MAP_SIZE_Y\t\t= 398;\n",
       "\t\n",
       "\t//아이콘 크기\n",
       "\tvar MAP_ICON_SIZE\t= 8;\n",
       "\t\n",
       "\tvar ImageSrcPath    = \"../Images/\"+\"seoul\";\n",
       "\tvar gDefaultSite \t= \"1100\";\n",
       "</script>\n",
       "<!DOCTYPE html PUBLIC \"-//W3C//DTD XHTML 1.0 Transitional//EN\" \"http://www.w3.org/TR/xhtml1/DTD/xhtml1-transitional.dtd\">\n",
       "\n",
       "<meta charset=\"utf-8\" content=\"text/html\" http-equiv=\"Content-Type\"/>\n",
       "<link href=\"../css/weather.css\" rel=\"stylesheet\" type=\"text/css\"/>\n",
       "<script language=\"javascript\" src=\"../include/common.js\" type=\"text/javascript\"></script>\n",
       "<script language=\"javascript\" src=\"../include/Report.js\" type=\"text/javascript\"></script>\n",
       "</head><body>\n",
       "<table border=\"0\" cellpadding=\"0\" cellspacing=\"0\" class=\"line01\" width=\"765\">\n",
       "<tr>\n",
       "<td class=\"mainTitle\" nowrap=\"nowrap\"><img align=\"absmiddle\" src=\"../Images/bullet/icon_title.gif\"/>    <img align=\"absmiddle\" src=\"../Images/common/title_vline.gif\"/></td>\n",
       "<td class=\"explain\" width=\"700px\">  일평균 자료 + 기간통계</td>\n",
       "</tr>\n",
       "</table>\n",
       "<!-- Start Report Form -->\n",
       "<form method=\"post\" name=\"form1\">\n",
       "<input name=\"TITLE\" type=\"hidden\" value=\"\"/>\n",
       "<input name=\"EXCEL\" type=\"hidden\" value=\"\"/>\n",
       "<input name=\"MODE\" type=\"hidden\" value=\"\"/>\n",
       "<input name=\"SDATAKEY\" type=\"hidden\" value=\"\"/>\n",
       "<input name=\"VIEW_MIN\" type=\"hidden\" value=\"\"/>\n",
       "<input name=\"VIEW_MAX\" type=\"hidden\" value=\"\"/>\n",
       "<input name=\"VIEW_SITE\" type=\"hidden\" value=\"\"/>\n",
       "<input name=\"VIEW_WIND\" type=\"hidden\" value=\"\"/>\n",
       "<table border=\"0\" cellpadding=\"0\" cellspacing=\"0\" style=\"margin-bottom:5px;\" width=\"765\">\n",
       "<tr valign=\"top\">\n",
       "<td height=\"9\" width=\"9\"><img src=\"../Images/common/box401.gif\"/></td>\n",
       "<td background=\"../Images/common/box402.gif\"><img src=\"../Images/common/box402.gif\"/></td>\n",
       "<td align=\"right\" width=\"9\"><img src=\"../Images/common/box403.gif\"/></td>\n",
       "</tr>\n",
       "<tr>\n",
       "<td background=\"../Images/common/box404.gif\"><img src=\"../Images/common/box404.gif\"/></td>\n",
       "<td bgcolor=\"#F1F8FB\">\n",
       "<table border=\"0\" cellpadding=\"0\" cellspacing=\"0\" width=\"100%\">\n",
       "<tr>\n",
       "<td class=\"textSearch\" width=\"30px\">지점</td>\n",
       "<td class=\"textBold\" width=\"160px\">\n",
       "<!-- Start Select AWS ID ------------------------------------------------------------------------- -->\n",
       "<select name=\"AWS_ID\">\n",
       "<option value=\"\">[선택]</option>\n",
       "<option value=\"1151\">[서] 남산</option>\n",
       "<option value=\"1152\">[서] 동대문</option>\n",
       "<option value=\"1153\">[서] 성북</option>\n",
       "<option value=\"1154\">[서] 도봉</option>\n",
       "<option value=\"1155\">[서] 마포</option>\n",
       "<option value=\"1156\">[서] 구로</option>\n",
       "<option value=\"1157\">[서] 영등포</option>\n",
       "<option value=\"1158\">[서] 서초</option>\n",
       "<option value=\"1159\">[서] 강남</option>\n",
       "<option value=\"1160\">[서] 서대문</option>\n",
       "<option value=\"1161\">[서] 금천</option>\n",
       "<option value=\"1162\">[서] 양천</option>\n",
       "<option value=\"1163\">[서] 노원</option>\n",
       "<option value=\"1164\">[서] 광진</option>\n",
       "<option value=\"1165\">[서] 강북</option>\n",
       "<option value=\"1166\">[서] 송파</option>\n",
       "<option value=\"1167\">[서] 용산</option>\n",
       "<option value=\"1168\">[서] 성동</option>\n",
       "<option value=\"1169\">[서] 중랑</option>\n",
       "<option value=\"1170\">[서] 중구</option>\n",
       "<option value=\"1171\">[서] 종로</option>\n",
       "<option value=\"1172\">[서] 은평</option>\n",
       "<option value=\"1173\">[서] 동작</option>\n",
       "<option value=\"1174\">[서] 관악</option>\n",
       "<option value=\"1175\">[서] 강동</option>\n",
       "<option value=\"1176\">[서] 강서</option>\n",
       "<option value=\"108\">[기] 서울</option>\n",
       "<option value=\"400\">[기] 강남</option>\n",
       "<option value=\"401\">[기] 서초</option>\n",
       "<option value=\"402\">[기] 강동</option>\n",
       "<option value=\"403\">[기] 송파</option>\n",
       "<option value=\"404\">[기] 강서</option>\n",
       "<option value=\"405\">[기] 양천</option>\n",
       "<option value=\"406\">[기] 도봉</option>\n",
       "<option value=\"407\">[기] 노원</option>\n",
       "<option value=\"408\">[기] 동대문</option>\n",
       "<option value=\"409\">[기] 중랑</option>\n",
       "<option value=\"410\">[기] 기상청</option>\n",
       "<option value=\"411\">[기] 마포</option>\n",
       "<option value=\"412\">[기] 서대문</option>\n",
       "<option value=\"413\">[기] 광진</option>\n",
       "<option value=\"414\">[기] 성북</option>\n",
       "<option value=\"415\">[기] 용산</option>\n",
       "<option value=\"416\">[기] 은평</option>\n",
       "<option value=\"417\">[기] 금천</option>\n",
       "<option value=\"418\">[기] 한강</option>\n",
       "<option value=\"419\">[기] 중구</option>\n",
       "<option value=\"422\">[기] 북악산</option>\n",
       "<option value=\"421\">[기] 성동</option>\n",
       "<option value=\"423\">[기] 구로</option>\n",
       "<option value=\"424\">[기] 강북</option>\n",
       "<option value=\"509\">[기] 관악</option>\n",
       "<option value=\"510\">[기] 영등포</option>\n",
       "<option value=\"425\">[기] 남현</option>\n",
       "<option value=\"889\">[기] 현충원</option>\n",
       "</select>\n",
       "<script>\n",
       "\t\t\t\t\t\t\t\t\t\t\tvar SelectedAWSID = getCookie(\"SelectedAWSID\");\n",
       "\t\t\t\t\t\t\t\t\t\t\tif(SelectedAWSID!=\"\")\n",
       "\t\t\t\t\t\t\t\t\t\t\t\tdocument.form1.AWS_ID.value = getCookie(\"SelectedAWSID\")\n",
       "\t\t\t\t\t\t\t\t\t\t</script>\n",
       "<!-- End Select AWS ID -->\n",
       "</td>\n",
       "<td class=\"textSearch\" width=\"55\">조회일자 </td>\n",
       "<td width=\"270\">\n",
       "<input maxlength=\"7\" name=\"RptSDATE\" onblur=\"javascript:isValidYearMonth(this)\" onkeyup=\"javascript:addYyyyMmHyphen(this)\" size=\"8\" type=\"text\" value=\"2018-04\"/> 년월\n",
       "\t\t\t\t\t\t\t\t\t</td>\n",
       "<td width=\"20\"> </td>\n",
       "<td align=\"right\" width=\"65px\"><input class=\"btnSearch01\" name=\"btnSearch\" onclick=\"javascript:RptSearch(7,'RptWeatherMonth.asp',0,0);\" type=\"button\" value=\"조회\"/></td>\n",
       "<td align=\"right\" width=\"65px\"><input class=\"btnSearch01\" name=\"btnExcel\" onclick=\"javascript:RptSearch(7,'RptWeatherMonth.asp',1,0);\" type=\"button\" value=\"엑셀\"/></td>\n",
       "</tr>\n",
       "</table>\n",
       "<table border=\"0\" cellpsubing=\"0\" cellspacing=\"0\" width=\"100%\">\n",
       "<tr><td align=\"center\" height=\"3\"></td></tr>\n",
       "<tr><td align=\"center\" height=\"3\" style=\"border-top:1px solid #C7E0F5;\"></td></tr>\n",
       "<tr>\n",
       "<td>     \n",
       "\t\t\t\t\t\t\t\t\t\t                \n",
       "\t\t\t\t\t\t\t\t\t\t                \n",
       "\t\t\t\t\t\t\t\t\t\t                \n",
       "\t\t\t\t\t\t\t\t\t\t                \n",
       "\t\t\t\t\t\t\t\t\t\t                \n",
       "\t\t\t\t\t\t\t\t\t\t               \n",
       "\t\t\t\t\t\t\t\t\t\t<input class=\"btnOptionUP\" name=\"BtnSubYY1\" onclick=\"javascript:OnSubYY_RptSearch(1,7,'RptWeatherMonth.asp',0,0);\" type=\"button\" value=\"년\"/>\n",
       "<input class=\"btnOptionDN\" name=\"BtnAddYY1\" onclick=\"javascript:OnAddYY_RptSearch(1,7,'RptWeatherMonth.asp',0,0);\" type=\"button\" value=\"년\"/>   \n",
       "\t\t\t\t\t\t\t\t\t\t<input class=\"btnOptionUP\" name=\"BtnSubMM1\" onclick=\"javascript:OnSubMM_RptSearch(1,7,'RptWeatherMonth.asp',0,0);\" type=\"button\" value=\"월\"/>\n",
       "<input class=\"btnOptionDN\" name=\"BtnAddMM1\" onclick=\"javascript:OnAddMM_RptSearch(1,7,'RptWeatherMonth.asp',0,0);\" type=\"button\" value=\"월\"/>   \n",
       "\t\t\t\t\t\t\t\t\t</td>\n",
       "</tr>\n",
       "</table>\n",
       "</td>\n",
       "<td align=\"right\" background=\"../Images/common/box405.gif\"><img src=\"../Images/common/box405.gif\"/></td>\n",
       "</tr>\n",
       "<tr valign=\"bottom\">\n",
       "<td height=\"9\"><img src=\"../Images/common/box406.gif\"/></td>\n",
       "<td background=\"../Images/common/box407.gif\"><img src=\"../Images/common/box407.gif\"/></td>\n",
       "<td align=\"right\"><img src=\"../Images/common/box408.gif\"/></td>\n",
       "</tr>\n",
       "</table>\n",
       "</form>\n",
       "<!-- End Report Form ----------------------------------------------------------------------------- -->\n",
       "<div id=\"Progress\" style=\"position:absolute; left:350px; top:180px; z-index:200;  border:1px;\">\n",
       "<img src=\"../Images/common/Loading.gif\"/>\n",
       "</div>\n",
       "<script language=\"Javascript\" type=\"text/javascript\">\n",
       "\tdocument.all.Progress.style.display = \"none\";\n",
       "</script>\n",
       "</body></html>"
      ]
     },
     "execution_count": 21,
     "metadata": {},
     "output_type": "execute_result"
    }
   ],
   "source": [
    "soup= BeautifulSoup(url_get.content, 'lxml')\n",
    "soup"
   ]
  },
  {
   "cell_type": "code",
   "execution_count": null,
   "metadata": {
    "collapsed": true
   },
   "outputs": [],
   "source": []
  }
 ],
 "metadata": {
  "kernelspec": {
   "display_name": "Python 3",
   "language": "python",
   "name": "python3"
  },
  "language_info": {
   "codemirror_mode": {
    "name": "ipython",
    "version": 3
   },
   "file_extension": ".py",
   "mimetype": "text/x-python",
   "name": "python",
   "nbconvert_exporter": "python",
   "pygments_lexer": "ipython3",
   "version": "3.6.3"
  }
 },
 "nbformat": 4,
 "nbformat_minor": 2
}
