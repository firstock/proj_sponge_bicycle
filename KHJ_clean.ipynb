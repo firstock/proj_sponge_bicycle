{
 "cells": [
  {
   "cell_type": "markdown",
   "metadata": {},
   "source": [
    "#### 따릉이"
   ]
  },
  {
   "cell_type": "code",
   "execution_count": 2,
   "metadata": {},
   "outputs": [
    {
     "name": "stdout",
     "output_type": "stream",
     "text": [
      "E:\\github\\proj_sponge_bycicle\\data\n",
      " E 드라이브의 볼륨에는 이름이 없습니다.\n",
      " 볼륨 일련 번호: 2468-0A05\n",
      "\n",
      " E:\\github\\proj_sponge_bycicle\\data 디렉터리\n",
      "\n",
      "2018-04-04  오후 02:46    <DIR>          .\n",
      "2018-04-04  오후 02:46    <DIR>          ..\n",
      "2018-02-01  오후 04:37         2,551,880 bycicleRental2016.xlsx\n",
      "2018-02-01  오후 04:37         6,328,242 bycicleRental2017.xlsx\n",
      "               2개 파일           8,880,122 바이트\n",
      "               2개 디렉터리  224,800,985,088 바이트 남음\n",
      "E:\\github\\proj_sponge_bycicle\n"
     ]
    }
   ],
   "source": [
    "%cd data\n",
    "%ls\n",
    "%cd .."
   ]
  },
  {
   "cell_type": "markdown",
   "metadata": {},
   "source": [
    "## read& merge\n",
    "bycicleRental_tot.xlsx"
   ]
  },
  {
   "cell_type": "code",
   "execution_count": 1,
   "metadata": {
    "collapsed": true
   },
   "outputs": [],
   "source": [
    "import pandas as pd"
   ]
  },
  {
   "cell_type": "code",
   "execution_count": 2,
   "metadata": {
    "collapsed": true
   },
   "outputs": [],
   "source": [
    "xls_file= pd.ExcelFile('data/bycicleRental2016.xlsx')"
   ]
  },
  {
   "cell_type": "code",
   "execution_count": 3,
   "metadata": {
    "collapsed": true
   },
   "outputs": [],
   "source": [
    "sn16= xls_file.sheet_names\n",
    "rent16= xls_file.parse(sn16[0])"
   ]
  },
  {
   "cell_type": "code",
   "execution_count": 4,
   "metadata": {},
   "outputs": [
    {
     "name": "stdout",
     "output_type": "stream",
     "text": [
      "(99829, 4)\n"
     ]
    }
   ],
   "source": [
    "print(rent16.shape)\n",
    "# rent16"
   ]
  },
  {
   "cell_type": "code",
   "execution_count": 5,
   "metadata": {
    "collapsed": true
   },
   "outputs": [],
   "source": [
    "xls_file= pd.ExcelFile('data/bycicleRental2017.xlsx')"
   ]
  },
  {
   "cell_type": "code",
   "execution_count": 6,
   "metadata": {
    "collapsed": true
   },
   "outputs": [],
   "source": [
    "sn17= xls_file.sheet_names\n",
    "rent17= xls_file.parse(sn17[0])"
   ]
  },
  {
   "cell_type": "code",
   "execution_count": 7,
   "metadata": {
    "scrolled": true
   },
   "outputs": [
    {
     "name": "stdout",
     "output_type": "stream",
     "text": [
      "(245446, 4)\n"
     ]
    }
   ],
   "source": [
    "print(rent17.shape)\n",
    "# rent17"
   ]
  },
  {
   "cell_type": "code",
   "execution_count": 19,
   "metadata": {},
   "outputs": [
    {
     "data": {
      "text/plain": [
       "Timestamp('2017-01-01 00:00:00')"
      ]
     },
     "execution_count": 19,
     "metadata": {},
     "output_type": "execute_result"
    }
   ],
   "source": [
    "rent17.rentdate[0]"
   ]
  },
  {
   "cell_type": "code",
   "execution_count": 9,
   "metadata": {
    "collapsed": true
   },
   "outputs": [],
   "source": [
    "rent= pd.merge(rent16, rent17, how='outer')"
   ]
  },
  {
   "cell_type": "code",
   "execution_count": 10,
   "metadata": {},
   "outputs": [
    {
     "name": "stdout",
     "output_type": "stream",
     "text": [
      "(99829, 4)\n",
      "(245446, 4)\n",
      "(345275, 4)\n"
     ]
    }
   ],
   "source": [
    "print(rent16.shape)\n",
    "print(rent17.shape)\n",
    "print(rent.shape)"
   ]
  },
  {
   "cell_type": "code",
   "execution_count": 11,
   "metadata": {},
   "outputs": [
    {
     "data": {
      "text/plain": [
       "345275"
      ]
     },
     "execution_count": 11,
     "metadata": {},
     "output_type": "execute_result"
    }
   ],
   "source": [
    "99829+245446"
   ]
  },
  {
   "cell_type": "markdown",
   "metadata": {},
   "source": [
    "#### merge한거 excel로 저장"
   ]
  },
  {
   "cell_type": "code",
   "execution_count": 12,
   "metadata": {
    "collapsed": true
   },
   "outputs": [],
   "source": [
    "pd.ExcelWriter?"
   ]
  },
  {
   "cell_type": "code",
   "execution_count": 23,
   "metadata": {
    "collapsed": true
   },
   "outputs": [],
   "source": [
    "writer= pd.ExcelWriter('data/bycicleRental_tot.xlsx')\n",
    "rent.to_excel(writer, sheet_name='rent1617', index= False)\n",
    "writer.save()"
   ]
  },
  {
   "cell_type": "code",
   "execution_count": 24,
   "metadata": {
    "collapsed": true
   },
   "outputs": [],
   "source": [
    "xls_file_tot= pd.ExcelFile('data/bycicleRental_tot.xlsx')"
   ]
  },
  {
   "cell_type": "code",
   "execution_count": 15,
   "metadata": {
    "collapsed": true
   },
   "outputs": [],
   "source": [
    "sn= xls_file_tot.sheet_names"
   ]
  },
  {
   "cell_type": "code",
   "execution_count": 16,
   "metadata": {},
   "outputs": [
    {
     "data": {
      "text/plain": [
       "'rent1617'"
      ]
     },
     "execution_count": 16,
     "metadata": {},
     "output_type": "execute_result"
    }
   ],
   "source": [
    "sn[0]"
   ]
  },
  {
   "cell_type": "code",
   "execution_count": 17,
   "metadata": {
    "collapsed": true
   },
   "outputs": [],
   "source": [
    "# xls_file.parse?"
   ]
  },
  {
   "cell_type": "code",
   "execution_count": 25,
   "metadata": {
    "scrolled": true
   },
   "outputs": [],
   "source": [
    "rent_tot= xls_file_tot.parse(sn[0])#, parse_dates=['rentdate'])"
   ]
  },
  {
   "cell_type": "code",
   "execution_count": 26,
   "metadata": {
    "scrolled": true
   },
   "outputs": [
    {
     "name": "stdout",
     "output_type": "stream",
     "text": [
      "(345275, 4)\n"
     ]
    },
    {
     "data": {
      "text/html": [
       "<div>\n",
       "<style>\n",
       "    .dataframe thead tr:only-child th {\n",
       "        text-align: right;\n",
       "    }\n",
       "\n",
       "    .dataframe thead th {\n",
       "        text-align: left;\n",
       "    }\n",
       "\n",
       "    .dataframe tbody tr th {\n",
       "        vertical-align: top;\n",
       "    }\n",
       "</style>\n",
       "<table border=\"1\" class=\"dataframe\">\n",
       "  <thead>\n",
       "    <tr style=\"text-align: right;\">\n",
       "      <th></th>\n",
       "      <th>area</th>\n",
       "      <th>location</th>\n",
       "      <th>rentdate</th>\n",
       "      <th>rentcnt</th>\n",
       "    </tr>\n",
       "  </thead>\n",
       "  <tbody>\n",
       "    <tr>\n",
       "      <th>0</th>\n",
       "      <td>그룹명 없음</td>\n",
       "      <td>대여소명 없음</td>\n",
       "      <td>2016-01-01</td>\n",
       "      <td>0</td>\n",
       "    </tr>\n",
       "    <tr>\n",
       "      <th>1</th>\n",
       "      <td>광진구</td>\n",
       "      <td>500. 어린이대공원역 3번출구 앞</td>\n",
       "      <td>2016-01-01</td>\n",
       "      <td>7</td>\n",
       "    </tr>\n",
       "    <tr>\n",
       "      <th>2</th>\n",
       "      <td>광진구</td>\n",
       "      <td>501. 광진구의회 앞</td>\n",
       "      <td>2016-01-01</td>\n",
       "      <td>0</td>\n",
       "    </tr>\n",
       "    <tr>\n",
       "      <th>3</th>\n",
       "      <td>광진구</td>\n",
       "      <td>502. 뚝섬유원지역 1번출구 앞</td>\n",
       "      <td>2016-01-01</td>\n",
       "      <td>9</td>\n",
       "    </tr>\n",
       "    <tr>\n",
       "      <th>4</th>\n",
       "      <td>광진구</td>\n",
       "      <td>503. 더샵스타시티 C동 앞</td>\n",
       "      <td>2016-01-01</td>\n",
       "      <td>8</td>\n",
       "    </tr>\n",
       "    <tr>\n",
       "      <th>5</th>\n",
       "      <td>광진구</td>\n",
       "      <td>504. 신자초교입구교차로</td>\n",
       "      <td>2016-01-01</td>\n",
       "      <td>1</td>\n",
       "    </tr>\n",
       "    <tr>\n",
       "      <th>6</th>\n",
       "      <td>광진구</td>\n",
       "      <td>505. 자양사거리 광진아크로텔 앞</td>\n",
       "      <td>2016-01-01</td>\n",
       "      <td>4</td>\n",
       "    </tr>\n",
       "    <tr>\n",
       "      <th>7</th>\n",
       "      <td>광진구</td>\n",
       "      <td>515. 광양중학교 앞</td>\n",
       "      <td>2016-01-01</td>\n",
       "      <td>2</td>\n",
       "    </tr>\n",
       "    <tr>\n",
       "      <th>8</th>\n",
       "      <td>광진구</td>\n",
       "      <td>516. 광진메디칼 앞</td>\n",
       "      <td>2016-01-01</td>\n",
       "      <td>2</td>\n",
       "    </tr>\n",
       "    <tr>\n",
       "      <th>9</th>\n",
       "      <td>마포구</td>\n",
       "      <td>101. (구)합정동 주민센터</td>\n",
       "      <td>2016-01-01</td>\n",
       "      <td>3</td>\n",
       "    </tr>\n",
       "    <tr>\n",
       "      <th>10</th>\n",
       "      <td>마포구</td>\n",
       "      <td>102. 망원역 1번출구 앞</td>\n",
       "      <td>2016-01-01</td>\n",
       "      <td>13</td>\n",
       "    </tr>\n",
       "    <tr>\n",
       "      <th>11</th>\n",
       "      <td>마포구</td>\n",
       "      <td>103. 망원역 2번출구 앞</td>\n",
       "      <td>2016-01-01</td>\n",
       "      <td>2</td>\n",
       "    </tr>\n",
       "    <tr>\n",
       "      <th>12</th>\n",
       "      <td>마포구</td>\n",
       "      <td>104. 합정역 1번출구 앞</td>\n",
       "      <td>2016-01-01</td>\n",
       "      <td>3</td>\n",
       "    </tr>\n",
       "    <tr>\n",
       "      <th>13</th>\n",
       "      <td>마포구</td>\n",
       "      <td>105. 합정역 5번출구 앞</td>\n",
       "      <td>2016-01-01</td>\n",
       "      <td>4</td>\n",
       "    </tr>\n",
       "    <tr>\n",
       "      <th>14</th>\n",
       "      <td>마포구</td>\n",
       "      <td>106. 합정역 7번출구 앞</td>\n",
       "      <td>2016-01-01</td>\n",
       "      <td>6</td>\n",
       "    </tr>\n",
       "    <tr>\n",
       "      <th>15</th>\n",
       "      <td>마포구</td>\n",
       "      <td>107. 신한은행 서교동금융센터점 앞</td>\n",
       "      <td>2016-01-01</td>\n",
       "      <td>2</td>\n",
       "    </tr>\n",
       "    <tr>\n",
       "      <th>16</th>\n",
       "      <td>마포구</td>\n",
       "      <td>108. 서교동 사거리</td>\n",
       "      <td>2016-01-01</td>\n",
       "      <td>7</td>\n",
       "    </tr>\n",
       "    <tr>\n",
       "      <th>17</th>\n",
       "      <td>마포구</td>\n",
       "      <td>111. 상수역 2번출구 앞</td>\n",
       "      <td>2016-01-01</td>\n",
       "      <td>8</td>\n",
       "    </tr>\n",
       "    <tr>\n",
       "      <th>18</th>\n",
       "      <td>마포구</td>\n",
       "      <td>112. 극동방송국 앞</td>\n",
       "      <td>2016-01-01</td>\n",
       "      <td>4</td>\n",
       "    </tr>\n",
       "    <tr>\n",
       "      <th>19</th>\n",
       "      <td>마포구</td>\n",
       "      <td>113. 홍대입구역 2번출구 앞</td>\n",
       "      <td>2016-01-01</td>\n",
       "      <td>10</td>\n",
       "    </tr>\n",
       "    <tr>\n",
       "      <th>20</th>\n",
       "      <td>마포구</td>\n",
       "      <td>114. 홍대입구역 8번출구 앞</td>\n",
       "      <td>2016-01-01</td>\n",
       "      <td>3</td>\n",
       "    </tr>\n",
       "    <tr>\n",
       "      <th>21</th>\n",
       "      <td>마포구</td>\n",
       "      <td>118. 광흥창역 2번출구 앞</td>\n",
       "      <td>2016-01-01</td>\n",
       "      <td>10</td>\n",
       "    </tr>\n",
       "    <tr>\n",
       "      <th>22</th>\n",
       "      <td>마포구</td>\n",
       "      <td>119. 서강나루 공원</td>\n",
       "      <td>2016-01-01</td>\n",
       "      <td>1</td>\n",
       "    </tr>\n",
       "    <tr>\n",
       "      <th>23</th>\n",
       "      <td>마포구</td>\n",
       "      <td>120. 신수동 사거리</td>\n",
       "      <td>2016-01-01</td>\n",
       "      <td>6</td>\n",
       "    </tr>\n",
       "    <tr>\n",
       "      <th>24</th>\n",
       "      <td>마포구</td>\n",
       "      <td>121. 마포소방서 앞</td>\n",
       "      <td>2016-01-01</td>\n",
       "      <td>2</td>\n",
       "    </tr>\n",
       "    <tr>\n",
       "      <th>25</th>\n",
       "      <td>마포구</td>\n",
       "      <td>122. 신성기사식당 앞</td>\n",
       "      <td>2016-01-01</td>\n",
       "      <td>10</td>\n",
       "    </tr>\n",
       "    <tr>\n",
       "      <th>26</th>\n",
       "      <td>마포구</td>\n",
       "      <td>124. 서강대 정문 건너편</td>\n",
       "      <td>2016-01-01</td>\n",
       "      <td>9</td>\n",
       "    </tr>\n",
       "    <tr>\n",
       "      <th>27</th>\n",
       "      <td>마포구</td>\n",
       "      <td>125. 서강대 남문 옆</td>\n",
       "      <td>2016-01-01</td>\n",
       "      <td>2</td>\n",
       "    </tr>\n",
       "    <tr>\n",
       "      <th>28</th>\n",
       "      <td>마포구</td>\n",
       "      <td>126. 서강대 후문 옆</td>\n",
       "      <td>2016-01-01</td>\n",
       "      <td>3</td>\n",
       "    </tr>\n",
       "    <tr>\n",
       "      <th>29</th>\n",
       "      <td>마포구</td>\n",
       "      <td>129. 신촌역(2호선) 6번출구 옆</td>\n",
       "      <td>2016-01-01</td>\n",
       "      <td>5</td>\n",
       "    </tr>\n",
       "    <tr>\n",
       "      <th>...</th>\n",
       "      <td>...</td>\n",
       "      <td>...</td>\n",
       "      <td>...</td>\n",
       "      <td>...</td>\n",
       "    </tr>\n",
       "    <tr>\n",
       "      <th>345245</th>\n",
       "      <td>중랑구</td>\n",
       "      <td>1405. 망우역 1번출구</td>\n",
       "      <td>2017-12-31</td>\n",
       "      <td>2</td>\n",
       "    </tr>\n",
       "    <tr>\n",
       "      <th>345246</th>\n",
       "      <td>중랑구</td>\n",
       "      <td>1406. 망우청소년수련관</td>\n",
       "      <td>2017-12-31</td>\n",
       "      <td>0</td>\n",
       "    </tr>\n",
       "    <tr>\n",
       "      <th>345247</th>\n",
       "      <td>중랑구</td>\n",
       "      <td>1407. 먹골역 1번출구 뒤</td>\n",
       "      <td>2017-12-31</td>\n",
       "      <td>6</td>\n",
       "    </tr>\n",
       "    <tr>\n",
       "      <th>345248</th>\n",
       "      <td>중랑구</td>\n",
       "      <td>1408. 먹골역 6번출구 앞</td>\n",
       "      <td>2017-12-31</td>\n",
       "      <td>2</td>\n",
       "    </tr>\n",
       "    <tr>\n",
       "      <th>345249</th>\n",
       "      <td>중랑구</td>\n",
       "      <td>1410. 면목 대원칸타빌아파트</td>\n",
       "      <td>2017-12-31</td>\n",
       "      <td>2</td>\n",
       "    </tr>\n",
       "    <tr>\n",
       "      <th>345250</th>\n",
       "      <td>중랑구</td>\n",
       "      <td>1411. 상봉시장앞 교차로 한성빌딩 앞</td>\n",
       "      <td>2017-12-31</td>\n",
       "      <td>2</td>\n",
       "    </tr>\n",
       "    <tr>\n",
       "      <th>345251</th>\n",
       "      <td>중랑구</td>\n",
       "      <td>1412. 면목초등학교</td>\n",
       "      <td>2017-12-31</td>\n",
       "      <td>4</td>\n",
       "    </tr>\n",
       "    <tr>\n",
       "      <th>345252</th>\n",
       "      <td>중랑구</td>\n",
       "      <td>1413. 봉화산역 5번출구 뒤</td>\n",
       "      <td>2017-12-31</td>\n",
       "      <td>2</td>\n",
       "    </tr>\n",
       "    <tr>\n",
       "      <th>345253</th>\n",
       "      <td>중랑구</td>\n",
       "      <td>1414. 사가정역 1번출구</td>\n",
       "      <td>2017-12-31</td>\n",
       "      <td>3</td>\n",
       "    </tr>\n",
       "    <tr>\n",
       "      <th>345254</th>\n",
       "      <td>중랑구</td>\n",
       "      <td>1416. 상봉역 3번출구</td>\n",
       "      <td>2017-12-31</td>\n",
       "      <td>2</td>\n",
       "    </tr>\n",
       "    <tr>\n",
       "      <th>345255</th>\n",
       "      <td>중랑구</td>\n",
       "      <td>1418. 새솔초등학교</td>\n",
       "      <td>2017-12-31</td>\n",
       "      <td>1</td>\n",
       "    </tr>\n",
       "    <tr>\n",
       "      <th>345256</th>\n",
       "      <td>중랑구</td>\n",
       "      <td>1420. 신내어울공원 앞</td>\n",
       "      <td>2017-12-31</td>\n",
       "      <td>0</td>\n",
       "    </tr>\n",
       "    <tr>\n",
       "      <th>345257</th>\n",
       "      <td>중랑구</td>\n",
       "      <td>1426. 면목도시개발아파트 1동 앞</td>\n",
       "      <td>2017-12-31</td>\n",
       "      <td>2</td>\n",
       "    </tr>\n",
       "    <tr>\n",
       "      <th>345258</th>\n",
       "      <td>중랑구</td>\n",
       "      <td>1428. 원묵고등학교</td>\n",
       "      <td>2017-12-31</td>\n",
       "      <td>1</td>\n",
       "    </tr>\n",
       "    <tr>\n",
       "      <th>345259</th>\n",
       "      <td>중랑구</td>\n",
       "      <td>1429. 장안중학교</td>\n",
       "      <td>2017-12-31</td>\n",
       "      <td>0</td>\n",
       "    </tr>\n",
       "    <tr>\n",
       "      <th>345260</th>\n",
       "      <td>중랑구</td>\n",
       "      <td>1430. 중랑구청</td>\n",
       "      <td>2017-12-31</td>\n",
       "      <td>2</td>\n",
       "    </tr>\n",
       "    <tr>\n",
       "      <th>345261</th>\n",
       "      <td>중랑구</td>\n",
       "      <td>1431. 중랑구청 사거리</td>\n",
       "      <td>2017-12-31</td>\n",
       "      <td>0</td>\n",
       "    </tr>\n",
       "    <tr>\n",
       "      <th>345262</th>\n",
       "      <td>중랑구</td>\n",
       "      <td>1433. 중화역 2번출구</td>\n",
       "      <td>2017-12-31</td>\n",
       "      <td>1</td>\n",
       "    </tr>\n",
       "    <tr>\n",
       "      <th>345263</th>\n",
       "      <td>중랑구</td>\n",
       "      <td>1434. 홈플러스 면목동점</td>\n",
       "      <td>2017-12-31</td>\n",
       "      <td>3</td>\n",
       "    </tr>\n",
       "    <tr>\n",
       "      <th>345264</th>\n",
       "      <td>중랑구</td>\n",
       "      <td>1435. 능산삼거리</td>\n",
       "      <td>2017-12-31</td>\n",
       "      <td>1</td>\n",
       "    </tr>\n",
       "    <tr>\n",
       "      <th>345265</th>\n",
       "      <td>중랑구</td>\n",
       "      <td>1436. 영풍마드레빌</td>\n",
       "      <td>2017-12-31</td>\n",
       "      <td>3</td>\n",
       "    </tr>\n",
       "    <tr>\n",
       "      <th>345266</th>\n",
       "      <td>중랑구</td>\n",
       "      <td>1437. 늘푸른공원 앞</td>\n",
       "      <td>2017-12-31</td>\n",
       "      <td>0</td>\n",
       "    </tr>\n",
       "    <tr>\n",
       "      <th>345267</th>\n",
       "      <td>중랑구</td>\n",
       "      <td>1438. 홈플러스 신내점 앞</td>\n",
       "      <td>2017-12-31</td>\n",
       "      <td>3</td>\n",
       "    </tr>\n",
       "    <tr>\n",
       "      <th>345268</th>\n",
       "      <td>중랑구</td>\n",
       "      <td>1440. 하나은행 면목지점</td>\n",
       "      <td>2017-12-31</td>\n",
       "      <td>1</td>\n",
       "    </tr>\n",
       "    <tr>\n",
       "      <th>345269</th>\n",
       "      <td>중랑구</td>\n",
       "      <td>1441. 신내능말공원</td>\n",
       "      <td>2017-12-31</td>\n",
       "      <td>2</td>\n",
       "    </tr>\n",
       "    <tr>\n",
       "      <th>345270</th>\n",
       "      <td>중랑구</td>\n",
       "      <td>1442. (구)신한은행 중랑교지점</td>\n",
       "      <td>2017-12-31</td>\n",
       "      <td>3</td>\n",
       "    </tr>\n",
       "    <tr>\n",
       "      <th>345271</th>\n",
       "      <td>중랑구</td>\n",
       "      <td>1445. 용마지구대</td>\n",
       "      <td>2017-12-31</td>\n",
       "      <td>1</td>\n",
       "    </tr>\n",
       "    <tr>\n",
       "      <th>345272</th>\n",
       "      <td>중랑구</td>\n",
       "      <td>1446. 중랑전화국 교차로</td>\n",
       "      <td>2017-12-31</td>\n",
       "      <td>3</td>\n",
       "    </tr>\n",
       "    <tr>\n",
       "      <th>345273</th>\n",
       "      <td>중랑구</td>\n",
       "      <td>1447. 면목역 3번출구</td>\n",
       "      <td>2017-12-31</td>\n",
       "      <td>1</td>\n",
       "    </tr>\n",
       "    <tr>\n",
       "      <th>345274</th>\n",
       "      <td>중랑구</td>\n",
       "      <td>1448. 코스트코 상봉점</td>\n",
       "      <td>2017-12-31</td>\n",
       "      <td>10</td>\n",
       "    </tr>\n",
       "  </tbody>\n",
       "</table>\n",
       "<p>345275 rows × 4 columns</p>\n",
       "</div>"
      ],
      "text/plain": [
       "          area                location   rentdate  rentcnt\n",
       "0       그룹명 없음                 대여소명 없음 2016-01-01        0\n",
       "1          광진구     500. 어린이대공원역 3번출구 앞 2016-01-01        7\n",
       "2          광진구            501. 광진구의회 앞 2016-01-01        0\n",
       "3          광진구      502. 뚝섬유원지역 1번출구 앞 2016-01-01        9\n",
       "4          광진구        503. 더샵스타시티 C동 앞 2016-01-01        8\n",
       "5          광진구          504. 신자초교입구교차로 2016-01-01        1\n",
       "6          광진구     505. 자양사거리 광진아크로텔 앞 2016-01-01        4\n",
       "7          광진구            515. 광양중학교 앞 2016-01-01        2\n",
       "8          광진구            516. 광진메디칼 앞 2016-01-01        2\n",
       "9          마포구        101. (구)합정동 주민센터 2016-01-01        3\n",
       "10         마포구         102. 망원역 1번출구 앞 2016-01-01       13\n",
       "11         마포구         103. 망원역 2번출구 앞 2016-01-01        2\n",
       "12         마포구         104. 합정역 1번출구 앞 2016-01-01        3\n",
       "13         마포구         105. 합정역 5번출구 앞 2016-01-01        4\n",
       "14         마포구         106. 합정역 7번출구 앞 2016-01-01        6\n",
       "15         마포구    107. 신한은행 서교동금융센터점 앞 2016-01-01        2\n",
       "16         마포구            108. 서교동 사거리 2016-01-01        7\n",
       "17         마포구         111. 상수역 2번출구 앞 2016-01-01        8\n",
       "18         마포구            112. 극동방송국 앞 2016-01-01        4\n",
       "19         마포구       113. 홍대입구역 2번출구 앞 2016-01-01       10\n",
       "20         마포구       114. 홍대입구역 8번출구 앞 2016-01-01        3\n",
       "21         마포구        118. 광흥창역 2번출구 앞 2016-01-01       10\n",
       "22         마포구            119. 서강나루 공원 2016-01-01        1\n",
       "23         마포구            120. 신수동 사거리 2016-01-01        6\n",
       "24         마포구            121. 마포소방서 앞 2016-01-01        2\n",
       "25         마포구           122. 신성기사식당 앞 2016-01-01       10\n",
       "26         마포구         124. 서강대 정문 건너편 2016-01-01        9\n",
       "27         마포구           125. 서강대 남문 옆 2016-01-01        2\n",
       "28         마포구           126. 서강대 후문 옆 2016-01-01        3\n",
       "29         마포구    129. 신촌역(2호선) 6번출구 옆 2016-01-01        5\n",
       "...        ...                     ...        ...      ...\n",
       "345245     중랑구          1405. 망우역 1번출구 2017-12-31        2\n",
       "345246     중랑구          1406. 망우청소년수련관 2017-12-31        0\n",
       "345247     중랑구        1407. 먹골역 1번출구 뒤 2017-12-31        6\n",
       "345248     중랑구        1408. 먹골역 6번출구 앞 2017-12-31        2\n",
       "345249     중랑구       1410. 면목 대원칸타빌아파트 2017-12-31        2\n",
       "345250     중랑구  1411. 상봉시장앞 교차로 한성빌딩 앞 2017-12-31        2\n",
       "345251     중랑구            1412. 면목초등학교 2017-12-31        4\n",
       "345252     중랑구       1413. 봉화산역 5번출구 뒤 2017-12-31        2\n",
       "345253     중랑구         1414. 사가정역 1번출구 2017-12-31        3\n",
       "345254     중랑구          1416. 상봉역 3번출구 2017-12-31        2\n",
       "345255     중랑구            1418. 새솔초등학교 2017-12-31        1\n",
       "345256     중랑구          1420. 신내어울공원 앞 2017-12-31        0\n",
       "345257     중랑구    1426. 면목도시개발아파트 1동 앞 2017-12-31        2\n",
       "345258     중랑구            1428. 원묵고등학교 2017-12-31        1\n",
       "345259     중랑구             1429. 장안중학교 2017-12-31        0\n",
       "345260     중랑구              1430. 중랑구청 2017-12-31        2\n",
       "345261     중랑구          1431. 중랑구청 사거리 2017-12-31        0\n",
       "345262     중랑구          1433. 중화역 2번출구 2017-12-31        1\n",
       "345263     중랑구         1434. 홈플러스 면목동점 2017-12-31        3\n",
       "345264     중랑구             1435. 능산삼거리 2017-12-31        1\n",
       "345265     중랑구            1436. 영풍마드레빌 2017-12-31        3\n",
       "345266     중랑구           1437. 늘푸른공원 앞 2017-12-31        0\n",
       "345267     중랑구        1438. 홈플러스 신내점 앞 2017-12-31        3\n",
       "345268     중랑구         1440. 하나은행 면목지점 2017-12-31        1\n",
       "345269     중랑구            1441. 신내능말공원 2017-12-31        2\n",
       "345270     중랑구     1442. (구)신한은행 중랑교지점 2017-12-31        3\n",
       "345271     중랑구             1445. 용마지구대 2017-12-31        1\n",
       "345272     중랑구         1446. 중랑전화국 교차로 2017-12-31        3\n",
       "345273     중랑구          1447. 면목역 3번출구 2017-12-31        1\n",
       "345274     중랑구          1448. 코스트코 상봉점 2017-12-31       10\n",
       "\n",
       "[345275 rows x 4 columns]"
      ]
     },
     "execution_count": 26,
     "metadata": {},
     "output_type": "execute_result"
    }
   ],
   "source": [
    "print(rent_tot.shape)\n",
    "rent_tot"
   ]
  },
  {
   "cell_type": "markdown",
   "metadata": {},
   "source": [
    "### oo없음 -> NA\n",
    "단, NAN으로 나타난 것은 float, 나머지는 str임에 유의"
   ]
  },
  {
   "cell_type": "code",
   "execution_count": 33,
   "metadata": {},
   "outputs": [
    {
     "name": "stdout",
     "output_type": "stream",
     "text": [
      "그룹명 없음\n"
     ]
    },
    {
     "data": {
      "text/plain": [
       "True"
      ]
     },
     "execution_count": 33,
     "metadata": {},
     "output_type": "execute_result"
    }
   ],
   "source": [
    "print(rent_tot.area[0])\n",
    "'없음' in rent_tot.area[0]"
   ]
  },
  {
   "cell_type": "code",
   "execution_count": 34,
   "metadata": {
    "collapsed": true
   },
   "outputs": [],
   "source": [
    "naFind= lambda x: '없음' in x"
   ]
  },
  {
   "cell_type": "code",
   "execution_count": 35,
   "metadata": {},
   "outputs": [
    {
     "data": {
      "text/plain": [
       "True"
      ]
     },
     "execution_count": 35,
     "metadata": {},
     "output_type": "execute_result"
    }
   ],
   "source": [
    "naFind(rent_tot.area[0])"
   ]
  },
  {
   "cell_type": "code",
   "execution_count": 37,
   "metadata": {
    "scrolled": true
   },
   "outputs": [
    {
     "data": {
      "text/plain": [
       "0          True\n",
       "1         False\n",
       "2         False\n",
       "3         False\n",
       "4         False\n",
       "5         False\n",
       "6         False\n",
       "7         False\n",
       "8         False\n",
       "9         False\n",
       "10        False\n",
       "11        False\n",
       "12        False\n",
       "13        False\n",
       "14        False\n",
       "15        False\n",
       "16        False\n",
       "17        False\n",
       "18        False\n",
       "19        False\n",
       "20        False\n",
       "21        False\n",
       "22        False\n",
       "23        False\n",
       "24        False\n",
       "25        False\n",
       "26        False\n",
       "27        False\n",
       "28        False\n",
       "29        False\n",
       "          ...  \n",
       "345245    False\n",
       "345246    False\n",
       "345247    False\n",
       "345248    False\n",
       "345249    False\n",
       "345250    False\n",
       "345251    False\n",
       "345252    False\n",
       "345253    False\n",
       "345254    False\n",
       "345255    False\n",
       "345256    False\n",
       "345257    False\n",
       "345258    False\n",
       "345259    False\n",
       "345260    False\n",
       "345261    False\n",
       "345262    False\n",
       "345263    False\n",
       "345264    False\n",
       "345265    False\n",
       "345266    False\n",
       "345267    False\n",
       "345268    False\n",
       "345269    False\n",
       "345270    False\n",
       "345271    False\n",
       "345272    False\n",
       "345273    False\n",
       "345274    False\n",
       "Name: area, Length: 345275, dtype: bool"
      ]
     },
     "execution_count": 37,
     "metadata": {},
     "output_type": "execute_result"
    }
   ],
   "source": [
    "rent_tot.area.map(naFind)"
   ]
  },
  {
   "cell_type": "code",
   "execution_count": 38,
   "metadata": {},
   "outputs": [
    {
     "data": {
      "text/plain": [
       "1384"
      ]
     },
     "execution_count": 38,
     "metadata": {},
     "output_type": "execute_result"
    }
   ],
   "source": [
    "sum(rent_tot.area.map(naFind))"
   ]
  },
  {
   "cell_type": "code",
   "execution_count": 39,
   "metadata": {
    "collapsed": true
   },
   "outputs": [],
   "source": [
    "import numpy as np"
   ]
  },
  {
   "cell_type": "code",
   "execution_count": 43,
   "metadata": {},
   "outputs": [
    {
     "data": {
      "text/plain": [
       "nan"
      ]
     },
     "execution_count": 43,
     "metadata": {},
     "output_type": "execute_result"
    }
   ],
   "source": [
    "np.nan"
   ]
  },
  {
   "cell_type": "code",
   "execution_count": 47,
   "metadata": {
    "scrolled": false
   },
   "outputs": [
    {
     "name": "stderr",
     "output_type": "stream",
     "text": [
      "C:\\Users\\kitcoop\\Anaconda3\\lib\\site-packages\\ipykernel_launcher.py:1: SettingWithCopyWarning: \n",
      "A value is trying to be set on a copy of a slice from a DataFrame\n",
      "\n",
      "See the caveats in the documentation: http://pandas.pydata.org/pandas-docs/stable/indexing.html#indexing-view-versus-copy\n",
      "  \"\"\"Entry point for launching an IPython kernel.\n"
     ]
    }
   ],
   "source": [
    "rent_tot.area[rent_tot.area.map(naFind)]= np.nan"
   ]
  },
  {
   "cell_type": "code",
   "execution_count": 49,
   "metadata": {
    "scrolled": false
   },
   "outputs": [
    {
     "name": "stderr",
     "output_type": "stream",
     "text": [
      "C:\\Users\\kitcoop\\Anaconda3\\lib\\site-packages\\ipykernel_launcher.py:1: SettingWithCopyWarning: \n",
      "A value is trying to be set on a copy of a slice from a DataFrame\n",
      "\n",
      "See the caveats in the documentation: http://pandas.pydata.org/pandas-docs/stable/indexing.html#indexing-view-versus-copy\n",
      "  \"\"\"Entry point for launching an IPython kernel.\n"
     ]
    }
   ],
   "source": [
    "rent_tot.location[rent_tot.location.map(naFind)]= np.nan"
   ]
  },
  {
   "cell_type": "code",
   "execution_count": 50,
   "metadata": {
    "scrolled": true
   },
   "outputs": [
    {
     "data": {
      "text/html": [
       "<div>\n",
       "<style>\n",
       "    .dataframe thead tr:only-child th {\n",
       "        text-align: right;\n",
       "    }\n",
       "\n",
       "    .dataframe thead th {\n",
       "        text-align: left;\n",
       "    }\n",
       "\n",
       "    .dataframe tbody tr th {\n",
       "        vertical-align: top;\n",
       "    }\n",
       "</style>\n",
       "<table border=\"1\" class=\"dataframe\">\n",
       "  <thead>\n",
       "    <tr style=\"text-align: right;\">\n",
       "      <th></th>\n",
       "      <th>area</th>\n",
       "      <th>location</th>\n",
       "      <th>rentdate</th>\n",
       "      <th>rentcnt</th>\n",
       "    </tr>\n",
       "  </thead>\n",
       "  <tbody>\n",
       "    <tr>\n",
       "      <th>0</th>\n",
       "      <td>NaN</td>\n",
       "      <td>NaN</td>\n",
       "      <td>2016-01-01</td>\n",
       "      <td>0</td>\n",
       "    </tr>\n",
       "    <tr>\n",
       "      <th>1</th>\n",
       "      <td>광진구</td>\n",
       "      <td>500. 어린이대공원역 3번출구 앞</td>\n",
       "      <td>2016-01-01</td>\n",
       "      <td>7</td>\n",
       "    </tr>\n",
       "    <tr>\n",
       "      <th>2</th>\n",
       "      <td>광진구</td>\n",
       "      <td>501. 광진구의회 앞</td>\n",
       "      <td>2016-01-01</td>\n",
       "      <td>0</td>\n",
       "    </tr>\n",
       "    <tr>\n",
       "      <th>3</th>\n",
       "      <td>광진구</td>\n",
       "      <td>502. 뚝섬유원지역 1번출구 앞</td>\n",
       "      <td>2016-01-01</td>\n",
       "      <td>9</td>\n",
       "    </tr>\n",
       "    <tr>\n",
       "      <th>4</th>\n",
       "      <td>광진구</td>\n",
       "      <td>503. 더샵스타시티 C동 앞</td>\n",
       "      <td>2016-01-01</td>\n",
       "      <td>8</td>\n",
       "    </tr>\n",
       "    <tr>\n",
       "      <th>5</th>\n",
       "      <td>광진구</td>\n",
       "      <td>504. 신자초교입구교차로</td>\n",
       "      <td>2016-01-01</td>\n",
       "      <td>1</td>\n",
       "    </tr>\n",
       "    <tr>\n",
       "      <th>6</th>\n",
       "      <td>광진구</td>\n",
       "      <td>505. 자양사거리 광진아크로텔 앞</td>\n",
       "      <td>2016-01-01</td>\n",
       "      <td>4</td>\n",
       "    </tr>\n",
       "    <tr>\n",
       "      <th>7</th>\n",
       "      <td>광진구</td>\n",
       "      <td>515. 광양중학교 앞</td>\n",
       "      <td>2016-01-01</td>\n",
       "      <td>2</td>\n",
       "    </tr>\n",
       "    <tr>\n",
       "      <th>8</th>\n",
       "      <td>광진구</td>\n",
       "      <td>516. 광진메디칼 앞</td>\n",
       "      <td>2016-01-01</td>\n",
       "      <td>2</td>\n",
       "    </tr>\n",
       "    <tr>\n",
       "      <th>9</th>\n",
       "      <td>마포구</td>\n",
       "      <td>101. (구)합정동 주민센터</td>\n",
       "      <td>2016-01-01</td>\n",
       "      <td>3</td>\n",
       "    </tr>\n",
       "    <tr>\n",
       "      <th>10</th>\n",
       "      <td>마포구</td>\n",
       "      <td>102. 망원역 1번출구 앞</td>\n",
       "      <td>2016-01-01</td>\n",
       "      <td>13</td>\n",
       "    </tr>\n",
       "    <tr>\n",
       "      <th>11</th>\n",
       "      <td>마포구</td>\n",
       "      <td>103. 망원역 2번출구 앞</td>\n",
       "      <td>2016-01-01</td>\n",
       "      <td>2</td>\n",
       "    </tr>\n",
       "    <tr>\n",
       "      <th>12</th>\n",
       "      <td>마포구</td>\n",
       "      <td>104. 합정역 1번출구 앞</td>\n",
       "      <td>2016-01-01</td>\n",
       "      <td>3</td>\n",
       "    </tr>\n",
       "    <tr>\n",
       "      <th>13</th>\n",
       "      <td>마포구</td>\n",
       "      <td>105. 합정역 5번출구 앞</td>\n",
       "      <td>2016-01-01</td>\n",
       "      <td>4</td>\n",
       "    </tr>\n",
       "    <tr>\n",
       "      <th>14</th>\n",
       "      <td>마포구</td>\n",
       "      <td>106. 합정역 7번출구 앞</td>\n",
       "      <td>2016-01-01</td>\n",
       "      <td>6</td>\n",
       "    </tr>\n",
       "    <tr>\n",
       "      <th>15</th>\n",
       "      <td>마포구</td>\n",
       "      <td>107. 신한은행 서교동금융센터점 앞</td>\n",
       "      <td>2016-01-01</td>\n",
       "      <td>2</td>\n",
       "    </tr>\n",
       "    <tr>\n",
       "      <th>16</th>\n",
       "      <td>마포구</td>\n",
       "      <td>108. 서교동 사거리</td>\n",
       "      <td>2016-01-01</td>\n",
       "      <td>7</td>\n",
       "    </tr>\n",
       "    <tr>\n",
       "      <th>17</th>\n",
       "      <td>마포구</td>\n",
       "      <td>111. 상수역 2번출구 앞</td>\n",
       "      <td>2016-01-01</td>\n",
       "      <td>8</td>\n",
       "    </tr>\n",
       "    <tr>\n",
       "      <th>18</th>\n",
       "      <td>마포구</td>\n",
       "      <td>112. 극동방송국 앞</td>\n",
       "      <td>2016-01-01</td>\n",
       "      <td>4</td>\n",
       "    </tr>\n",
       "    <tr>\n",
       "      <th>19</th>\n",
       "      <td>마포구</td>\n",
       "      <td>113. 홍대입구역 2번출구 앞</td>\n",
       "      <td>2016-01-01</td>\n",
       "      <td>10</td>\n",
       "    </tr>\n",
       "    <tr>\n",
       "      <th>20</th>\n",
       "      <td>마포구</td>\n",
       "      <td>114. 홍대입구역 8번출구 앞</td>\n",
       "      <td>2016-01-01</td>\n",
       "      <td>3</td>\n",
       "    </tr>\n",
       "    <tr>\n",
       "      <th>21</th>\n",
       "      <td>마포구</td>\n",
       "      <td>118. 광흥창역 2번출구 앞</td>\n",
       "      <td>2016-01-01</td>\n",
       "      <td>10</td>\n",
       "    </tr>\n",
       "    <tr>\n",
       "      <th>22</th>\n",
       "      <td>마포구</td>\n",
       "      <td>119. 서강나루 공원</td>\n",
       "      <td>2016-01-01</td>\n",
       "      <td>1</td>\n",
       "    </tr>\n",
       "    <tr>\n",
       "      <th>23</th>\n",
       "      <td>마포구</td>\n",
       "      <td>120. 신수동 사거리</td>\n",
       "      <td>2016-01-01</td>\n",
       "      <td>6</td>\n",
       "    </tr>\n",
       "    <tr>\n",
       "      <th>24</th>\n",
       "      <td>마포구</td>\n",
       "      <td>121. 마포소방서 앞</td>\n",
       "      <td>2016-01-01</td>\n",
       "      <td>2</td>\n",
       "    </tr>\n",
       "    <tr>\n",
       "      <th>25</th>\n",
       "      <td>마포구</td>\n",
       "      <td>122. 신성기사식당 앞</td>\n",
       "      <td>2016-01-01</td>\n",
       "      <td>10</td>\n",
       "    </tr>\n",
       "    <tr>\n",
       "      <th>26</th>\n",
       "      <td>마포구</td>\n",
       "      <td>124. 서강대 정문 건너편</td>\n",
       "      <td>2016-01-01</td>\n",
       "      <td>9</td>\n",
       "    </tr>\n",
       "    <tr>\n",
       "      <th>27</th>\n",
       "      <td>마포구</td>\n",
       "      <td>125. 서강대 남문 옆</td>\n",
       "      <td>2016-01-01</td>\n",
       "      <td>2</td>\n",
       "    </tr>\n",
       "    <tr>\n",
       "      <th>28</th>\n",
       "      <td>마포구</td>\n",
       "      <td>126. 서강대 후문 옆</td>\n",
       "      <td>2016-01-01</td>\n",
       "      <td>3</td>\n",
       "    </tr>\n",
       "    <tr>\n",
       "      <th>29</th>\n",
       "      <td>마포구</td>\n",
       "      <td>129. 신촌역(2호선) 6번출구 옆</td>\n",
       "      <td>2016-01-01</td>\n",
       "      <td>5</td>\n",
       "    </tr>\n",
       "    <tr>\n",
       "      <th>...</th>\n",
       "      <td>...</td>\n",
       "      <td>...</td>\n",
       "      <td>...</td>\n",
       "      <td>...</td>\n",
       "    </tr>\n",
       "    <tr>\n",
       "      <th>345245</th>\n",
       "      <td>중랑구</td>\n",
       "      <td>1405. 망우역 1번출구</td>\n",
       "      <td>2017-12-31</td>\n",
       "      <td>2</td>\n",
       "    </tr>\n",
       "    <tr>\n",
       "      <th>345246</th>\n",
       "      <td>중랑구</td>\n",
       "      <td>1406. 망우청소년수련관</td>\n",
       "      <td>2017-12-31</td>\n",
       "      <td>0</td>\n",
       "    </tr>\n",
       "    <tr>\n",
       "      <th>345247</th>\n",
       "      <td>중랑구</td>\n",
       "      <td>1407. 먹골역 1번출구 뒤</td>\n",
       "      <td>2017-12-31</td>\n",
       "      <td>6</td>\n",
       "    </tr>\n",
       "    <tr>\n",
       "      <th>345248</th>\n",
       "      <td>중랑구</td>\n",
       "      <td>1408. 먹골역 6번출구 앞</td>\n",
       "      <td>2017-12-31</td>\n",
       "      <td>2</td>\n",
       "    </tr>\n",
       "    <tr>\n",
       "      <th>345249</th>\n",
       "      <td>중랑구</td>\n",
       "      <td>1410. 면목 대원칸타빌아파트</td>\n",
       "      <td>2017-12-31</td>\n",
       "      <td>2</td>\n",
       "    </tr>\n",
       "    <tr>\n",
       "      <th>345250</th>\n",
       "      <td>중랑구</td>\n",
       "      <td>1411. 상봉시장앞 교차로 한성빌딩 앞</td>\n",
       "      <td>2017-12-31</td>\n",
       "      <td>2</td>\n",
       "    </tr>\n",
       "    <tr>\n",
       "      <th>345251</th>\n",
       "      <td>중랑구</td>\n",
       "      <td>1412. 면목초등학교</td>\n",
       "      <td>2017-12-31</td>\n",
       "      <td>4</td>\n",
       "    </tr>\n",
       "    <tr>\n",
       "      <th>345252</th>\n",
       "      <td>중랑구</td>\n",
       "      <td>1413. 봉화산역 5번출구 뒤</td>\n",
       "      <td>2017-12-31</td>\n",
       "      <td>2</td>\n",
       "    </tr>\n",
       "    <tr>\n",
       "      <th>345253</th>\n",
       "      <td>중랑구</td>\n",
       "      <td>1414. 사가정역 1번출구</td>\n",
       "      <td>2017-12-31</td>\n",
       "      <td>3</td>\n",
       "    </tr>\n",
       "    <tr>\n",
       "      <th>345254</th>\n",
       "      <td>중랑구</td>\n",
       "      <td>1416. 상봉역 3번출구</td>\n",
       "      <td>2017-12-31</td>\n",
       "      <td>2</td>\n",
       "    </tr>\n",
       "    <tr>\n",
       "      <th>345255</th>\n",
       "      <td>중랑구</td>\n",
       "      <td>1418. 새솔초등학교</td>\n",
       "      <td>2017-12-31</td>\n",
       "      <td>1</td>\n",
       "    </tr>\n",
       "    <tr>\n",
       "      <th>345256</th>\n",
       "      <td>중랑구</td>\n",
       "      <td>1420. 신내어울공원 앞</td>\n",
       "      <td>2017-12-31</td>\n",
       "      <td>0</td>\n",
       "    </tr>\n",
       "    <tr>\n",
       "      <th>345257</th>\n",
       "      <td>중랑구</td>\n",
       "      <td>1426. 면목도시개발아파트 1동 앞</td>\n",
       "      <td>2017-12-31</td>\n",
       "      <td>2</td>\n",
       "    </tr>\n",
       "    <tr>\n",
       "      <th>345258</th>\n",
       "      <td>중랑구</td>\n",
       "      <td>1428. 원묵고등학교</td>\n",
       "      <td>2017-12-31</td>\n",
       "      <td>1</td>\n",
       "    </tr>\n",
       "    <tr>\n",
       "      <th>345259</th>\n",
       "      <td>중랑구</td>\n",
       "      <td>1429. 장안중학교</td>\n",
       "      <td>2017-12-31</td>\n",
       "      <td>0</td>\n",
       "    </tr>\n",
       "    <tr>\n",
       "      <th>345260</th>\n",
       "      <td>중랑구</td>\n",
       "      <td>1430. 중랑구청</td>\n",
       "      <td>2017-12-31</td>\n",
       "      <td>2</td>\n",
       "    </tr>\n",
       "    <tr>\n",
       "      <th>345261</th>\n",
       "      <td>중랑구</td>\n",
       "      <td>1431. 중랑구청 사거리</td>\n",
       "      <td>2017-12-31</td>\n",
       "      <td>0</td>\n",
       "    </tr>\n",
       "    <tr>\n",
       "      <th>345262</th>\n",
       "      <td>중랑구</td>\n",
       "      <td>1433. 중화역 2번출구</td>\n",
       "      <td>2017-12-31</td>\n",
       "      <td>1</td>\n",
       "    </tr>\n",
       "    <tr>\n",
       "      <th>345263</th>\n",
       "      <td>중랑구</td>\n",
       "      <td>1434. 홈플러스 면목동점</td>\n",
       "      <td>2017-12-31</td>\n",
       "      <td>3</td>\n",
       "    </tr>\n",
       "    <tr>\n",
       "      <th>345264</th>\n",
       "      <td>중랑구</td>\n",
       "      <td>1435. 능산삼거리</td>\n",
       "      <td>2017-12-31</td>\n",
       "      <td>1</td>\n",
       "    </tr>\n",
       "    <tr>\n",
       "      <th>345265</th>\n",
       "      <td>중랑구</td>\n",
       "      <td>1436. 영풍마드레빌</td>\n",
       "      <td>2017-12-31</td>\n",
       "      <td>3</td>\n",
       "    </tr>\n",
       "    <tr>\n",
       "      <th>345266</th>\n",
       "      <td>중랑구</td>\n",
       "      <td>1437. 늘푸른공원 앞</td>\n",
       "      <td>2017-12-31</td>\n",
       "      <td>0</td>\n",
       "    </tr>\n",
       "    <tr>\n",
       "      <th>345267</th>\n",
       "      <td>중랑구</td>\n",
       "      <td>1438. 홈플러스 신내점 앞</td>\n",
       "      <td>2017-12-31</td>\n",
       "      <td>3</td>\n",
       "    </tr>\n",
       "    <tr>\n",
       "      <th>345268</th>\n",
       "      <td>중랑구</td>\n",
       "      <td>1440. 하나은행 면목지점</td>\n",
       "      <td>2017-12-31</td>\n",
       "      <td>1</td>\n",
       "    </tr>\n",
       "    <tr>\n",
       "      <th>345269</th>\n",
       "      <td>중랑구</td>\n",
       "      <td>1441. 신내능말공원</td>\n",
       "      <td>2017-12-31</td>\n",
       "      <td>2</td>\n",
       "    </tr>\n",
       "    <tr>\n",
       "      <th>345270</th>\n",
       "      <td>중랑구</td>\n",
       "      <td>1442. (구)신한은행 중랑교지점</td>\n",
       "      <td>2017-12-31</td>\n",
       "      <td>3</td>\n",
       "    </tr>\n",
       "    <tr>\n",
       "      <th>345271</th>\n",
       "      <td>중랑구</td>\n",
       "      <td>1445. 용마지구대</td>\n",
       "      <td>2017-12-31</td>\n",
       "      <td>1</td>\n",
       "    </tr>\n",
       "    <tr>\n",
       "      <th>345272</th>\n",
       "      <td>중랑구</td>\n",
       "      <td>1446. 중랑전화국 교차로</td>\n",
       "      <td>2017-12-31</td>\n",
       "      <td>3</td>\n",
       "    </tr>\n",
       "    <tr>\n",
       "      <th>345273</th>\n",
       "      <td>중랑구</td>\n",
       "      <td>1447. 면목역 3번출구</td>\n",
       "      <td>2017-12-31</td>\n",
       "      <td>1</td>\n",
       "    </tr>\n",
       "    <tr>\n",
       "      <th>345274</th>\n",
       "      <td>중랑구</td>\n",
       "      <td>1448. 코스트코 상봉점</td>\n",
       "      <td>2017-12-31</td>\n",
       "      <td>10</td>\n",
       "    </tr>\n",
       "  </tbody>\n",
       "</table>\n",
       "<p>345275 rows × 4 columns</p>\n",
       "</div>"
      ],
      "text/plain": [
       "       area                location   rentdate  rentcnt\n",
       "0       NaN                     NaN 2016-01-01        0\n",
       "1       광진구     500. 어린이대공원역 3번출구 앞 2016-01-01        7\n",
       "2       광진구            501. 광진구의회 앞 2016-01-01        0\n",
       "3       광진구      502. 뚝섬유원지역 1번출구 앞 2016-01-01        9\n",
       "4       광진구        503. 더샵스타시티 C동 앞 2016-01-01        8\n",
       "5       광진구          504. 신자초교입구교차로 2016-01-01        1\n",
       "6       광진구     505. 자양사거리 광진아크로텔 앞 2016-01-01        4\n",
       "7       광진구            515. 광양중학교 앞 2016-01-01        2\n",
       "8       광진구            516. 광진메디칼 앞 2016-01-01        2\n",
       "9       마포구        101. (구)합정동 주민센터 2016-01-01        3\n",
       "10      마포구         102. 망원역 1번출구 앞 2016-01-01       13\n",
       "11      마포구         103. 망원역 2번출구 앞 2016-01-01        2\n",
       "12      마포구         104. 합정역 1번출구 앞 2016-01-01        3\n",
       "13      마포구         105. 합정역 5번출구 앞 2016-01-01        4\n",
       "14      마포구         106. 합정역 7번출구 앞 2016-01-01        6\n",
       "15      마포구    107. 신한은행 서교동금융센터점 앞 2016-01-01        2\n",
       "16      마포구            108. 서교동 사거리 2016-01-01        7\n",
       "17      마포구         111. 상수역 2번출구 앞 2016-01-01        8\n",
       "18      마포구            112. 극동방송국 앞 2016-01-01        4\n",
       "19      마포구       113. 홍대입구역 2번출구 앞 2016-01-01       10\n",
       "20      마포구       114. 홍대입구역 8번출구 앞 2016-01-01        3\n",
       "21      마포구        118. 광흥창역 2번출구 앞 2016-01-01       10\n",
       "22      마포구            119. 서강나루 공원 2016-01-01        1\n",
       "23      마포구            120. 신수동 사거리 2016-01-01        6\n",
       "24      마포구            121. 마포소방서 앞 2016-01-01        2\n",
       "25      마포구           122. 신성기사식당 앞 2016-01-01       10\n",
       "26      마포구         124. 서강대 정문 건너편 2016-01-01        9\n",
       "27      마포구           125. 서강대 남문 옆 2016-01-01        2\n",
       "28      마포구           126. 서강대 후문 옆 2016-01-01        3\n",
       "29      마포구    129. 신촌역(2호선) 6번출구 옆 2016-01-01        5\n",
       "...     ...                     ...        ...      ...\n",
       "345245  중랑구          1405. 망우역 1번출구 2017-12-31        2\n",
       "345246  중랑구          1406. 망우청소년수련관 2017-12-31        0\n",
       "345247  중랑구        1407. 먹골역 1번출구 뒤 2017-12-31        6\n",
       "345248  중랑구        1408. 먹골역 6번출구 앞 2017-12-31        2\n",
       "345249  중랑구       1410. 면목 대원칸타빌아파트 2017-12-31        2\n",
       "345250  중랑구  1411. 상봉시장앞 교차로 한성빌딩 앞 2017-12-31        2\n",
       "345251  중랑구            1412. 면목초등학교 2017-12-31        4\n",
       "345252  중랑구       1413. 봉화산역 5번출구 뒤 2017-12-31        2\n",
       "345253  중랑구         1414. 사가정역 1번출구 2017-12-31        3\n",
       "345254  중랑구          1416. 상봉역 3번출구 2017-12-31        2\n",
       "345255  중랑구            1418. 새솔초등학교 2017-12-31        1\n",
       "345256  중랑구          1420. 신내어울공원 앞 2017-12-31        0\n",
       "345257  중랑구    1426. 면목도시개발아파트 1동 앞 2017-12-31        2\n",
       "345258  중랑구            1428. 원묵고등학교 2017-12-31        1\n",
       "345259  중랑구             1429. 장안중학교 2017-12-31        0\n",
       "345260  중랑구              1430. 중랑구청 2017-12-31        2\n",
       "345261  중랑구          1431. 중랑구청 사거리 2017-12-31        0\n",
       "345262  중랑구          1433. 중화역 2번출구 2017-12-31        1\n",
       "345263  중랑구         1434. 홈플러스 면목동점 2017-12-31        3\n",
       "345264  중랑구             1435. 능산삼거리 2017-12-31        1\n",
       "345265  중랑구            1436. 영풍마드레빌 2017-12-31        3\n",
       "345266  중랑구           1437. 늘푸른공원 앞 2017-12-31        0\n",
       "345267  중랑구        1438. 홈플러스 신내점 앞 2017-12-31        3\n",
       "345268  중랑구         1440. 하나은행 면목지점 2017-12-31        1\n",
       "345269  중랑구            1441. 신내능말공원 2017-12-31        2\n",
       "345270  중랑구     1442. (구)신한은행 중랑교지점 2017-12-31        3\n",
       "345271  중랑구             1445. 용마지구대 2017-12-31        1\n",
       "345272  중랑구         1446. 중랑전화국 교차로 2017-12-31        3\n",
       "345273  중랑구          1447. 면목역 3번출구 2017-12-31        1\n",
       "345274  중랑구          1448. 코스트코 상봉점 2017-12-31       10\n",
       "\n",
       "[345275 rows x 4 columns]"
      ]
     },
     "execution_count": 50,
     "metadata": {},
     "output_type": "execute_result"
    }
   ],
   "source": [
    "rent_tot"
   ]
  },
  {
   "cell_type": "code",
   "execution_count": 62,
   "metadata": {
    "scrolled": true
   },
   "outputs": [
    {
     "data": {
      "text/plain": [
       "float"
      ]
     },
     "execution_count": 62,
     "metadata": {},
     "output_type": "execute_result"
    }
   ],
   "source": [
    "type(rent_tot.area[0])"
   ]
  },
  {
   "cell_type": "code",
   "execution_count": 58,
   "metadata": {},
   "outputs": [],
   "source": [
    "# import math\n",
    "# math.isnan?\n",
    "# rent_tot.area.map(math.isnan)"
   ]
  },
  {
   "cell_type": "code",
   "execution_count": 67,
   "metadata": {
    "scrolled": false
   },
   "outputs": [
    {
     "data": {
      "text/plain": [
       "0"
      ]
     },
     "execution_count": 67,
     "metadata": {},
     "output_type": "execute_result"
    }
   ],
   "source": [
    "sum(pd.isnull(rent_tot.rentdate))"
   ]
  },
  {
   "cell_type": "code",
   "execution_count": 68,
   "metadata": {
    "scrolled": true
   },
   "outputs": [
    {
     "data": {
      "text/plain": [
       "0"
      ]
     },
     "execution_count": 68,
     "metadata": {},
     "output_type": "execute_result"
    }
   ],
   "source": [
    "sum(pd.isnull(rent_tot.rentcnt))"
   ]
  },
  {
   "cell_type": "markdown",
   "metadata": {},
   "source": [
    "#### oo없음 -> NAN float 바꾼거 파일 저장"
   ]
  },
  {
   "cell_type": "code",
   "execution_count": 70,
   "metadata": {
    "collapsed": true
   },
   "outputs": [],
   "source": [
    "writer= pd.ExcelWriter('data/bycicleRental_tot_NANfloat.xlsx')\n",
    "rent_tot.to_excel(writer, sheet_name='rent1617', index= False)\n",
    "writer.save()"
   ]
  },
  {
   "cell_type": "code",
   "execution_count": null,
   "metadata": {
    "collapsed": true
   },
   "outputs": [],
   "source": []
  }
 ],
 "metadata": {
  "kernelspec": {
   "display_name": "Python 3",
   "language": "python",
   "name": "python3"
  },
  "language_info": {
   "codemirror_mode": {
    "name": "ipython",
    "version": 3
   },
   "file_extension": ".py",
   "mimetype": "text/x-python",
   "name": "python",
   "nbconvert_exporter": "python",
   "pygments_lexer": "ipython3",
   "version": "3.6.3"
  }
 },
 "nbformat": 4,
 "nbformat_minor": 2
}
