{
 "cells": [
  {
   "cell_type": "markdown",
   "metadata": {},
   "source": [
    "### ref\n",
    "- [pandas read all csv files in folder](https://stackoverflow.com/questions/20906474/import-multiple-csv-files-into-pandas-and-concatenate-into-one-dataframe?utm_medium=organic&utm_source=google_rich_qa&utm_campaign=google_rich_qa)\n",
    "- [dictionary add python](https://stackoverflow.com/questions/1024847/add-new-keys-to-a-dictionary)\n",
    "- [subplot xlabel](https://stackoverflow.com/questions/6963035/pyplot-axes-labels-for-subplots?utm_medium=organic&utm_source=google_rich_qa&utm_campaign=google_rich_qa)\n",
    "\n",
    "- [subplots 간격, subplots hspace](https://stackoverflow.com/questions/2418125/matplotlib-subplots-adjust-hspace-so-titles-and-xlabels-dont-overlap?utm_medium=organic&utm_source=google_rich_qa&utm_campaign=google_rich_qa)\n",
    "- [tight_layout](https://matplotlib.org/api/pyplot_api.html#matplotlib.pyplot.tight_layout)"
   ]
  },
  {
   "cell_type": "code",
   "execution_count": 2,
   "metadata": {
    "collapsed": true
   },
   "outputs": [],
   "source": [
    "from os import path\n",
    "import glob\n",
    "\n",
    "import pandas as pd"
   ]
  },
  {
   "cell_type": "markdown",
   "metadata": {},
   "source": [
    "## read files"
   ]
  },
  {
   "cell_type": "code",
   "execution_count": 3,
   "metadata": {
    "collapsed": true
   },
   "outputs": [],
   "source": [
    "path= 'data_join\\\\totalByArea\\\\'\n",
    "filePaths= glob.glob(path+'*.csv')"
   ]
  },
  {
   "cell_type": "code",
   "execution_count": 4,
   "metadata": {},
   "outputs": [
    {
     "data": {
      "text/plain": [
       "['data_join/totalByArea/광진구.csv',\n",
       " 'data_join/totalByArea/동대문구.csv',\n",
       " 'data_join/totalByArea/마포구.csv',\n",
       " 'data_join/totalByArea/서대문구.csv',\n",
       " 'data_join/totalByArea/성동구.csv',\n",
       " 'data_join/totalByArea/양천구.csv',\n",
       " 'data_join/totalByArea/영등포구.csv',\n",
       " 'data_join/totalByArea/용산구.csv',\n",
       " 'data_join/totalByArea/은평구.csv',\n",
       " 'data_join/totalByArea/종로구.csv',\n",
       " 'data_join/totalByArea/중구.csv']"
      ]
     },
     "execution_count": 4,
     "metadata": {},
     "output_type": "execute_result"
    }
   ],
   "source": [
    "filePaths= [x.replace('\\\\','/') for x in filePaths]; filePaths"
   ]
  },
  {
   "cell_type": "code",
   "execution_count": 5,
   "metadata": {},
   "outputs": [
    {
     "data": {
      "text/plain": [
       "['광진구', '동대문구', '마포구', '서대문구', '성동구', '양천구', '영등포구', '용산구', '은평구', '종로구', '중구']"
      ]
     },
     "execution_count": 5,
     "metadata": {},
     "output_type": "execute_result"
    }
   ],
   "source": [
    "areaNames= [x.split('/')[-1].split('.')[0] for x in filePaths]; areaNames"
   ]
  },
  {
   "cell_type": "code",
   "execution_count": 6,
   "metadata": {
    "collapsed": true
   },
   "outputs": [],
   "source": [
    "## 평일 칼럼 제외한 나머지 전체\n",
    "# dictBikes= dict({})\n",
    "# for areaName, filePath in zip(areaNames, filePaths):\n",
    "#     dictBikes[areaName]= pd.read_csv(filePath, index_col=None, encoding= 'cp949', engine= 'python', parse_dates=['날짜'])\n",
    "#     dictBikes[areaName]= dictBikes[areaName].drop(['weekday'], axis= 1)"
   ]
  },
  {
   "cell_type": "code",
   "execution_count": 7,
   "metadata": {
    "collapsed": true
   },
   "outputs": [],
   "source": [
    "# 평일, 년 시 분 초 제외\n",
    "dictBikes= dict({})\n",
    "for areaName, filePath in zip(areaNames, filePaths):\n",
    "    dictBikes[areaName]= pd.read_csv(filePath, index_col=None, encoding= 'cp949', engine= 'python', parse_dates=['날짜'])\n",
    "    dictBikes[areaName]= dictBikes[areaName].drop(['weekday','year','hour','minute','second'], axis= 1)"
   ]
  },
  {
   "cell_type": "code",
   "execution_count": 8,
   "metadata": {
    "scrolled": true
   },
   "outputs": [
    {
     "data": {
      "text/plain": [
       "['광진구', '동대문구', '마포구', '서대문구', '성동구', '양천구', '영등포구', '용산구', '은평구', '종로구', '중구']"
      ]
     },
     "execution_count": 8,
     "metadata": {},
     "output_type": "execute_result"
    }
   ],
   "source": [
    "bikeDkeys= list(dictBikes.keys()); bikeDkeys"
   ]
  },
  {
   "cell_type": "code",
   "execution_count": 9,
   "metadata": {},
   "outputs": [
    {
     "name": "stdout",
     "output_type": "stream",
     "text": [
      "(730, 21)\n",
      "['날짜', 'area', 'rentcnt', '인구', '아파트가격', '평균풍속', '최대풍속', '순간최고풍속', '기온평균', '강수일강수', '습도평균', '미세먼지', '초미세먼지', '오존', '이산화질소', '일산화탄소', '아황산가스', 'month', 'day', 'dayofweek', 'weekend']\n",
      "<class 'pandas._libs.tslib.Timestamp'>\n"
     ]
    },
    {
     "data": {
      "text/html": [
       "<div>\n",
       "<style>\n",
       "    .dataframe thead tr:only-child th {\n",
       "        text-align: right;\n",
       "    }\n",
       "\n",
       "    .dataframe thead th {\n",
       "        text-align: left;\n",
       "    }\n",
       "\n",
       "    .dataframe tbody tr th {\n",
       "        vertical-align: top;\n",
       "    }\n",
       "</style>\n",
       "<table border=\"1\" class=\"dataframe\">\n",
       "  <thead>\n",
       "    <tr style=\"text-align: right;\">\n",
       "      <th></th>\n",
       "      <th>날짜</th>\n",
       "      <th>area</th>\n",
       "      <th>rentcnt</th>\n",
       "      <th>인구</th>\n",
       "      <th>아파트가격</th>\n",
       "      <th>평균풍속</th>\n",
       "      <th>최대풍속</th>\n",
       "      <th>순간최고풍속</th>\n",
       "      <th>기온평균</th>\n",
       "      <th>강수일강수</th>\n",
       "      <th>...</th>\n",
       "      <th>미세먼지</th>\n",
       "      <th>초미세먼지</th>\n",
       "      <th>오존</th>\n",
       "      <th>이산화질소</th>\n",
       "      <th>일산화탄소</th>\n",
       "      <th>아황산가스</th>\n",
       "      <th>month</th>\n",
       "      <th>day</th>\n",
       "      <th>dayofweek</th>\n",
       "      <th>weekend</th>\n",
       "    </tr>\n",
       "  </thead>\n",
       "  <tbody>\n",
       "    <tr>\n",
       "      <th>0</th>\n",
       "      <td>2016-01-01</td>\n",
       "      <td>4</td>\n",
       "      <td>40</td>\n",
       "      <td>248415</td>\n",
       "      <td>94.6</td>\n",
       "      <td>0.8</td>\n",
       "      <td>4.0</td>\n",
       "      <td>5.5</td>\n",
       "      <td>2.9</td>\n",
       "      <td>0.0</td>\n",
       "      <td>...</td>\n",
       "      <td>77.0</td>\n",
       "      <td>39.0</td>\n",
       "      <td>0.004</td>\n",
       "      <td>0.047</td>\n",
       "      <td>1.0</td>\n",
       "      <td>0.005</td>\n",
       "      <td>1</td>\n",
       "      <td>1</td>\n",
       "      <td>4</td>\n",
       "      <td>0.0</td>\n",
       "    </tr>\n",
       "    <tr>\n",
       "      <th>1</th>\n",
       "      <td>2016-01-02</td>\n",
       "      <td>4</td>\n",
       "      <td>25</td>\n",
       "      <td>248415</td>\n",
       "      <td>94.6</td>\n",
       "      <td>1.2</td>\n",
       "      <td>6.1</td>\n",
       "      <td>7.2</td>\n",
       "      <td>6.9</td>\n",
       "      <td>0.0</td>\n",
       "      <td>...</td>\n",
       "      <td>44.0</td>\n",
       "      <td>27.0</td>\n",
       "      <td>0.005</td>\n",
       "      <td>0.046</td>\n",
       "      <td>0.7</td>\n",
       "      <td>0.005</td>\n",
       "      <td>1</td>\n",
       "      <td>2</td>\n",
       "      <td>5</td>\n",
       "      <td>1.0</td>\n",
       "    </tr>\n",
       "  </tbody>\n",
       "</table>\n",
       "<p>2 rows × 21 columns</p>\n",
       "</div>"
      ],
      "text/plain": [
       "          날짜  area  rentcnt      인구  아파트가격  평균풍속  최대풍속  순간최고풍속  기온평균  강수일강수  \\\n",
       "0 2016-01-01     4       40  248415   94.6   0.8   4.0     5.5   2.9    0.0   \n",
       "1 2016-01-02     4       25  248415   94.6   1.2   6.1     7.2   6.9    0.0   \n",
       "\n",
       "    ...     미세먼지  초미세먼지     오존  이산화질소  일산화탄소  아황산가스  month  day  dayofweek  \\\n",
       "0   ...     77.0   39.0  0.004  0.047    1.0  0.005      1    1          4   \n",
       "1   ...     44.0   27.0  0.005  0.046    0.7  0.005      1    2          5   \n",
       "\n",
       "   weekend  \n",
       "0      0.0  \n",
       "1      1.0  \n",
       "\n",
       "[2 rows x 21 columns]"
      ]
     },
     "execution_count": 9,
     "metadata": {},
     "output_type": "execute_result"
    }
   ],
   "source": [
    "print(dictBikes[bikeDkeys[0]].shape)\n",
    "print(list(dictBikes[bikeDkeys[0]].columns))\n",
    "print(type(dictBikes[bikeDkeys[0]].날짜[0]))\n",
    "dictBikes[bikeDkeys[0]].head(2)"
   ]
  },
  {
   "cell_type": "markdown",
   "metadata": {},
   "source": [
    "## visualization"
   ]
  },
  {
   "cell_type": "code",
   "execution_count": 10,
   "metadata": {
    "collapsed": true
   },
   "outputs": [],
   "source": [
    "import seaborn as sns\n",
    "import matplotlib.pyplot as plt\n",
    "%matplotlib inline"
   ]
  },
  {
   "cell_type": "code",
   "execution_count": 11,
   "metadata": {},
   "outputs": [
    {
     "data": {
      "text/plain": [
       "['광진구', '동대문구', '마포구', '서대문구', '성동구', '양천구', '영등포구', '용산구', '은평구', '종로구', '중구']"
      ]
     },
     "execution_count": 11,
     "metadata": {},
     "output_type": "execute_result"
    }
   ],
   "source": [
    "bikeDkeys"
   ]
  },
  {
   "cell_type": "code",
   "execution_count": 12,
   "metadata": {
    "scrolled": true
   },
   "outputs": [
    {
     "data": {
      "text/html": [
       "<div>\n",
       "<style>\n",
       "    .dataframe thead tr:only-child th {\n",
       "        text-align: right;\n",
       "    }\n",
       "\n",
       "    .dataframe thead th {\n",
       "        text-align: left;\n",
       "    }\n",
       "\n",
       "    .dataframe tbody tr th {\n",
       "        vertical-align: top;\n",
       "    }\n",
       "</style>\n",
       "<table border=\"1\" class=\"dataframe\">\n",
       "  <thead>\n",
       "    <tr style=\"text-align: right;\">\n",
       "      <th></th>\n",
       "      <th>area</th>\n",
       "      <th>rentcnt</th>\n",
       "      <th>인구</th>\n",
       "      <th>아파트가격</th>\n",
       "      <th>평균풍속</th>\n",
       "      <th>최대풍속</th>\n",
       "      <th>순간최고풍속</th>\n",
       "      <th>기온평균</th>\n",
       "      <th>강수일강수</th>\n",
       "      <th>습도평균</th>\n",
       "      <th>미세먼지</th>\n",
       "      <th>초미세먼지</th>\n",
       "      <th>오존</th>\n",
       "      <th>이산화질소</th>\n",
       "      <th>일산화탄소</th>\n",
       "      <th>아황산가스</th>\n",
       "    </tr>\n",
       "  </thead>\n",
       "  <tbody>\n",
       "    <tr>\n",
       "      <th>0</th>\n",
       "      <td>4</td>\n",
       "      <td>40</td>\n",
       "      <td>248415</td>\n",
       "      <td>94.6</td>\n",
       "      <td>0.8</td>\n",
       "      <td>4.0</td>\n",
       "      <td>5.5</td>\n",
       "      <td>2.9</td>\n",
       "      <td>0.0</td>\n",
       "      <td>75.9</td>\n",
       "      <td>77.0</td>\n",
       "      <td>39.0</td>\n",
       "      <td>0.004</td>\n",
       "      <td>0.047</td>\n",
       "      <td>1.0</td>\n",
       "      <td>0.005</td>\n",
       "    </tr>\n",
       "  </tbody>\n",
       "</table>\n",
       "</div>"
      ],
      "text/plain": [
       "   area  rentcnt      인구  아파트가격  평균풍속  최대풍속  순간최고풍속  기온평균  강수일강수  습도평균  미세먼지  \\\n",
       "0     4       40  248415   94.6   0.8   4.0     5.5   2.9    0.0  75.9  77.0   \n",
       "\n",
       "   초미세먼지     오존  이산화질소  일산화탄소  아황산가스  \n",
       "0   39.0  0.004  0.047    1.0  0.005  "
      ]
     },
     "execution_count": 12,
     "metadata": {},
     "output_type": "execute_result"
    }
   ],
   "source": [
    "dictBikes['광진구'].loc[0:0,'area':'아황산가스']"
   ]
  },
  {
   "cell_type": "code",
   "execution_count": 13,
   "metadata": {},
   "outputs": [
    {
     "name": "stdout",
     "output_type": "stream",
     "text": [
      "['광진구', '동대문구', '마포구', '서대문구', '성동구', '양천구', '영등포구', '용산구', '은평구', '종로구', '중구']\n"
     ]
    },
    {
     "data": {
      "text/plain": [
       "11"
      ]
     },
     "execution_count": 13,
     "metadata": {},
     "output_type": "execute_result"
    }
   ],
   "source": [
    "areaLen= len(areaNames)\n",
    "print(areaNames)\n",
    "areaLen"
   ]
  },
  {
   "cell_type": "code",
   "execution_count": 34,
   "metadata": {},
   "outputs": [
    {
     "name": "stdout",
     "output_type": "stream",
     "text": [
      "21\n",
      "['인구', '아파트가격', '평균풍속', '최대풍속', '순간최고풍속', '기온평균', '강수일강수', '습도평균', '미세먼지', '초미세먼지', '오존', '이산화질소', '일산화탄소', '아황산가스', 'month', 'day', 'dayofweek', 'weekend']\n"
     ]
    }
   ],
   "source": [
    "cols= list(dictBikes[bikeDkeys[0]].columns)\n",
    "colsLen= len(cols)\n",
    "print(colsLen)\n",
    "# print(cols)\n",
    "print(cols[3:])"
   ]
  },
  {
   "cell_type": "code",
   "execution_count": 16,
   "metadata": {},
   "outputs": [
    {
     "data": {
      "text/plain": [
       "<matplotlib.figure.Figure at 0x14d4eb00>"
      ]
     },
     "metadata": {},
     "output_type": "display_data"
    },
    {
     "data": {
      "text/plain": [
       "<matplotlib.figure.Figure at 0x1a16f320>"
      ]
     },
     "metadata": {},
     "output_type": "display_data"
    },
    {
     "data": {
      "text/plain": [
       "<matplotlib.figure.Figure at 0x17950eb8>"
      ]
     },
     "metadata": {},
     "output_type": "display_data"
    },
    {
     "data": {
      "text/plain": [
       "<matplotlib.figure.Figure at 0x1949e400>"
      ]
     },
     "metadata": {},
     "output_type": "display_data"
    },
    {
     "data": {
      "text/plain": [
       "<matplotlib.figure.Figure at 0x1b11df28>"
      ]
     },
     "metadata": {},
     "output_type": "display_data"
    },
    {
     "data": {
      "text/plain": [
       "<matplotlib.figure.Figure at 0x182e49e8>"
      ]
     },
     "metadata": {},
     "output_type": "display_data"
    },
    {
     "data": {
      "text/plain": [
       "<matplotlib.figure.Figure at 0x16fba2e8>"
      ]
     },
     "metadata": {},
     "output_type": "display_data"
    },
    {
     "data": {
      "text/plain": [
       "<matplotlib.figure.Figure at 0x1b2d7400>"
      ]
     },
     "metadata": {},
     "output_type": "display_data"
    },
    {
     "data": {
      "text/plain": [
       "<matplotlib.figure.Figure at 0x1b076208>"
      ]
     },
     "metadata": {},
     "output_type": "display_data"
    },
    {
     "data": {
      "text/plain": [
       "<matplotlib.figure.Figure at 0x196dbb70>"
      ]
     },
     "metadata": {},
     "output_type": "display_data"
    },
    {
     "data": {
      "text/plain": [
       "<matplotlib.figure.Figure at 0x1b92db00>"
      ]
     },
     "metadata": {},
     "output_type": "display_data"
    }
   ],
   "source": [
    "font= {'family': 'Malgun Gothic',\n",
    "      'size': 15}\n",
    "plt.rc('font', **font)\n",
    "# plt.subplots_adjust(hspace=0.8)\n",
    "\n",
    "\n",
    "#['광진구', '동대문구', '마포구', '서대문구', '성동구', '양천구', '영등포구', '용산구', '은평구', '종로구', '중구']\n",
    "for area in areaNames:\n",
    "    fig, axis= plt.subplots(int(colsLen/2)-1,2) # int(colsLen/2)+1\n",
    "    fig.set_size_inches(20,35)\n",
    "    for i in range(colsLen-3):\n",
    "        sns.barplot(data= dictBikes[area], x= cols[3:][i], y='rentcnt',\n",
    "                    ax= axis[int(i/2)][i%2])\n",
    "        #axis[int(i/2)][i%2].set_title(cols[3:][i])\n",
    "\n",
    "    fig.tight_layout(pad=1.08, h_pad=0.6)\n",
    "    fig.savefig('img/'+area+'.png', dpi= 300)\n",
    "    fig.clear()"
   ]
  },
  {
   "cell_type": "code",
   "execution_count": null,
   "metadata": {
    "collapsed": true
   },
   "outputs": [],
   "source": []
  },
  {
   "cell_type": "markdown",
   "metadata": {},
   "source": [
    "### 이름 일괄 변경\n",
    "- [python files rename](https://stackoverflow.com/questions/2759067/rename-multiple-files-in-a-directory-in-python?utm_medium=organic&utm_source=google_rich_qa&utm_campaign=google_rich_qa)\n",
    "- [re sub](https://docs.python.org/3/library/re.html)\n",
    "\n",
    "- [python rename son directory files](https://stackoverflow.com/questions/37467561/renaming-multiple-files-in-a-directory-using-python?utm_medium=organic&utm_source=google_rich_qa&utm_campaign=google_rich_qa)"
   ]
  },
  {
   "cell_type": "code",
   "execution_count": 20,
   "metadata": {
    "collapsed": true
   },
   "outputs": [],
   "source": [
    "from os import listdir, rename, path\n",
    "import re"
   ]
  },
  {
   "cell_type": "code",
   "execution_count": 32,
   "metadata": {},
   "outputs": [
    {
     "data": {
      "text/plain": [
       "'E:\\\\github\\\\proj_sponge_bicycle\\\\img\\\\광진구_allParam.png'"
      ]
     },
     "execution_count": 32,
     "metadata": {},
     "output_type": "execute_result"
    }
   ],
   "source": [
    "# path.join(imgPath, imgNameList[3])"
   ]
  },
  {
   "cell_type": "code",
   "execution_count": 33,
   "metadata": {},
   "outputs": [
    {
     "name": "stdout",
     "output_type": "stream",
     "text": [
      "E:\\github\\proj_sponge_bicycle\\img\\광진구_allParam.png\n",
      "E:\\github\\proj_sponge_bicycle\\img\\동대문구_allParam.png\n",
      "E:\\github\\proj_sponge_bicycle\\img\\마포구_allParam.png\n",
      "E:\\github\\proj_sponge_bicycle\\img\\서대문구_allParam.png\n",
      "E:\\github\\proj_sponge_bicycle\\img\\성동구_allParam.png\n",
      "E:\\github\\proj_sponge_bicycle\\img\\양천구_allParam.png\n",
      "E:\\github\\proj_sponge_bicycle\\img\\영등포구_allParam.png\n",
      "E:\\github\\proj_sponge_bicycle\\img\\용산구_allParam.png\n",
      "E:\\github\\proj_sponge_bicycle\\img\\은평구_allParam.png\n",
      "E:\\github\\proj_sponge_bicycle\\img\\종로구_allParam.png\n",
      "E:\\github\\proj_sponge_bicycle\\img\\중구_allParam.png\n"
     ]
    }
   ],
   "source": [
    "imgNameList= listdir('img')\n",
    "imgPath= path.abspath('img')\n",
    "#print(imgNameList)\n",
    "#print(imgPath)\n",
    "\n",
    "for filename in imgNameList:\n",
    "    if '구' in filename:\n",
    "        fullPath= path.join(imgPath, filename)\n",
    "        print(fullPath)\n",
    "        rename(fullPath, re.sub('(.*구)_allParam(\\.png)', '\\\\1_usingParam\\\\2', fullPath))\n"
   ]
  },
  {
   "cell_type": "code",
   "execution_count": null,
   "metadata": {
    "collapsed": true
   },
   "outputs": [],
   "source": []
  }
 ],
 "metadata": {
  "kernelspec": {
   "display_name": "Python 3",
   "language": "python",
   "name": "python3"
  },
  "language_info": {
   "codemirror_mode": {
    "name": "ipython",
    "version": 3
   },
   "file_extension": ".py",
   "mimetype": "text/x-python",
   "name": "python",
   "nbconvert_exporter": "python",
   "pygments_lexer": "ipython3",
   "version": "3.6.3"
  }
 },
 "nbformat": 4,
 "nbformat_minor": 2
}
