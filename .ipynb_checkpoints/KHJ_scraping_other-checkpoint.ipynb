{
 "cells": [
  {
   "cell_type": "markdown",
   "metadata": {},
   "source": [
    "#### use: selenium\n",
    "타깃: http://cleanair.seoul.go.kr/air_pollution.htm?method=period"
   ]
  },
  {
   "cell_type": "markdown",
   "metadata": {},
   "source": [
    "# 실행코드만"
   ]
  },
  {
   "cell_type": "code",
   "execution_count": 5,
   "metadata": {
    "collapsed": true
   },
   "outputs": [],
   "source": [
    "from selenium import webdriver\n",
    "from selenium.webdriver.common.by import By\n",
    "from selenium.webdriver.common.keys import Keys\n",
    "\n",
    "from selenium.webdriver.support.ui import WebDriverWait\n",
    "from selenium.webdriver.support import expected_conditions as EC\n",
    "\n",
    "import os.path\n",
    "from os import rename\n",
    "from os import listdir\n",
    "\n",
    "import time"
   ]
  },
  {
   "cell_type": "markdown",
   "metadata": {},
   "source": [
    "##### 브라우저 시작"
   ]
  },
  {
   "cell_type": "code",
   "execution_count": 116,
   "metadata": {
    "collapsed": true
   },
   "outputs": [],
   "source": [
    "def startWeb():\n",
    "    \"\"\"\n",
    "    @return driver\n",
    "    \"\"\"\n",
    "    driver= webdriver.Chrome('lib/chromedriver.exe')\n",
    "    url= \"https://www.google.co.kr/destination\"\n",
    "    driver.get(url)\n",
    "    \n",
    "    return driver"
   ]
  },
  {
   "cell_type": "markdown",
   "metadata": {},
   "source": [
    "##### 연도, 월, 일 선택\n",
    "'' 사이에 값은 꼭 \"\"로 넣어줘야"
   ]
  },
  {
   "cell_type": "code",
   "execution_count": 109,
   "metadata": {
    "collapsed": true
   },
   "outputs": [],
   "source": [
    "def set_input(sendKeys):\n",
    "    element_clr= driver.find_element_by_xpath('//button[@class=\"gb_jf\"]')\n",
    "    element_clr.click()\n",
    "    \n",
    "    myXpath= '//div[@class=\"gb_nf\"]/input[@class=\"gb_6e\"]'\n",
    "    element= driver.find_element_by_xpath(myXpath)\n",
    "    element.send_keys(sendKeys)\n",
    "    driver.implicitly_wait(3)\n",
    "    element.send_keys(Keys.ENTER)    "
   ]
  },
  {
   "cell_type": "markdown",
   "metadata": {},
   "source": [
    "##### ㄴㄴ검색 버튼 클릭\n",
    "엔터를 눌러야 원하는 결과"
   ]
  },
  {
   "cell_type": "code",
   "execution_count": 110,
   "metadata": {
    "collapsed": true
   },
   "outputs": [],
   "source": [
    "# def clickSearchBtn(driver):\n",
    "#     element= driver.find_element_by_xpath('//button[@class=\"gb_8e\"]')\n",
    "#     element.click()"
   ]
  },
  {
   "cell_type": "markdown",
   "metadata": {},
   "source": [
    "### 가격"
   ]
  },
  {
   "cell_type": "code",
   "execution_count": 111,
   "metadata": {},
   "outputs": [],
   "source": [
    "def getText():\n",
    "    element= driver.find_elements_by_xpath('//span[@class=\"YUAg0b\"]')\n",
    "    text= element[1].text.split(' ')[-1]\n",
    "    driver.implicitly_wait(3)\n",
    "    return text"
   ]
  },
  {
   "cell_type": "code",
   "execution_count": 112,
   "metadata": {
    "collapsed": true
   },
   "outputs": [],
   "source": [
    "def getText2():\n",
    "    element= driver.find_element_by_xpath('//div[@class=\"mK1pad\"]/div[@class=\"wfUbnc\"]')\n",
    "    text= element.text\n",
    "    driver.implicitly_wait(3)\n",
    "    return text"
   ]
  },
  {
   "cell_type": "code",
   "execution_count": 113,
   "metadata": {
    "collapsed": true
   },
   "outputs": [],
   "source": [
    "# st11= \"3성급 호텔, 평균가 ₩168,891\""
   ]
  },
  {
   "cell_type": "code",
   "execution_count": 114,
   "metadata": {},
   "outputs": [],
   "source": [
    "# st11.split(' ')[-1]"
   ]
  },
  {
   "cell_type": "markdown",
   "metadata": {},
   "source": [
    "## 실행"
   ]
  },
  {
   "cell_type": "code",
   "execution_count": 117,
   "metadata": {
    "collapsed": true
   },
   "outputs": [],
   "source": [
    "#citys= [\"리마\", \"쿠스코\", \"아레키파\", \"아야쿠초\", \"산티아고\", \"발디비아\", \"아이센\", \"코이아이케\", \"항가로아\", \"카스트로\", \"보고타\", \"메데인\", \"바랑키야\", \"카르타헤나\", \"칼리\", \"부카라망가\", \"산타마르타\", \"비야비센시오\", \"파스토\", \"퉁하\", \"아르메니아\", \"산안드레스\", \"쿠마나\", \"마라카이\", \"라과이라\", \"코로\", \"조지타운\", \"라파스\", \"수크레\", \"산타크루스\", \"파라마리보\", \"카토\", \"과야킬\", \"쿠엥카\", \"암바토\", \"침보라소 주\", \"푸에르토아요라\", \"몬테비데오\", \"라스피에드라스\", \"이순시온\", \"아레과\", \"San Bernardino\", \"베이루트\", \"비블로스\", \"티레\", \"바알베크\", \"시돈\", \"트리폴리\", \"자흘레\", \"마라케시\", \"페스\", \"카사블랑카\", \"탕헤르\", \"라바트\", \"에사우이라\", \"우아르자자트\", \"메크네스\", \"아이트벤하도우\", \"셰프샤우엔\", \"마나마\", \"무하라크\", \"리파\", \"시프\", \"애들리야\", \"메카\", \"메디나\", \"제다\", \"리야드\", \"담맘\", \"타이프\", \"코바르\", \"아브하\", \"타부크\", \"두바이\", \"아부다비\", \"샤르자\", \"팜주메이라\", \"알아인\", \"푸자이라토후국\", \"야스\", \"알제\", \"오랑\", \"콩스탕틴\", \"틀렘센\", \"안나바\", \"베자이아\", \"팀가드\", \"제밀라\", \"지젤\", \"모스타가넴\", \"무스카트\", \"살랄라\", \"니즈와\", \"와히바\", \"하사브\", \"무트라\", \"수르\", \"바흐라\", \"나칼\", \"페트라\", \"암만\", \"아카바\", \"와디럼\", \"제라시\", \"앨카즈네\", \"카라크\", \"아질룬\", \"테헤란\", \"이스파한\", \"시라즈\", \"야즈드\", \"카샨\", \"마슈하드\", \"케슘\", \"카즈빈\", \"예루살렘\", \"텔아비브\", \"에일라트\", \"나사렛\", \"하이파\", \"티베리아스\", \"아코\", \"시저이아\", \"카이로\", \"룩소르\", \"기자\", \"알렉산드리아\", \"아스완\", \"후르가다\", \"샤름엘셰이크\", \"다합\", \"도하\", \"알와크라\", \"알코르\", \"쿠웨이트\", \"살미야\", \"수스\", \"튀니스\", \"제르바\", \"함마메트\", \"시디부사이드\", \"카이르완\", \"모나스티르\", \"엘젬\", \"토죄르\", \"마트마타\", \"두즈\", \"비제르테\", \"이스탄불\", \"안탈리아\", \"이즈미르\", \"쿠샤다스\", \"괴레메\", \"보드룸\", \"앙카라\", \"페티예\", \"마르마리스\", \"알라니아\", \"코니아\", \"욀뤼데니즈\", \"아크라\", \"케이프코스트\", \"리브르빌\", \"스바코프문트\", \"빈트후크\", \"세스리엠\", \"월브스베이\", \"라고스\", \"이케자\", \"아부자\", \"케이프타운\", \"더반\", \"요하네스버그\", \"스텔렌보스\", \"프란쉬후크\", \"허머너스\", \"나이스나\", \"니아메\", \"아가데즈\", \"마세루\", \"키갈리\", \"기세니\", \"루헹게리\", \"키부예\", \"안타나나리보\", \"생트마리\", \"디에고수아레스\", \"마하장가\", \"노지베\", \"이파티\", \"릴롱웨\", \"블랜타이어\", \"좀바\", \"플릭엥플랭크\", \"그란데바이예\", \"페레이베레\", \"벨마르\", \"그헝베\", \"포트루이스\", \"블루베이\", \"마헤보그\", \"누악쇼트\", \"마푸토\", \"빌란쿨로\", \"토포\", \"코토누\", \"가보로네\", \"카사네\", \"마운\", \"와가두구\", \"방포라\", \"상투메\", \"포르투알레그레\", \"다카르\", \"살리포르투달\", \"라디그\", \"보발롱\", \"마에\", \"프레슬린\", \"카르툼\", \"에즐위니\", \"음바바네\", \"로밤바\", \"루안다\", \"아디스아바바\", \"랄리벨라\", \"캄팔라\", \"엔테베\", \"리빙스턴\", \"루사카\", \"빅토리아폴스\", \"하라레\", \"불라와요\", \"황게\", \"산타마리아\", \"민델루\", \"프라이아\", \"살\", \"나이로비\", \"몸바사\", \"와타무\", \"아비장\", \"잔지바르시\", \"눙귀\", \"잠비아니\", \"세렝게티\", \"모시\", \"로메\"]"
   ]
  },
  {
   "cell_type": "code",
   "execution_count": 119,
   "metadata": {},
   "outputs": [],
   "source": [
    "driver= startWeb()\n",
    "text= []\n",
    "\n",
    "\n",
    "citys= [\"리마\",\"쿠스코\"]\n",
    "for city in citys:\n",
    "    set_input(city)\n",
    "    #clickSearchBtn(driver)\n",
    "    #text= getText()\n",
    "    text= getText2()\n",
    "    print(city,'\\t',text)"
   ]
  },
  {
   "cell_type": "code",
   "execution_count": null,
   "metadata": {
    "collapsed": true
   },
   "outputs": [],
   "source": []
  },
  {
   "cell_type": "code",
   "execution_count": null,
   "metadata": {
    "collapsed": true
   },
   "outputs": [],
   "source": []
  },
  {
   "cell_type": "code",
   "execution_count": null,
   "metadata": {
    "collapsed": true
   },
   "outputs": [],
   "source": []
  },
  {
   "cell_type": "code",
   "execution_count": 171,
   "metadata": {
    "collapsed": true
   },
   "outputs": [],
   "source": [
    "def startWeb():\n",
    "    \"\"\"\n",
    "    @return driver\n",
    "    \"\"\"\n",
    "    driver= webdriver.Chrome('lib/chromedriver.exe')\n",
    "    url= \"https://www.google.co.kr/destination\"\n",
    "    driver.get(url)\n",
    "    \n",
    "    return driver"
   ]
  },
  {
   "cell_type": "code",
   "execution_count": null,
   "metadata": {
    "collapsed": true
   },
   "outputs": [],
   "source": [
    "driver.close()"
   ]
  },
  {
   "cell_type": "code",
   "execution_count": null,
   "metadata": {
    "collapsed": true
   },
   "outputs": [],
   "source": [
    "driver= startWeb()"
   ]
  },
  {
   "cell_type": "code",
   "execution_count": 11,
   "metadata": {
    "collapsed": true
   },
   "outputs": [],
   "source": [
    "myXpath= '//div[@class=\"gb_nf\"]/input[@class=\"gb_6e\"]'\n",
    "element= driver.find_element_by_xpath(myXpath)\n",
    "element.clear()"
   ]
  },
  {
   "cell_type": "code",
   "execution_count": 12,
   "metadata": {},
   "outputs": [],
   "source": [
    "sendKeys= \"몸바사\"\n",
    "element.send_keys(sendKeys)"
   ]
  },
  {
   "cell_type": "code",
   "execution_count": 13,
   "metadata": {},
   "outputs": [],
   "source": [
    "driver.implicitly_wait(3)\n",
    "element.send_keys(Keys.ENTER)  "
   ]
  },
  {
   "cell_type": "code",
   "execution_count": 15,
   "metadata": {
    "scrolled": true
   },
   "outputs": [
    {
     "name": "stdout",
     "output_type": "stream",
     "text": [
      "몸바사 \t 5성급 ₩182,968\n"
     ]
    }
   ],
   "source": [
    "element= driver.find_element_by_xpath(\"//*[contains(text(), '평균가')]\")\n",
    "text= element.text.split(' ')\n",
    "# element= driver.find_elements_by_xpath('//span[@class=\"YUAg0b\"]')\n",
    "# text= element[1].text.split(' ')[-1]\n",
    "driver.implicitly_wait(3)\n",
    "print(sendKeys,'\\t',text[0], text[-1])"
   ]
  },
  {
   "cell_type": "code",
   "execution_count": null,
   "metadata": {
    "collapsed": true
   },
   "outputs": [],
   "source": []
  },
  {
   "cell_type": "code",
   "execution_count": null,
   "metadata": {
    "collapsed": true
   },
   "outputs": [],
   "source": []
  },
  {
   "cell_type": "code",
   "execution_count": null,
   "metadata": {
    "collapsed": true
   },
   "outputs": [],
   "source": []
  },
  {
   "cell_type": "code",
   "execution_count": null,
   "metadata": {
    "collapsed": true
   },
   "outputs": [],
   "source": []
  },
  {
   "cell_type": "code",
   "execution_count": 112,
   "metadata": {
    "collapsed": true
   },
   "outputs": [],
   "source": [
    "from selenium import webdriver\n",
    "from selenium.webdriver.common.by import By\n",
    "from selenium.webdriver.common.keys import Keys\n",
    "\n",
    "from selenium.webdriver.support.ui import WebDriverWait\n",
    "from selenium.webdriver.support import expected_conditions as EC\n",
    "\n",
    "import os.path\n",
    "from os import rename\n",
    "from os import listdir\n",
    "\n",
    "import time"
   ]
  },
  {
   "cell_type": "code",
   "execution_count": 135,
   "metadata": {
    "collapsed": true
   },
   "outputs": [],
   "source": [
    "def startWeb():\n",
    "    \"\"\"\n",
    "    @return driver\n",
    "    \"\"\"\n",
    "    driver= webdriver.Chrome('lib/chromedriver.exe')\n",
    "    url= \"https://www.google.co.kr/destination\"\n",
    "    driver.get(url)\n",
    "    return driver"
   ]
  },
  {
   "cell_type": "code",
   "execution_count": 170,
   "metadata": {},
   "outputs": [],
   "source": [
    "def searchPlace(sendKey):\n",
    "    myXpath= '//div[@class=\"gb_nf\"]/input[@class=\"gb_6e\"]'\n",
    "    element= driver.find_element_by_xpath(myXpath)\n",
    "    time.sleep(1)\n",
    "    element.clear()\n",
    "    #sendKeys= \"몸바사\"\n",
    "    element.send_keys(sendKey)\n",
    "    time.sleep(2)\n",
    "    element.send_keys(Keys.ENTER)\n",
    "    try:\n",
    "        #element= driver.find_element_by_xpath(\"//*[contains(text(), '\\\\')]\")\n",
    "        element= driver.find_element_by_xpath(\"//*[contains(text(), '평균가')]\")\n",
    "        text= element.text.split(' ')[-1]\n",
    "        time.sleep(1)\n",
    "        print(sendKey,'\\t',text)\n",
    "    except Exception as ex:\n",
    "        print(ex)\n",
    "        #driver.close()\n",
    "        pass"
   ]
  },
  {
   "cell_type": "markdown",
   "metadata": {},
   "source": [
    "리마 \t ₩151,424\n",
    "쿠스코 \t ₩334,874\n",
    "아레키파 \t ₩82,355\n",
    "아야쿠초 \t ₩48,311\n",
    "산티아고 \t ₩159,921\n",
    "코이아이케 \t ₩140,524\n",
    "항가로아 \t ₩607,502\n",
    "카스트로 \t ₩134,762\n",
    "보고타 \t ₩111,762\n",
    "메데인 \t ₩109,991\n",
    "바랑키야 \t ₩65,071\n",
    "카르타헤나 \t ₩277,767\n",
    "칼리 \t ₩91,361\n",
    "산타마르타 \t ₩187,262\n",
    "비야비센시오 \t ₩45,107\n",
    "파스토 \t ₩67,669\n",
    "산안드레스 \t ₩121,889\n",
    "쿠마나 \t ₩63,505\n",
    "마라카이 \t ₩40,824\n",
    "라과이라 \t ₩74,547\n",
    "코로 \t ₩601,662\n",
    "조지타운 \t ₩113,190\n",
    "라파스 \t ₩128,186\n",
    "수크레 \t ₩102,134\n",
    "산타크루스 \t ₩161,720\n",
    "파라마리보 \t ₩93,631\n",
    "카토 \t ₩154,299\n",
    "과야킬 \t ₩114,921\n",
    "쿠엥카 \t ₩88,467\n",
    "침보라소 주 \t ₩112,716\n",
    "푸에르토아요라 \t ₩460,333\n",
    "몬테비데오 \t ₩120,655\n",
    "라스피에드라스 \t ₩55,722\n",
    "아레과 \t ₩132,490\n",
    "베이루트 \t ₩128,282\n",
    "비블로스 \t ₩186,352\n",
    "바알베크 \t ₩144,945\n",
    "트리폴리 \t ₩360,898\n",
    "자흘레 \t ₩128,747\n",
    "마라케시 \t ₩214,626\n",
    "페스 \t ₩143,426\n",
    "카사블랑카 \t ₩188,876\n",
    "탕헤르 \t ₩124,219\n",
    "라바트 \t ₩153,614\n",
    "에사우이라 \t ₩109,664\n",
    "우아르자자트 \t ₩216,113\n",
    "메크네스 \t ₩94,110\n",
    "셰프샤우엔 \t ₩58,293\n",
    "마나마 \t ₩153,350\n",
    "무하라크 \t ₩140,832\n",
    "리파 \t ₩138,800\n",
    "시프 \t ₩80,539\n",
    "애들리야 \t ₩177,419\n",
    "메카 \t ₩126,329\n",
    "메디나 \t ₩116,248\n",
    "리야드 \t ₩173,890\n",
    "담맘 \t ₩155,559\n",
    "타이프 \t ₩184,314\n",
    "코바르 \t ₩178,520\n",
    "아브하 \t ₩186,362\n",
    "타부크 \t ₩124,645\n",
    "두바이 \t ₩182,258\n",
    "아부다비 \t ₩108,775\n",
    "샤르자 \t ₩116,663\n",
    "알아인 \t ₩80,148\n",
    "야스 \t ₩114,333\n",
    "오랑 \t ₩102,118\n",
    "콩스탕틴 \t ₩184,572\n",
    "틀렘센 \t ₩149,437\n",
    "안나바 \t ₩71,280\n",
    "베자이아 \t ₩95,673\n",
    "제밀라 \t ₩81,072\n",
    "지젤 \t ₩95,673\n",
    "모스타가넴 \t ₩179,116\n",
    "무스카트 \t ₩175,476\n",
    "살랄라 \t ₩248,632\n",
    "니즈와 \t ₩340,386\n",
    "하사브 \t ₩220,576\n",
    "무트라 \t ₩150,779\n",
    "바흐라 \t ₩340,389\n",
    "암만 \t ₩157,951\n",
    "아카바 \t ₩344,732\n",
    "제라시 \t ₩68,087\n",
    "카라크 \t ₩949,183\n",
    "아질룬 \t ₩87,592\n",
    "테헤란 \t ₩166,069\n",
    "이스파한 \t ₩95,168\n",
    "마슈하드 \t ₩122,961\n",
    "예루살렘 \t ₩514,078\n",
    "텔아비브 \t ₩360,318\n",
    "에일라트 \t ₩867,015\n",
    "하이파 \t ₩383,223\n",
    "카이로 \t ₩152,683\n",
    "룩소르 \t ₩152,683\n",
    "기자 \t ₩136,555\n",
    "알렉산드리아 \t ₩183,490\n",
    "아스완 \t ₩68,014\n",
    "후르가다 \t ₩91,809\n",
    "샤름엘셰이크 \t ₩75,187\n",
    "다합 \t ₩31,387\n",
    "도하 \t ₩136,361\n",
    "알와크라 \t ₩75,563\n",
    "알코르 \t ₩76,398\n",
    "살미야 \t ₩306,371\n",
    "수스 \t ₩129,929\n",
    "튀니스 \t ₩130,236\n",
    "제르바 \t ₩122,733\n",
    "함마메트 \t ₩114,566\n",
    "시디부사이드 \t ₩324,778\n",
    "카이르완 \t ₩114,481\n",
    "모나스티르 \t ₩95,008\n",
    "엘젬 \t ₩150,629\n",
    "토죄르 \t ₩107,624\n",
    "두즈 \t ₩136,021\n",
    "비제르테 \t ₩166,701\n",
    "이스탄불 \t ₩97,950\n",
    "안탈리아 \t ₩92,597\n",
    "이즈미르 \t ₩90,527\n",
    "쿠샤다스 \t ₩76,428\n",
    "괴레메 \t ₩47,740\n",
    "보드룸 \t ₩80,512\n",
    "앙카라 \t ₩107,090\n",
    "페티예 \t ₩112,070\n",
    "마르마리스 \t ₩83,250\n",
    "알라니아 \t ₩61,315\n",
    "코니아 \t ₩45,579\n",
    "욀뤼데니즈 \t ₩111,328\n",
    "아크라 \t ₩344,982\n",
    "리브르빌 \t ₩612,532\n",
    "스바코프문트 \t ₩120,125\n",
    "빈트후크 \t ₩183,934\n",
    "라고스 \t ₩284,029\n",
    "이케자 \t ₩64,217\n",
    "아부자 \t ₩146,156\n",
    "케이프타운 \t ₩192,103\n",
    "더반 \t ₩154,419\n",
    "요하네스버그 \t ₩234,184\n",
    "스텔렌보스 \t ₩156,255\n",
    "허머너스 \t ₩187,017\n",
    "나이스나 \t ₩174,787\n",
    "니아메 \t ₩178,515\n",
    "마세루 \t ₩59,519\n",
    "키갈리 \t ₩339,835\n",
    "기세니 \t ₩107,378\n",
    "루헹게리 \t ₩114,561\n",
    "키부예 \t ₩107,378\n",
    "안타나나리보 \t ₩84,082\n",
    "생트마리 \t ₩232,022\n",
    "마하장가 \t ₩56,749\n",
    "노지베 \t ₩127,318\n",
    "블랜타이어 \t ₩116,383\n",
    "포트루이스 \t ₩233,165\n",
    "\n",
    "누악쇼트 \t ₩88,566\n",
    "토포 \t ₩178,249\n",
    "코토누 \t ₩87,729\n",
    "가보로네 \t ₩100,679\n",
    "카사네 \t ₩637,922\n",
    "와가두구 \t ₩273,946\n",
    "다카르 \t ₩301,230\n",
    "보발롱 \t ₩520,117\n",
    "마에 \t ₩1,090,839\n",
    "음바바네 \t ₩180,466\n",
    "로밤바 \t ₩180,466\n",
    "루안다 \t ₩455,707\n",
    "아디스아바바 \t ₩201,035\n",
    "랄리벨라 \t ₩37,581\n",
    "캄팔라 \t ₩281,872\n",
    "엔테베 \t ₩127,256\n",
    "리빙스턴 \t ₩134,966\n",
    "루사카 \t ₩211,643\n",
    "하라레 \t ₩141,747\n",
    "불라와요 \t ₩95,392\n",
    "황게 \t ₩150,326\n",
    "산타마리아 \t ₩305,492\n",
    "민델루 \t ₩54,887\n",
    "프라이아 \t ₩646,587\n",
    "나이로비 \t ₩215,142\n",
    "몸바사 \t ₩182,975\n",
    "와타무 \t ₩398,402\n",
    "아비장 \t ₩399,529\n",
    "잔지바르시 \t ₩249,275\n",
    "모시 \t ₩85,794\n",
    "로메 \t ₩236,653"
   ]
  },
  {
   "cell_type": "code",
   "execution_count": null,
   "metadata": {
    "collapsed": true
   },
   "outputs": [],
   "source": [
    "#결과 안 나오는 것\n",
    "# \"발디비아\", \"아이센\", \"부카라망가\" (유해검색어 분류로 불가),\"퉁하\",\"아르메니아\", \"암바토\", \"이순시온\",\"San Bernardino\", \n",
    "#\"티레\", \"시돈\", \"아이트벤하도우\", \"제다\", \"팜주메이라\", \"푸자이라토후국\",\"야스\",\"알제\",\"팀가드\",\"와히바\", \"수르\", \"나칼\", \"페트라\", \n",
    "#\"아코\", \"시저이아\", \"쿠웨이트\", \"마트마타\", \"케이프코스트\", \"세스리엠\"\n",
    "#   \"와디럼\", \"앨카즈네\", \"시라즈\",\"야즈드\".\"카샨\",\"케슘\",\"카즈빈\",  \"나사렛\", \"티베리아스\",\"월브스베이\",\"프란쉬후크\",\n",
    "# \"아가데즈\", \"디에고수아레스\",\"이파티\",\"릴롱웨\",\"좀바\", \"플릭엥플랭크\",\"그란데바이예\",\"페레이베레\",\"벨마르\",\"그헝베\",\"마헤보그\",\n",
    "#  \"마푸토\",\"빌란쿨로\",\"마운\", \"방포라\", \"상투메\", \"포르투알레그레\",\"살리포르투달\",\"라디그\", \"프레슬린\",\"카르툼\",\"에즐위니\", \"빅토리아폴스\",\"살\",\n",
    "# \"눙귀\",\"잠비아니\", \"세렝게티\",\n",
    "# \"블루베이\""
   ]
  },
  {
   "cell_type": "code",
   "execution_count": 194,
   "metadata": {
    "scrolled": false
   },
   "outputs": [
    {
     "name": "stdout",
     "output_type": "stream",
     "text": [
      "Message: no such element: Unable to locate element: {\"method\":\"xpath\",\"selector\":\"//*[contains(text(), '평균가')]\"}\n",
      "  (Session info: chrome=65.0.3325.181)\n",
      "  (Driver info: chromedriver=2.37.544315 (730aa6a5fdba159ac9f4c1e8cbc59bf1b5ce12b7),platform=Windows NT 6.1.7601 SP1 x86_64)\n",
      "\n",
      "모시 \t ₩85,794\n",
      "로메 \t ₩236,653\n"
     ]
    }
   ],
   "source": [
    "driver= startWeb()\n",
    "sendkeys=[\"리마\", \"쿠스코\", \"아레키파\", \"아야쿠초\", \"산티아고\", \"코이아이케\", \"항가로아\", \"카스트로\", \"보고타\", \"메데인\", \"바랑키야\", \"카르타헤나\", \"칼리\", \"산타마르타\", \"비야비센시오\", \"파스토\", \"산안드레스\", \"쿠마나\", \"마라카이\", \"라과이라\", \"코로\", \"조지타운\", \"라파스\", \"수크레\", \"산타크루스\", \"파라마리보\", \"카토\", \"과야킬\", \"쿠엥카\", \"침보라소\", \"푸에르토아요라\", \"몬테비데오\", \"라스피에드라스\", \"아레과\", \"베이루트\", \"비블로스\", \"바알베크\", \"트리폴리\", \"자흘레\", \"마라케시\", \"페스\", \"카사블랑카\", \"탕헤르\", \"라바트\", \"에사우이라\", \"우아르자자트\", \"메크네스\", \"셰프샤우엔\", \"마나마\", \"무하라크\", \"리파\", \"시프\", \"애들리야\", \"메카\", \"메디나\", \"리야드\", \"담맘\", \"타이프\", \"코바르\", \"아브하\", \"타부크\", \"두바이\", \"아부다비\", \"샤르자\", \"알아인\", \"야스\", \"오랑\", \"콩스탕틴\", \"틀렘센\", \"안나바\", \"베자이아\", \"제밀라\", \"지젤\", \"모스타가넴\", \"무스카트\", \"살랄라\", \"니즈와\", \"하사브\", \"무트라\", \"바흐라\", \"암만\", \"아카바\", \"제라시\", \"카라크\", \"아질룬\", \"테헤란\", \"이스파한\", \"마슈하드\", \"예루살렘\", \"텔아비브\", \"에일라트\", \"하이파\", \"카이로\", \"룩소르\", \"기자\", \"알렉산드리아\", \"아스완\", \"후르가다\", \"샤름엘셰이크\", \"다합\", \"도하\", \"알와크라\", \"알코르\", \"살미야\", \"수스\", \"튀니스\", \"제르바\", \"함마메트\", \"시디부사이드\", \"카이르완\", \"모나스티르\", \"엘젬\", \"토죄르\", \"두즈\", \"비제르테\", \"이스탄불\", \"안탈리아\", \"이즈미르\", \"쿠샤다스\", \"괴레메\", \"보드룸\", \"앙카라\", \"페티예\", \"마르마리스\", \"알라니아\", \"코니아\", \"욀뤼데니즈\", \"아크라\", \"리브르빌\", \"스바코프문트\", \"빈트후크\", \"라고스\", \"이케자\", \"아부자\", \"케이프타운\", \"더반\", \"요하네스버그\", \"스텔렌보스\", \"허머너스\", \"나이스나\", \"니아메\", \"마세루\", \"키갈리\", \"기세니\", \"루헹게리\", \"키부예\", \"안타나나리보\", \"생트마리\", \"마하장가\", \"노지베\", \"블랜타이어\", \"포트루이스\", \"블루베이\", \"누악쇼트\", \"토포\", \"코토누\", \"가보로네\", \"카사네\", \"와가두구\", \"다카르\", \"보발롱\", \"마에\", \"음바바네\", \"로밤바\", \"루안다\", \"아디스아바바\", \"랄리벨라\", \"캄팔라\", \"엔테베\", \"리빙스턴\", \"루사카\", \"하라레\", \"불라와요\", \"황게\", \"산타마리아\", \"민델루\", \"프라이아\", \"나이로비\", \"몸바사\", \"와타무\", \"아비장\", \"잔지바르시\", \"모시\", \"로메\"]\n",
    "\n",
    "for sendKey in sendkeys:\n",
    "    searchPlace(sendKey)\n",
    "    \n",
    "driver.close()\n",
    "#driver.quit()"
   ]
  },
  {
   "cell_type": "code",
   "execution_count": 26,
   "metadata": {
    "collapsed": true
   },
   "outputs": [],
   "source": [
    "!start ."
   ]
  },
  {
   "cell_type": "code",
   "execution_count": null,
   "metadata": {
    "collapsed": true
   },
   "outputs": [],
   "source": []
  },
  {
   "cell_type": "markdown",
   "metadata": {},
   "source": [
    "# 실행코드만"
   ]
  },
  {
   "cell_type": "code",
   "execution_count": 17,
   "metadata": {
    "collapsed": true
   },
   "outputs": [],
   "source": [
    "from selenium import webdriver\n",
    "from selenium.webdriver.common.by import By\n",
    "from selenium.webdriver.common.keys import Keys\n",
    "\n",
    "from selenium.webdriver.support.ui import WebDriverWait\n",
    "from selenium.webdriver.support import expected_conditions as EC\n",
    "\n",
    "import os.path\n",
    "from os import rename\n",
    "from os import listdir\n",
    "\n",
    "import time"
   ]
  },
  {
   "cell_type": "code",
   "execution_count": 18,
   "metadata": {
    "collapsed": true
   },
   "outputs": [],
   "source": [
    "def startWeb():\n",
    "    \"\"\"\n",
    "    @return driver\n",
    "    \"\"\"\n",
    "    driver= webdriver.Chrome('lib/chromedriver.exe')\n",
    "    url= \"https://www.google.co.kr/destination\"\n",
    "    driver.get(url)\n",
    "    return driver"
   ]
  },
  {
   "cell_type": "code",
   "execution_count": 21,
   "metadata": {
    "collapsed": true
   },
   "outputs": [],
   "source": [
    "def searchPlace(sendKey):\n",
    "    myXpath= '//div[@class=\"gb_nf\"]/input[@class=\"gb_6e\"]'\n",
    "    element= driver.find_element_by_xpath(myXpath)\n",
    "    time.sleep(1)\n",
    "    element.clear()\n",
    "    #sendKeys= \"몸바사\"\n",
    "    element.send_keys(sendKey)\n",
    "    time.sleep(2)\n",
    "    element.send_keys(Keys.ENTER)\n",
    "    try:\n",
    "        #element= driver.find_element_by_xpath(\"//*[contains(text(), '\\\\')]\")\n",
    "        element= driver.find_element_by_xpath(\"//*[contains(text(), '평균가')]\")\n",
    "        text= element.text.split(' ')#[-1]\n",
    "        time.sleep(1)\n",
    "        #print(sendKey,'\\t',text)\n",
    "        print(sendKey,'\\t',text[0], text[-1])\n",
    "    except Exception as ex:\n",
    "        print(ex)\n",
    "        #driver.close()\n",
    "        pass"
   ]
  },
  {
   "cell_type": "code",
   "execution_count": 25,
   "metadata": {},
   "outputs": [
    {
     "name": "stdout",
     "output_type": "stream",
     "text": [
      "Message: no such element: Unable to locate element: {\"method\":\"xpath\",\"selector\":\"//*[contains(text(), '평균가')]\"}\n",
      "  (Session info: chrome=65.0.3325.181)\n",
      "  (Driver info: chromedriver=2.37.544315 (730aa6a5fdba159ac9f4c1e8cbc59bf1b5ce12b7),platform=Windows NT 6.1.7601 SP1 x86_64)\n",
      "\n"
     ]
    },
    {
     "ename": "NoSuchElementException",
     "evalue": "Message: no such element: Unable to locate element: {\"method\":\"xpath\",\"selector\":\"//div[@class=\"gb_nf\"]/input[@class=\"gb_6e\"]\"}\n  (Session info: chrome=65.0.3325.181)\n  (Driver info: chromedriver=2.37.544315 (730aa6a5fdba159ac9f4c1e8cbc59bf1b5ce12b7),platform=Windows NT 6.1.7601 SP1 x86_64)\n",
     "output_type": "error",
     "traceback": [
      "\u001b[1;31m---------------------------------------------------------------------------\u001b[0m",
      "\u001b[1;31mNoSuchElementException\u001b[0m                    Traceback (most recent call last)",
      "\u001b[1;32m<ipython-input-25-71579ee9ed7f>\u001b[0m in \u001b[0;36m<module>\u001b[1;34m()\u001b[0m\n\u001b[0;32m      4\u001b[0m \u001b[1;33m\u001b[0m\u001b[0m\n\u001b[0;32m      5\u001b[0m \u001b[1;32mfor\u001b[0m \u001b[0msendKey\u001b[0m \u001b[1;32min\u001b[0m \u001b[0msendkeys\u001b[0m\u001b[1;33m:\u001b[0m\u001b[1;33m\u001b[0m\u001b[0m\n\u001b[1;32m----> 6\u001b[1;33m     \u001b[0msearchPlace\u001b[0m\u001b[1;33m(\u001b[0m\u001b[0msendKey\u001b[0m\u001b[1;33m)\u001b[0m\u001b[1;33m\u001b[0m\u001b[0m\n\u001b[0m\u001b[0;32m      7\u001b[0m \u001b[1;33m\u001b[0m\u001b[0m\n\u001b[0;32m      8\u001b[0m \u001b[0mdriver\u001b[0m\u001b[1;33m.\u001b[0m\u001b[0mclose\u001b[0m\u001b[1;33m(\u001b[0m\u001b[1;33m)\u001b[0m\u001b[1;33m\u001b[0m\u001b[0m\n",
      "\u001b[1;32m<ipython-input-21-b39ee8a975b8>\u001b[0m in \u001b[0;36msearchPlace\u001b[1;34m(sendKey)\u001b[0m\n\u001b[0;32m      1\u001b[0m \u001b[1;32mdef\u001b[0m \u001b[0msearchPlace\u001b[0m\u001b[1;33m(\u001b[0m\u001b[0msendKey\u001b[0m\u001b[1;33m)\u001b[0m\u001b[1;33m:\u001b[0m\u001b[1;33m\u001b[0m\u001b[0m\n\u001b[0;32m      2\u001b[0m     \u001b[0mmyXpath\u001b[0m\u001b[1;33m=\u001b[0m \u001b[1;34m'//div[@class=\"gb_nf\"]/input[@class=\"gb_6e\"]'\u001b[0m\u001b[1;33m\u001b[0m\u001b[0m\n\u001b[1;32m----> 3\u001b[1;33m     \u001b[0melement\u001b[0m\u001b[1;33m=\u001b[0m \u001b[0mdriver\u001b[0m\u001b[1;33m.\u001b[0m\u001b[0mfind_element_by_xpath\u001b[0m\u001b[1;33m(\u001b[0m\u001b[0mmyXpath\u001b[0m\u001b[1;33m)\u001b[0m\u001b[1;33m\u001b[0m\u001b[0m\n\u001b[0m\u001b[0;32m      4\u001b[0m     \u001b[0mtime\u001b[0m\u001b[1;33m.\u001b[0m\u001b[0msleep\u001b[0m\u001b[1;33m(\u001b[0m\u001b[1;36m1\u001b[0m\u001b[1;33m)\u001b[0m\u001b[1;33m\u001b[0m\u001b[0m\n\u001b[0;32m      5\u001b[0m     \u001b[0melement\u001b[0m\u001b[1;33m.\u001b[0m\u001b[0mclear\u001b[0m\u001b[1;33m(\u001b[0m\u001b[1;33m)\u001b[0m\u001b[1;33m\u001b[0m\u001b[0m\n",
      "\u001b[1;32m~\\Anaconda3\\lib\\site-packages\\selenium\\webdriver\\remote\\webdriver.py\u001b[0m in \u001b[0;36mfind_element_by_xpath\u001b[1;34m(self, xpath)\u001b[0m\n\u001b[0;32m    383\u001b[0m             \u001b[0melement\u001b[0m \u001b[1;33m=\u001b[0m \u001b[0mdriver\u001b[0m\u001b[1;33m.\u001b[0m\u001b[0mfind_element_by_xpath\u001b[0m\u001b[1;33m(\u001b[0m\u001b[1;34m'//div/td[1]'\u001b[0m\u001b[1;33m)\u001b[0m\u001b[1;33m\u001b[0m\u001b[0m\n\u001b[0;32m    384\u001b[0m         \"\"\"\n\u001b[1;32m--> 385\u001b[1;33m         \u001b[1;32mreturn\u001b[0m \u001b[0mself\u001b[0m\u001b[1;33m.\u001b[0m\u001b[0mfind_element\u001b[0m\u001b[1;33m(\u001b[0m\u001b[0mby\u001b[0m\u001b[1;33m=\u001b[0m\u001b[0mBy\u001b[0m\u001b[1;33m.\u001b[0m\u001b[0mXPATH\u001b[0m\u001b[1;33m,\u001b[0m \u001b[0mvalue\u001b[0m\u001b[1;33m=\u001b[0m\u001b[0mxpath\u001b[0m\u001b[1;33m)\u001b[0m\u001b[1;33m\u001b[0m\u001b[0m\n\u001b[0m\u001b[0;32m    386\u001b[0m \u001b[1;33m\u001b[0m\u001b[0m\n\u001b[0;32m    387\u001b[0m     \u001b[1;32mdef\u001b[0m \u001b[0mfind_elements_by_xpath\u001b[0m\u001b[1;33m(\u001b[0m\u001b[0mself\u001b[0m\u001b[1;33m,\u001b[0m \u001b[0mxpath\u001b[0m\u001b[1;33m)\u001b[0m\u001b[1;33m:\u001b[0m\u001b[1;33m\u001b[0m\u001b[0m\n",
      "\u001b[1;32m~\\Anaconda3\\lib\\site-packages\\selenium\\webdriver\\remote\\webdriver.py\u001b[0m in \u001b[0;36mfind_element\u001b[1;34m(self, by, value)\u001b[0m\n\u001b[0;32m    953\u001b[0m         return self.execute(Command.FIND_ELEMENT, {\n\u001b[0;32m    954\u001b[0m             \u001b[1;34m'using'\u001b[0m\u001b[1;33m:\u001b[0m \u001b[0mby\u001b[0m\u001b[1;33m,\u001b[0m\u001b[1;33m\u001b[0m\u001b[0m\n\u001b[1;32m--> 955\u001b[1;33m             'value': value})['value']\n\u001b[0m\u001b[0;32m    956\u001b[0m \u001b[1;33m\u001b[0m\u001b[0m\n\u001b[0;32m    957\u001b[0m     \u001b[1;32mdef\u001b[0m \u001b[0mfind_elements\u001b[0m\u001b[1;33m(\u001b[0m\u001b[0mself\u001b[0m\u001b[1;33m,\u001b[0m \u001b[0mby\u001b[0m\u001b[1;33m=\u001b[0m\u001b[0mBy\u001b[0m\u001b[1;33m.\u001b[0m\u001b[0mID\u001b[0m\u001b[1;33m,\u001b[0m \u001b[0mvalue\u001b[0m\u001b[1;33m=\u001b[0m\u001b[1;32mNone\u001b[0m\u001b[1;33m)\u001b[0m\u001b[1;33m:\u001b[0m\u001b[1;33m\u001b[0m\u001b[0m\n",
      "\u001b[1;32m~\\Anaconda3\\lib\\site-packages\\selenium\\webdriver\\remote\\webdriver.py\u001b[0m in \u001b[0;36mexecute\u001b[1;34m(self, driver_command, params)\u001b[0m\n\u001b[0;32m    310\u001b[0m         \u001b[0mresponse\u001b[0m \u001b[1;33m=\u001b[0m \u001b[0mself\u001b[0m\u001b[1;33m.\u001b[0m\u001b[0mcommand_executor\u001b[0m\u001b[1;33m.\u001b[0m\u001b[0mexecute\u001b[0m\u001b[1;33m(\u001b[0m\u001b[0mdriver_command\u001b[0m\u001b[1;33m,\u001b[0m \u001b[0mparams\u001b[0m\u001b[1;33m)\u001b[0m\u001b[1;33m\u001b[0m\u001b[0m\n\u001b[0;32m    311\u001b[0m         \u001b[1;32mif\u001b[0m \u001b[0mresponse\u001b[0m\u001b[1;33m:\u001b[0m\u001b[1;33m\u001b[0m\u001b[0m\n\u001b[1;32m--> 312\u001b[1;33m             \u001b[0mself\u001b[0m\u001b[1;33m.\u001b[0m\u001b[0merror_handler\u001b[0m\u001b[1;33m.\u001b[0m\u001b[0mcheck_response\u001b[0m\u001b[1;33m(\u001b[0m\u001b[0mresponse\u001b[0m\u001b[1;33m)\u001b[0m\u001b[1;33m\u001b[0m\u001b[0m\n\u001b[0m\u001b[0;32m    313\u001b[0m             response['value'] = self._unwrap_value(\n\u001b[0;32m    314\u001b[0m                 response.get('value', None))\n",
      "\u001b[1;32m~\\Anaconda3\\lib\\site-packages\\selenium\\webdriver\\remote\\errorhandler.py\u001b[0m in \u001b[0;36mcheck_response\u001b[1;34m(self, response)\u001b[0m\n\u001b[0;32m    240\u001b[0m                 \u001b[0malert_text\u001b[0m \u001b[1;33m=\u001b[0m \u001b[0mvalue\u001b[0m\u001b[1;33m[\u001b[0m\u001b[1;34m'alert'\u001b[0m\u001b[1;33m]\u001b[0m\u001b[1;33m.\u001b[0m\u001b[0mget\u001b[0m\u001b[1;33m(\u001b[0m\u001b[1;34m'text'\u001b[0m\u001b[1;33m)\u001b[0m\u001b[1;33m\u001b[0m\u001b[0m\n\u001b[0;32m    241\u001b[0m             \u001b[1;32mraise\u001b[0m \u001b[0mexception_class\u001b[0m\u001b[1;33m(\u001b[0m\u001b[0mmessage\u001b[0m\u001b[1;33m,\u001b[0m \u001b[0mscreen\u001b[0m\u001b[1;33m,\u001b[0m \u001b[0mstacktrace\u001b[0m\u001b[1;33m,\u001b[0m \u001b[0malert_text\u001b[0m\u001b[1;33m)\u001b[0m\u001b[1;33m\u001b[0m\u001b[0m\n\u001b[1;32m--> 242\u001b[1;33m         \u001b[1;32mraise\u001b[0m \u001b[0mexception_class\u001b[0m\u001b[1;33m(\u001b[0m\u001b[0mmessage\u001b[0m\u001b[1;33m,\u001b[0m \u001b[0mscreen\u001b[0m\u001b[1;33m,\u001b[0m \u001b[0mstacktrace\u001b[0m\u001b[1;33m)\u001b[0m\u001b[1;33m\u001b[0m\u001b[0m\n\u001b[0m\u001b[0;32m    243\u001b[0m \u001b[1;33m\u001b[0m\u001b[0m\n\u001b[0;32m    244\u001b[0m     \u001b[1;32mdef\u001b[0m \u001b[0m_value_or_default\u001b[0m\u001b[1;33m(\u001b[0m\u001b[0mself\u001b[0m\u001b[1;33m,\u001b[0m \u001b[0mobj\u001b[0m\u001b[1;33m,\u001b[0m \u001b[0mkey\u001b[0m\u001b[1;33m,\u001b[0m \u001b[0mdefault\u001b[0m\u001b[1;33m)\u001b[0m\u001b[1;33m:\u001b[0m\u001b[1;33m\u001b[0m\u001b[0m\n",
      "\u001b[1;31mNoSuchElementException\u001b[0m: Message: no such element: Unable to locate element: {\"method\":\"xpath\",\"selector\":\"//div[@class=\"gb_nf\"]/input[@class=\"gb_6e\"]\"}\n  (Session info: chrome=65.0.3325.181)\n  (Driver info: chromedriver=2.37.544315 (730aa6a5fdba159ac9f4c1e8cbc59bf1b5ce12b7),platform=Windows NT 6.1.7601 SP1 x86_64)\n"
     ]
    }
   ],
   "source": [
    "driver= startWeb()\n",
    "#sendkeys=[\"리마\", \"쿠스코\", \"아레키파\", \"아야쿠초\", \"산티아고\", \"코이아이케\", \"항가로아\", \"카스트로\", \"보고타\", \"메데인\", \"바랑키야\", \"카르타헤나\", \"칼리\", \"산타마르타\", \"비야비센시오\", \"파스토\", \"산안드레스\", \"쿠마나\", \"마라카이\", \"라과이라\", \"코로\", \"조지타운\", \"라파스\", \"수크레\", \"산타크루스\", \"파라마리보\", \"카토\", \"과야킬\", \"쿠엥카\", \"침보라소\", \"푸에르토아요라\", \"몬테비데오\", \"라스피에드라스\", \"아레과\", \"베이루트\", \"비블로스\", \"바알베크\", \"트리폴리\", \"자흘레\", \"마라케시\", \"페스\", \"카사블랑카\", \"탕헤르\", \"라바트\", \"에사우이라\", \"우아르자자트\", \"메크네스\", \"셰프샤우엔\", \"마나마\", \"무하라크\", \"리파\", \"시프\", \"애들리야\", \"메카\", \"메디나\", \"리야드\", \"담맘\", \"타이프\", \"코바르\", \"아브하\", \"타부크\", \"두바이\", \"아부다비\", \"샤르자\", \"알아인\", \"야스\", \"오랑\", \"콩스탕틴\", \"틀렘센\", \"안나바\", \"베자이아\", \"제밀라\", \"지젤\", \"모스타가넴\", \"무스카트\", \"살랄라\", \"니즈와\", \"하사브\", \"무트라\", \"바흐라\", \"암만\", \"아카바\", \"제라시\", \"카라크\", \"아질룬\", \"테헤란\", \"이스파한\", \"마슈하드\", \"예루살렘\", \"텔아비브\", \"에일라트\", \"하이파\", \"카이로\", \"룩소르\", \"기자\", \"알렉산드리아\", \"아스완\", \"후르가다\", \"샤름엘셰이크\", \"다합\", \"도하\", \"알와크라\", \"알코르\", \"살미야\", \"수스\", \"튀니스\", \"제르바\", \"함마메트\", \"시디부사이드\", \"카이르완\", \"모나스티르\", \"엘젬\", \"토죄르\", \"두즈\", \"비제르테\", \"이스탄불\", \"안탈리아\", \"이즈미르\", \"쿠샤다스\", \"괴레메\", \"보드룸\", \"앙카라\", \"페티예\", \"마르마리스\", \"알라니아\", \"코니아\", \"욀뤼데니즈\", \"아크라\", \"리브르빌\", \"스바코프문트\", \"빈트후크\", \"라고스\", \"이케자\", \"아부자\", \"케이프타운\", \"더반\", \"요하네스버그\", \"스텔렌보스\", \"허머너스\", \"나이스나\", \"니아메\", \"마세루\", \"키갈리\", \"기세니\", \"루헹게리\", \"키부예\", \"안타나나리보\", \"생트마리\", \"마하장가\", \"노지베\", \"블랜타이어\", \"포트루이스\"]\n",
    "sendkeys= [\"블루베이\", \"누악쇼트\", \"토포\", \"코토누\", \"가보로네\", \"카사네\", \"와가두구\", \"다카르\", \"보발롱\", \"마에\", \"음바바네\", \"로밤바\", \"루안다\", \"아디스아바바\", \"랄리벨라\", \"캄팔라\", \"엔테베\", \"리빙스턴\", \"루사카\", \"하라레\", \"불라와요\", \"황게\", \"산타마리아\", \"민델루\", \"프라이아\", \"나이로비\", \"몸바사\", \"와타무\", \"아비장\", \"잔지바르시\", \"모시\", \"로메\"]\n",
    "\n",
    "for sendKey in sendkeys:\n",
    "    searchPlace(sendKey)\n",
    "    \n",
    "driver.close()\n",
    "#driver.quit()"
   ]
  },
  {
   "cell_type": "code",
   "execution_count": null,
   "metadata": {
    "collapsed": true
   },
   "outputs": [],
   "source": []
  }
 ],
 "metadata": {
  "kernelspec": {
   "display_name": "Python 3",
   "language": "python",
   "name": "python3"
  },
  "language_info": {
   "codemirror_mode": {
    "name": "ipython",
    "version": 3
   },
   "file_extension": ".py",
   "mimetype": "text/x-python",
   "name": "python",
   "nbconvert_exporter": "python",
   "pygments_lexer": "ipython3",
   "version": "3.6.3"
  }
 },
 "nbformat": 4,
 "nbformat_minor": 2
}
