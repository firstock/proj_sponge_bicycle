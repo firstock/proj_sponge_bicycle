{
 "cells": [
  {
   "cell_type": "markdown",
   "metadata": {},
   "source": [
    "##### 타깃\n",
    "- data/airPollution_2016.htm\n",
    "- data/airPollution_2017.htm"
   ]
  },
  {
   "cell_type": "code",
   "execution_count": null,
   "metadata": {
    "collapsed": true
   },
   "outputs": [],
   "source": [
    "tbl2"
   ]
  },
  {
   "cell_type": "markdown",
   "metadata": {},
   "source": [
    "# 웨더 했던거에서 적절히 바꾸자"
   ]
  },
  {
   "cell_type": "markdown",
   "metadata": {},
   "source": [
    "근데 htm에서 dataframe을 꼭 이렇게 바꾸는 방법 밖엔 없나?? 누가 편하게 뭐 안 해놓음??"
   ]
  },
  {
   "cell_type": "code",
   "execution_count": null,
   "metadata": {
    "collapsed": true
   },
   "outputs": [],
   "source": [
    "import pandas as pd\n",
    "from bs4 import BeautifulSoup\n",
    "import re\n",
    "import numpy as np\n",
    "from pandas import DataFrame, Series\n",
    "\n",
    "from datetime import datetime\n",
    "from os import listdir\n",
    "from os.path import isfile"
   ]
  },
  {
   "cell_type": "code",
   "execution_count": null,
   "metadata": {
    "collapsed": true
   },
   "outputs": [],
   "source": [
    "def getNewidx(table):\n",
    "    ta3dateTag= table[3].findAll('td',{'class': re.compile('RL[12]')})\n",
    "    tab3= [ta3dateTag[i].getText() for i in range(len(ta3dateTag))]\n",
    "    newidx= [datetime.strptime(x, '%y-%m-%d') for x in tab3]\n",
    "    return newidx\n",
    "def getContents(table):\n",
    "    tab4RL12= table[4].findAll('td',{'class':re.compile('RL[12]')})\n",
    "    ta4cellLen= len(tab4RL12)\n",
    "    tab4cells= [tab4RL12[i].get_text() for i in range(ta4cellLen)]\n",
    "    contents= DataFrame(np.array(tab4cells).reshape(-1,15)).iloc[:,:-2]\n",
    "    return contents\n",
    "def table4toDf(table):\n",
    "    contents= getContents(table)\n",
    "    newidx= getNewidx(table)\n",
    "    NEWCOL= ['평균풍속', '평균풍향', '최대풍속', '최대풍향', '순간최고풍속'\n",
    "         , '순간최고풍향', '기온평균', '기온최저', '기온최고', '강수일강수'\n",
    "         , '습도평균', '습도최저', '습도최고']\n",
    "    \n",
    "    df= pd.DataFrame(np.array(contents), columns= NEWCOL)\n",
    "    df.insert(0, column= '날짜', value= newidx)\n",
    "    return df\n",
    "def htm2df(filePath):\n",
    "    soup= BeautifulSoup(open(filePath), 'html.parser')\n",
    "    table= soup.find_all('table')\n",
    "    df= table4toDf(table)\n",
    "    return df\n",
    "def getFilePathList(rootPath, folderOrder=0):\n",
    "    \"\"\"\n",
    "    input: rootPath, #st folder\n",
    "    return: filePathList[, folderCnt, fileCnt]\n",
    "    \"\"\"\n",
    "    folderList= listdir(rootPath)\n",
    "    folderCnt= len(folderList)\n",
    "    fileCnt= len(listdir(rootPath+folderList[folderOrder]))\n",
    "    \n",
    "    allFileList= [[rootPath+folder+'/'+file for file in listdir(rootPath+folder)] for folder in folderList]\n",
    "    \n",
    "    return allFileList, folderCnt, fileCnt\n",
    "rootPath= 'data/weather/'\n",
    "fileList, folderCnt, fileCnt= getFilePathList(rootPath)\n",
    "filePath= fileList[0][22]\n",
    "soup= BeautifulSoup(open(filePath), 'html.parser')\n",
    "table= soup.find_all('table')\n",
    "\n",
    "filePath\n",
    "\n",
    "# getNewidx(table)\n",
    "# getContents(table)\n",
    "\n",
    "# table4toDf(table)\n",
    "\n",
    "df_test1= htm2df(filePath)\n",
    "df_test1\n",
    "df_test1.set_index('날짜')\n",
    "# df_test1\n",
    "def toNaN(df):\n",
    "    \"\"\"\n",
    "    when, 1st column is no index. just column\n",
    "    \"\"\"\n",
    "    f_nan= lambda x: x.replace('^-$','NaN', regex=True)\n",
    "    #df.iloc[:,1:]= df.iloc[:,1:].apply(f_nan)\n",
    "    df= df.apply(f_nan)\n",
    "    return df\n",
    "df_test2= df_test1.set_index('날짜')\n",
    "toNaN(df_test2)\n",
    "# # 이거 실행하면 iPython 사망\n",
    "# df_test3= df_test1\n",
    "# toNaN(df_test3)\n",
    "rootPath= 'data/weather/'\n",
    "# Series(getFilePathList(rootPath)).shape # (3,) #return이 3개라 하나에 다 받아진 것\n",
    "fileList, folderCnt, fileCnt= getFilePathList(rootPath)\n",
    "print('폴더수%d, 파일수%d'%(folderCnt,fileCnt))\n",
    "# # test\n",
    "# df000= htm2df(fileList[0][0])\n",
    "# df001= htm2df(fileList[0][1])\n",
    "# df000.merge(df001, how='outer').set_index('날짜')\n",
    "# # df000 #원본유지\n",
    "df0= htm2df(fileList[0][22])\n",
    "for j in range(fileCnt-1):\n",
    "    df1= htm2df(fileList[0][j+1])\n",
    "    df0= df0.merge(df1, how='outer')\n",
    "df0= toNaN(df0.set_index('날짜'))\n",
    "df0\n",
    "# %ls\n",
    "csvName= fileList[0][0].split('/')[-2]\n",
    "csvName\n",
    "# # save test\n",
    "# df0.to_csv('data_join/'+csvName+'.csv', encoding='cp949')\n",
    "for i in range(folderCnt):\n",
    "    df0= htm2df(fileList[i][0])\n",
    "    for j in range(fileCnt-1):\n",
    "        df1= htm2df(fileList[0][j+1])\n",
    "        df0= df0.merge(df1, how='outer')\n",
    "        \n",
    "    df0= toNaN(df0.set_index('날짜'))\n",
    "    \n",
    "    csvName= fileList[i][0].split('/')[-2]\n",
    "    df0.to_csv('data_join/'+csvName+'.csv', encoding='cp949')"
   ]
  }
 ],
 "metadata": {
  "kernelspec": {
   "display_name": "Python 3",
   "language": "python",
   "name": "python3"
  },
  "language_info": {
   "codemirror_mode": {
    "name": "ipython",
    "version": 3
   },
   "file_extension": ".py",
   "mimetype": "text/x-python",
   "name": "python",
   "nbconvert_exporter": "python",
   "pygments_lexer": "ipython3",
   "version": "3.6.3"
  }
 },
 "nbformat": 4,
 "nbformat_minor": 2
}
