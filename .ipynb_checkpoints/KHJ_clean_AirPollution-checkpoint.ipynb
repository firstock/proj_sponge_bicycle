{
 "cells": [
  {
   "cell_type": "markdown",
   "metadata": {},
   "source": [
    "##### 타깃\n",
    "- data/airPollution_2016.htm\n",
    "- data/airPollution_2017.htm"
   ]
  },
  {
   "cell_type": "markdown",
   "metadata": {},
   "source": [
    "tbl2"
   ]
  },
  {
   "cell_type": "code",
   "execution_count": 7,
   "metadata": {},
   "outputs": [
    {
     "name": "stdout",
     "output_type": "stream",
     "text": [
      "E:\\github\\proj_sponge_bicycle\\data\n",
      " E 드라이브의 볼륨에는 이름이 없습니다.\n",
      " 볼륨 일련 번호: 2468-0A05\n",
      "\n",
      " E:\\github\\proj_sponge_bicycle\\data 디렉터리\n",
      "\n",
      "2018-04-13  오후 06:11    <DIR>          .\n",
      "2018-04-13  오후 06:11    <DIR>          ..\n",
      "2018-04-13  오후 06:11         3,510,909 airPollution_2016.htm\n",
      "2018-04-13  오후 06:11         3,504,055 airPollution_2017.htm\n",
      "2018-04-04  오후 05:21         2,548,145 bicycleRental2016.xlsx\n",
      "2018-04-04  오후 05:21         6,328,439 bicycleRental2017.xlsx\n",
      "2018-04-09  오후 02:00               358 data_ed_Eng.csv\n",
      "2018-04-13  오후 05:25         3,510,909 ExcelData (1).xls\n",
      "2018-04-04  오후 05:21         2,551,880 origin-bicycleRental2016.xlsx\n",
      "2018-04-04  오후 05:21         6,328,242 origin-bicycleRental2017.xlsx\n",
      "2018-04-09  오후 02:00            38,711 Seoul_districts.svg\n",
      "2018-04-05  오전 10:19    <DIR>          weather\n",
      "2018-04-04  오후 06:36            55,108 서울특별시_읍면동별__5세별_주민등록인구_20180404155345.csv\n",
      "2018-04-05  오후 04:29            12,299 월간_매매가격지수_아파트.xlsx\n",
      "              11개 파일          28,389,055 바이트\n",
      "               3개 디렉터리  224,529,412,096 바이트 남음\n",
      "E:\\github\\proj_sponge_bicycle\n"
     ]
    }
   ],
   "source": [
    "%cd data\n",
    "%ls\n",
    "%cd .."
   ]
  },
  {
   "cell_type": "code",
   "execution_count": 18,
   "metadata": {
    "collapsed": true
   },
   "outputs": [],
   "source": [
    "import pandas as pd\n",
    "from pandas import DataFrame, Series"
   ]
  },
  {
   "cell_type": "code",
   "execution_count": 16,
   "metadata": {
    "collapsed": true
   },
   "outputs": [],
   "source": [
    "table= pd.read_html('data/airPollution_2016.htm', encoding=\"utf-8\", skiprows=[0,2])"
   ]
  },
  {
   "cell_type": "code",
   "execution_count": null,
   "metadata": {
    "collapsed": true
   },
   "outputs": [],
   "source": [
    "\\\\s 를 \\\\t 으로 바꾸는 거 어떻게 하더라\n",
    "강사님 코드에 있었는데"
   ]
  },
  {
   "cell_type": "code",
   "execution_count": 17,
   "metadata": {},
   "outputs": [
    {
     "data": {
      "text/plain": [
       "[              날짜  측정소명 미세먼지  PM-10(㎍/㎥) 초미세먼지  PM-25(㎍/㎥) 오존  O3(ppm)  \\\n",
       "       2016-12-31    평균               58                40       0.003   \n",
       " 0     2016-12-31   종로구             61.0              48.0       0.003   \n",
       " 1     2016-12-31    중구             63.0              48.0       0.002   \n",
       " 2     2016-12-31   용산구             57.0              49.0       0.003   \n",
       " 3     2016-12-31   성동구             59.0              37.0       0.003   \n",
       " 4     2016-12-31   광진구             57.0              46.0       0.005   \n",
       " 5     2016-12-31  동대문구             64.0              41.0       0.003   \n",
       " 6     2016-12-31   중랑구             56.0              39.0       0.003   \n",
       " 7     2016-12-31   성북구             52.0              30.0       0.003   \n",
       " 8     2016-12-31   강북구             54.0              43.0       0.003   \n",
       " 9     2016-12-31   도봉구             55.0              34.0       0.003   \n",
       " 10    2016-12-31   노원구             58.0              43.0       0.003   \n",
       " 11    2016-12-31   은평구             51.0              33.0         NaN   \n",
       " 12    2016-12-31  서대문구             64.0              34.0       0.005   \n",
       " 13    2016-12-31   마포구             56.0              47.0       0.003   \n",
       " 14    2016-12-31   양천구             61.0              37.0       0.002   \n",
       " 15    2016-12-31   강서구             58.0              37.0       0.003   \n",
       " 16    2016-12-31   구로구             61.0              41.0       0.004   \n",
       " 17    2016-12-31   금천구             51.0              36.0       0.003   \n",
       " 18    2016-12-31  영등포구             56.0              36.0       0.004   \n",
       " 19    2016-12-31   동작구             53.0              40.0       0.003   \n",
       " 20    2016-12-31   관악구             57.0              43.0       0.004   \n",
       " 21    2016-12-31   서초구             63.0              35.0       0.005   \n",
       " 22    2016-12-31   강남구             61.0              39.0       0.003   \n",
       " 23    2016-12-31   송파구             52.0              37.0       0.004   \n",
       " 24    2016-12-31   강동구             63.0              41.0       0.003   \n",
       " 25    2016-12-30    평균             42.0              24.0       0.006   \n",
       " 26    2016-12-30   종로구             41.0              26.0       0.005   \n",
       " 27    2016-12-30    중구             42.0              25.0       0.005   \n",
       " 28    2016-12-30   용산구             36.0              26.0       0.004   \n",
       " 29    2016-12-30   성동구             44.0              25.0       0.006   \n",
       " ...          ...   ...              ...               ...         ...   \n",
       " 9483  2016-01-02   서초구             53.0              26.0       0.013   \n",
       " 9484  2016-01-02   강남구             50.0              29.0       0.012   \n",
       " 9485  2016-01-02   송파구             41.0              25.0       0.012   \n",
       " 9486  2016-01-02   강동구             56.0              31.0       0.002   \n",
       " 9487  2016-01-01    평균             68.0              45.0       0.006   \n",
       " 9488  2016-01-01   종로구             68.0              51.0       0.005   \n",
       " 9489  2016-01-01    중구             61.0              35.0       0.005   \n",
       " 9490  2016-01-01   용산구             59.0              46.0       0.005   \n",
       " 9491  2016-01-01   성동구             77.0              39.0       0.004   \n",
       " 9492  2016-01-01   광진구             85.0              64.0       0.004   \n",
       " 9493  2016-01-01  동대문구             66.0              44.0       0.005   \n",
       " 9494  2016-01-01   중랑구             66.0              41.0       0.004   \n",
       " 9495  2016-01-01   성북구             71.0              45.0       0.005   \n",
       " 9496  2016-01-01   강북구             77.0              52.0       0.004   \n",
       " 9497  2016-01-01   도봉구             67.0              41.0       0.005   \n",
       " 9498  2016-01-01   노원구             68.0              49.0       0.003   \n",
       " 9499  2016-01-01   은평구             58.0              35.0       0.010   \n",
       " 9500  2016-01-01  서대문구             69.0              39.0       0.007   \n",
       " 9501  2016-01-01   마포구             59.0              49.0       0.008   \n",
       " 9502  2016-01-01   양천구             82.0              65.0       0.008   \n",
       " 9503  2016-01-01   강서구             66.0              38.0       0.005   \n",
       " 9504  2016-01-01   구로구             56.0              41.0       0.007   \n",
       " 9505  2016-01-01   금천구             64.0              49.0       0.010   \n",
       " 9506  2016-01-01  영등포구             80.0              40.0       0.006   \n",
       " 9507  2016-01-01   동작구             54.0              39.0       0.009   \n",
       " 9508  2016-01-01   관악구             66.0              44.0       0.009   \n",
       " 9509  2016-01-01   서초구             76.0              42.0       0.006   \n",
       " 9510  2016-01-01   강남구             73.0              44.0       0.006   \n",
       " 9511  2016-01-01   송파구             64.0              39.0       0.004   \n",
       " 9512  2016-01-01   강동구             77.0              45.0       0.002   \n",
       " \n",
       "      이산화질소  NO2(ppm) 일산화탄소  CO(ppm) 아황산가스  SO2(ppm)  \n",
       "                0.051            1.0           0.006  \n",
       " 0              0.061            1.1           0.005  \n",
       " 1              0.064            1.1           0.006  \n",
       " 2              0.042            1.1           0.006  \n",
       " 3              0.054            0.9           0.005  \n",
       " 4              0.047            0.8           0.005  \n",
       " 5              0.052            1.1           0.006  \n",
       " 6              0.046            0.8           0.006  \n",
       " 7              0.053            1.0           0.006  \n",
       " 8              0.050            0.9           0.005  \n",
       " 9              0.054            1.0           0.007  \n",
       " 10             0.061            1.2           0.008  \n",
       " 11             0.038            0.8           0.007  \n",
       " 12             0.042            0.8           0.006  \n",
       " 13             0.062            1.2           0.005  \n",
       " 14             0.053            1.2           0.006  \n",
       " 15             0.061            1.0           0.007  \n",
       " 16             0.042            1.0           0.008  \n",
       " 17             0.056            1.0           0.005  \n",
       " 18             0.036            1.3           0.005  \n",
       " 19             0.060            1.0           0.006  \n",
       " 20             0.069            1.3           0.007  \n",
       " 21             0.043            1.3           0.006  \n",
       " 22             0.044            0.8           0.005  \n",
       " 23             0.042            1.1           0.006  \n",
       " 24             0.045            0.8           0.004  \n",
       " 25             0.042            0.7           0.005  \n",
       " 26             0.051            0.9           0.004  \n",
       " 27             0.050            0.7           0.004  \n",
       " 28             0.036            0.8           0.004  \n",
       " 29             0.044            0.6           0.005  \n",
       " ...              ...            ...             ...  \n",
       " 9483           0.030            0.5           0.006  \n",
       " 9484           0.039            0.5           0.006  \n",
       " 9485           0.040            0.6           0.005  \n",
       " 9486           0.046            0.8           0.004  \n",
       " 9487           0.047            1.0           0.006  \n",
       " 9488           0.047            0.7           0.006  \n",
       " 9489           0.065            0.8           0.007  \n",
       " 9490           0.046            0.7           0.005  \n",
       " 9491           0.047            1.0           0.005  \n",
       " 9492           0.046            0.9           0.006  \n",
       " 9493           0.047            1.0           0.006  \n",
       " 9494           0.052            1.1           0.006  \n",
       " 9495           0.056            1.3           0.007  \n",
       " 9496           0.047            1.1           0.004  \n",
       " 9497           0.053            1.0           0.006  \n",
       " 9498           0.049            1.1           0.007  \n",
       " 9499           0.039            0.7           0.007  \n",
       " 9500           0.060            0.9           0.005  \n",
       " 9501           0.042            1.0           0.006  \n",
       " 9502           0.049            1.1           0.005  \n",
       " 9503           0.048            0.9           0.006  \n",
       " 9504           0.038            1.1           0.007  \n",
       " 9505           0.043            1.0           0.005  \n",
       " 9506           0.035            1.1           0.006  \n",
       " 9507           0.049            0.8           0.005  \n",
       " 9508           0.052            1.1           0.005  \n",
       " 9509           0.038            0.8           0.006  \n",
       " 9510           0.047            0.8           0.006  \n",
       " 9511           0.046            1.1           0.006  \n",
       " 9512           0.043            0.9           0.004  \n",
       " \n",
       " [9513 rows x 8 columns]]"
      ]
     },
     "execution_count": 17,
     "metadata": {},
     "output_type": "execute_result"
    }
   ],
   "source": [
    "table"
   ]
  },
  {
   "cell_type": "code",
   "execution_count": 19,
   "metadata": {},
   "outputs": [
    {
     "data": {
      "text/html": [
       "<div>\n",
       "<style>\n",
       "    .dataframe thead tr:only-child th {\n",
       "        text-align: right;\n",
       "    }\n",
       "\n",
       "    .dataframe thead th {\n",
       "        text-align: left;\n",
       "    }\n",
       "\n",
       "    .dataframe tbody tr th {\n",
       "        vertical-align: top;\n",
       "    }\n",
       "</style>\n",
       "<table border=\"1\" class=\"dataframe\">\n",
       "  <thead>\n",
       "    <tr style=\"text-align: right;\">\n",
       "      <th></th>\n",
       "      <th>0</th>\n",
       "    </tr>\n",
       "  </thead>\n",
       "  <tbody>\n",
       "    <tr>\n",
       "      <th>0</th>\n",
       "      <td>날짜  측정소명 미세먼지  PM-10(㎍/㎥) 초미세먼지 ...</td>\n",
       "    </tr>\n",
       "  </tbody>\n",
       "</table>\n",
       "</div>"
      ],
      "text/plain": [
       "                                                   0\n",
       "0                날짜  측정소명 미세먼지  PM-10(㎍/㎥) 초미세먼지 ..."
      ]
     },
     "execution_count": 19,
     "metadata": {},
     "output_type": "execute_result"
    }
   ],
   "source": [
    "DataFrame(table)"
   ]
  },
  {
   "cell_type": "code",
   "execution_count": null,
   "metadata": {
    "collapsed": true
   },
   "outputs": [],
   "source": []
  },
  {
   "cell_type": "code",
   "execution_count": null,
   "metadata": {
    "collapsed": true
   },
   "outputs": [],
   "source": []
  },
  {
   "cell_type": "code",
   "execution_count": null,
   "metadata": {
    "collapsed": true
   },
   "outputs": [],
   "source": []
  },
  {
   "cell_type": "code",
   "execution_count": null,
   "metadata": {
    "collapsed": true
   },
   "outputs": [],
   "source": []
  },
  {
   "cell_type": "markdown",
   "metadata": {},
   "source": [
    "# 웨더 했던거에서 적절히 바꾸자"
   ]
  },
  {
   "cell_type": "markdown",
   "metadata": {},
   "source": [
    "근데 htm에서 dataframe을 꼭 이렇게 바꾸는 방법 밖엔 없나?? 누가 편하게 뭐 안 해놓았나??"
   ]
  },
  {
   "cell_type": "code",
   "execution_count": null,
   "metadata": {
    "collapsed": true
   },
   "outputs": [],
   "source": [
    "# import pandas as pd\n",
    "# from bs4 import BeautifulSoup\n",
    "# import re\n",
    "# import numpy as np\n",
    "# from pandas import DataFrame, Series\n",
    "\n",
    "# from datetime import datetime\n",
    "# from os import listdir\n",
    "# from os.path import isfile"
   ]
  },
  {
   "cell_type": "code",
   "execution_count": null,
   "metadata": {
    "collapsed": true
   },
   "outputs": [],
   "source": [
    "# def getNewidx(table):\n",
    "#     ta3dateTag= table[3].findAll('td',{'class': re.compile('RL[12]')})\n",
    "#     tab3= [ta3dateTag[i].getText() for i in range(len(ta3dateTag))]\n",
    "#     newidx= [datetime.strptime(x, '%y-%m-%d') for x in tab3]\n",
    "#     return newidx\n",
    "# def getContents(table):\n",
    "#     tab4RL12= table[4].findAll('td',{'class':re.compile('RL[12]')})\n",
    "#     ta4cellLen= len(tab4RL12)\n",
    "#     tab4cells= [tab4RL12[i].get_text() for i in range(ta4cellLen)]\n",
    "#     contents= DataFrame(np.array(tab4cells).reshape(-1,15)).iloc[:,:-2]\n",
    "#     return contents\n",
    "# def table4toDf(table):\n",
    "#     contents= getContents(table)\n",
    "#     newidx= getNewidx(table)\n",
    "#     NEWCOL= ['평균풍속', '평균풍향', '최대풍속', '최대풍향', '순간최고풍속'\n",
    "#          , '순간최고풍향', '기온평균', '기온최저', '기온최고', '강수일강수'\n",
    "#          , '습도평균', '습도최저', '습도최고']\n",
    "    \n",
    "#     df= pd.DataFrame(np.array(contents), columns= NEWCOL)\n",
    "#     df.insert(0, column= '날짜', value= newidx)\n",
    "#     return df\n",
    "# def htm2df(filePath):\n",
    "#     soup= BeautifulSoup(open(filePath), 'html.parser')\n",
    "#     table= soup.find_all('table')\n",
    "#     df= table4toDf(table)\n",
    "#     return df\n",
    "# def getFilePathList(rootPath, folderOrder=0):\n",
    "#     \"\"\"\n",
    "#     input: rootPath, #st folder\n",
    "#     return: filePathList[, folderCnt, fileCnt]\n",
    "#     \"\"\"\n",
    "#     folderList= listdir(rootPath)\n",
    "#     folderCnt= len(folderList)\n",
    "#     fileCnt= len(listdir(rootPath+folderList[folderOrder]))\n",
    "    \n",
    "#     allFileList= [[rootPath+folder+'/'+file for file in listdir(rootPath+folder)] for folder in folderList]\n",
    "    \n",
    "#     return allFileList, folderCnt, fileCnt\n",
    "# rootPath= 'data/weather/'\n",
    "# fileList, folderCnt, fileCnt= getFilePathList(rootPath)\n",
    "# filePath= fileList[0][22]\n",
    "# soup= BeautifulSoup(open(filePath), 'html.parser')\n",
    "# table= soup.find_all('table')\n",
    "\n",
    "# filePath\n",
    "\n",
    "# # getNewidx(table)\n",
    "# # getContents(table)\n",
    "\n",
    "# # table4toDf(table)\n",
    "\n",
    "# df_test1= htm2df(filePath)\n",
    "# df_test1\n",
    "# df_test1.set_index('날짜')\n",
    "# # df_test1\n",
    "# def toNaN(df):\n",
    "#     \"\"\"\n",
    "#     when, 1st column is no index. just column\n",
    "#     \"\"\"\n",
    "#     f_nan= lambda x: x.replace('^-$','NaN', regex=True)\n",
    "#     #df.iloc[:,1:]= df.iloc[:,1:].apply(f_nan)\n",
    "#     df= df.apply(f_nan)\n",
    "#     return df\n",
    "# df_test2= df_test1.set_index('날짜')\n",
    "# toNaN(df_test2)\n",
    "# # # 이거 실행하면 iPython 사망\n",
    "# # df_test3= df_test1\n",
    "# # toNaN(df_test3)\n",
    "# rootPath= 'data/weather/'\n",
    "# # Series(getFilePathList(rootPath)).shape # (3,) #return이 3개라 하나에 다 받아진 것\n",
    "# fileList, folderCnt, fileCnt= getFilePathList(rootPath)\n",
    "# print('폴더수%d, 파일수%d'%(folderCnt,fileCnt))\n",
    "# # # test\n",
    "# # df000= htm2df(fileList[0][0])\n",
    "# # df001= htm2df(fileList[0][1])\n",
    "# # df000.merge(df001, how='outer').set_index('날짜')\n",
    "# # # df000 #원본유지\n",
    "# df0= htm2df(fileList[0][22])\n",
    "# for j in range(fileCnt-1):\n",
    "#     df1= htm2df(fileList[0][j+1])\n",
    "#     df0= df0.merge(df1, how='outer')\n",
    "# df0= toNaN(df0.set_index('날짜'))\n",
    "# df0\n",
    "# # %ls\n",
    "# csvName= fileList[0][0].split('/')[-2]\n",
    "# csvName\n",
    "# # # save test\n",
    "# # df0.to_csv('data_join/'+csvName+'.csv', encoding='cp949')\n",
    "# for i in range(folderCnt):\n",
    "#     df0= htm2df(fileList[i][0])\n",
    "#     for j in range(fileCnt-1):\n",
    "#         df1= htm2df(fileList[0][j+1])\n",
    "#         df0= df0.merge(df1, how='outer')\n",
    "        \n",
    "#     df0= toNaN(df0.set_index('날짜'))\n",
    "    \n",
    "#     csvName= fileList[i][0].split('/')[-2]\n",
    "#     df0.to_csv('data_join/'+csvName+'.csv', encoding='cp949')"
   ]
  }
 ],
 "metadata": {
  "kernelspec": {
   "display_name": "Python 3",
   "language": "python",
   "name": "python3"
  },
  "language_info": {
   "codemirror_mode": {
    "name": "ipython",
    "version": 3
   },
   "file_extension": ".py",
   "mimetype": "text/x-python",
   "name": "python",
   "nbconvert_exporter": "python",
   "pygments_lexer": "ipython3",
   "version": "3.6.3"
  }
 },
 "nbformat": 4,
 "nbformat_minor": 2
}
